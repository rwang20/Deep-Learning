{
 "cells": [
  {
   "cell_type": "code",
   "execution_count": 2,
   "metadata": {},
   "outputs": [],
   "source": [
    "import tensorflow as tf"
   ]
  },
  {
   "cell_type": "code",
   "execution_count": 3,
   "metadata": {},
   "outputs": [],
   "source": [
    "import numpy as np\n",
    "import matplotlib.pyplot as plt\n",
    "from __future__ import print_function\n",
    "import keras\n",
    "from keras.models import Sequential\n",
    "from keras.layers import Dense, Conv2D, MaxPooling2D, Dropout, Flatten\n",
    "from keras import backend as K"
   ]
  },
  {
   "cell_type": "code",
   "execution_count": 4,
   "metadata": {},
   "outputs": [],
   "source": [
    "from keras.datasets import mnist\n",
    "(x_train, y_train), (x_test, y_test) = mnist.load_data()"
   ]
  },
  {
   "cell_type": "code",
   "execution_count": 5,
   "metadata": {},
   "outputs": [],
   "source": [
    "from keras.utils import to_categorical"
   ]
  },
  {
   "cell_type": "code",
   "execution_count": 6,
   "metadata": {},
   "outputs": [
    {
     "name": "stdout",
     "output_type": "stream",
     "text": [
      "Training data shape :  (60000, 28, 28) (60000,)\n",
      "Testing data shape :  (10000, 28, 28) (10000,)\n",
      "Total number of outputs :  10\n",
      "Output classes :  10\n"
     ]
    }
   ],
   "source": [
    "print('Training data shape : ', x_train.shape, y_train.shape)\n",
    "\n",
    "print('Testing data shape : ', x_test.shape, y_test.shape)\n",
    "\n",
    "# Find the unique numbers from the train labels\n",
    "classes = np.unique(y_train)\n",
    "num_classes = len(classes)\n",
    "print('Total number of outputs : ', num_classes)\n",
    "print('Output classes : ', num_classes)"
   ]
  },
  {
   "cell_type": "code",
   "execution_count": 7,
   "metadata": {},
   "outputs": [
    {
     "data": {
      "image/png": "[encoded data removed]",
      "text/plain": [
       "<Figure size 432x288 with 2 Axes>"
      ]
     },
     "metadata": {
      "needs_background": "light"
     },
     "output_type": "display_data"
    }
   ],
   "source": [
    "plt.figure()\n",
    "plt.imshow(x_train[0])\n",
    "plt.colorbar()\n",
    "plt.grid(False)\n",
    "plt.show()"
   ]
  },
  {
   "cell_type": "code",
   "execution_count": 8,
   "metadata": {},
   "outputs": [],
   "source": [
    "img_rows, img_cols = 28, 28\n",
    "\n",
    "if K.image_data_format() == 'channels_first':\n",
    "    x_train = x_train.reshape(x_train.shape[0], 1, img_rows, img_cols)\n",
    "    x_test = x_test.reshape(x_test.shape[0], 1, img_rows, img_cols)\n",
    "    input_shape = (1, img_rows, img_cols)\n",
    "else:\n",
    "    x_train = x_train.reshape(x_train.shape[0], img_rows, img_cols, 1)\n",
    "    x_test = x_test.reshape(x_test.shape[0], img_rows, img_cols, 1)\n",
    "    input_shape = (img_rows, img_cols, 1)"
   ]
  },
  {
   "cell_type": "code",
   "execution_count": 9,
   "metadata": {},
   "outputs": [
    {
     "name": "stdout",
     "output_type": "stream",
     "text": [
      "x_train shape: (60000, 28, 28, 1)\n",
      "60000 train samples\n",
      "10000 test samples\n"
     ]
    }
   ],
   "source": [
    "x_train = x_train.astype('float32')\n",
    "x_test = x_test.astype('float32')\n",
    "x_train /= 255\n",
    "x_test /= 255\n",
    "print('x_train shape:', x_train.shape)\n",
    "print(x_train.shape[0], 'train samples')\n",
    "print(x_test.shape[0], 'test samples')\n",
    "\n",
    "y_train = keras.utils.to_categorical(y_train, num_classes)\n",
    "y_test = keras.utils.to_categorical(y_test, num_classes)"
   ]
  },
  {
   "cell_type": "code",
   "execution_count": 15,
   "metadata": {},
   "outputs": [
    {
     "name": "stdout",
     "output_type": "stream",
     "text": [
      "Model: \"sequential_1\"\n",
      "_________________________________________________________________\n",
      "Layer (type)                 Output Shape              Param #   \n",
      "=================================================================\n",
      "conv_1 (Conv2D)              (None, 28, 28, 16)        160       \n",
      "_________________________________________________________________\n",
      "conv_2 (Conv2D)              (None, 28, 28, 16)        2320      \n",
      "_________________________________________________________________\n",
      "max_pooling2d_1 (MaxPooling2 (None, 14, 14, 16)        0         \n",
      "_________________________________________________________________\n",
      "flatten_1 (Flatten)          (None, 3136)              0         \n",
      "_________________________________________________________________\n",
      "dense_1 (Dense)              (None, 64)                200768    \n",
      "_________________________________________________________________\n",
      "dense_2 (Dense)              (None, 10)                650       \n",
      "=================================================================\n",
      "Total params: 203,898\n",
      "Trainable params: 203,898\n",
      "Non-trainable params: 0\n",
      "_________________________________________________________________\n"
     ]
    }
   ],
   "source": [
    "model1 = Sequential()\n",
    "\n",
    "model1.add(Conv2D(16, (3, 3), padding='same', activation='relu', \n",
    "                              input_shape=input_shape,name=\"conv_1\"))\n",
    "model1.add(Conv2D(16, (3, 3), padding='same', activation='relu', name=\"conv_2\"))\n",
    "model1.add(MaxPooling2D(pool_size=(2, 2)))\n",
    "\n",
    "model1.add(Flatten())\n",
    "model1.add(Dense(64, activation='relu',name=\"dense_1\"))\n",
    "model1.add(Dense(num_classes, activation='softmax',name=\"dense_2\"))\n",
    "\n",
    "model1.summary()"
   ]
  },
  {
   "cell_type": "code",
   "execution_count": null,
   "metadata": {},
   "outputs": [],
   "source": []
  },
  {
   "cell_type": "code",
   "execution_count": 16,
   "metadata": {},
   "outputs": [],
   "source": [
    "model1.compile(optimizer='adam', loss='categorical_crossentropy', metrics=['accuracy'])  "
   ]
  },
  {
   "cell_type": "code",
   "execution_count": 17,
   "metadata": {},
   "outputs": [
    {
     "name": "stdout",
     "output_type": "stream",
     "text": [
      "Epoch 1/10\n",
      "235/235 [==============================] - 19s 78ms/step - loss: 0.6453 - accuracy: 0.8166 - val_loss: 0.0931 - val_accuracy: 0.9722\n",
      "Epoch 2/10\n",
      "235/235 [==============================] - 19s 80ms/step - loss: 0.0906 - accuracy: 0.9716 - val_loss: 0.0589 - val_accuracy: 0.9814\n",
      "Epoch 3/10\n",
      "235/235 [==============================] - 18s 78ms/step - loss: 0.0587 - accuracy: 0.9819 - val_loss: 0.0459 - val_accuracy: 0.9851\n",
      "Epoch 4/10\n",
      "235/235 [==============================] - 20s 84ms/step - loss: 0.0420 - accuracy: 0.9875 - val_loss: 0.0447 - val_accuracy: 0.9854\n",
      "Epoch 5/10\n",
      "235/235 [==============================] - 20s 85ms/step - loss: 0.0340 - accuracy: 0.9899 - val_loss: 0.0405 - val_accuracy: 0.9879\n",
      "Epoch 6/10\n",
      "235/235 [==============================] - 20s 86ms/step - loss: 0.0279 - accuracy: 0.9919 - val_loss: 0.0403 - val_accuracy: 0.9869\n",
      "Epoch 7/10\n",
      "235/235 [==============================] - 19s 83ms/step - loss: 0.0238 - accuracy: 0.9929 - val_loss: 0.0398 - val_accuracy: 0.9873\n",
      "Epoch 8/10\n",
      "235/235 [==============================] - 19s 82ms/step - loss: 0.0168 - accuracy: 0.9948 - val_loss: 0.0425 - val_accuracy: 0.9869\n",
      "Epoch 9/10\n",
      "235/235 [==============================] - 19s 79ms/step - loss: 0.0162 - accuracy: 0.9950 - val_loss: 0.0421 - val_accuracy: 0.9879\n",
      "Epoch 10/10\n",
      "235/235 [==============================] - 18s 79ms/step - loss: 0.0127 - accuracy: 0.9963 - val_loss: 0.0398 - val_accuracy: 0.9875\n"
     ]
    }
   ],
   "source": [
    "history1=model1.fit(x_train,y_train,batch_size=256,epochs=10,\n",
    "                    validation_data=(x_test, y_test))"
   ]
  },
  {
   "cell_type": "code",
   "execution_count": 18,
   "metadata": {},
   "outputs": [
    {
     "name": "stdout",
     "output_type": "stream",
     "text": [
      "313/313 [==============================] - 1s 2ms/step - loss: 0.0398 - accuracy: 0.9875\n"
     ]
    },
    {
     "data": {
      "text/plain": [
       "[0.039764512330293655, 0.987500011920929]"
      ]
     },
     "execution_count": 18,
     "metadata": {},
     "output_type": "execute_result"
    }
   ],
   "source": [
    "model1.evaluate(x_test, y_test)"
   ]
  },
  {
   "cell_type": "code",
   "execution_count": 22,
   "metadata": {},
   "outputs": [
    {
     "name": "stdout",
     "output_type": "stream",
     "text": [
      "1875/1875 [==============================] - 4s 2ms/step - loss: 0.0089 - accuracy: 0.9977\n"
     ]
    },
    {
     "data": {
      "text/plain": [
       "[0.008899643085896969, 0.9976666569709778]"
      ]
     },
     "execution_count": 22,
     "metadata": {},
     "output_type": "execute_result"
    }
   ],
   "source": [
    "model1.evaluate(x_train, y_train)"
   ]
  },
  {
   "cell_type": "code",
   "execution_count": 27,
   "metadata": {
    "scrolled": true
   },
   "outputs": [
    {
     "name": "stdout",
     "output_type": "stream",
     "text": [
      "Model: \"sequential_2\"\n",
      "_________________________________________________________________\n",
      "Layer (type)                 Output Shape              Param #   \n",
      "=================================================================\n",
      "conv_1 (Conv2D)              (None, 28, 28, 16)        160       \n",
      "_________________________________________________________________\n",
      "conv_2 (Conv2D)              (None, 28, 28, 16)        2320      \n",
      "_________________________________________________________________\n",
      "max_pooling2d_2 (MaxPooling2 (None, 14, 14, 16)        0         \n",
      "_________________________________________________________________\n",
      "flatten_2 (Flatten)          (None, 3136)              0         \n",
      "_________________________________________________________________\n",
      "dense_1 (Dense)              (None, 128)               401536    \n",
      "_________________________________________________________________\n",
      "dense_2 (Dense)              (None, 10)                1290      \n",
      "=================================================================\n",
      "Total params: 405,306\n",
      "Trainable params: 405,306\n",
      "Non-trainable params: 0\n",
      "_________________________________________________________________\n"
     ]
    }
   ],
   "source": [
    "model2 = Sequential()\n",
    "\n",
    "model2.add(Conv2D(16, (3, 3), padding='same', activation='relu', \n",
    "                              input_shape=input_shape,name=\"conv_1\"))\n",
    "model2.add(Conv2D(16, (3, 3), padding='same', activation='relu', name=\"conv_2\"))\n",
    "model2.add(MaxPooling2D(pool_size=(2, 2)))\n",
    "\n",
    "model2.add(Flatten())\n",
    "model2.add(Dense(128, activation='relu',name=\"dense_1\"))\n",
    "model2.add(Dense(num_classes, activation='softmax',name=\"dense_2\"))\n",
    "\n",
    "model2.summary()"
   ]
  },
  {
   "cell_type": "code",
   "execution_count": 28,
   "metadata": {},
   "outputs": [
    {
     "name": "stdout",
     "output_type": "stream",
     "text": [
      "Epoch 1/10\n",
      "235/235 [==============================] - 18s 75ms/step - loss: 0.6310 - accuracy: 0.8253 - val_loss: 0.0876 - val_accuracy: 0.9739\n",
      "Epoch 2/10\n",
      "235/235 [==============================] - 17s 72ms/step - loss: 0.0812 - accuracy: 0.9754 - val_loss: 0.0513 - val_accuracy: 0.9831\n",
      "Epoch 3/10\n",
      "235/235 [==============================] - 17s 72ms/step - loss: 0.0499 - accuracy: 0.9850 - val_loss: 0.0425 - val_accuracy: 0.9832\n",
      "Epoch 4/10\n",
      "235/235 [==============================] - 17s 73ms/step - loss: 0.0346 - accuracy: 0.9894 - val_loss: 0.0331 - val_accuracy: 0.9888\n",
      "Epoch 5/10\n",
      "235/235 [==============================] - 17s 73ms/step - loss: 0.0239 - accuracy: 0.9927 - val_loss: 0.0353 - val_accuracy: 0.9879\n",
      "Epoch 6/10\n",
      "235/235 [==============================] - 17s 74ms/step - loss: 0.0200 - accuracy: 0.9941 - val_loss: 0.0341 - val_accuracy: 0.9885\n",
      "Epoch 7/10\n",
      "235/235 [==============================] - 17s 72ms/step - loss: 0.0156 - accuracy: 0.9954 - val_loss: 0.0333 - val_accuracy: 0.9900\n",
      "Epoch 8/10\n",
      "235/235 [==============================] - 17s 74ms/step - loss: 0.0121 - accuracy: 0.9962 - val_loss: 0.0389 - val_accuracy: 0.9886\n",
      "Epoch 9/10\n",
      "235/235 [==============================] - 18s 79ms/step - loss: 0.0087 - accuracy: 0.9975 - val_loss: 0.0353 - val_accuracy: 0.9888\n",
      "Epoch 10/10\n",
      "235/235 [==============================] - 18s 78ms/step - loss: 0.0083 - accuracy: 0.9974 - val_loss: 0.0381 - val_accuracy: 0.9873\n"
     ]
    }
   ],
   "source": [
    "model2.compile(optimizer='adam', loss='categorical_crossentropy', metrics=['accuracy'])  \n",
    "history2=model2.fit(x_train,y_train,batch_size=256,epochs=10,\n",
    "                    validation_data=(x_test, y_test))"
   ]
  },
  {
   "cell_type": "code",
   "execution_count": 36,
   "metadata": {},
   "outputs": [
    {
     "name": "stdout",
     "output_type": "stream",
     "text": [
      "313/313 [==============================] - 1s 2ms/step - loss: 0.0381 - accuracy: 0.9873\n"
     ]
    },
    {
     "data": {
      "text/plain": [
       "[0.03805887699127197, 0.9872999787330627]"
      ]
     },
     "execution_count": 36,
     "metadata": {},
     "output_type": "execute_result"
    }
   ],
   "source": [
    "model2.evaluate(x_test, y_test)"
   ]
  },
  {
   "cell_type": "code",
   "execution_count": 37,
   "metadata": {},
   "outputs": [
    {
     "name": "stdout",
     "output_type": "stream",
     "text": [
      "1875/1875 [==============================] - 5s 3ms/step - loss: 0.0055 - accuracy: 0.9985\n"
     ]
    },
    {
     "data": {
      "text/plain": [
       "[0.005504933651536703, 0.9985166788101196]"
      ]
     },
     "execution_count": 37,
     "metadata": {},
     "output_type": "execute_result"
    }
   ],
   "source": [
    "model2.evaluate(x_train, y_train)"
   ]
  },
  {
   "cell_type": "code",
   "execution_count": 41,
   "metadata": {},
   "outputs": [
    {
     "name": "stdout",
     "output_type": "stream",
     "text": [
      "Model: \"sequential_3\"\n",
      "_________________________________________________________________\n",
      "Layer (type)                 Output Shape              Param #   \n",
      "=================================================================\n",
      "conv_1 (Conv2D)              (None, 28, 28, 16)        160       \n",
      "_________________________________________________________________\n",
      "conv_2 (Conv2D)              (None, 28, 28, 16)        2320      \n",
      "_________________________________________________________________\n",
      "max_pooling2d_3 (MaxPooling2 (None, 14, 14, 16)        0         \n",
      "_________________________________________________________________\n",
      "flatten_3 (Flatten)          (None, 3136)              0         \n",
      "_________________________________________________________________\n",
      "dense_1 (Dense)              (None, 32)                100384    \n",
      "_________________________________________________________________\n",
      "dense_2 (Dense)              (None, 10)                330       \n",
      "=================================================================\n",
      "Total params: 103,194\n",
      "Trainable params: 103,194\n",
      "Non-trainable params: 0\n",
      "_________________________________________________________________\n"
     ]
    }
   ],
   "source": [
    "model3 = Sequential()\n",
    "\n",
    "model3.add(Conv2D(16, (3, 3), padding='same', activation='relu', \n",
    "                              input_shape=input_shape,name=\"conv_1\"))\n",
    "model3.add(Conv2D(16, (3, 3), padding='same', activation='relu', name=\"conv_2\"))\n",
    "model3.add(MaxPooling2D(pool_size=(2, 2)))\n",
    "\n",
    "model3.add(Flatten())\n",
    "model3.add(Dense(32, activation='relu',name=\"dense_1\"))\n",
    "model3.add(Dense(num_classes, activation='softmax',name=\"dense_2\"))\n",
    "\n",
    "model3.summary()"
   ]
  },
  {
   "cell_type": "code",
   "execution_count": 42,
   "metadata": {},
   "outputs": [
    {
     "name": "stdout",
     "output_type": "stream",
     "text": [
      "Epoch 1/10\n",
      "235/235 [==============================] - 21s 86ms/step - loss: 0.7657 - accuracy: 0.7867 - val_loss: 0.1368 - val_accuracy: 0.9608\n",
      "Epoch 2/10\n",
      "235/235 [==============================] - 19s 83ms/step - loss: 0.1270 - accuracy: 0.9630 - val_loss: 0.0736 - val_accuracy: 0.9776\n",
      "Epoch 3/10\n",
      "235/235 [==============================] - 21s 88ms/step - loss: 0.0778 - accuracy: 0.9776 - val_loss: 0.0594 - val_accuracy: 0.9810\n",
      "Epoch 4/10\n",
      "235/235 [==============================] - 21s 88ms/step - loss: 0.0563 - accuracy: 0.9829 - val_loss: 0.0531 - val_accuracy: 0.9829\n",
      "Epoch 5/10\n",
      "235/235 [==============================] - 19s 80ms/step - loss: 0.0465 - accuracy: 0.9867 - val_loss: 0.0464 - val_accuracy: 0.9837\n",
      "Epoch 6/10\n",
      "235/235 [==============================] - 19s 81ms/step - loss: 0.0385 - accuracy: 0.9886 - val_loss: 0.0455 - val_accuracy: 0.9839\n",
      "Epoch 7/10\n",
      "235/235 [==============================] - 21s 91ms/step - loss: 0.0304 - accuracy: 0.9908 - val_loss: 0.0417 - val_accuracy: 0.9855\n",
      "Epoch 8/10\n",
      "235/235 [==============================] - 23s 96ms/step - loss: 0.0289 - accuracy: 0.9911 - val_loss: 0.0437 - val_accuracy: 0.9849\n",
      "Epoch 9/10\n",
      "235/235 [==============================] - 22s 94ms/step - loss: 0.0260 - accuracy: 0.9923 - val_loss: 0.0413 - val_accuracy: 0.9869\n",
      "Epoch 10/10\n",
      "235/235 [==============================] - 21s 89ms/step - loss: 0.0211 - accuracy: 0.9934 - val_loss: 0.0428 - val_accuracy: 0.9861\n"
     ]
    }
   ],
   "source": [
    "model3.compile(optimizer='adam', loss='categorical_crossentropy', metrics=['accuracy'])  \n",
    "history3=model3.fit(x_train,y_train,batch_size=256,epochs=10,\n",
    "                    validation_data=(x_test, y_test))"
   ]
  },
  {
   "cell_type": "code",
   "execution_count": 43,
   "metadata": {},
   "outputs": [
    {
     "name": "stdout",
     "output_type": "stream",
     "text": [
      "313/313 [==============================] - 1s 3ms/step - loss: 0.0428 - accuracy: 0.9861\n"
     ]
    },
    {
     "data": {
      "text/plain": [
       "[0.04281231388449669, 0.9861000180244446]"
      ]
     },
     "execution_count": 43,
     "metadata": {},
     "output_type": "execute_result"
    }
   ],
   "source": [
    "model3.evaluate(x_test, y_test)"
   ]
  },
  {
   "cell_type": "code",
   "execution_count": 44,
   "metadata": {},
   "outputs": [
    {
     "name": "stdout",
     "output_type": "stream",
     "text": [
      "1875/1875 [==============================] - 5s 3ms/step - loss: 0.0167 - accuracy: 0.9951\n"
     ]
    },
    {
     "data": {
      "text/plain": [
       "[0.0167115218937397, 0.9951333403587341]"
      ]
     },
     "execution_count": 44,
     "metadata": {},
     "output_type": "execute_result"
    }
   ],
   "source": [
    "model3.evaluate(x_train, y_train)"
   ]
  },
  {
   "cell_type": "code",
   "execution_count": 51,
   "metadata": {},
   "outputs": [
    {
     "name": "stdout",
     "output_type": "stream",
     "text": [
      "Model: \"sequential_8\"\n",
      "_________________________________________________________________\n",
      "Layer (type)                 Output Shape              Param #   \n",
      "=================================================================\n",
      "conv_1 (Conv2D)              (None, 28, 28, 16)        160       \n",
      "_________________________________________________________________\n",
      "conv_2 (Conv2D)              (None, 28, 28, 16)        2320      \n",
      "_________________________________________________________________\n",
      "max_pooling2d_8 (MaxPooling2 (None, 14, 14, 16)        0         \n",
      "_________________________________________________________________\n",
      "flatten_8 (Flatten)          (None, 3136)              0         \n",
      "_________________________________________________________________\n",
      "dense_1 (Dense)              (None, 16)                50192     \n",
      "_________________________________________________________________\n",
      "dense_2 (Dense)              (None, 10)                170       \n",
      "=================================================================\n",
      "Total params: 52,842\n",
      "Trainable params: 52,842\n",
      "Non-trainable params: 0\n",
      "_________________________________________________________________\n"
     ]
    }
   ],
   "source": [
    "model4 = Sequential()\n",
    "\n",
    "model4.add(Conv2D(16, (3, 3), padding='same', activation='relu', \n",
    "                              input_shape=input_shape,name=\"conv_1\"))\n",
    "model4.add(Conv2D(16, (3, 3), padding='same', activation='relu', name=\"conv_2\"))\n",
    "model4.add(MaxPooling2D(pool_size=(2, 2)))\n",
    "\n",
    "model4.add(Flatten())\n",
    "model4.add(Dense(16, activation='relu',name=\"dense_1\"))\n",
    "model4.add(Dense(num_classes, activation='softmax',name=\"dense_2\"))\n",
    "\n",
    "model4.summary()"
   ]
  },
  {
   "cell_type": "code",
   "execution_count": 52,
   "metadata": {},
   "outputs": [
    {
     "name": "stdout",
     "output_type": "stream",
     "text": [
      "Epoch 1/10\n",
      "235/235 [==============================] - 18s 73ms/step - loss: 0.9606 - accuracy: 0.7108 - val_loss: 0.1691 - val_accuracy: 0.9497\n",
      "Epoch 2/10\n",
      "235/235 [==============================] - 17s 73ms/step - loss: 0.1424 - accuracy: 0.9592 - val_loss: 0.0876 - val_accuracy: 0.9736\n",
      "Epoch 3/10\n",
      "235/235 [==============================] - 17s 74ms/step - loss: 0.0848 - accuracy: 0.9755 - val_loss: 0.0653 - val_accuracy: 0.9796\n",
      "Epoch 4/10\n",
      "235/235 [==============================] - 18s 75ms/step - loss: 0.0661 - accuracy: 0.9809 - val_loss: 0.0546 - val_accuracy: 0.9826\n",
      "Epoch 5/10\n",
      "235/235 [==============================] - 18s 78ms/step - loss: 0.0527 - accuracy: 0.9841 - val_loss: 0.0520 - val_accuracy: 0.9835\n",
      "Epoch 6/10\n",
      "235/235 [==============================] - 19s 79ms/step - loss: 0.0499 - accuracy: 0.9850 - val_loss: 0.0756 - val_accuracy: 0.9766\n",
      "Epoch 7/10\n",
      "235/235 [==============================] - 18s 76ms/step - loss: 0.0432 - accuracy: 0.9867 - val_loss: 0.0544 - val_accuracy: 0.9834\n",
      "Epoch 8/10\n",
      "235/235 [==============================] - 19s 82ms/step - loss: 0.0394 - accuracy: 0.9883 - val_loss: 0.0481 - val_accuracy: 0.9843\n",
      "Epoch 9/10\n",
      "235/235 [==============================] - 20s 84ms/step - loss: 0.0367 - accuracy: 0.9889 - val_loss: 0.0545 - val_accuracy: 0.9837\n",
      "Epoch 10/10\n",
      "235/235 [==============================] - 19s 81ms/step - loss: 0.0301 - accuracy: 0.9904 - val_loss: 0.0468 - val_accuracy: 0.9856\n"
     ]
    }
   ],
   "source": [
    "model4.compile(optimizer='adam', loss='categorical_crossentropy', metrics=['accuracy'])  \n",
    "history4=model4.fit(x_train,y_train,batch_size=256,epochs=10,\n",
    "                    validation_data=(x_test, y_test))"
   ]
  },
  {
   "cell_type": "code",
   "execution_count": 53,
   "metadata": {},
   "outputs": [
    {
     "name": "stdout",
     "output_type": "stream",
     "text": [
      "313/313 [==============================] - 1s 2ms/step - loss: 0.0468 - accuracy: 0.9856\n"
     ]
    },
    {
     "data": {
      "text/plain": [
       "[0.04678438976407051, 0.9855999946594238]"
      ]
     },
     "execution_count": 53,
     "metadata": {},
     "output_type": "execute_result"
    }
   ],
   "source": [
    "model4.evaluate(x_test, y_test)"
   ]
  },
  {
   "cell_type": "code",
   "execution_count": 54,
   "metadata": {},
   "outputs": [
    {
     "name": "stdout",
     "output_type": "stream",
     "text": [
      "1875/1875 [==============================] - 5s 2ms/step - loss: 0.0281 - accuracy: 0.9915\n"
     ]
    },
    {
     "data": {
      "text/plain": [
       "[0.028124311938881874, 0.9914666414260864]"
      ]
     },
     "execution_count": 54,
     "metadata": {},
     "output_type": "execute_result"
    }
   ],
   "source": [
    "model4.evaluate(x_train, y_train)"
   ]
  },
  {
   "cell_type": "code",
   "execution_count": 57,
   "metadata": {},
   "outputs": [
    {
     "name": "stdout",
     "output_type": "stream",
     "text": [
      "Model: \"sequential_9\"\n",
      "_________________________________________________________________\n",
      "Layer (type)                 Output Shape              Param #   \n",
      "=================================================================\n",
      "conv_1 (Conv2D)              (None, 28, 28, 16)        160       \n",
      "_________________________________________________________________\n",
      "conv_2 (Conv2D)              (None, 28, 28, 16)        2320      \n",
      "_________________________________________________________________\n",
      "max_pooling2d_9 (MaxPooling2 (None, 14, 14, 16)        0         \n",
      "_________________________________________________________________\n",
      "flatten_9 (Flatten)          (None, 3136)              0         \n",
      "_________________________________________________________________\n",
      "dense_1 (Dense)              (None, 10)                31370     \n",
      "_________________________________________________________________\n",
      "dense_2 (Dense)              (None, 10)                110       \n",
      "=================================================================\n",
      "Total params: 33,960\n",
      "Trainable params: 33,960\n",
      "Non-trainable params: 0\n",
      "_________________________________________________________________\n"
     ]
    }
   ],
   "source": [
    "model5 = Sequential()\n",
    "\n",
    "model5.add(Conv2D(16, (3, 3), padding='same', activation='relu', \n",
    "                              input_shape=input_shape,name=\"conv_1\"))\n",
    "model5.add(Conv2D(16, (3, 3), padding='same', activation='relu', name=\"conv_2\"))\n",
    "model5.add(MaxPooling2D(pool_size=(2, 2)))\n",
    "\n",
    "model5.add(Flatten())\n",
    "model5.add(Dense(10, activation='relu',name=\"dense_1\"))\n",
    "model5.add(Dense(num_classes, activation='softmax',name=\"dense_2\"))\n",
    "\n",
    "model5.summary()"
   ]
  },
  {
   "cell_type": "code",
   "execution_count": 58,
   "metadata": {},
   "outputs": [
    {
     "name": "stdout",
     "output_type": "stream",
     "text": [
      "Epoch 1/10\n",
      "235/235 [==============================] - 17s 72ms/step - loss: 1.1748 - accuracy: 0.6125 - val_loss: 0.2476 - val_accuracy: 0.9310\n",
      "Epoch 2/10\n",
      "235/235 [==============================] - 17s 73ms/step - loss: 0.2142 - accuracy: 0.9397 - val_loss: 0.1264 - val_accuracy: 0.9628\n",
      "Epoch 3/10\n",
      "235/235 [==============================] - 18s 75ms/step - loss: 0.1298 - accuracy: 0.9619 - val_loss: 0.1027 - val_accuracy: 0.9673\n",
      "Epoch 4/10\n",
      "235/235 [==============================] - 18s 75ms/step - loss: 0.0927 - accuracy: 0.9730 - val_loss: 0.0864 - val_accuracy: 0.9720\n",
      "Epoch 5/10\n",
      "235/235 [==============================] - 17s 73ms/step - loss: 0.0810 - accuracy: 0.9757 - val_loss: 0.0758 - val_accuracy: 0.9759\n",
      "Epoch 6/10\n",
      "235/235 [==============================] - 17s 73ms/step - loss: 0.0683 - accuracy: 0.9803 - val_loss: 0.0672 - val_accuracy: 0.9794\n",
      "Epoch 7/10\n",
      "235/235 [==============================] - 17s 72ms/step - loss: 0.0615 - accuracy: 0.9816 - val_loss: 0.0595 - val_accuracy: 0.9805\n",
      "Epoch 8/10\n",
      "235/235 [==============================] - 20s 85ms/step - loss: 0.0538 - accuracy: 0.9840 - val_loss: 0.0595 - val_accuracy: 0.9808\n",
      "Epoch 9/10\n",
      "235/235 [==============================] - 18s 75ms/step - loss: 0.0458 - accuracy: 0.9859 - val_loss: 0.0604 - val_accuracy: 0.9814\n",
      "Epoch 10/10\n",
      "235/235 [==============================] - 19s 82ms/step - loss: 0.0436 - accuracy: 0.9862 - val_loss: 0.0543 - val_accuracy: 0.9831\n"
     ]
    }
   ],
   "source": [
    "model5.compile(optimizer='adam', loss='categorical_crossentropy', metrics=['accuracy'])  \n",
    "history5=model5.fit(x_train,y_train,batch_size=256,epochs=10,\n",
    "                    validation_data=(x_test, y_test))"
   ]
  },
  {
   "cell_type": "code",
   "execution_count": 59,
   "metadata": {},
   "outputs": [
    {
     "name": "stdout",
     "output_type": "stream",
     "text": [
      "313/313 [==============================] - 1s 3ms/step - loss: 0.0543 - accuracy: 0.9831\n"
     ]
    },
    {
     "data": {
      "text/plain": [
       "[0.05427676439285278, 0.9830999970436096]"
      ]
     },
     "execution_count": 59,
     "metadata": {},
     "output_type": "execute_result"
    }
   ],
   "source": [
    "model5.evaluate(x_test, y_test)"
   ]
  },
  {
   "cell_type": "code",
   "execution_count": 60,
   "metadata": {},
   "outputs": [
    {
     "name": "stdout",
     "output_type": "stream",
     "text": [
      "1875/1875 [==============================] - 6s 3ms/step - loss: 0.0386 - accuracy: 0.9882\n"
     ]
    },
    {
     "data": {
      "text/plain": [
       "[0.038573987782001495, 0.9881666898727417]"
      ]
     },
     "execution_count": 60,
     "metadata": {},
     "output_type": "execute_result"
    }
   ],
   "source": [
    "model5.evaluate(x_train, y_train)"
   ]
  },
  {
   "cell_type": "code",
   "execution_count": 64,
   "metadata": {},
   "outputs": [
    {
     "name": "stdout",
     "output_type": "stream",
     "text": [
      "Model: \"sequential_11\"\n",
      "_________________________________________________________________\n",
      "Layer (type)                 Output Shape              Param #   \n",
      "=================================================================\n",
      "conv_1 (Conv2D)              (None, 28, 28, 16)        160       \n",
      "_________________________________________________________________\n",
      "max_pooling2d_11 (MaxPooling (None, 14, 14, 16)        0         \n",
      "_________________________________________________________________\n",
      "flatten_11 (Flatten)         (None, 3136)              0         \n",
      "_________________________________________________________________\n",
      "dense_1 (Dense)              (None, 10)                31370     \n",
      "_________________________________________________________________\n",
      "dense_2 (Dense)              (None, 10)                110       \n",
      "=================================================================\n",
      "Total params: 31,640\n",
      "Trainable params: 31,640\n",
      "Non-trainable params: 0\n",
      "_________________________________________________________________\n"
     ]
    }
   ],
   "source": [
    "model6 = Sequential()\n",
    "\n",
    "model6.add(Conv2D(16, (3, 3), padding='same', activation='relu', \n",
    "                              input_shape=input_shape,name=\"conv_1\"))\n",
    "model6.add(MaxPooling2D(pool_size=(2, 2)))\n",
    "\n",
    "model6.add(Flatten())\n",
    "model6.add(Dense(10, activation='relu',name=\"dense_1\"))\n",
    "model6.add(Dense(num_classes, activation='softmax',name=\"dense_2\"))\n",
    "\n",
    "model6.summary()"
   ]
  },
  {
   "cell_type": "code",
   "execution_count": 65,
   "metadata": {},
   "outputs": [
    {
     "name": "stdout",
     "output_type": "stream",
     "text": [
      "Epoch 1/10\n",
      "235/235 [==============================] - 5s 19ms/step - loss: 1.3568 - accuracy: 0.5550 - val_loss: 0.3336 - val_accuracy: 0.9040\n",
      "Epoch 2/10\n",
      "235/235 [==============================] - 4s 18ms/step - loss: 0.3266 - accuracy: 0.9059 - val_loss: 0.2184 - val_accuracy: 0.9392\n",
      "Epoch 3/10\n",
      "235/235 [==============================] - 5s 20ms/step - loss: 0.2245 - accuracy: 0.9368 - val_loss: 0.1696 - val_accuracy: 0.9542\n",
      "Epoch 4/10\n",
      "235/235 [==============================] - 5s 20ms/step - loss: 0.1785 - accuracy: 0.9510 - val_loss: 0.1403 - val_accuracy: 0.9590\n",
      "Epoch 5/10\n",
      "235/235 [==============================] - 5s 20ms/step - loss: 0.1461 - accuracy: 0.9574 - val_loss: 0.1211 - val_accuracy: 0.9650\n",
      "Epoch 6/10\n",
      "235/235 [==============================] - 5s 19ms/step - loss: 0.1311 - accuracy: 0.9626 - val_loss: 0.1084 - val_accuracy: 0.9687\n",
      "Epoch 7/10\n",
      "235/235 [==============================] - 5s 19ms/step - loss: 0.1113 - accuracy: 0.9674 - val_loss: 0.1051 - val_accuracy: 0.9684\n",
      "Epoch 8/10\n",
      "235/235 [==============================] - 5s 19ms/step - loss: 0.1010 - accuracy: 0.9713 - val_loss: 0.1009 - val_accuracy: 0.9691\n",
      "Epoch 9/10\n",
      "235/235 [==============================] - 5s 19ms/step - loss: 0.0982 - accuracy: 0.9714 - val_loss: 0.0879 - val_accuracy: 0.9740\n",
      "Epoch 10/10\n",
      "235/235 [==============================] - 5s 19ms/step - loss: 0.0870 - accuracy: 0.9749 - val_loss: 0.0862 - val_accuracy: 0.9735\n"
     ]
    }
   ],
   "source": [
    "model6.compile(optimizer='adam', loss='categorical_crossentropy', metrics=['accuracy'])  \n",
    "history6=model6.fit(x_train,y_train,batch_size=256,epochs=10,\n",
    "                    validation_data=(x_test, y_test))"
   ]
  },
  {
   "cell_type": "code",
   "execution_count": 66,
   "metadata": {},
   "outputs": [
    {
     "name": "stdout",
     "output_type": "stream",
     "text": [
      "313/313 [==============================] - 0s 1ms/step - loss: 0.0862 - accuracy: 0.9735\n"
     ]
    },
    {
     "data": {
      "text/plain": [
       "[0.08618491142988205, 0.9735000133514404]"
      ]
     },
     "execution_count": 66,
     "metadata": {},
     "output_type": "execute_result"
    }
   ],
   "source": [
    "model6.evaluate(x_test, y_test)"
   ]
  },
  {
   "cell_type": "code",
   "execution_count": 67,
   "metadata": {},
   "outputs": [
    {
     "name": "stdout",
     "output_type": "stream",
     "text": [
      "1875/1875 [==============================] - 3s 1ms/step - loss: 0.0819 - accuracy: 0.9763\n"
     ]
    },
    {
     "data": {
      "text/plain": [
       "[0.08190052956342697, 0.9763000011444092]"
      ]
     },
     "execution_count": 67,
     "metadata": {},
     "output_type": "execute_result"
    }
   ],
   "source": [
    "model6.evaluate(x_train, y_train)"
   ]
  },
  {
   "cell_type": "code",
   "execution_count": 70,
   "metadata": {},
   "outputs": [
    {
     "name": "stdout",
     "output_type": "stream",
     "text": [
      "Model: \"sequential_12\"\n",
      "_________________________________________________________________\n",
      "Layer (type)                 Output Shape              Param #   \n",
      "=================================================================\n",
      "conv_1 (Conv2D)              (None, 28, 28, 16)        160       \n",
      "_________________________________________________________________\n",
      "max_pooling2d_12 (MaxPooling (None, 14, 14, 16)        0         \n",
      "_________________________________________________________________\n",
      "flatten_12 (Flatten)         (None, 3136)              0         \n",
      "_________________________________________________________________\n",
      "dense_1 (Dense)              (None, 5)                 15685     \n",
      "_________________________________________________________________\n",
      "dense_2 (Dense)              (None, 10)                60        \n",
      "=================================================================\n",
      "Total params: 15,905\n",
      "Trainable params: 15,905\n",
      "Non-trainable params: 0\n",
      "_________________________________________________________________\n"
     ]
    }
   ],
   "source": [
    "model7 = Sequential()\n",
    "\n",
    "model7.add(Conv2D(16, (3, 3), padding='same', activation='relu', \n",
    "                              input_shape=input_shape,name=\"conv_1\"))\n",
    "model7.add(MaxPooling2D(pool_size=(2, 2)))\n",
    "\n",
    "model7.add(Flatten())\n",
    "model7.add(Dense(5, activation='relu',name=\"dense_1\"))\n",
    "model7.add(Dense(num_classes, activation='softmax',name=\"dense_2\"))\n",
    "\n",
    "model7.summary()"
   ]
  },
  {
   "cell_type": "code",
   "execution_count": 71,
   "metadata": {},
   "outputs": [
    {
     "name": "stdout",
     "output_type": "stream",
     "text": [
      "Epoch 1/10\n",
      "235/235 [==============================] - 5s 20ms/step - loss: 1.6858 - accuracy: 0.4290 - val_loss: 0.7231 - val_accuracy: 0.8245\n",
      "Epoch 2/10\n",
      "235/235 [==============================] - 4s 19ms/step - loss: 0.6588 - accuracy: 0.8320 - val_loss: 0.4457 - val_accuracy: 0.8315\n",
      "Epoch 3/10\n",
      "235/235 [==============================] - 5s 20ms/step - loss: 0.3954 - accuracy: 0.8742 - val_loss: 0.2599 - val_accuracy: 0.9266\n",
      "Epoch 4/10\n",
      "235/235 [==============================] - 5s 21ms/step - loss: 0.2534 - accuracy: 0.9299 - val_loss: 0.2087 - val_accuracy: 0.9402\n",
      "Epoch 5/10\n",
      "235/235 [==============================] - 5s 20ms/step - loss: 0.2195 - accuracy: 0.9371 - val_loss: 0.1909 - val_accuracy: 0.9447\n",
      "Epoch 6/10\n",
      "235/235 [==============================] - 5s 19ms/step - loss: 0.1903 - accuracy: 0.9452 - val_loss: 0.1767 - val_accuracy: 0.9478\n",
      "Epoch 7/10\n",
      "235/235 [==============================] - 4s 19ms/step - loss: 0.1769 - accuracy: 0.9487 - val_loss: 0.1631 - val_accuracy: 0.9525\n",
      "Epoch 8/10\n",
      "235/235 [==============================] - 5s 21ms/step - loss: 0.1633 - accuracy: 0.9526 - val_loss: 0.1528 - val_accuracy: 0.9551\n",
      "Epoch 9/10\n",
      "235/235 [==============================] - 5s 20ms/step - loss: 0.1554 - accuracy: 0.9555 - val_loss: 0.1465 - val_accuracy: 0.9584\n",
      "Epoch 10/10\n",
      "235/235 [==============================] - 4s 19ms/step - loss: 0.1451 - accuracy: 0.9574 - val_loss: 0.1402 - val_accuracy: 0.9588\n"
     ]
    }
   ],
   "source": [
    "model7.compile(optimizer='adam', loss='categorical_crossentropy', metrics=['accuracy'])  \n",
    "history7=model7.fit(x_train,y_train,batch_size=256,epochs=10,\n",
    "                    validation_data=(x_test, y_test))"
   ]
  },
  {
   "cell_type": "code",
   "execution_count": 72,
   "metadata": {},
   "outputs": [
    {
     "name": "stdout",
     "output_type": "stream",
     "text": [
      "313/313 [==============================] - 0s 1ms/step - loss: 0.1402 - accuracy: 0.9588\n"
     ]
    },
    {
     "data": {
      "text/plain": [
       "[0.1401517391204834, 0.9588000178337097]"
      ]
     },
     "execution_count": 72,
     "metadata": {},
     "output_type": "execute_result"
    }
   ],
   "source": [
    "model7.evaluate(x_test, y_test)"
   ]
  },
  {
   "cell_type": "code",
   "execution_count": 73,
   "metadata": {},
   "outputs": [
    {
     "name": "stdout",
     "output_type": "stream",
     "text": [
      "1875/1875 [==============================] - 3s 2ms/step - loss: 0.1352 - accuracy: 0.9609\n"
     ]
    },
    {
     "data": {
      "text/plain": [
       "[0.1352110505104065, 0.9609166383743286]"
      ]
     },
     "execution_count": 73,
     "metadata": {},
     "output_type": "execute_result"
    }
   ],
   "source": [
    "model7.evaluate(x_train, y_train)"
   ]
  },
  {
   "cell_type": "code",
   "execution_count": 148,
   "metadata": {},
   "outputs": [
    {
     "name": "stdout",
     "output_type": "stream",
     "text": [
      "Model: \"sequential_54\"\n",
      "_________________________________________________________________\n",
      "Layer (type)                 Output Shape              Param #   \n",
      "=================================================================\n",
      "conv_1 (Conv2D)              (None, 28, 28, 16)        160       \n",
      "_________________________________________________________________\n",
      "conv_2 (Conv2D)              (None, 28, 28, 32)        4640      \n",
      "_________________________________________________________________\n",
      "max_pooling2d_53 (MaxPooling (None, 14, 14, 32)        0         \n",
      "_________________________________________________________________\n",
      "flatten_53 (Flatten)         (None, 6272)              0         \n",
      "_________________________________________________________________\n",
      "dense_1 (Dense)              (None, 100)               627300    \n",
      "_________________________________________________________________\n",
      "dense_2 (Dense)              (None, 10)                1010      \n",
      "=================================================================\n",
      "Total params: 633,110\n",
      "Trainable params: 633,110\n",
      "Non-trainable params: 0\n",
      "_________________________________________________________________\n"
     ]
    }
   ],
   "source": [
    "model8 = Sequential()\n",
    "\n",
    "model8.add(Conv2D(16, (3, 3), padding='same', activation='relu', \n",
    "                              input_shape=input_shape,name=\"conv_1\"))\n",
    "model8.add(Conv2D(32, (3, 3), padding='same', activation='relu', name=\"conv_2\"))\n",
    "model8.add(MaxPooling2D(pool_size=(2, 2)))\n",
    "\n",
    "model8.add(Flatten())\n",
    "model8.add(Dense(100, activation='relu',name=\"dense_1\"))\n",
    "model8.add(Dense(num_classes, activation='softmax',name=\"dense_2\"))\n",
    "\n",
    "model8.summary()"
   ]
  },
  {
   "cell_type": "code",
   "execution_count": 149,
   "metadata": {},
   "outputs": [
    {
     "name": "stdout",
     "output_type": "stream",
     "text": [
      "Epoch 1/10\n",
      "235/235 [==============================] - 21s 90ms/step - loss: 0.6165 - accuracy: 0.8291 - val_loss: 0.0776 - val_accuracy: 0.9786\n",
      "Epoch 2/10\n",
      "235/235 [==============================] - 20s 84ms/step - loss: 0.0738 - accuracy: 0.9775 - val_loss: 0.0531 - val_accuracy: 0.9822\n",
      "Epoch 3/10\n",
      "235/235 [==============================] - 21s 88ms/step - loss: 0.0440 - accuracy: 0.9872 - val_loss: 0.0406 - val_accuracy: 0.9855\n",
      "Epoch 4/10\n",
      "235/235 [==============================] - 30s 129ms/step - loss: 0.0347 - accuracy: 0.9893 - val_loss: 0.0507 - val_accuracy: 0.9832\n",
      "Epoch 5/10\n",
      "235/235 [==============================] - 22s 94ms/step - loss: 0.0259 - accuracy: 0.9919 - val_loss: 0.0347 - val_accuracy: 0.9881\n",
      "Epoch 6/10\n",
      "235/235 [==============================] - 24s 102ms/step - loss: 0.0196 - accuracy: 0.9943 - val_loss: 0.0432 - val_accuracy: 0.9854\n",
      "Epoch 7/10\n",
      "235/235 [==============================] - 26s 112ms/step - loss: 0.0167 - accuracy: 0.9946 - val_loss: 0.0366 - val_accuracy: 0.9882\n",
      "Epoch 8/10\n",
      "235/235 [==============================] - 25s 107ms/step - loss: 0.0132 - accuracy: 0.9960 - val_loss: 0.0463 - val_accuracy: 0.9872\n",
      "Epoch 9/10\n",
      "235/235 [==============================] - 20s 87ms/step - loss: 0.0112 - accuracy: 0.9964 - val_loss: 0.0380 - val_accuracy: 0.9893\n",
      "Epoch 10/10\n",
      "235/235 [==============================] - 20s 84ms/step - loss: 0.0061 - accuracy: 0.9982 - val_loss: 0.0405 - val_accuracy: 0.9892\n"
     ]
    }
   ],
   "source": [
    "model8.compile(optimizer='adam', loss='categorical_crossentropy', metrics=['accuracy'])  \n",
    "history8=model8.fit(x_train,y_train,batch_size=256,epochs=10,\n",
    "                    validation_data=(x_test, y_test))"
   ]
  },
  {
   "cell_type": "code",
   "execution_count": 150,
   "metadata": {},
   "outputs": [
    {
     "name": "stdout",
     "output_type": "stream",
     "text": [
      "313/313 [==============================] - 1s 4ms/step - loss: 0.0405 - accuracy: 0.9892\n"
     ]
    },
    {
     "data": {
      "text/plain": [
       "[0.04053809121251106, 0.9891999959945679]"
      ]
     },
     "execution_count": 150,
     "metadata": {},
     "output_type": "execute_result"
    }
   ],
   "source": [
    "model8.evaluate(x_test, y_test)"
   ]
  },
  {
   "cell_type": "code",
   "execution_count": 151,
   "metadata": {},
   "outputs": [
    {
     "name": "stdout",
     "output_type": "stream",
     "text": [
      "1875/1875 [==============================] - 7s 4ms/step - loss: 0.0062 - accuracy: 0.9981\n"
     ]
    },
    {
     "data": {
      "text/plain": [
       "[0.006220964249223471, 0.998116672039032]"
      ]
     },
     "execution_count": 151,
     "metadata": {},
     "output_type": "execute_result"
    }
   ],
   "source": [
    "model8.evaluate(x_train, y_train)"
   ]
  },
  {
   "cell_type": "code",
   "execution_count": 108,
   "metadata": {},
   "outputs": [
    {
     "name": "stdout",
     "output_type": "stream",
     "text": [
      "Model: \"sequential_33\"\n",
      "_________________________________________________________________\n",
      "Layer (type)                 Output Shape              Param #   \n",
      "=================================================================\n",
      "conv_1 (Conv2D)              (None, 28, 28, 16)        160       \n",
      "_________________________________________________________________\n",
      "conv_2 (Conv2D)              (None, 28, 28, 16)        2320      \n",
      "_________________________________________________________________\n",
      "max_pooling2d_33 (MaxPooling (None, 14, 14, 16)        0         \n",
      "_________________________________________________________________\n",
      "flatten_33 (Flatten)         (None, 3136)              0         \n",
      "_________________________________________________________________\n",
      "dense_1 (Dense)              (None, 100)               313700    \n",
      "_________________________________________________________________\n",
      "dense_2 (Dense)              (None, 10)                1010      \n",
      "=================================================================\n",
      "Total params: 317,190\n",
      "Trainable params: 317,190\n",
      "Non-trainable params: 0\n",
      "_________________________________________________________________\n"
     ]
    }
   ],
   "source": [
    "model9 = Sequential()\n",
    "\n",
    "model9.add(Conv2D(16, (3, 3), padding='same', activation='relu', \n",
    "                              input_shape=input_shape,name=\"conv_1\"))\n",
    "model9.add(Conv2D(16, (3, 3), padding='same', activation='relu', name=\"conv_2\"))\n",
    "model9.add(MaxPooling2D(pool_size=(2, 2)))\n",
    "\n",
    "model9.add(Flatten())\n",
    "model9.add(Dense(100, activation='relu',name=\"dense_1\"))\n",
    "model9.add(Dense(num_classes, activation='softmax',name=\"dense_2\"))\n",
    "\n",
    "model9.summary()"
   ]
  },
  {
   "cell_type": "code",
   "execution_count": 109,
   "metadata": {},
   "outputs": [
    {
     "name": "stdout",
     "output_type": "stream",
     "text": [
      "Epoch 1/10\n",
      "235/235 [==============================] - 15s 64ms/step - loss: 0.6645 - accuracy: 0.8271 - val_loss: 0.1108 - val_accuracy: 0.9673\n",
      "Epoch 2/10\n",
      "235/235 [==============================] - 18s 75ms/step - loss: 0.0958 - accuracy: 0.9715 - val_loss: 0.0637 - val_accuracy: 0.9801\n",
      "Epoch 3/10\n",
      "235/235 [==============================] - 16s 67ms/step - loss: 0.0575 - accuracy: 0.9832 - val_loss: 0.0414 - val_accuracy: 0.9865\n",
      "Epoch 4/10\n",
      "235/235 [==============================] - 17s 71ms/step - loss: 0.0387 - accuracy: 0.9882 - val_loss: 0.0395 - val_accuracy: 0.9866\n",
      "Epoch 5/10\n",
      "235/235 [==============================] - 17s 73ms/step - loss: 0.0291 - accuracy: 0.9910 - val_loss: 0.0411 - val_accuracy: 0.9854\n",
      "Epoch 6/10\n",
      "235/235 [==============================] - 17s 73ms/step - loss: 0.0219 - accuracy: 0.9937 - val_loss: 0.0410 - val_accuracy: 0.9870\n",
      "Epoch 7/10\n",
      "235/235 [==============================] - 17s 71ms/step - loss: 0.0186 - accuracy: 0.9944 - val_loss: 0.0382 - val_accuracy: 0.9878\n",
      "Epoch 8/10\n",
      "235/235 [==============================] - 17s 71ms/step - loss: 0.0141 - accuracy: 0.9957 - val_loss: 0.0341 - val_accuracy: 0.9889\n",
      "Epoch 9/10\n",
      "235/235 [==============================] - 17s 74ms/step - loss: 0.0116 - accuracy: 0.9968 - val_loss: 0.0344 - val_accuracy: 0.9896\n",
      "Epoch 10/10\n",
      "235/235 [==============================] - 18s 75ms/step - loss: 0.0084 - accuracy: 0.9974 - val_loss: 0.0383 - val_accuracy: 0.9879\n"
     ]
    }
   ],
   "source": [
    "model9.compile(optimizer='adam', loss='categorical_crossentropy', metrics=['accuracy'])  \n",
    "history9=model9.fit(x_train,y_train,batch_size=256,epochs=10,\n",
    "                    validation_data=(x_test, y_test))"
   ]
  },
  {
   "cell_type": "code",
   "execution_count": 110,
   "metadata": {},
   "outputs": [
    {
     "name": "stdout",
     "output_type": "stream",
     "text": [
      "313/313 [==============================] - 1s 3ms/step - loss: 0.0383 - accuracy: 0.9879\n"
     ]
    },
    {
     "data": {
      "text/plain": [
       "[0.03827720135450363, 0.9879000186920166]"
      ]
     },
     "execution_count": 110,
     "metadata": {},
     "output_type": "execute_result"
    }
   ],
   "source": [
    "model9.evaluate(x_test, y_test)"
   ]
  },
  {
   "cell_type": "code",
   "execution_count": 111,
   "metadata": {},
   "outputs": [
    {
     "name": "stdout",
     "output_type": "stream",
     "text": [
      "1875/1875 [==============================] - 6s 3ms/step - loss: 0.0089 - accuracy: 0.9971\n"
     ]
    },
    {
     "data": {
      "text/plain": [
       "[0.008922277018427849, 0.997083306312561]"
      ]
     },
     "execution_count": 111,
     "metadata": {},
     "output_type": "execute_result"
    }
   ],
   "source": [
    "model9.evaluate(x_train, y_train)"
   ]
  },
  {
   "cell_type": "code",
   "execution_count": 119,
   "metadata": {},
   "outputs": [
    {
     "name": "stdout",
     "output_type": "stream",
     "text": [
      "Model: \"sequential_36\"\n",
      "_________________________________________________________________\n",
      "Layer (type)                 Output Shape              Param #   \n",
      "=================================================================\n",
      "conv_1 (Conv2D)              (None, 28, 28, 16)        160       \n",
      "_________________________________________________________________\n",
      "max_pooling2d_36 (MaxPooling (None, 14, 14, 16)        0         \n",
      "_________________________________________________________________\n",
      "flatten_36 (Flatten)         (None, 3136)              0         \n",
      "_________________________________________________________________\n",
      "dense_1 (Dense)              (None, 8)                 25096     \n",
      "_________________________________________________________________\n",
      "dense_2 (Dense)              (None, 10)                90        \n",
      "=================================================================\n",
      "Total params: 25,346\n",
      "Trainable params: 25,346\n",
      "Non-trainable params: 0\n",
      "_________________________________________________________________\n"
     ]
    }
   ],
   "source": [
    "model10 = Sequential()\n",
    "\n",
    "model10.add(Conv2D(16, (3, 3), padding='same', activation='relu', input_shape=input_shape,name=\"conv_1\"))\n",
    "model10.add(MaxPooling2D(pool_size=(2, 2)))\n",
    "\n",
    "model10.add(Flatten())\n",
    "model10.add(Dense(8, activation='relu',name=\"dense_1\"))\n",
    "model10.add(Dense(num_classes, activation='softmax',name=\"dense_2\"))\n",
    "\n",
    "model10.summary()"
   ]
  },
  {
   "cell_type": "code",
   "execution_count": 120,
   "metadata": {},
   "outputs": [
    {
     "name": "stdout",
     "output_type": "stream",
     "text": [
      "Epoch 1/10\n",
      "235/235 [==============================] - 5s 18ms/step - loss: 1.3600 - accuracy: 0.5358 - val_loss: 0.3581 - val_accuracy: 0.8976\n",
      "Epoch 2/10\n",
      "235/235 [==============================] - 4s 18ms/step - loss: 0.3151 - accuracy: 0.9113 - val_loss: 0.2163 - val_accuracy: 0.9378\n",
      "Epoch 3/10\n",
      "235/235 [==============================] - 5s 19ms/step - loss: 0.2102 - accuracy: 0.9405 - val_loss: 0.1626 - val_accuracy: 0.9529\n",
      "Epoch 4/10\n",
      "235/235 [==============================] - 4s 19ms/step - loss: 0.1643 - accuracy: 0.9531 - val_loss: 0.1319 - val_accuracy: 0.9626\n",
      "Epoch 5/10\n",
      "235/235 [==============================] - 5s 19ms/step - loss: 0.1410 - accuracy: 0.9592 - val_loss: 0.1239 - val_accuracy: 0.9624\n",
      "Epoch 6/10\n",
      "235/235 [==============================] - 4s 19ms/step - loss: 0.1241 - accuracy: 0.9646 - val_loss: 0.1081 - val_accuracy: 0.9689\n",
      "Epoch 7/10\n",
      "235/235 [==============================] - 5s 19ms/step - loss: 0.1086 - accuracy: 0.9686 - val_loss: 0.1012 - val_accuracy: 0.9710\n",
      "Epoch 8/10\n",
      "235/235 [==============================] - 5s 19ms/step - loss: 0.1003 - accuracy: 0.9704 - val_loss: 0.0946 - val_accuracy: 0.9728\n",
      "Epoch 9/10\n",
      "235/235 [==============================] - 4s 19ms/step - loss: 0.0924 - accuracy: 0.9727 - val_loss: 0.0932 - val_accuracy: 0.9711\n",
      "Epoch 10/10\n",
      "235/235 [==============================] - 4s 19ms/step - loss: 0.0834 - accuracy: 0.9759 - val_loss: 0.0932 - val_accuracy: 0.9711\n"
     ]
    }
   ],
   "source": [
    "model10.compile(optimizer='adam', loss='categorical_crossentropy', metrics=['accuracy'])  \n",
    "history10=model10.fit(x_train,y_train,batch_size=256,epochs=10,\n",
    "                    validation_data=(x_test, y_test))"
   ]
  },
  {
   "cell_type": "code",
   "execution_count": 121,
   "metadata": {},
   "outputs": [
    {
     "name": "stdout",
     "output_type": "stream",
     "text": [
      "313/313 [==============================] - 0s 1ms/step - loss: 0.0932 - accuracy: 0.9711\n"
     ]
    },
    {
     "data": {
      "text/plain": [
       "[0.09321969002485275, 0.9710999727249146]"
      ]
     },
     "execution_count": 121,
     "metadata": {},
     "output_type": "execute_result"
    }
   ],
   "source": [
    "model10.evaluate(x_test, y_test)"
   ]
  },
  {
   "cell_type": "code",
   "execution_count": 122,
   "metadata": {},
   "outputs": [
    {
     "name": "stdout",
     "output_type": "stream",
     "text": [
      "1875/1875 [==============================] - 3s 2ms/step - loss: 0.0835 - accuracy: 0.9752\n"
     ]
    },
    {
     "data": {
      "text/plain": [
       "[0.08350468426942825, 0.9751999974250793]"
      ]
     },
     "execution_count": 122,
     "metadata": {},
     "output_type": "execute_result"
    }
   ],
   "source": [
    "model10.evaluate(x_train, y_train)"
   ]
  },
  {
   "cell_type": "code",
   "execution_count": null,
   "metadata": {},
   "outputs": [],
   "source": []
  },
  {
   "cell_type": "code",
   "execution_count": 152,
   "metadata": {},
   "outputs": [],
   "source": [
    "train_loss=[0.008899643085896969,0.005504933651536703,0.0167115218937397,0.028124311938881874,\n",
    "            0.038573987782001495,0.08190052956342697,0.1352110505104065,0.006220964249223471,\n",
    "            0.008922277018427849,0.08350468426942825]\n",
    "test_loss=[0.039764512330293655,0.03805887699127197,0.04281231388449669,0.04678438976407051,\n",
    "           0.05427676439285278,0.08618491142988205,0.1401517391204834,0.04053809121251106,\n",
    "           0.03827720135450363,0.09321969002485275]\n",
    "number_of_parameters=[203898,405306,103194,52842,33960,31640,15905,633110,317190,25346]\n",
    "train_acc=[0.9976666569709778,0.9985166788101196,0.9951333403587341,0.9914666414260864,\n",
    "           0.9881666898727417,0.9763000011444092,0.9609166383743286,0.998116672039032,\n",
    "           0.997083306312561,0.9751999974250793]\n",
    "test_acc=[0.987500011920929,0.9872999787330627,0.9861000180244446,0.9855999946594238,\n",
    "          0.9830999970436096,0.9735000133514404,0.9588000178337097,0.9891999959945679,\n",
    "          0.9879000186920166,0.9710999727249146]"
   ]
  },
  {
   "cell_type": "code",
   "execution_count": 156,
   "metadata": {},
   "outputs": [
    {
     "data": {
      "image/png": "[encoded data removed]",
      "text/plain": [
       "<Figure size 432x288 with 1 Axes>"
      ]
     },
     "metadata": {
      "needs_background": "light"
     },
     "output_type": "display_data"
    }
   ],
   "source": [
    "plt.scatter(number_of_parameters,train_loss, label = 'train_loss')\n",
    "plt.scatter(number_of_parameters,test_loss, label = 'test_loss')\n",
    "plt.title('Model1 Loss')\n",
    "plt.ylabel('Loss')\n",
    "plt.xlabel('number of parameters')\n",
    "plt.legend()\n",
    "plt.savefig(\"generalization_loss.png\")"
   ]
  },
  {
   "cell_type": "code",
   "execution_count": 157,
   "metadata": {},
   "outputs": [
    {
     "data": {
      "image/png": "[encoded data removed]",
      "text/plain": [
       "<Figure size 432x288 with 1 Axes>"
      ]
     },
     "metadata": {
      "needs_background": "light"
     },
     "output_type": "display_data"
    }
   ],
   "source": [
    "plt.scatter(number_of_parameters,train_acc,label = 'train_acc')\n",
    "plt.scatter(number_of_parameters,test_acc,label = 'test_acc')\n",
    "plt.title('Model1 Accuracy')\n",
    "plt.ylabel('Accuracy')\n",
    "plt.xlabel('number of parameters')\n",
    "plt.legend()\n",
    "plt.savefig(\"generalization_acc.png\")"
   ]
  },
  {
   "cell_type": "code",
   "execution_count": null,
   "metadata": {},
   "outputs": [],
   "source": []
  }
 ],
 "metadata": {
  "kernelspec": {
   "display_name": "Python 3",
   "language": "python",
   "name": "python3"
  },
  "language_info": {
   "codemirror_mode": {
    "name": "ipython",
    "version": 3
   },
   "file_extension": ".py",
   "mimetype": "text/x-python",
   "name": "python",
   "nbconvert_exporter": "python",
   "pygments_lexer": "ipython3",
   "version": "3.8.5"
  }
 },
 "nbformat": 4,
 "nbformat_minor": 4
}
