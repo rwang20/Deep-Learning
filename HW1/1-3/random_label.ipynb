{
  "nbformat": 4,
  "nbformat_minor": 0,
  "metadata": {
    "kernelspec": {
      "display_name": "Python 3",
      "language": "python",
      "name": "python3"
    },
    "language_info": {
      "codemirror_mode": {
        "name": "ipython",
        "version": 3
      },
      "file_extension": ".py",
      "mimetype": "text/x-python",
      "name": "python",
      "nbconvert_exporter": "python",
      "pygments_lexer": "ipython3",
      "version": "3.8.5"
    },
    "colab": {
      "name": "random_label_V1.ipynb",
      "provenance": [],
      "collapsed_sections": []
    }
  },
  "cells": [
    {
      "cell_type": "code",
      "metadata": {
        "id": "Gc-y5nDP4Tv1"
      },
      "source": [
        "import tensorflow as tf"
      ],
      "execution_count": 1,
      "outputs": []
    },
    {
      "cell_type": "code",
      "metadata": {
        "id": "4qNLgRJu4Tv7"
      },
      "source": [
        "import numpy as np\n",
        "import matplotlib.pyplot as plt\n",
        "import keras\n",
        "from keras.models import Sequential\n",
        "from keras.layers import Dense, Conv2D, MaxPooling2D, Dropout, Flatten\n",
        "from keras import backend as K"
      ],
      "execution_count": 2,
      "outputs": []
    },
    {
      "cell_type": "code",
      "metadata": {
        "id": "K9zyx5oI4Tv7",
        "colab": {
          "base_uri": "https://localhost:8080/"
        },
        "outputId": "c52c0319-7052-476c-b23d-0c13fd5c5def"
      },
      "source": [
        "from keras.datasets import mnist\n",
        "(x_train, y_train), (x_test, y_test) = mnist.load_data()"
      ],
      "execution_count": 3,
      "outputs": [
        {
          "output_type": "stream",
          "text": [
            "Downloading data from https://storage.googleapis.com/tensorflow/tf-keras-datasets/mnist.npz\n",
            "11493376/11490434 [==============================] - 0s 0us/step\n"
          ],
          "name": "stdout"
        }
      ]
    },
    {
      "cell_type": "code",
      "metadata": {
        "id": "ANm9SPIS4Tv7"
      },
      "source": [
        "from keras.utils import to_categorical"
      ],
      "execution_count": 4,
      "outputs": []
    },
    {
      "cell_type": "code",
      "metadata": {
        "colab": {
          "base_uri": "https://localhost:8080/"
        },
        "id": "YsXVqBTh4Tv8",
        "outputId": "fd091256-050c-48dc-eed6-47ce7940ed7a"
      },
      "source": [
        "print('Training data shape : ', x_train.shape, y_train.shape)\n",
        "\n",
        "print('Testing data shape : ', x_test.shape, y_test.shape)\n",
        "\n",
        "# Find the unique numbers from the train labels\n",
        "classes = np.unique(y_train)\n",
        "num_classes = len(classes)\n",
        "print('Total number of outputs : ', num_classes)\n",
        "print('Output classes : ', num_classes)"
      ],
      "execution_count": 5,
      "outputs": [
        {
          "output_type": "stream",
          "text": [
            "Training data shape :  (60000, 28, 28) (60000,)\n",
            "Testing data shape :  (10000, 28, 28) (10000,)\n",
            "Total number of outputs :  10\n",
            "Output classes :  10\n"
          ],
          "name": "stdout"
        }
      ]
    },
    {
      "cell_type": "code",
      "metadata": {
        "colab": {
          "base_uri": "https://localhost:8080/",
          "height": 265
        },
        "id": "3JogGkR54Tv9",
        "outputId": "e137f742-84fb-4c45-ab19-2e664b83c239"
      },
      "source": [
        "plt.figure()\n",
        "plt.imshow(x_train[0])\n",
        "plt.colorbar()\n",
        "plt.grid(False)\n",
        "plt.show()"
      ],
      "execution_count": 6,
      "outputs": [
        {
          "output_type": "display_data",
          "data": {
            "image/png": "[encoded data removed]",
            "text/plain": [
              "<Figure size 432x288 with 2 Axes>"
            ]
          },
          "metadata": {
            "tags": [],
            "needs_background": "light"
          }
        }
      ]
    },
    {
      "cell_type": "code",
      "metadata": {
        "id": "05S5b3fU4Tv9"
      },
      "source": [
        "img_rows, img_cols = 28, 28\n",
        "\n",
        "if K.image_data_format() == 'channels_first':\n",
        "    x_train = x_train.reshape(x_train.shape[0], 1, img_rows, img_cols)\n",
        "    x_test = x_test.reshape(x_test.shape[0], 1, img_rows, img_cols)\n",
        "    input_shape = (1, img_rows, img_cols)\n",
        "else:\n",
        "    x_train = x_train.reshape(x_train.shape[0], img_rows, img_cols, 1)\n",
        "    x_test = x_test.reshape(x_test.shape[0], img_rows, img_cols, 1)\n",
        "    input_shape = (img_rows, img_cols, 1)"
      ],
      "execution_count": 7,
      "outputs": []
    },
    {
      "cell_type": "code",
      "metadata": {
        "colab": {
          "base_uri": "https://localhost:8080/"
        },
        "id": "UP-S5y7D4Tv9",
        "outputId": "611c91d2-5e31-46c3-9aef-935dbdf0abe1"
      },
      "source": [
        "x_train = x_train.astype('float32')\n",
        "x_test = x_test.astype('float32')\n",
        "x_train /= 255\n",
        "x_test /= 255\n",
        "print('x_train shape:', x_train.shape)\n",
        "print(x_train.shape[0], 'train samples')\n",
        "print(x_test.shape[0], 'test samples')\n",
        "\n",
        "y_train = keras.utils.to_categorical(y_train, num_classes)\n",
        "y_test = keras.utils.to_categorical(y_test, num_classes)"
      ],
      "execution_count": 8,
      "outputs": [
        {
          "output_type": "stream",
          "text": [
            "x_train shape: (60000, 28, 28, 1)\n",
            "60000 train samples\n",
            "10000 test samples\n"
          ],
          "name": "stdout"
        }
      ]
    },
    {
      "cell_type": "code",
      "metadata": {
        "colab": {
          "base_uri": "https://localhost:8080/"
        },
        "id": "d7awZJ9E4Tv-",
        "outputId": "08ff84e8-cb76-429e-e1c7-3eb7823dbe6c"
      },
      "source": [
        "def create_model():\n",
        "    model = Sequential()\n",
        "\n",
        "    model.add(Conv2D(32, (3, 3), padding='same', activation='relu', input_shape=input_shape,name=\"conv_1\"))\n",
        "    model.add(MaxPooling2D(pool_size=(2, 2)))\n",
        "\n",
        "    model.add(Flatten())\n",
        "    model.add(Dense(256, activation='relu',name=\"dense_1\"))\n",
        "    model.add(Dense(num_classes, activation='softmax',name=\"dense_2\"))\n",
        "    \n",
        "    return model\n",
        "\n",
        "model1=create_model()\n",
        "\n",
        "model1.summary()"
      ],
      "execution_count": 9,
      "outputs": [
        {
          "output_type": "stream",
          "text": [
            "Model: \"sequential\"\n",
            "_________________________________________________________________\n",
            "Layer (type)                 Output Shape              Param #   \n",
            "=================================================================\n",
            "conv_1 (Conv2D)              (None, 28, 28, 32)        320       \n",
            "_________________________________________________________________\n",
            "max_pooling2d (MaxPooling2D) (None, 14, 14, 32)        0         \n",
            "_________________________________________________________________\n",
            "flatten (Flatten)            (None, 6272)              0         \n",
            "_________________________________________________________________\n",
            "dense_1 (Dense)              (None, 256)               1605888   \n",
            "_________________________________________________________________\n",
            "dense_2 (Dense)              (None, 10)                2570      \n",
            "=================================================================\n",
            "Total params: 1,608,778\n",
            "Trainable params: 1,608,778\n",
            "Non-trainable params: 0\n",
            "_________________________________________________________________\n"
          ],
          "name": "stdout"
        }
      ]
    },
    {
      "cell_type": "code",
      "metadata": {
        "id": "DYmKQ8sP4Tv-"
      },
      "source": [
        "adam = keras.optimizers.Adam(lr=0.001)\n",
        "model1.compile(optimizer='adam', loss='categorical_crossentropy', metrics=['accuracy'])  "
      ],
      "execution_count": 10,
      "outputs": []
    },
    {
      "cell_type": "code",
      "metadata": {
        "colab": {
          "base_uri": "https://localhost:8080/"
        },
        "id": "28RaVfML4Tv-",
        "outputId": "4f2334e5-76f4-405d-8ce2-ec8b1eadb173"
      },
      "source": [
        "history1=model1.fit(x_train,y_train,batch_size=256,epochs=100,shuffle=True,\n",
        "                    validation_data=(x_test, y_test))"
      ],
      "execution_count": 11,
      "outputs": [
        {
          "output_type": "stream",
          "text": [
            "Epoch 1/100\n",
            "235/235 [==============================] - 36s 151ms/step - loss: 0.5110 - accuracy: 0.8611 - val_loss: 0.0965 - val_accuracy: 0.9710\n",
            "Epoch 2/100\n",
            "235/235 [==============================] - 35s 147ms/step - loss: 0.0824 - accuracy: 0.9764 - val_loss: 0.0567 - val_accuracy: 0.9816\n",
            "Epoch 3/100\n",
            "235/235 [==============================] - 36s 152ms/step - loss: 0.0509 - accuracy: 0.9862 - val_loss: 0.0688 - val_accuracy: 0.9765\n",
            "Epoch 4/100\n",
            "235/235 [==============================] - 35s 147ms/step - loss: 0.0401 - accuracy: 0.9881 - val_loss: 0.0447 - val_accuracy: 0.9844\n",
            "Epoch 5/100\n",
            "235/235 [==============================] - 35s 149ms/step - loss: 0.0281 - accuracy: 0.9921 - val_loss: 0.0536 - val_accuracy: 0.9835\n",
            "Epoch 6/100\n",
            "235/235 [==============================] - 34s 145ms/step - loss: 0.0201 - accuracy: 0.9936 - val_loss: 0.0431 - val_accuracy: 0.9864\n",
            "Epoch 7/100\n",
            "235/235 [==============================] - 35s 150ms/step - loss: 0.0163 - accuracy: 0.9960 - val_loss: 0.0494 - val_accuracy: 0.9830\n",
            "Epoch 8/100\n",
            "235/235 [==============================] - 35s 148ms/step - loss: 0.0137 - accuracy: 0.9960 - val_loss: 0.0461 - val_accuracy: 0.9848\n",
            "Epoch 9/100\n",
            "235/235 [==============================] - 34s 146ms/step - loss: 0.0111 - accuracy: 0.9969 - val_loss: 0.0414 - val_accuracy: 0.9880\n",
            "Epoch 10/100\n",
            "235/235 [==============================] - 34s 147ms/step - loss: 0.0069 - accuracy: 0.9986 - val_loss: 0.0448 - val_accuracy: 0.9874\n",
            "Epoch 11/100\n",
            "235/235 [==============================] - 34s 144ms/step - loss: 0.0049 - accuracy: 0.9992 - val_loss: 0.0458 - val_accuracy: 0.9873\n",
            "Epoch 12/100\n",
            "235/235 [==============================] - 35s 149ms/step - loss: 0.0034 - accuracy: 0.9993 - val_loss: 0.0453 - val_accuracy: 0.9870\n",
            "Epoch 13/100\n",
            "235/235 [==============================] - 35s 149ms/step - loss: 0.0035 - accuracy: 0.9993 - val_loss: 0.0459 - val_accuracy: 0.9869\n",
            "Epoch 14/100\n",
            "235/235 [==============================] - 35s 151ms/step - loss: 0.0033 - accuracy: 0.9992 - val_loss: 0.0508 - val_accuracy: 0.9864\n",
            "Epoch 15/100\n",
            "235/235 [==============================] - 35s 151ms/step - loss: 0.0028 - accuracy: 0.9994 - val_loss: 0.0490 - val_accuracy: 0.9863\n",
            "Epoch 16/100\n",
            "235/235 [==============================] - 40s 168ms/step - loss: 0.0023 - accuracy: 0.9995 - val_loss: 0.0483 - val_accuracy: 0.9871\n",
            "Epoch 17/100\n",
            "235/235 [==============================] - 34s 147ms/step - loss: 0.0012 - accuracy: 0.9998 - val_loss: 0.0484 - val_accuracy: 0.9883\n",
            "Epoch 18/100\n",
            "235/235 [==============================] - 36s 151ms/step - loss: 6.0398e-04 - accuracy: 1.0000 - val_loss: 0.0489 - val_accuracy: 0.9881\n",
            "Epoch 19/100\n",
            "235/235 [==============================] - 35s 150ms/step - loss: 2.5582e-04 - accuracy: 1.0000 - val_loss: 0.0489 - val_accuracy: 0.9884\n",
            "Epoch 20/100\n",
            "235/235 [==============================] - 36s 152ms/step - loss: 1.8961e-04 - accuracy: 1.0000 - val_loss: 0.0501 - val_accuracy: 0.9883\n",
            "Epoch 21/100\n",
            "235/235 [==============================] - 35s 150ms/step - loss: 1.6004e-04 - accuracy: 1.0000 - val_loss: 0.0512 - val_accuracy: 0.9880\n",
            "Epoch 22/100\n",
            "235/235 [==============================] - 35s 150ms/step - loss: 1.3459e-04 - accuracy: 1.0000 - val_loss: 0.0510 - val_accuracy: 0.9885\n",
            "Epoch 23/100\n",
            "235/235 [==============================] - 36s 154ms/step - loss: 1.1545e-04 - accuracy: 1.0000 - val_loss: 0.0524 - val_accuracy: 0.9880\n",
            "Epoch 24/100\n",
            "235/235 [==============================] - 35s 147ms/step - loss: 1.0975e-04 - accuracy: 1.0000 - val_loss: 0.0534 - val_accuracy: 0.9884\n",
            "Epoch 25/100\n",
            "235/235 [==============================] - 36s 152ms/step - loss: 8.9956e-05 - accuracy: 1.0000 - val_loss: 0.0543 - val_accuracy: 0.9876\n",
            "Epoch 26/100\n",
            "235/235 [==============================] - 35s 150ms/step - loss: 8.1193e-05 - accuracy: 1.0000 - val_loss: 0.0547 - val_accuracy: 0.9883\n",
            "Epoch 27/100\n",
            "235/235 [==============================] - 34s 146ms/step - loss: 7.0187e-05 - accuracy: 1.0000 - val_loss: 0.0563 - val_accuracy: 0.9879\n",
            "Epoch 28/100\n",
            "235/235 [==============================] - 34s 146ms/step - loss: 6.1433e-05 - accuracy: 1.0000 - val_loss: 0.0559 - val_accuracy: 0.9882\n",
            "Epoch 29/100\n",
            "235/235 [==============================] - 36s 153ms/step - loss: 4.9828e-05 - accuracy: 1.0000 - val_loss: 0.0590 - val_accuracy: 0.9877\n",
            "Epoch 30/100\n",
            "235/235 [==============================] - 34s 146ms/step - loss: 5.6308e-05 - accuracy: 1.0000 - val_loss: 0.0574 - val_accuracy: 0.9883\n",
            "Epoch 31/100\n",
            "235/235 [==============================] - 34s 146ms/step - loss: 4.3130e-05 - accuracy: 1.0000 - val_loss: 0.0582 - val_accuracy: 0.9881\n",
            "Epoch 32/100\n",
            "235/235 [==============================] - 35s 148ms/step - loss: 3.5949e-05 - accuracy: 1.0000 - val_loss: 0.0597 - val_accuracy: 0.9879\n",
            "Epoch 33/100\n",
            "235/235 [==============================] - 35s 148ms/step - loss: 3.0947e-05 - accuracy: 1.0000 - val_loss: 0.0611 - val_accuracy: 0.9882\n",
            "Epoch 34/100\n",
            "235/235 [==============================] - 35s 150ms/step - loss: 2.9557e-05 - accuracy: 1.0000 - val_loss: 0.0611 - val_accuracy: 0.9875\n",
            "Epoch 35/100\n",
            "235/235 [==============================] - 36s 152ms/step - loss: 2.3134e-05 - accuracy: 1.0000 - val_loss: 0.0618 - val_accuracy: 0.9880\n",
            "Epoch 36/100\n",
            "235/235 [==============================] - 35s 149ms/step - loss: 2.0623e-05 - accuracy: 1.0000 - val_loss: 0.0632 - val_accuracy: 0.9875\n",
            "Epoch 37/100\n",
            "235/235 [==============================] - 35s 149ms/step - loss: 1.8963e-05 - accuracy: 1.0000 - val_loss: 0.0630 - val_accuracy: 0.9878\n",
            "Epoch 38/100\n",
            "235/235 [==============================] - 35s 151ms/step - loss: 1.6368e-05 - accuracy: 1.0000 - val_loss: 0.0641 - val_accuracy: 0.9880\n",
            "Epoch 39/100\n",
            "235/235 [==============================] - 36s 154ms/step - loss: 1.4499e-05 - accuracy: 1.0000 - val_loss: 0.0640 - val_accuracy: 0.9881\n",
            "Epoch 40/100\n",
            "235/235 [==============================] - 36s 154ms/step - loss: 1.2339e-05 - accuracy: 1.0000 - val_loss: 0.0654 - val_accuracy: 0.9881\n",
            "Epoch 41/100\n",
            "235/235 [==============================] - 36s 153ms/step - loss: 1.0714e-05 - accuracy: 1.0000 - val_loss: 0.0671 - val_accuracy: 0.9884\n",
            "Epoch 42/100\n",
            "235/235 [==============================] - 35s 149ms/step - loss: 9.5082e-06 - accuracy: 1.0000 - val_loss: 0.0672 - val_accuracy: 0.9878\n",
            "Epoch 43/100\n",
            "235/235 [==============================] - 36s 152ms/step - loss: 7.7967e-06 - accuracy: 1.0000 - val_loss: 0.0678 - val_accuracy: 0.9884\n",
            "Epoch 44/100\n",
            "235/235 [==============================] - 35s 150ms/step - loss: 7.1487e-06 - accuracy: 1.0000 - val_loss: 0.0681 - val_accuracy: 0.9880\n",
            "Epoch 45/100\n",
            "235/235 [==============================] - 36s 152ms/step - loss: 6.0980e-06 - accuracy: 1.0000 - val_loss: 0.0697 - val_accuracy: 0.9874\n",
            "Epoch 46/100\n",
            "235/235 [==============================] - 35s 150ms/step - loss: 5.4144e-06 - accuracy: 1.0000 - val_loss: 0.0692 - val_accuracy: 0.9882\n",
            "Epoch 47/100\n",
            "235/235 [==============================] - 35s 151ms/step - loss: 4.7701e-06 - accuracy: 1.0000 - val_loss: 0.0716 - val_accuracy: 0.9877\n",
            "Epoch 48/100\n",
            "235/235 [==============================] - 34s 147ms/step - loss: 4.3220e-06 - accuracy: 1.0000 - val_loss: 0.0716 - val_accuracy: 0.9877\n",
            "Epoch 49/100\n",
            "235/235 [==============================] - 34s 147ms/step - loss: 3.7648e-06 - accuracy: 1.0000 - val_loss: 0.0726 - val_accuracy: 0.9882\n",
            "Epoch 50/100\n",
            "235/235 [==============================] - 36s 152ms/step - loss: 3.4384e-06 - accuracy: 1.0000 - val_loss: 0.0726 - val_accuracy: 0.9883\n",
            "Epoch 51/100\n",
            "235/235 [==============================] - 35s 147ms/step - loss: 2.7529e-06 - accuracy: 1.0000 - val_loss: 0.0731 - val_accuracy: 0.9880\n",
            "Epoch 52/100\n",
            "235/235 [==============================] - 36s 155ms/step - loss: 2.4784e-06 - accuracy: 1.0000 - val_loss: 0.0732 - val_accuracy: 0.9883\n",
            "Epoch 53/100\n",
            "235/235 [==============================] - 35s 149ms/step - loss: 2.3541e-06 - accuracy: 1.0000 - val_loss: 0.0748 - val_accuracy: 0.9880\n",
            "Epoch 54/100\n",
            "235/235 [==============================] - 36s 152ms/step - loss: 1.9148e-06 - accuracy: 1.0000 - val_loss: 0.0762 - val_accuracy: 0.9880\n",
            "Epoch 55/100\n",
            "235/235 [==============================] - 36s 154ms/step - loss: 1.6263e-06 - accuracy: 1.0000 - val_loss: 0.0763 - val_accuracy: 0.9881\n",
            "Epoch 56/100\n",
            "235/235 [==============================] - 36s 152ms/step - loss: 1.4405e-06 - accuracy: 1.0000 - val_loss: 0.0783 - val_accuracy: 0.9881\n",
            "Epoch 57/100\n",
            "235/235 [==============================] - 36s 152ms/step - loss: 1.3336e-06 - accuracy: 1.0000 - val_loss: 0.0783 - val_accuracy: 0.9879\n",
            "Epoch 58/100\n",
            "235/235 [==============================] - 35s 147ms/step - loss: 1.0934e-06 - accuracy: 1.0000 - val_loss: 0.0788 - val_accuracy: 0.9878\n",
            "Epoch 59/100\n",
            "235/235 [==============================] - 36s 151ms/step - loss: 9.8515e-07 - accuracy: 1.0000 - val_loss: 0.0795 - val_accuracy: 0.9879\n",
            "Epoch 60/100\n",
            "235/235 [==============================] - 36s 153ms/step - loss: 8.5292e-07 - accuracy: 1.0000 - val_loss: 0.0805 - val_accuracy: 0.9879\n",
            "Epoch 61/100\n",
            "235/235 [==============================] - 37s 156ms/step - loss: 7.6074e-07 - accuracy: 1.0000 - val_loss: 0.0808 - val_accuracy: 0.9878\n",
            "Epoch 62/100\n",
            "235/235 [==============================] - 35s 149ms/step - loss: 6.7984e-07 - accuracy: 1.0000 - val_loss: 0.0816 - val_accuracy: 0.9880\n",
            "Epoch 63/100\n",
            "235/235 [==============================] - 35s 150ms/step - loss: 5.7269e-07 - accuracy: 1.0000 - val_loss: 0.0827 - val_accuracy: 0.9877\n",
            "Epoch 64/100\n",
            "235/235 [==============================] - 35s 151ms/step - loss: 5.1149e-07 - accuracy: 1.0000 - val_loss: 0.0839 - val_accuracy: 0.9883\n",
            "Epoch 65/100\n",
            "235/235 [==============================] - 35s 150ms/step - loss: 4.3835e-07 - accuracy: 1.0000 - val_loss: 0.0837 - val_accuracy: 0.9878\n",
            "Epoch 66/100\n",
            "235/235 [==============================] - 36s 154ms/step - loss: 4.1587e-07 - accuracy: 1.0000 - val_loss: 0.0841 - val_accuracy: 0.9879\n",
            "Epoch 67/100\n",
            "235/235 [==============================] - 36s 152ms/step - loss: 3.6339e-07 - accuracy: 1.0000 - val_loss: 0.0859 - val_accuracy: 0.9875\n",
            "Epoch 68/100\n",
            "235/235 [==============================] - 35s 150ms/step - loss: 3.2569e-07 - accuracy: 1.0000 - val_loss: 0.0859 - val_accuracy: 0.9879\n",
            "Epoch 69/100\n",
            "235/235 [==============================] - 35s 148ms/step - loss: 2.8760e-07 - accuracy: 1.0000 - val_loss: 0.0870 - val_accuracy: 0.9878\n",
            "Epoch 70/100\n",
            "235/235 [==============================] - 35s 150ms/step - loss: 2.3850e-07 - accuracy: 1.0000 - val_loss: 0.0871 - val_accuracy: 0.9881\n",
            "Epoch 71/100\n",
            "235/235 [==============================] - 34s 146ms/step - loss: 2.1466e-07 - accuracy: 1.0000 - val_loss: 0.0880 - val_accuracy: 0.9881\n",
            "Epoch 72/100\n",
            "235/235 [==============================] - 35s 151ms/step - loss: 1.9472e-07 - accuracy: 1.0000 - val_loss: 0.0896 - val_accuracy: 0.9878\n",
            "Epoch 73/100\n",
            "235/235 [==============================] - 36s 152ms/step - loss: 1.6388e-07 - accuracy: 1.0000 - val_loss: 0.0903 - val_accuracy: 0.9876\n",
            "Epoch 74/100\n",
            "235/235 [==============================] - 36s 152ms/step - loss: 1.6457e-07 - accuracy: 1.0000 - val_loss: 0.0906 - val_accuracy: 0.9879\n",
            "Epoch 75/100\n",
            "235/235 [==============================] - 36s 154ms/step - loss: 1.3620e-07 - accuracy: 1.0000 - val_loss: 0.0911 - val_accuracy: 0.9879\n",
            "Epoch 76/100\n",
            "235/235 [==============================] - 35s 151ms/step - loss: 1.1930e-07 - accuracy: 1.0000 - val_loss: 0.0920 - val_accuracy: 0.9881\n",
            "Epoch 77/100\n",
            "235/235 [==============================] - 36s 152ms/step - loss: 1.0152e-07 - accuracy: 1.0000 - val_loss: 0.0916 - val_accuracy: 0.9880\n",
            "Epoch 78/100\n",
            "235/235 [==============================] - 36s 152ms/step - loss: 9.8350e-08 - accuracy: 1.0000 - val_loss: 0.0931 - val_accuracy: 0.9877\n",
            "Epoch 79/100\n",
            "235/235 [==============================] - 36s 152ms/step - loss: 8.6969e-08 - accuracy: 1.0000 - val_loss: 0.0936 - val_accuracy: 0.9877\n",
            "Epoch 80/100\n",
            "235/235 [==============================] - 35s 151ms/step - loss: 7.6053e-08 - accuracy: 1.0000 - val_loss: 0.0946 - val_accuracy: 0.9877\n",
            "Epoch 81/100\n",
            "235/235 [==============================] - 35s 151ms/step - loss: 7.0423e-08 - accuracy: 1.0000 - val_loss: 0.0956 - val_accuracy: 0.9880\n",
            "Epoch 82/100\n",
            "235/235 [==============================] - 36s 153ms/step - loss: 6.0886e-08 - accuracy: 1.0000 - val_loss: 0.0959 - val_accuracy: 0.9882\n",
            "Epoch 83/100\n",
            "235/235 [==============================] - 35s 151ms/step - loss: 5.3733e-08 - accuracy: 1.0000 - val_loss: 0.0967 - val_accuracy: 0.9878\n",
            "Epoch 84/100\n",
            "235/235 [==============================] - 36s 153ms/step - loss: 5.1215e-08 - accuracy: 1.0000 - val_loss: 0.0973 - val_accuracy: 0.9877\n",
            "Epoch 85/100\n",
            "235/235 [==============================] - 34s 145ms/step - loss: 4.2488e-08 - accuracy: 1.0000 - val_loss: 0.0981 - val_accuracy: 0.9879\n",
            "Epoch 86/100\n",
            "235/235 [==============================] - 35s 151ms/step - loss: 3.8926e-08 - accuracy: 1.0000 - val_loss: 0.0987 - val_accuracy: 0.9880\n",
            "Epoch 87/100\n",
            "235/235 [==============================] - 35s 149ms/step - loss: 3.4871e-08 - accuracy: 1.0000 - val_loss: 0.0993 - val_accuracy: 0.9881\n",
            "Epoch 88/100\n",
            "235/235 [==============================] - 36s 152ms/step - loss: 3.1634e-08 - accuracy: 1.0000 - val_loss: 0.1003 - val_accuracy: 0.9880\n",
            "Epoch 89/100\n",
            "235/235 [==============================] - 35s 149ms/step - loss: 2.7971e-08 - accuracy: 1.0000 - val_loss: 0.1007 - val_accuracy: 0.9878\n",
            "Epoch 90/100\n",
            "235/235 [==============================] - 36s 153ms/step - loss: 2.4581e-08 - accuracy: 1.0000 - val_loss: 0.1018 - val_accuracy: 0.9882\n",
            "Epoch 91/100\n",
            "235/235 [==============================] - 35s 149ms/step - loss: 2.2925e-08 - accuracy: 1.0000 - val_loss: 0.1020 - val_accuracy: 0.9878\n",
            "Epoch 92/100\n",
            "235/235 [==============================] - 37s 158ms/step - loss: 2.0594e-08 - accuracy: 1.0000 - val_loss: 0.1026 - val_accuracy: 0.9879\n",
            "Epoch 93/100\n",
            "235/235 [==============================] - 36s 153ms/step - loss: 1.8243e-08 - accuracy: 1.0000 - val_loss: 0.1035 - val_accuracy: 0.9882\n",
            "Epoch 94/100\n",
            "235/235 [==============================] - 36s 153ms/step - loss: 1.7032e-08 - accuracy: 1.0000 - val_loss: 0.1039 - val_accuracy: 0.9877\n",
            "Epoch 95/100\n",
            "235/235 [==============================] - 35s 150ms/step - loss: 1.6080e-08 - accuracy: 1.0000 - val_loss: 0.1047 - val_accuracy: 0.9877\n",
            "Epoch 96/100\n",
            "235/235 [==============================] - 36s 153ms/step - loss: 1.3999e-08 - accuracy: 1.0000 - val_loss: 0.1052 - val_accuracy: 0.9875\n",
            "Epoch 97/100\n",
            "235/235 [==============================] - 36s 153ms/step - loss: 1.3190e-08 - accuracy: 1.0000 - val_loss: 0.1063 - val_accuracy: 0.9881\n",
            "Epoch 98/100\n",
            "235/235 [==============================] - 37s 157ms/step - loss: 1.2181e-08 - accuracy: 1.0000 - val_loss: 0.1066 - val_accuracy: 0.9881\n",
            "Epoch 99/100\n",
            "235/235 [==============================] - 36s 154ms/step - loss: 1.0670e-08 - accuracy: 1.0000 - val_loss: 0.1071 - val_accuracy: 0.9878\n",
            "Epoch 100/100\n",
            "235/235 [==============================] - 35s 150ms/step - loss: 9.2909e-09 - accuracy: 1.0000 - val_loss: 0.1074 - val_accuracy: 0.9878\n"
          ],
          "name": "stdout"
        }
      ]
    },
    {
      "cell_type": "code",
      "metadata": {
        "colab": {
          "base_uri": "https://localhost:8080/",
          "height": 411
        },
        "id": "zQFeFtcX4Tv_",
        "outputId": "9a6846c5-a1eb-4ec3-f25f-9ee6e6c2f64e"
      },
      "source": [
        "plt.figure(figsize=[8,6])\n",
        "plt.plot(history1.history['loss'],'r',linewidth=3.0)\n",
        "plt.plot(history1.history['val_loss'],'b',linewidth=3.0)\n",
        "plt.legend(['Training loss', 'Test Loss'],fontsize=18)\n",
        "plt.xlabel('Epochs ',fontsize=16)\n",
        "plt.ylabel('Loss',fontsize=16)\n",
        "plt.title('Loss Curves',fontsize=16)\n",
        "plt.savefig(\"random_label_loss.png\")"
      ],
      "execution_count": 12,
      "outputs": [
        {
          "output_type": "display_data",
          "data": {
            "image/png": "[encoded data removed]",
            "text/plain": [
              "<Figure size 576x432 with 1 Axes>"
            ]
          },
          "metadata": {
            "tags": [],
            "needs_background": "light"
          }
        }
      ]
    },
    {
      "cell_type": "code",
      "metadata": {
        "id": "2RHfYJsq4Tv_"
      },
      "source": [
        ""
      ],
      "execution_count": null,
      "outputs": []
    }
  ]
}