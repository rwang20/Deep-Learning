{
 "cells": [
  {
   "cell_type": "code",
   "execution_count": 1,
   "metadata": {},
   "outputs": [],
   "source": [
    "import tensorflow as tf"
   ]
  },
  {
   "cell_type": "code",
   "execution_count": 2,
   "metadata": {},
   "outputs": [],
   "source": [
    "import numpy as np\n",
    "import matplotlib.pyplot as plt\n",
    "from __future__ import print_function\n",
    "import keras\n",
    "from keras.models import Sequential\n",
    "from keras.layers import Dense, Conv2D, MaxPooling2D, Dropout, Flatten\n",
    "from keras import backend as K"
   ]
  },
  {
   "cell_type": "code",
   "execution_count": 3,
   "metadata": {},
   "outputs": [],
   "source": [
    "from keras.datasets import mnist\n",
    "(x_train, y_train), (x_test, y_test) = mnist.load_data()"
   ]
  },
  {
   "cell_type": "code",
   "execution_count": 4,
   "metadata": {},
   "outputs": [],
   "source": [
    "from keras.utils import to_categorical"
   ]
  },
  {
   "cell_type": "code",
   "execution_count": 5,
   "metadata": {},
   "outputs": [
    {
     "name": "stdout",
     "output_type": "stream",
     "text": [
      "Training data shape :  (60000, 28, 28) (60000,)\n",
      "Testing data shape :  (10000, 28, 28) (10000,)\n",
      "Total number of outputs :  10\n",
      "Output classes :  10\n"
     ]
    }
   ],
   "source": [
    "print('Training data shape : ', x_train.shape, y_train.shape)\n",
    "\n",
    "print('Testing data shape : ', x_test.shape, y_test.shape)\n",
    "\n",
    "# Find the unique numbers from the train labels\n",
    "classes = np.unique(y_train)\n",
    "num_classes = len(classes)\n",
    "print('Total number of outputs : ', num_classes)\n",
    "print('Output classes : ', num_classes)"
   ]
  },
  {
   "cell_type": "code",
   "execution_count": 6,
   "metadata": {},
   "outputs": [
    {
     "data": {
      "image/png": "[encoded data removed]",
      "text/plain": [
       "<Figure size 432x288 with 2 Axes>"
      ]
     },
     "metadata": {
      "needs_background": "light"
     },
     "output_type": "display_data"
    }
   ],
   "source": [
    "plt.figure()\n",
    "plt.imshow(x_train[0])\n",
    "plt.colorbar()\n",
    "plt.grid(False)\n",
    "plt.show()"
   ]
  },
  {
   "cell_type": "code",
   "execution_count": 7,
   "metadata": {},
   "outputs": [],
   "source": [
    "img_rows, img_cols = 28, 28\n",
    "\n",
    "if K.image_data_format() == 'channels_first':\n",
    "    x_train = x_train.reshape(x_train.shape[0], 1, img_rows, img_cols)\n",
    "    x_test = x_test.reshape(x_test.shape[0], 1, img_rows, img_cols)\n",
    "    input_shape = (1, img_rows, img_cols)\n",
    "else:\n",
    "    x_train = x_train.reshape(x_train.shape[0], img_rows, img_cols, 1)\n",
    "    x_test = x_test.reshape(x_test.shape[0], img_rows, img_cols, 1)\n",
    "    input_shape = (img_rows, img_cols, 1)"
   ]
  },
  {
   "cell_type": "code",
   "execution_count": 8,
   "metadata": {},
   "outputs": [
    {
     "name": "stdout",
     "output_type": "stream",
     "text": [
      "x_train shape: (60000, 28, 28, 1)\n",
      "60000 train samples\n",
      "10000 test samples\n"
     ]
    }
   ],
   "source": [
    "x_train = x_train.astype('float32')\n",
    "x_test = x_test.astype('float32')\n",
    "x_train /= 255\n",
    "x_test /= 255\n",
    "print('x_train shape:', x_train.shape)\n",
    "print(x_train.shape[0], 'train samples')\n",
    "print(x_test.shape[0], 'test samples')\n",
    "\n",
    "y_train = keras.utils.to_categorical(y_train, num_classes)\n",
    "y_test = keras.utils.to_categorical(y_test, num_classes)"
   ]
  },
  {
   "cell_type": "code",
   "execution_count": 97,
   "metadata": {},
   "outputs": [
    {
     "name": "stdout",
     "output_type": "stream",
     "text": [
      "Model: \"sequential_17\"\n",
      "_________________________________________________________________\n",
      "Layer (type)                 Output Shape              Param #   \n",
      "=================================================================\n",
      "conv_1 (Conv2D)              (None, 28, 28, 16)        160       \n",
      "_________________________________________________________________\n",
      "max_pooling2d_17 (MaxPooling (None, 14, 14, 16)        0         \n",
      "_________________________________________________________________\n",
      "flatten_17 (Flatten)         (None, 3136)              0         \n",
      "_________________________________________________________________\n",
      "dense_1 (Dense)              (None, 32)                100384    \n",
      "_________________________________________________________________\n",
      "dense_2 (Dense)              (None, 10)                330       \n",
      "=================================================================\n",
      "Total params: 100,874\n",
      "Trainable params: 100,874\n",
      "Non-trainable params: 0\n",
      "_________________________________________________________________\n"
     ]
    }
   ],
   "source": [
    "def create_model():\n",
    "    model = Sequential()\n",
    "\n",
    "    model.add(Conv2D(16, (3, 3), padding='same', activation='relu', input_shape=input_shape,name=\"conv_1\"))\n",
    "    model.add(MaxPooling2D(pool_size=(2, 2)))\n",
    "\n",
    "    model.add(Flatten())\n",
    "    model.add(Dense(32, activation='relu',name=\"dense_1\"))\n",
    "    model.add(Dense(num_classes, activation='softmax',name=\"dense_2\"))\n",
    "    \n",
    "    return model\n",
    "\n",
    "model1=create_model()\n",
    "\n",
    "model1.summary()"
   ]
  },
  {
   "cell_type": "code",
   "execution_count": 98,
   "metadata": {},
   "outputs": [],
   "source": [
    "batch_size_1= 64\n",
    "epochs = 20\n",
    "\n",
    "adam = keras.optimizers.Adam(lr=0.001)\n",
    "model1.compile(optimizer='adam', loss='categorical_crossentropy', metrics=['accuracy'])  "
   ]
  },
  {
   "cell_type": "code",
   "execution_count": 99,
   "metadata": {},
   "outputs": [
    {
     "name": "stdout",
     "output_type": "stream",
     "text": [
      "Epoch 1/20\n",
      "938/938 [==============================] - 6s 6ms/step - loss: 0.5309 - accuracy: 0.8436 - val_loss: 0.1418 - val_accuracy: 0.9580\n",
      "Epoch 2/20\n",
      "938/938 [==============================] - 5s 5ms/step - loss: 0.1182 - accuracy: 0.9661 - val_loss: 0.0929 - val_accuracy: 0.9731\n",
      "Epoch 3/20\n",
      "938/938 [==============================] - 6s 6ms/step - loss: 0.0745 - accuracy: 0.9782 - val_loss: 0.0706 - val_accuracy: 0.9780\n",
      "Epoch 4/20\n",
      "938/938 [==============================] - 6s 6ms/step - loss: 0.0583 - accuracy: 0.9825 - val_loss: 0.0653 - val_accuracy: 0.9796\n",
      "Epoch 5/20\n",
      "938/938 [==============================] - 7s 7ms/step - loss: 0.0462 - accuracy: 0.9863 - val_loss: 0.0628 - val_accuracy: 0.9801\n",
      "Epoch 6/20\n",
      "938/938 [==============================] - 6s 7ms/step - loss: 0.0375 - accuracy: 0.9880 - val_loss: 0.0529 - val_accuracy: 0.9834\n",
      "Epoch 7/20\n",
      "938/938 [==============================] - 6s 6ms/step - loss: 0.0333 - accuracy: 0.9900 - val_loss: 0.0590 - val_accuracy: 0.9794\n",
      "Epoch 8/20\n",
      "938/938 [==============================] - 6s 6ms/step - loss: 0.0277 - accuracy: 0.9913 - val_loss: 0.0573 - val_accuracy: 0.9825\n",
      "Epoch 9/20\n",
      "938/938 [==============================] - 7s 7ms/step - loss: 0.0242 - accuracy: 0.9923 - val_loss: 0.0574 - val_accuracy: 0.9824\n",
      "Epoch 10/20\n",
      "938/938 [==============================] - 7s 7ms/step - loss: 0.0196 - accuracy: 0.9935 - val_loss: 0.0591 - val_accuracy: 0.9825\n",
      "Epoch 11/20\n",
      "938/938 [==============================] - 7s 7ms/step - loss: 0.0165 - accuracy: 0.9948 - val_loss: 0.0572 - val_accuracy: 0.9820\n",
      "Epoch 12/20\n",
      "938/938 [==============================] - 6s 7ms/step - loss: 0.0141 - accuracy: 0.9962 - val_loss: 0.0522 - val_accuracy: 0.9843\n",
      "Epoch 13/20\n",
      "938/938 [==============================] - 7s 7ms/step - loss: 0.0117 - accuracy: 0.9966 - val_loss: 0.0552 - val_accuracy: 0.9847\n",
      "Epoch 14/20\n",
      "938/938 [==============================] - 6s 7ms/step - loss: 0.0102 - accuracy: 0.9967 - val_loss: 0.0679 - val_accuracy: 0.9823\n",
      "Epoch 15/20\n",
      "938/938 [==============================] - 6s 6ms/step - loss: 0.0085 - accuracy: 0.9976 - val_loss: 0.0573 - val_accuracy: 0.9840\n",
      "Epoch 16/20\n",
      "938/938 [==============================] - 6s 6ms/step - loss: 0.0076 - accuracy: 0.9974 - val_loss: 0.0610 - val_accuracy: 0.9819\n",
      "Epoch 17/20\n",
      "938/938 [==============================] - 6s 7ms/step - loss: 0.0060 - accuracy: 0.9987 - val_loss: 0.0601 - val_accuracy: 0.9852\n",
      "Epoch 18/20\n",
      "938/938 [==============================] - 7s 7ms/step - loss: 0.0062 - accuracy: 0.9981 - val_loss: 0.0666 - val_accuracy: 0.9815\n",
      "Epoch 19/20\n",
      "938/938 [==============================] - 6s 6ms/step - loss: 0.0055 - accuracy: 0.9986 - val_loss: 0.0785 - val_accuracy: 0.9822\n",
      "Epoch 20/20\n",
      "938/938 [==============================] - 6s 6ms/step - loss: 0.0048 - accuracy: 0.9983 - val_loss: 0.0575 - val_accuracy: 0.9856\n"
     ]
    }
   ],
   "source": [
    "history1=model1.fit(x_train,y_train,batch_size=batch_size_1,epochs=epochs,\n",
    "                    validation_data=(x_test, y_test))"
   ]
  },
  {
   "cell_type": "code",
   "execution_count": 100,
   "metadata": {
    "scrolled": true
   },
   "outputs": [
    {
     "name": "stdout",
     "output_type": "stream",
     "text": [
      "(3, 3, 1, 16)\n",
      "[[[[ 0.32553285  0.15670078  0.2701332  -0.81236875 -0.14965548\n",
      "     0.07212121 -0.79106426  0.51797885  0.13347581 -0.15478715\n",
      "     0.3418434   0.2690813  -0.26040906  0.2886684  -0.35382107\n",
      "     0.7760751 ]]\n",
      "\n",
      "  [[ 0.43115753  0.0453255   0.764856    0.17085187  0.31288448\n",
      "     0.19286606 -1.1833717  -1.0493578  -0.1541571   0.27538967\n",
      "    -0.28908902  0.41286996  0.16790642 -0.02497534 -0.49884763\n",
      "     0.453421  ]]\n",
      "\n",
      "  [[-0.18632747 -0.29435158  0.41766414  0.38797364 -0.4216733\n",
      "    -0.10788188 -0.9504175   0.5059524  -0.01167514  0.09341205\n",
      "     0.1965922   0.5518737   0.13129234 -0.9500343   0.10704409\n",
      "    -1.0837033 ]]]\n",
      "\n",
      "\n",
      " [[[ 0.48140463  0.2888338  -0.77527195  0.32166365  0.2619858\n",
      "     0.09003017 -0.9862138   0.31046915  0.1067645   0.16502273\n",
      "     0.272103    0.12224941 -0.11849818  0.70548576  0.27747023\n",
      "     0.61677575]]\n",
      "\n",
      "  [[-0.10411154  0.6102016   0.3489173   0.23400874  0.43061775\n",
      "     0.21933614  0.30546284 -1.0052916   0.2052139   0.00551396\n",
      "    -0.51626986 -0.19520904  0.33770454  0.0244241   0.34820217\n",
      "    -0.2711788 ]]\n",
      "\n",
      "  [[-0.6073825   0.5801214   0.4029765  -0.2441258  -0.21634462\n",
      "    -0.11393796  0.31196547  0.64456517  0.11819155  0.27004454\n",
      "    -0.06412351 -0.14387593  0.1633267  -0.72151005  0.37959638\n",
      "    -1.1356772 ]]]\n",
      "\n",
      "\n",
      " [[[ 0.46825075 -0.6435413  -1.3459517   0.23013341 -0.4351623\n",
      "     0.04317551  0.01247793  0.02271996  0.07120149  0.18056604\n",
      "     0.3973023  -0.6016504   0.3641937   0.36734036  0.17003253\n",
      "    -0.8708851 ]]\n",
      "\n",
      "  [[-0.35996473 -0.4843041  -0.83117086 -0.1282748  -0.09151777\n",
      "    -0.02890677  0.7345667  -0.41473067 -0.17687939 -0.33023438\n",
      "     0.01027613 -0.67869735 -0.08235777  0.41979173  0.05821846\n",
      "    -0.9910311 ]]\n",
      "\n",
      "  [[-0.34765655 -0.25562385 -0.1326598  -0.32632807  0.30363345\n",
      "     0.26126465  0.6655598   0.30004486  0.16994464 -0.3849087\n",
      "     0.32398042 -0.04198872 -0.31813875 -0.3414543  -0.3903014\n",
      "    -0.16290228]]]]\n"
     ]
    }
   ],
   "source": [
    "layer1_weights_model1,layer1_bias_model1=model1.get_layer('conv_1').get_weights()\n",
    "layer2_weights_model1,layer2_bias_model1=model1.get_layer('dense_1').get_weights()\n",
    "layer3_weights_model1,layer3_bias_model1=model1.get_layer('dense_2').get_weights()\n",
    "\n",
    "print(layer1_weights_model1.shape)\n",
    "print(layer1_weights_model1)\n",
    "\n",
    "m1_w1=layer1_weights_model1\n",
    "m1_w2=layer2_weights_model1\n",
    "m1_w3=layer3_weights_model1\n",
    "\n",
    "m1_b1=layer1_bias_model1\n",
    "m1_b2=layer2_bias_model1\n",
    "m1_b3=layer3_bias_model1"
   ]
  },
  {
   "cell_type": "code",
   "execution_count": 101,
   "metadata": {},
   "outputs": [
    {
     "name": "stdout",
     "output_type": "stream",
     "text": [
      "Model: \"sequential_18\"\n",
      "_________________________________________________________________\n",
      "Layer (type)                 Output Shape              Param #   \n",
      "=================================================================\n",
      "conv_1 (Conv2D)              (None, 28, 28, 16)        160       \n",
      "_________________________________________________________________\n",
      "max_pooling2d_18 (MaxPooling (None, 14, 14, 16)        0         \n",
      "_________________________________________________________________\n",
      "flatten_18 (Flatten)         (None, 3136)              0         \n",
      "_________________________________________________________________\n",
      "dense_1 (Dense)              (None, 32)                100384    \n",
      "_________________________________________________________________\n",
      "dense_2 (Dense)              (None, 10)                330       \n",
      "=================================================================\n",
      "Total params: 100,874\n",
      "Trainable params: 100,874\n",
      "Non-trainable params: 0\n",
      "_________________________________________________________________\n"
     ]
    }
   ],
   "source": [
    "model2=create_model()\n",
    "\n",
    "model2.summary()"
   ]
  },
  {
   "cell_type": "code",
   "execution_count": 102,
   "metadata": {},
   "outputs": [
    {
     "name": "stdout",
     "output_type": "stream",
     "text": [
      "Epoch 1/20\n",
      "59/59 [==============================] - 5s 84ms/step - loss: 1.5097 - accuracy: 0.6075 - val_loss: 0.3469 - val_accuracy: 0.8972\n",
      "Epoch 2/20\n",
      "59/59 [==============================] - 5s 77ms/step - loss: 0.3233 - accuracy: 0.9057 - val_loss: 0.2570 - val_accuracy: 0.9250\n",
      "Epoch 3/20\n",
      "59/59 [==============================] - 5s 80ms/step - loss: 0.2515 - accuracy: 0.9284 - val_loss: 0.2079 - val_accuracy: 0.9408\n",
      "Epoch 4/20\n",
      "59/59 [==============================] - 5s 84ms/step - loss: 0.2088 - accuracy: 0.9388 - val_loss: 0.1742 - val_accuracy: 0.9502\n",
      "Epoch 5/20\n",
      "59/59 [==============================] - 5s 84ms/step - loss: 0.1770 - accuracy: 0.9493 - val_loss: 0.1463 - val_accuracy: 0.9569\n",
      "Epoch 6/20\n",
      "59/59 [==============================] - 5s 80ms/step - loss: 0.1464 - accuracy: 0.9589 - val_loss: 0.1270 - val_accuracy: 0.9639\n",
      "Epoch 7/20\n",
      "59/59 [==============================] - 5s 77ms/step - loss: 0.1275 - accuracy: 0.9639 - val_loss: 0.1121 - val_accuracy: 0.9681\n",
      "Epoch 8/20\n",
      "59/59 [==============================] - 4s 75ms/step - loss: 0.1128 - accuracy: 0.9680 - val_loss: 0.1006 - val_accuracy: 0.9706\n",
      "Epoch 9/20\n",
      "59/59 [==============================] - 4s 75ms/step - loss: 0.1009 - accuracy: 0.9717 - val_loss: 0.0945 - val_accuracy: 0.9711\n",
      "Epoch 10/20\n",
      "59/59 [==============================] - 4s 74ms/step - loss: 0.0914 - accuracy: 0.9748 - val_loss: 0.0876 - val_accuracy: 0.9730\n",
      "Epoch 11/20\n",
      "59/59 [==============================] - 5s 78ms/step - loss: 0.0836 - accuracy: 0.9770 - val_loss: 0.0797 - val_accuracy: 0.9757\n",
      "Epoch 12/20\n",
      "59/59 [==============================] - 5s 81ms/step - loss: 0.0748 - accuracy: 0.9790 - val_loss: 0.0757 - val_accuracy: 0.9769\n",
      "Epoch 13/20\n",
      "59/59 [==============================] - 5s 76ms/step - loss: 0.0694 - accuracy: 0.9806 - val_loss: 0.0722 - val_accuracy: 0.9786\n",
      "Epoch 14/20\n",
      "59/59 [==============================] - 5s 85ms/step - loss: 0.0636 - accuracy: 0.9828 - val_loss: 0.0685 - val_accuracy: 0.9794\n",
      "Epoch 15/20\n",
      "59/59 [==============================] - 6s 99ms/step - loss: 0.0632 - accuracy: 0.9827 - val_loss: 0.0654 - val_accuracy: 0.9791\n",
      "Epoch 16/20\n",
      "59/59 [==============================] - 5s 91ms/step - loss: 0.0572 - accuracy: 0.9842 - val_loss: 0.0616 - val_accuracy: 0.9805\n",
      "Epoch 17/20\n",
      "59/59 [==============================] - 5s 91ms/step - loss: 0.0548 - accuracy: 0.9846 - val_loss: 0.0610 - val_accuracy: 0.9800\n",
      "Epoch 18/20\n",
      "59/59 [==============================] - 5s 84ms/step - loss: 0.0503 - accuracy: 0.9865 - val_loss: 0.0594 - val_accuracy: 0.9811\n",
      "Epoch 19/20\n",
      "59/59 [==============================] - 5s 85ms/step - loss: 0.0518 - accuracy: 0.9858 - val_loss: 0.0572 - val_accuracy: 0.9817\n",
      "Epoch 20/20\n",
      "59/59 [==============================] - 5s 83ms/step - loss: 0.0474 - accuracy: 0.9874 - val_loss: 0.0577 - val_accuracy: 0.9813\n"
     ]
    }
   ],
   "source": [
    "batch_size_2= 1024\n",
    "epochs = 20\n",
    "\n",
    "adam = keras.optimizers.Adam(lr=0.001)\n",
    "model2.compile(optimizer='adam', loss='categorical_crossentropy', metrics=['accuracy'])\n",
    "\n",
    "history2=model2.fit(x_train,y_train,batch_size=batch_size_2,epochs=epochs,\n",
    "                    validation_data=(x_test, y_test))"
   ]
  },
  {
   "cell_type": "code",
   "execution_count": 103,
   "metadata": {},
   "outputs": [
    {
     "name": "stdout",
     "output_type": "stream",
     "text": [
      "(3, 3, 1, 16)\n",
      "[[[[-1.52500167e-01  2.44470358e-01  3.67380828e-02  2.60239094e-01\n",
      "    -2.56090853e-02 -4.82743561e-01  1.05437018e-01 -4.54255417e-02\n",
      "    -7.62057751e-02 -3.62508111e-02  2.93902755e-01  1.70563549e-01\n",
      "    -4.11382467e-01  2.91700393e-01 -4.50751603e-01  4.08192687e-02]]\n",
      "\n",
      "  [[ 1.01421654e-01 -7.43624344e-02  3.86488549e-02  3.74696404e-02\n",
      "     9.15318504e-02  3.39695930e-01  6.94137141e-02  1.20390438e-01\n",
      "     3.73263694e-02 -3.01906951e-02  4.11507249e-01 -3.71863171e-02\n",
      "    -3.00711185e-01  4.32838015e-02 -4.93641496e-01  3.21303427e-01]]\n",
      "\n",
      "  [[ 1.40728951e-01  1.97158813e-01  1.23104364e-01  2.32751593e-01\n",
      "     2.45486945e-01  9.86754894e-02  1.50601655e-01  9.55201387e-02\n",
      "     1.47887290e-01  1.96816549e-01  4.14440721e-01 -3.48905712e-01\n",
      "     1.89478517e-01 -2.78496623e-01  2.12951466e-01  3.55268002e-01]]]\n",
      "\n",
      "\n",
      " [[[ 2.74959952e-01  1.39896780e-01  6.74349144e-02 -1.41787514e-01\n",
      "    -2.81513691e-01 -3.48326683e-01 -1.02861151e-01  2.28883445e-01\n",
      "     3.11681867e-01  1.98864326e-01 -1.03853419e-01  2.72095323e-01\n",
      "     2.44383365e-01 -3.82474735e-02 -4.95913476e-01 -3.76363695e-01]]\n",
      "\n",
      "  [[ 2.36657694e-01  1.33185282e-01  2.76969299e-02 -2.01526091e-01\n",
      "     8.89765937e-03  2.61753470e-01  3.65935229e-02  2.58257035e-02\n",
      "     1.88401923e-01  1.70029774e-01  2.47201353e-01  2.86030825e-02\n",
      "    -6.18317015e-02  3.08322817e-01  1.01846129e-01  1.47321895e-01]]\n",
      "\n",
      "  [[-1.63565934e-01 -1.06099531e-01  4.30213113e-05 -1.26739398e-01\n",
      "     2.33932048e-01  2.31527891e-02 -4.14860733e-02  8.84051993e-02\n",
      "     2.03657493e-01 -9.22953710e-02  4.91520502e-02 -3.89939398e-01\n",
      "    -1.85157023e-02  2.23082855e-01  4.74533379e-01  4.43355113e-01]]]\n",
      "\n",
      "\n",
      " [[[ 1.31520391e-01  2.23026782e-01  1.61518976e-01  5.49030714e-02\n",
      "    -3.61645848e-01 -1.63082793e-01  2.23967955e-01  1.35001972e-01\n",
      "    -1.16850346e-01  4.69373278e-02 -6.72589242e-01  2.93855339e-01\n",
      "     2.80452400e-01 -2.19805792e-01  1.55941956e-02 -5.89685977e-01]]\n",
      "\n",
      "  [[ 1.75730477e-03  1.05352193e-01  1.05316393e-01  1.63543478e-01\n",
      "    -2.25658938e-01  2.69544363e-01  9.78851914e-02  1.89409271e-01\n",
      "    -2.63559699e-01  1.69159874e-01 -6.38713837e-01  9.50137153e-02\n",
      "     1.91663742e-01  2.01226547e-01  4.96766269e-02 -5.08066714e-01]]\n",
      "\n",
      "  [[-2.59167552e-01  1.39314309e-01  1.89909771e-01  1.41626820e-01\n",
      "     3.32333595e-01  8.52407068e-02  1.53509259e-01  1.25399113e-01\n",
      "    -2.81048447e-01  3.43987085e-02 -5.68765819e-01 -1.61290467e-01\n",
      "    -1.30555227e-01  1.28256798e-01  3.80268842e-01 -5.36943227e-02]]]]\n"
     ]
    }
   ],
   "source": [
    "layer1_weights_model2,layer1_bias_model2=model2.get_layer('conv_1').get_weights()\n",
    "layer2_weights_model2,layer2_bias_model2=model2.get_layer('dense_1').get_weights()\n",
    "layer3_weights_model2,layer3_bias_model2=model2.get_layer('dense_2').get_weights()\n",
    "\n",
    "print(layer1_weights_model2.shape)\n",
    "print(layer1_weights_model2)\n",
    "\n",
    "m2_w1=layer1_weights_model2\n",
    "m2_w2=layer2_weights_model2\n",
    "m2_w3=layer3_weights_model2\n",
    "\n",
    "m2_b1=layer1_bias_model2\n",
    "m2_b2=layer2_bias_model2\n",
    "m2_b3=layer3_bias_model2"
   ]
  },
  {
   "cell_type": "code",
   "execution_count": 104,
   "metadata": {},
   "outputs": [
    {
     "name": "stdout",
     "output_type": "stream",
     "text": [
      "(3, 3, 1, 16)\n",
      "(16,)\n",
      "[[[[ 8.03565860e-01  6.89311922e-02  5.03528297e-01 -1.88497663e+00\n",
      "    -2.73701876e-01  6.26985967e-01 -1.68756557e+00  1.08138323e+00\n",
      "     3.43157411e-01 -2.73323506e-01  3.89784038e-01  3.67599040e-01\n",
      "    -1.09435648e-01  2.85636395e-01 -2.56890535e-01  1.51133096e+00]]\n",
      "\n",
      "  [[ 7.60893404e-01  1.65013433e-01  1.49106312e+00  3.04234087e-01\n",
      "     5.34237087e-01  4.60361838e-02 -2.43615699e+00 -2.21910596e+00\n",
      "    -3.45640570e-01  5.80970049e-01 -9.89685297e-01  8.62926245e-01\n",
      "     6.36524022e-01 -9.32344794e-02 -5.04053771e-01  5.85538566e-01]]\n",
      "\n",
      "  [[-5.13383865e-01 -7.85861969e-01  7.12223887e-01  5.43195665e-01\n",
      "    -1.08883357e+00 -3.14439237e-01 -2.05143666e+00  9.16384697e-01\n",
      "    -1.71237573e-01 -9.99245048e-03 -2.12563276e-02  1.45265305e+00\n",
      "     7.31061697e-02 -1.62157202e+00  1.13670528e-03 -2.52267456e+00]]]\n",
      "\n",
      "\n",
      " [[[ 6.87849283e-01  4.37770814e-01 -1.61797881e+00  7.85114825e-01\n",
      "     8.05485308e-01  5.28387010e-01 -1.86956644e+00  3.92054856e-01\n",
      "    -9.81528610e-02  1.31181136e-01  6.48059428e-01 -2.75965035e-02\n",
      "    -4.81379747e-01  1.44921899e+00  1.05085397e+00  1.60991526e+00]]\n",
      "\n",
      "  [[-4.44880784e-01  1.08721793e+00  6.70137703e-01  6.69543564e-01\n",
      "     8.52337837e-01  1.76918805e-01  5.74332178e-01 -2.03640890e+00\n",
      "     2.22025886e-01 -1.59001857e-01 -1.27974105e+00 -4.19021159e-01\n",
      "     7.37240791e-01 -2.59474605e-01  5.94558239e-01 -6.89679503e-01]]\n",
      "\n",
      "  [[-1.05119896e+00  1.26634228e+00  8.05909991e-01 -3.61512184e-01\n",
      "    -6.66621327e-01 -2.51028717e-01  6.65417016e-01  1.20072508e+00\n",
      "     3.27256024e-02  6.32384419e-01 -1.77399069e-01  1.02187544e-01\n",
      "     3.45169097e-01 -1.66610301e+00  2.84659386e-01 -2.71470952e+00]]]\n",
      "\n",
      "\n",
      " [[[ 8.04981112e-01 -1.51010931e+00 -2.85342240e+00  4.05363768e-01\n",
      "    -5.08678794e-01  2.49433815e-01 -1.99012101e-01 -8.95620510e-02\n",
      "     2.59253323e-01  3.14194769e-01  1.46719384e+00 -1.49715614e+00\n",
      "     4.47935015e-01  9.54486489e-01  3.24470878e-01 -1.15208411e+00]]\n",
      "\n",
      "  [[-7.21686780e-01 -1.07396042e+00 -1.76765811e+00 -4.20093060e-01\n",
      "     4.26234007e-02 -3.27357888e-01  1.37124825e+00 -1.01887059e+00\n",
      "    -9.01990831e-02 -8.29628646e-01  6.59266114e-01 -1.45240843e+00\n",
      "    -3.56379271e-01  6.38356924e-01  6.67602941e-02 -1.47399545e+00]]\n",
      "\n",
      "  [[-4.36145544e-01 -6.50561988e-01 -4.55229342e-01 -7.94282973e-01\n",
      "     2.74933308e-01  4.37288582e-01  1.17761040e+00  4.74690616e-01\n",
      "     6.20937705e-01 -8.04216146e-01  1.21672666e+00  7.73130283e-02\n",
      "    -5.05722284e-01 -8.11165392e-01 -1.16087162e+00 -2.72110224e-01]]]]\n",
      "[-0.64601076 -0.27018037 -0.09589496 -0.24849138 -0.0007528  -0.6384037\n",
      " -0.03931507 -0.06285723 -0.5796663  -0.3431856  -0.6552227  -0.44379294\n",
      " -0.51672035 -0.22169046 -0.35083205  0.18274082]\n"
     ]
    }
   ],
   "source": [
    "alpha1 = -1.0\n",
    "\n",
    "m3_w1=(1-alpha1)*m1_w1+alpha1*m2_w1\n",
    "m3_w2=(1-alpha1)*m1_w2+alpha1*m2_w2\n",
    "m3_w3=(1-alpha1)*m1_w3+alpha1*m2_w3\n",
    "\n",
    "m3_b1=(1-alpha1)*m1_b1+alpha1*m2_b1\n",
    "m3_b2=(1-alpha1)*m1_b2+alpha1*m2_b2\n",
    "m3_b3=(1-alpha1)*m1_b3+alpha1*m2_b3\n",
    "\n",
    "print(m3_w1.shape)\n",
    "print(m3_b1.shape)\n",
    "print(m3_w1)\n",
    "print(m3_b1)"
   ]
  },
  {
   "cell_type": "code",
   "execution_count": 106,
   "metadata": {},
   "outputs": [],
   "source": [
    "W1_m3=[]\n",
    "W2_m3=[]\n",
    "W3_m3=[]\n",
    "\n",
    "m3_w1=np.array(m3_w1)\n",
    "m3_w2=np.array(m3_w2)\n",
    "m3_w3=np.array(m3_w3)\n",
    "m3_b1=np.array(m3_b1)\n",
    "m3_b2=np.array(m3_b2)\n",
    "m3_b3=np.array(m3_b3)\n",
    "\n",
    "W1_m3.append(m3_w1)\n",
    "W2_m3.append(m3_w2)\n",
    "W3_m3.append(m3_w3)\n",
    "W1_m3.append(m3_b1)\n",
    "W2_m3.append(m3_b2)\n",
    "W3_m3.append(m3_b3)\n",
    "\n",
    "model3=create_model()\n",
    "model3.layers[0].set_weights(W1_m3)\n",
    "model3.layers[3].set_weights(W2_m3)\n",
    "model3.layers[4].set_weights(W3_m3)"
   ]
  },
  {
   "cell_type": "code",
   "execution_count": 107,
   "metadata": {
    "scrolled": false
   },
   "outputs": [
    {
     "name": "stdout",
     "output_type": "stream",
     "text": [
      "(None, 28, 28, 16)\n",
      "(None, 14, 14, 16)\n",
      "(None, 3136)\n",
      "(None, 32)\n",
      "(None, 10)\n"
     ]
    }
   ],
   "source": [
    "for layer in model1.layers:\n",
    "    print(layer.output_shape)"
   ]
  },
  {
   "cell_type": "code",
   "execution_count": 108,
   "metadata": {},
   "outputs": [
    {
     "name": "stdout",
     "output_type": "stream",
     "text": [
      "(None, 28, 28, 16)\n",
      "(None, 32)\n",
      "(None, 10)\n",
      "Model: \"sequential_19\"\n",
      "_________________________________________________________________\n",
      "Layer (type)                 Output Shape              Param #   \n",
      "=================================================================\n",
      "conv_1 (Conv2D)              (None, 28, 28, 16)        160       \n",
      "_________________________________________________________________\n",
      "max_pooling2d_19 (MaxPooling (None, 14, 14, 16)        0         \n",
      "_________________________________________________________________\n",
      "flatten_19 (Flatten)         (None, 3136)              0         \n",
      "_________________________________________________________________\n",
      "dense_1 (Dense)              (None, 32)                100384    \n",
      "_________________________________________________________________\n",
      "dense_2 (Dense)              (None, 10)                330       \n",
      "=================================================================\n",
      "Total params: 100,874\n",
      "Trainable params: 100,874\n",
      "Non-trainable params: 0\n",
      "_________________________________________________________________\n"
     ]
    }
   ],
   "source": [
    "print(model3.layers[0].output_shape)\n",
    "print(model3.layers[3].output_shape)\n",
    "print(model3.layers[4].output_shape)\n",
    "\n",
    "model3.summary()"
   ]
  },
  {
   "cell_type": "code",
   "execution_count": 109,
   "metadata": {},
   "outputs": [
    {
     "name": "stdout",
     "output_type": "stream",
     "text": [
      "Epoch 1/20\n",
      "235/235 [==============================] - 7s 28ms/step - loss: 0.4059 - accuracy: 0.9805 - val_loss: 0.4689 - val_accuracy: 0.9804\n",
      "Epoch 2/20\n",
      "235/235 [==============================] - 6s 25ms/step - loss: 0.0354 - accuracy: 0.9963 - val_loss: 0.4286 - val_accuracy: 0.9823\n",
      "Epoch 3/20\n",
      "235/235 [==============================] - 6s 24ms/step - loss: 0.0122 - accuracy: 0.9982 - val_loss: 0.4233 - val_accuracy: 0.9814\n",
      "Epoch 4/20\n",
      "235/235 [==============================] - 6s 24ms/step - loss: 0.0056 - accuracy: 0.9988 - val_loss: 0.4164 - val_accuracy: 0.9820\n",
      "Epoch 5/20\n",
      "235/235 [==============================] - 6s 24ms/step - loss: 0.0014 - accuracy: 0.9997 - val_loss: 0.4141 - val_accuracy: 0.9817\n",
      "Epoch 6/20\n",
      "235/235 [==============================] - 6s 24ms/step - loss: 0.0012 - accuracy: 0.9998 - val_loss: 0.4141 - val_accuracy: 0.9815\n",
      "Epoch 7/20\n",
      "235/235 [==============================] - 6s 24ms/step - loss: 8.7544e-04 - accuracy: 0.9997 - val_loss: 0.4118 - val_accuracy: 0.9819\n",
      "Epoch 8/20\n",
      "235/235 [==============================] - 6s 24ms/step - loss: 8.1664e-04 - accuracy: 0.9998 - val_loss: 0.4222 - val_accuracy: 0.9810\n",
      "Epoch 9/20\n",
      "235/235 [==============================] - 6s 24ms/step - loss: 7.1002e-04 - accuracy: 0.9998 - val_loss: 0.4148 - val_accuracy: 0.9824\n",
      "Epoch 10/20\n",
      "235/235 [==============================] - 6s 24ms/step - loss: 1.7084e-04 - accuracy: 0.9999 - val_loss: 0.4180 - val_accuracy: 0.9822\n",
      "Epoch 11/20\n",
      "235/235 [==============================] - 6s 24ms/step - loss: 7.3900e-06 - accuracy: 1.0000 - val_loss: 0.4175 - val_accuracy: 0.9825\n",
      "Epoch 12/20\n",
      "235/235 [==============================] - 6s 24ms/step - loss: 2.9426e-05 - accuracy: 1.0000 - val_loss: 0.4158 - val_accuracy: 0.9820\n",
      "Epoch 13/20\n",
      "235/235 [==============================] - 6s 24ms/step - loss: 1.7664e-05 - accuracy: 1.0000 - val_loss: 0.4127 - val_accuracy: 0.9818\n",
      "Epoch 14/20\n",
      "235/235 [==============================] - 6s 24ms/step - loss: 2.0805e-05 - accuracy: 1.0000 - val_loss: 0.4285 - val_accuracy: 0.9815\n",
      "Epoch 15/20\n",
      "235/235 [==============================] - 5s 23ms/step - loss: 0.0013 - accuracy: 0.9996 - val_loss: 0.4540 - val_accuracy: 0.9819\n",
      "Epoch 16/20\n",
      "235/235 [==============================] - 6s 24ms/step - loss: 0.0105 - accuracy: 0.9985 - val_loss: 0.4899 - val_accuracy: 0.9812\n",
      "Epoch 17/20\n",
      "235/235 [==============================] - 6s 24ms/step - loss: 0.0128 - accuracy: 0.9983 - val_loss: 0.4329 - val_accuracy: 0.9828\n",
      "Epoch 18/20\n",
      "235/235 [==============================] - 6s 24ms/step - loss: 0.0048 - accuracy: 0.9992 - val_loss: 0.4035 - val_accuracy: 0.9836\n",
      "Epoch 19/20\n",
      "235/235 [==============================] - 6s 24ms/step - loss: 0.0011 - accuracy: 0.9998 - val_loss: 0.4289 - val_accuracy: 0.9831\n",
      "Epoch 20/20\n",
      "235/235 [==============================] - 6s 26ms/step - loss: 9.7332e-04 - accuracy: 0.9998 - val_loss: 0.4252 - val_accuracy: 0.9838\n"
     ]
    }
   ],
   "source": [
    "adam = keras.optimizers.Adam(lr=0.001)\n",
    "model3.compile(optimizer='adam', loss='categorical_crossentropy', metrics=['accuracy'])\n",
    "\n",
    "history3=model3.fit(x_train,y_train,batch_size=256,epochs=epochs,\n",
    "                    validation_data=(x_test, y_test))"
   ]
  },
  {
   "cell_type": "code",
   "execution_count": 110,
   "metadata": {},
   "outputs": [
    {
     "name": "stdout",
     "output_type": "stream",
     "text": [
      "313/313 [==============================] - 0s 1ms/step - loss: 0.4252 - accuracy: 0.9838\n"
     ]
    },
    {
     "data": {
      "text/plain": [
       "[0.4251609742641449, 0.9837999939918518]"
      ]
     },
     "execution_count": 110,
     "metadata": {},
     "output_type": "execute_result"
    }
   ],
   "source": [
    "model3.evaluate(x_test, y_test)"
   ]
  },
  {
   "cell_type": "code",
   "execution_count": 111,
   "metadata": {},
   "outputs": [
    {
     "name": "stdout",
     "output_type": "stream",
     "text": [
      "1875/1875 [==============================] - 3s 1ms/step - loss: 4.6546e-04 - accuracy: 0.9999\n"
     ]
    },
    {
     "data": {
      "text/plain": [
       "[0.0004654575895983726, 0.9998833537101746]"
      ]
     },
     "execution_count": 111,
     "metadata": {},
     "output_type": "execute_result"
    }
   ],
   "source": [
    "model3.evaluate(x_train, y_train)"
   ]
  },
  {
   "cell_type": "code",
   "execution_count": 125,
   "metadata": {},
   "outputs": [],
   "source": [
    "alpha2 = -0.5\n",
    "\n",
    "m4_w1=(1-alpha2)*m1_w1+alpha2*m2_w1\n",
    "m4_w2=(1-alpha2)*m1_w2+alpha2*m2_w2\n",
    "m4_w3=(1-alpha2)*m1_w3+alpha2*m2_w3\n",
    "\n",
    "m4_b1=(1-alpha2)*m1_b1+alpha2*m2_b1\n",
    "m4_b2=(1-alpha2)*m1_b2+alpha2*m2_b2\n",
    "m4_b3=(1-alpha2)*m1_b3+alpha2*m2_b3"
   ]
  },
  {
   "cell_type": "code",
   "execution_count": 126,
   "metadata": {},
   "outputs": [],
   "source": [
    "W1_m4=[]\n",
    "W2_m4=[]\n",
    "W3_m4=[]\n",
    "\n",
    "m4_w1=np.array(m4_w1)\n",
    "m4_w2=np.array(m4_w2)\n",
    "m4_w3=np.array(m4_w3)\n",
    "m4_b1=np.array(m4_b1)\n",
    "m4_b2=np.array(m4_b2)\n",
    "m4_b3=np.array(m4_b3)\n",
    "\n",
    "W1_m4.append(m4_w1)\n",
    "W2_m4.append(m4_w2)\n",
    "W3_m4.append(m4_w3)\n",
    "W1_m4.append(m4_b1)\n",
    "W2_m4.append(m4_b2)\n",
    "W3_m4.append(m4_b3)\n",
    "\n",
    "model4=create_model()\n",
    "model4.layers[0].set_weights(W1_m4)\n",
    "model4.layers[3].set_weights(W2_m4)\n",
    "model4.layers[4].set_weights(W3_m4)"
   ]
  },
  {
   "cell_type": "code",
   "execution_count": 127,
   "metadata": {},
   "outputs": [
    {
     "name": "stdout",
     "output_type": "stream",
     "text": [
      "(None, 28, 28, 16)\n",
      "(None, 32)\n",
      "(None, 10)\n",
      "Model: \"sequential_21\"\n",
      "_________________________________________________________________\n",
      "Layer (type)                 Output Shape              Param #   \n",
      "=================================================================\n",
      "conv_1 (Conv2D)              (None, 28, 28, 16)        160       \n",
      "_________________________________________________________________\n",
      "max_pooling2d_21 (MaxPooling (None, 14, 14, 16)        0         \n",
      "_________________________________________________________________\n",
      "flatten_21 (Flatten)         (None, 3136)              0         \n",
      "_________________________________________________________________\n",
      "dense_1 (Dense)              (None, 32)                100384    \n",
      "_________________________________________________________________\n",
      "dense_2 (Dense)              (None, 10)                330       \n",
      "=================================================================\n",
      "Total params: 100,874\n",
      "Trainable params: 100,874\n",
      "Non-trainable params: 0\n",
      "_________________________________________________________________\n"
     ]
    }
   ],
   "source": [
    "print(model4.layers[0].output_shape)\n",
    "print(model4.layers[3].output_shape)\n",
    "print(model4.layers[4].output_shape)\n",
    "\n",
    "model4.summary()"
   ]
  },
  {
   "cell_type": "code",
   "execution_count": 128,
   "metadata": {},
   "outputs": [
    {
     "name": "stdout",
     "output_type": "stream",
     "text": [
      "Epoch 1/20\n",
      "235/235 [==============================] - 6s 22ms/step - loss: 0.0401 - accuracy: 0.9936 - val_loss: 0.1848 - val_accuracy: 0.9823\n",
      "Epoch 2/20\n",
      "235/235 [==============================] - 5s 23ms/step - loss: 0.0032 - accuracy: 0.9991 - val_loss: 0.1698 - val_accuracy: 0.9832\n",
      "Epoch 3/20\n",
      "235/235 [==============================] - 6s 27ms/step - loss: 7.7274e-04 - accuracy: 0.9998 - val_loss: 0.1715 - val_accuracy: 0.9842\n",
      "Epoch 4/20\n",
      "235/235 [==============================] - 6s 26ms/step - loss: 4.3702e-04 - accuracy: 0.9999 - val_loss: 0.1708 - val_accuracy: 0.9845\n",
      "Epoch 5/20\n",
      "235/235 [==============================] - 6s 26ms/step - loss: 4.7717e-04 - accuracy: 0.9997 - val_loss: 0.1723 - val_accuracy: 0.9838\n",
      "Epoch 6/20\n",
      "235/235 [==============================] - 6s 26ms/step - loss: 5.6591e-04 - accuracy: 0.9998 - val_loss: 0.1782 - val_accuracy: 0.9834\n",
      "Epoch 7/20\n",
      "235/235 [==============================] - 6s 25ms/step - loss: 7.1870e-04 - accuracy: 0.9997 - val_loss: 0.1713 - val_accuracy: 0.9845\n",
      "Epoch 8/20\n",
      "235/235 [==============================] - 6s 25ms/step - loss: 6.8279e-04 - accuracy: 0.9999 - val_loss: 0.1853 - val_accuracy: 0.9837\n",
      "Epoch 9/20\n",
      "235/235 [==============================] - 6s 25ms/step - loss: 0.0026 - accuracy: 0.9992 - val_loss: 0.1925 - val_accuracy: 0.9829\n",
      "Epoch 10/20\n",
      "235/235 [==============================] - 6s 24ms/step - loss: 9.3349e-04 - accuracy: 0.9996 - val_loss: 0.1828 - val_accuracy: 0.9839\n",
      "Epoch 11/20\n",
      "235/235 [==============================] - 6s 24ms/step - loss: 9.5322e-05 - accuracy: 1.0000 - val_loss: 0.1826 - val_accuracy: 0.9838\n",
      "Epoch 12/20\n",
      "235/235 [==============================] - 6s 25ms/step - loss: 4.5386e-05 - accuracy: 1.0000 - val_loss: 0.1817 - val_accuracy: 0.9843\n",
      "Epoch 13/20\n",
      "235/235 [==============================] - 6s 26ms/step - loss: 9.7724e-06 - accuracy: 1.0000 - val_loss: 0.1814 - val_accuracy: 0.9843\n",
      "Epoch 14/20\n",
      "235/235 [==============================] - 6s 28ms/step - loss: 8.5331e-06 - accuracy: 1.0000 - val_loss: 0.1811 - val_accuracy: 0.9845\n",
      "Epoch 15/20\n",
      "235/235 [==============================] - 7s 28ms/step - loss: 7.1582e-06 - accuracy: 1.0000 - val_loss: 0.1808 - val_accuracy: 0.9844\n",
      "Epoch 16/20\n",
      "235/235 [==============================] - 7s 28ms/step - loss: 7.3880e-06 - accuracy: 1.0000 - val_loss: 0.1808 - val_accuracy: 0.9843\n",
      "Epoch 17/20\n",
      "235/235 [==============================] - 7s 29ms/step - loss: 5.5615e-06 - accuracy: 1.0000 - val_loss: 0.1806 - val_accuracy: 0.9844\n",
      "Epoch 18/20\n",
      "235/235 [==============================] - 7s 29ms/step - loss: 6.2840e-06 - accuracy: 1.0000 - val_loss: 0.1806 - val_accuracy: 0.9842\n",
      "Epoch 19/20\n",
      "235/235 [==============================] - 7s 28ms/step - loss: 5.1530e-06 - accuracy: 1.0000 - val_loss: 0.1807 - val_accuracy: 0.9843\n",
      "Epoch 20/20\n",
      "235/235 [==============================] - 7s 29ms/step - loss: 4.4744e-06 - accuracy: 1.0000 - val_loss: 0.1805 - val_accuracy: 0.9844\n"
     ]
    }
   ],
   "source": [
    "adam = keras.optimizers.Adam(lr=0.001)\n",
    "model4.compile(optimizer='adam', loss='categorical_crossentropy', metrics=['accuracy'])\n",
    "\n",
    "history4=model4.fit(x_train,y_train,batch_size=256,epochs=epochs,\n",
    "                    validation_data=(x_test, y_test))"
   ]
  },
  {
   "cell_type": "code",
   "execution_count": 129,
   "metadata": {},
   "outputs": [
    {
     "name": "stdout",
     "output_type": "stream",
     "text": [
      "313/313 [==============================] - 1s 2ms/step - loss: 0.1805 - accuracy: 0.9844\n"
     ]
    },
    {
     "data": {
      "text/plain": [
       "[0.18052780628204346, 0.9843999743461609]"
      ]
     },
     "execution_count": 129,
     "metadata": {},
     "output_type": "execute_result"
    }
   ],
   "source": [
    "model4.evaluate(x_test, y_test)"
   ]
  },
  {
   "cell_type": "code",
   "execution_count": 130,
   "metadata": {},
   "outputs": [
    {
     "name": "stdout",
     "output_type": "stream",
     "text": [
      "1875/1875 [==============================] - 3s 2ms/step - loss: 4.4424e-06 - accuracy: 1.0000\n"
     ]
    },
    {
     "data": {
      "text/plain": [
       "[4.442395493242657e-06, 1.0]"
      ]
     },
     "execution_count": 130,
     "metadata": {},
     "output_type": "execute_result"
    }
   ],
   "source": [
    "model4.evaluate(x_train, y_train)"
   ]
  },
  {
   "cell_type": "code",
   "execution_count": 134,
   "metadata": {},
   "outputs": [],
   "source": [
    "alpha3 = 0.0\n",
    "\n",
    "m5_w1=(1-alpha3)*m1_w1+alpha3*m2_w1\n",
    "m5_w2=(1-alpha3)*m1_w2+alpha3*m2_w2\n",
    "m5_w3=(1-alpha3)*m1_w3+alpha3*m2_w3\n",
    "\n",
    "m5_b1=(1-alpha3)*m1_b1+alpha3*m2_b1\n",
    "m5_b2=(1-alpha3)*m1_b2+alpha3*m2_b2\n",
    "m5_b3=(1-alpha3)*m1_b3+alpha3*m2_b3"
   ]
  },
  {
   "cell_type": "code",
   "execution_count": 135,
   "metadata": {},
   "outputs": [],
   "source": [
    "W1_m5=[]\n",
    "W2_m5=[]\n",
    "W3_m5=[]\n",
    "\n",
    "m5_w1=np.array(m5_w1)\n",
    "m5_w2=np.array(m5_w2)\n",
    "m5_w3=np.array(m5_w3)\n",
    "m5_b1=np.array(m5_b1)\n",
    "m5_b2=np.array(m5_b2)\n",
    "m5_b3=np.array(m5_b3)\n",
    "\n",
    "W1_m5.append(m5_w1)\n",
    "W2_m5.append(m5_w2)\n",
    "W3_m5.append(m5_w3)\n",
    "W1_m5.append(m5_b1)\n",
    "W2_m5.append(m5_b2)\n",
    "W3_m5.append(m5_b3)\n",
    "\n",
    "model5=create_model()\n",
    "model5.layers[0].set_weights(W1_m5)\n",
    "model5.layers[3].set_weights(W2_m5)\n",
    "model5.layers[4].set_weights(W3_m5)"
   ]
  },
  {
   "cell_type": "code",
   "execution_count": 136,
   "metadata": {},
   "outputs": [
    {
     "name": "stdout",
     "output_type": "stream",
     "text": [
      "Epoch 1/20\n",
      "235/235 [==============================] - 7s 28ms/step - loss: 0.0028 - accuracy: 0.9994 - val_loss: 0.0632 - val_accuracy: 0.9851\n",
      "Epoch 2/20\n",
      "235/235 [==============================] - 6s 24ms/step - loss: 9.5626e-04 - accuracy: 1.0000 - val_loss: 0.0692 - val_accuracy: 0.9847\n",
      "Epoch 3/20\n",
      "235/235 [==============================] - 6s 26ms/step - loss: 0.0010 - accuracy: 0.9999 - val_loss: 0.0660 - val_accuracy: 0.9848\n",
      "Epoch 4/20\n",
      "235/235 [==============================] - 6s 25ms/step - loss: 9.0496e-04 - accuracy: 1.0000 - val_loss: 0.0816 - val_accuracy: 0.9838\n",
      "Epoch 5/20\n",
      "235/235 [==============================] - 6s 25ms/step - loss: 0.0031 - accuracy: 0.9992 - val_loss: 0.0665 - val_accuracy: 0.9847\n",
      "Epoch 6/20\n",
      "235/235 [==============================] - 6s 26ms/step - loss: 5.7287e-04 - accuracy: 1.0000 - val_loss: 0.0670 - val_accuracy: 0.9861\n",
      "Epoch 7/20\n",
      "235/235 [==============================] - 6s 26ms/step - loss: 3.3295e-04 - accuracy: 1.0000 - val_loss: 0.0663 - val_accuracy: 0.9864\n",
      "Epoch 8/20\n",
      "235/235 [==============================] - 6s 26ms/step - loss: 2.0671e-04 - accuracy: 1.0000 - val_loss: 0.0676 - val_accuracy: 0.9860\n",
      "Epoch 9/20\n",
      "235/235 [==============================] - 6s 26ms/step - loss: 2.3861e-04 - accuracy: 1.0000 - val_loss: 0.0713 - val_accuracy: 0.9856\n",
      "Epoch 10/20\n",
      "235/235 [==============================] - 6s 26ms/step - loss: 2.0840e-04 - accuracy: 1.0000 - val_loss: 0.0704 - val_accuracy: 0.9865\n",
      "Epoch 11/20\n",
      "235/235 [==============================] - 6s 26ms/step - loss: 1.3916e-04 - accuracy: 1.0000 - val_loss: 0.0713 - val_accuracy: 0.9858\n",
      "Epoch 12/20\n",
      "235/235 [==============================] - 6s 25ms/step - loss: 1.3861e-04 - accuracy: 1.0000 - val_loss: 0.0716 - val_accuracy: 0.9860\n",
      "Epoch 13/20\n",
      "235/235 [==============================] - 6s 28ms/step - loss: 1.1135e-04 - accuracy: 1.0000 - val_loss: 0.0730 - val_accuracy: 0.9858\n",
      "Epoch 14/20\n",
      "235/235 [==============================] - 6s 25ms/step - loss: 1.0200e-04 - accuracy: 1.0000 - val_loss: 0.0741 - val_accuracy: 0.9855\n",
      "Epoch 15/20\n",
      "235/235 [==============================] - 6s 26ms/step - loss: 9.0129e-05 - accuracy: 1.0000 - val_loss: 0.0737 - val_accuracy: 0.9857\n",
      "Epoch 16/20\n",
      "235/235 [==============================] - 6s 26ms/step - loss: 7.7758e-05 - accuracy: 1.0000 - val_loss: 0.0753 - val_accuracy: 0.9865\n",
      "Epoch 17/20\n",
      "235/235 [==============================] - 6s 26ms/step - loss: 7.3779e-05 - accuracy: 1.0000 - val_loss: 0.0765 - val_accuracy: 0.9859\n",
      "Epoch 18/20\n",
      "235/235 [==============================] - 6s 26ms/step - loss: 6.9210e-05 - accuracy: 1.0000 - val_loss: 0.0770 - val_accuracy: 0.9856\n",
      "Epoch 19/20\n",
      "235/235 [==============================] - 6s 26ms/step - loss: 5.4715e-05 - accuracy: 1.0000 - val_loss: 0.0792 - val_accuracy: 0.9860\n",
      "Epoch 20/20\n",
      "235/235 [==============================] - 6s 26ms/step - loss: 5.0808e-05 - accuracy: 1.0000 - val_loss: 0.0793 - val_accuracy: 0.9857\n"
     ]
    }
   ],
   "source": [
    "adam = keras.optimizers.Adam(lr=0.001)\n",
    "model5.compile(optimizer='adam', loss='categorical_crossentropy', metrics=['accuracy'])\n",
    "\n",
    "history5=model5.fit(x_train,y_train,batch_size=256,epochs=epochs,\n",
    "                    validation_data=(x_test, y_test))"
   ]
  },
  {
   "cell_type": "code",
   "execution_count": 137,
   "metadata": {},
   "outputs": [
    {
     "name": "stdout",
     "output_type": "stream",
     "text": [
      "313/313 [==============================] - 1s 2ms/step - loss: 0.0793 - accuracy: 0.9857\n"
     ]
    },
    {
     "data": {
      "text/plain": [
       "[0.07926635444164276, 0.9857000112533569]"
      ]
     },
     "execution_count": 137,
     "metadata": {},
     "output_type": "execute_result"
    }
   ],
   "source": [
    "model5.evaluate(x_test, y_test)"
   ]
  },
  {
   "cell_type": "code",
   "execution_count": 138,
   "metadata": {},
   "outputs": [
    {
     "name": "stdout",
     "output_type": "stream",
     "text": [
      "1875/1875 [==============================] - 3s 1ms/step - loss: 4.8311e-05 - accuracy: 1.0000\n"
     ]
    },
    {
     "data": {
      "text/plain": [
       "[4.8310987040167674e-05, 1.0]"
      ]
     },
     "execution_count": 138,
     "metadata": {},
     "output_type": "execute_result"
    }
   ],
   "source": [
    "model5.evaluate(x_train, y_train)"
   ]
  },
  {
   "cell_type": "code",
   "execution_count": 146,
   "metadata": {},
   "outputs": [],
   "source": [
    "alpha4 = 0.5\n",
    "\n",
    "m6_w1=(1-alpha4)*m1_w1+alpha4*m2_w1\n",
    "m6_w2=(1-alpha4)*m1_w2+alpha4*m2_w2\n",
    "m6_w3=(1-alpha4)*m1_w3+alpha4*m2_w3\n",
    "\n",
    "m6_b1=(1-alpha4)*m1_b1+alpha4*m2_b1\n",
    "m6_b2=(1-alpha4)*m1_b2+alpha4*m2_b2\n",
    "m6_b3=(1-alpha4)*m1_b3+alpha4*m2_b3"
   ]
  },
  {
   "cell_type": "code",
   "execution_count": 147,
   "metadata": {},
   "outputs": [],
   "source": [
    "W1_m6=[]\n",
    "W2_m6=[]\n",
    "W3_m6=[]\n",
    "\n",
    "m6_w1=np.array(m6_w1)\n",
    "m6_w2=np.array(m6_w2)\n",
    "m6_w3=np.array(m6_w3)\n",
    "m6_b1=np.array(m6_b1)\n",
    "m6_b2=np.array(m6_b2)\n",
    "m6_b3=np.array(m6_b3)\n",
    "\n",
    "W1_m6.append(m6_w1)\n",
    "W2_m6.append(m6_w2)\n",
    "W3_m6.append(m6_w3)\n",
    "W1_m6.append(m6_b1)\n",
    "W2_m6.append(m6_b2)\n",
    "W3_m6.append(m6_b3)\n",
    "\n",
    "model6=create_model()\n",
    "model6.layers[0].set_weights(W1_m6)\n",
    "model6.layers[3].set_weights(W2_m6)\n",
    "model6.layers[4].set_weights(W3_m6)"
   ]
  },
  {
   "cell_type": "code",
   "execution_count": 148,
   "metadata": {},
   "outputs": [
    {
     "name": "stdout",
     "output_type": "stream",
     "text": [
      "Epoch 1/20\n",
      "235/235 [==============================] - 6s 23ms/step - loss: 0.3251 - accuracy: 0.9123 - val_loss: 0.0824 - val_accuracy: 0.9773\n",
      "Epoch 2/20\n",
      "235/235 [==============================] - 6s 25ms/step - loss: 0.0602 - accuracy: 0.9837 - val_loss: 0.0615 - val_accuracy: 0.9810\n",
      "Epoch 3/20\n",
      "235/235 [==============================] - 6s 26ms/step - loss: 0.0417 - accuracy: 0.9893 - val_loss: 0.0541 - val_accuracy: 0.9839\n",
      "Epoch 4/20\n",
      "235/235 [==============================] - 6s 25ms/step - loss: 0.0323 - accuracy: 0.9926 - val_loss: 0.0498 - val_accuracy: 0.9830\n",
      "Epoch 5/20\n",
      "235/235 [==============================] - 6s 26ms/step - loss: 0.0259 - accuracy: 0.9939 - val_loss: 0.0470 - val_accuracy: 0.9847\n",
      "Epoch 6/20\n",
      "235/235 [==============================] - 6s 26ms/step - loss: 0.0213 - accuracy: 0.9954 - val_loss: 0.0492 - val_accuracy: 0.9833\n",
      "Epoch 7/20\n",
      "235/235 [==============================] - 6s 25ms/step - loss: 0.0181 - accuracy: 0.9963 - val_loss: 0.0457 - val_accuracy: 0.9852\n",
      "Epoch 8/20\n",
      "235/235 [==============================] - 6s 26ms/step - loss: 0.0155 - accuracy: 0.9966 - val_loss: 0.0461 - val_accuracy: 0.9860\n",
      "Epoch 9/20\n",
      "235/235 [==============================] - 6s 25ms/step - loss: 0.0129 - accuracy: 0.9972 - val_loss: 0.0436 - val_accuracy: 0.9856\n",
      "Epoch 10/20\n",
      "235/235 [==============================] - 6s 27ms/step - loss: 0.0105 - accuracy: 0.9981 - val_loss: 0.0492 - val_accuracy: 0.9850\n",
      "Epoch 11/20\n",
      "235/235 [==============================] - 6s 26ms/step - loss: 0.0107 - accuracy: 0.9974 - val_loss: 0.0478 - val_accuracy: 0.9854\n",
      "Epoch 12/20\n",
      "235/235 [==============================] - 6s 26ms/step - loss: 0.0087 - accuracy: 0.9985 - val_loss: 0.0446 - val_accuracy: 0.9854\n",
      "Epoch 13/20\n",
      "235/235 [==============================] - 6s 26ms/step - loss: 0.0078 - accuracy: 0.9985 - val_loss: 0.0454 - val_accuracy: 0.9865\n",
      "Epoch 14/20\n",
      "235/235 [==============================] - 6s 26ms/step - loss: 0.0060 - accuracy: 0.9990 - val_loss: 0.0490 - val_accuracy: 0.9851\n",
      "Epoch 15/20\n",
      "235/235 [==============================] - 6s 26ms/step - loss: 0.0055 - accuracy: 0.9992 - val_loss: 0.0516 - val_accuracy: 0.9848\n",
      "Epoch 16/20\n",
      "235/235 [==============================] - 6s 27ms/step - loss: 0.0049 - accuracy: 0.9993 - val_loss: 0.0480 - val_accuracy: 0.9858\n",
      "Epoch 17/20\n",
      "235/235 [==============================] - 6s 26ms/step - loss: 0.0049 - accuracy: 0.9992 - val_loss: 0.0521 - val_accuracy: 0.9844\n",
      "Epoch 18/20\n",
      "235/235 [==============================] - 6s 26ms/step - loss: 0.0034 - accuracy: 0.9995 - val_loss: 0.0509 - val_accuracy: 0.9847\n",
      "Epoch 19/20\n",
      "235/235 [==============================] - 6s 26ms/step - loss: 0.0031 - accuracy: 0.9996 - val_loss: 0.0501 - val_accuracy: 0.9857\n",
      "Epoch 20/20\n",
      "235/235 [==============================] - 6s 26ms/step - loss: 0.0027 - accuracy: 0.9997 - val_loss: 0.0491 - val_accuracy: 0.9859\n"
     ]
    }
   ],
   "source": [
    "adam = keras.optimizers.Adam(lr=0.001)\n",
    "model6.compile(optimizer='adam', loss='categorical_crossentropy', metrics=['accuracy'])\n",
    "\n",
    "history6=model6.fit(x_train,y_train,batch_size=256,epochs=epochs,\n",
    "                    validation_data=(x_test, y_test))"
   ]
  },
  {
   "cell_type": "code",
   "execution_count": 149,
   "metadata": {},
   "outputs": [
    {
     "name": "stdout",
     "output_type": "stream",
     "text": [
      "313/313 [==============================] - 1s 2ms/step - loss: 0.0491 - accuracy: 0.9859\n"
     ]
    },
    {
     "data": {
      "text/plain": [
       "[0.04909065365791321, 0.9858999848365784]"
      ]
     },
     "execution_count": 149,
     "metadata": {},
     "output_type": "execute_result"
    }
   ],
   "source": [
    "model6.evaluate(x_test, y_test)"
   ]
  },
  {
   "cell_type": "code",
   "execution_count": 150,
   "metadata": {},
   "outputs": [
    {
     "name": "stdout",
     "output_type": "stream",
     "text": [
      "1875/1875 [==============================] - 3s 2ms/step - loss: 0.0021 - accuracy: 0.9999\n"
     ]
    },
    {
     "data": {
      "text/plain": [
       "[0.0021496114786714315, 0.9998999834060669]"
      ]
     },
     "execution_count": 150,
     "metadata": {},
     "output_type": "execute_result"
    }
   ],
   "source": [
    "model6.evaluate(x_train, y_train)"
   ]
  },
  {
   "cell_type": "code",
   "execution_count": 157,
   "metadata": {},
   "outputs": [],
   "source": [
    "alpha5 = 1.0\n",
    "\n",
    "m7_w1=(1-alpha5)*m1_w1+alpha5*m2_w1\n",
    "m7_w2=(1-alpha5)*m1_w2+alpha5*m2_w2\n",
    "m7_w3=(1-alpha5)*m1_w3+alpha5*m2_w3\n",
    "\n",
    "m7_b1=(1-alpha5)*m1_b1+alpha5*m2_b1\n",
    "m7_b2=(1-alpha5)*m1_b2+alpha5*m2_b2\n",
    "m7_b3=(1-alpha5)*m1_b3+alpha5*m2_b3"
   ]
  },
  {
   "cell_type": "code",
   "execution_count": 158,
   "metadata": {},
   "outputs": [],
   "source": [
    "W1_m7=[]\n",
    "W2_m7=[]\n",
    "W3_m7=[]\n",
    "\n",
    "m7_w1=np.array(m7_w1)\n",
    "m7_w2=np.array(m7_w2)\n",
    "m7_w3=np.array(m7_w3)\n",
    "m7_b1=np.array(m7_b1)\n",
    "m7_b2=np.array(m7_b2)\n",
    "m7_b3=np.array(m7_b3)\n",
    "\n",
    "W1_m7.append(m7_w1)\n",
    "W2_m7.append(m7_w2)\n",
    "W3_m7.append(m7_w3)\n",
    "W1_m7.append(m7_b1)\n",
    "W2_m7.append(m7_b2)\n",
    "W3_m7.append(m7_b3)\n",
    "\n",
    "model7=create_model()\n",
    "model7.layers[0].set_weights(W1_m7)\n",
    "model7.layers[3].set_weights(W2_m7)\n",
    "model7.layers[4].set_weights(W3_m7)"
   ]
  },
  {
   "cell_type": "code",
   "execution_count": 159,
   "metadata": {},
   "outputs": [
    {
     "name": "stdout",
     "output_type": "stream",
     "text": [
      "Epoch 1/20\n",
      "235/235 [==============================] - 6s 25ms/step - loss: 0.0538 - accuracy: 0.9843 - val_loss: 0.0552 - val_accuracy: 0.9815\n",
      "Epoch 2/20\n",
      "235/235 [==============================] - 6s 24ms/step - loss: 0.0474 - accuracy: 0.9861 - val_loss: 0.0553 - val_accuracy: 0.9824\n",
      "Epoch 3/20\n",
      "235/235 [==============================] - 6s 24ms/step - loss: 0.0426 - accuracy: 0.9871 - val_loss: 0.0555 - val_accuracy: 0.9818\n",
      "Epoch 4/20\n",
      "235/235 [==============================] - 6s 25ms/step - loss: 0.0375 - accuracy: 0.9895 - val_loss: 0.0550 - val_accuracy: 0.9825\n",
      "Epoch 5/20\n",
      "235/235 [==============================] - 6s 26ms/step - loss: 0.0359 - accuracy: 0.9896 - val_loss: 0.0548 - val_accuracy: 0.9813\n",
      "Epoch 6/20\n",
      "235/235 [==============================] - 6s 26ms/step - loss: 0.0334 - accuracy: 0.9903 - val_loss: 0.0550 - val_accuracy: 0.9827\n",
      "Epoch 7/20\n",
      "235/235 [==============================] - 6s 27ms/step - loss: 0.0267 - accuracy: 0.9925 - val_loss: 0.0517 - val_accuracy: 0.9830\n",
      "Epoch 8/20\n",
      "235/235 [==============================] - 6s 26ms/step - loss: 0.0274 - accuracy: 0.9925 - val_loss: 0.0536 - val_accuracy: 0.9821\n",
      "Epoch 9/20\n",
      "235/235 [==============================] - 6s 26ms/step - loss: 0.0231 - accuracy: 0.9934 - val_loss: 0.0472 - val_accuracy: 0.9846\n",
      "Epoch 10/20\n",
      "235/235 [==============================] - 6s 26ms/step - loss: 0.0215 - accuracy: 0.9939 - val_loss: 0.0475 - val_accuracy: 0.9846\n",
      "Epoch 11/20\n",
      "235/235 [==============================] - 6s 27ms/step - loss: 0.0193 - accuracy: 0.9946 - val_loss: 0.0476 - val_accuracy: 0.9852\n",
      "Epoch 12/20\n",
      "235/235 [==============================] - 7s 28ms/step - loss: 0.0177 - accuracy: 0.9951 - val_loss: 0.0509 - val_accuracy: 0.9837\n",
      "Epoch 13/20\n",
      "235/235 [==============================] - 6s 27ms/step - loss: 0.0184 - accuracy: 0.9943 - val_loss: 0.0466 - val_accuracy: 0.9847\n",
      "Epoch 14/20\n",
      "235/235 [==============================] - 7s 29ms/step - loss: 0.0162 - accuracy: 0.9959 - val_loss: 0.0465 - val_accuracy: 0.9844\n",
      "Epoch 15/20\n",
      "235/235 [==============================] - 6s 26ms/step - loss: 0.0150 - accuracy: 0.9961 - val_loss: 0.0489 - val_accuracy: 0.9841\n",
      "Epoch 16/20\n",
      "235/235 [==============================] - 6s 25ms/step - loss: 0.0135 - accuracy: 0.9965 - val_loss: 0.0540 - val_accuracy: 0.9840\n",
      "Epoch 17/20\n",
      "235/235 [==============================] - 6s 25ms/step - loss: 0.0120 - accuracy: 0.9972 - val_loss: 0.0509 - val_accuracy: 0.9856\n",
      "Epoch 18/20\n",
      "235/235 [==============================] - 6s 27ms/step - loss: 0.0108 - accuracy: 0.9972 - val_loss: 0.0500 - val_accuracy: 0.9853\n",
      "Epoch 19/20\n",
      "235/235 [==============================] - 6s 27ms/step - loss: 0.0110 - accuracy: 0.9972 - val_loss: 0.0514 - val_accuracy: 0.9842\n",
      "Epoch 20/20\n",
      "235/235 [==============================] - 7s 28ms/step - loss: 0.0091 - accuracy: 0.9977 - val_loss: 0.0569 - val_accuracy: 0.9831\n"
     ]
    }
   ],
   "source": [
    "adam = keras.optimizers.Adam(lr=0.001)\n",
    "model7.compile(optimizer='adam', loss='categorical_crossentropy', metrics=['accuracy'])\n",
    "\n",
    "history7=model7.fit(x_train,y_train,batch_size=256,epochs=epochs,\n",
    "                    validation_data=(x_test, y_test))"
   ]
  },
  {
   "cell_type": "code",
   "execution_count": 160,
   "metadata": {},
   "outputs": [
    {
     "name": "stdout",
     "output_type": "stream",
     "text": [
      "313/313 [==============================] - 1s 2ms/step - loss: 0.0569 - accuracy: 0.9831\n"
     ]
    },
    {
     "data": {
      "text/plain": [
       "[0.05694104731082916, 0.9830999970436096]"
      ]
     },
     "execution_count": 160,
     "metadata": {},
     "output_type": "execute_result"
    }
   ],
   "source": [
    "model7.evaluate(x_test, y_test)"
   ]
  },
  {
   "cell_type": "code",
   "execution_count": 161,
   "metadata": {},
   "outputs": [
    {
     "name": "stdout",
     "output_type": "stream",
     "text": [
      "1875/1875 [==============================] - 4s 2ms/step - loss: 0.0092 - accuracy: 0.9976\n"
     ]
    },
    {
     "data": {
      "text/plain": [
       "[0.009225440211594105, 0.9975666403770447]"
      ]
     },
     "execution_count": 161,
     "metadata": {},
     "output_type": "execute_result"
    }
   ],
   "source": [
    "model7.evaluate(x_train, y_train)"
   ]
  },
  {
   "cell_type": "code",
   "execution_count": 177,
   "metadata": {},
   "outputs": [],
   "source": [
    "alpha6 = 1.5\n",
    "\n",
    "m8_w1=(1-alpha6)*m1_w1+alpha6*m2_w1\n",
    "m8_w2=(1-alpha6)*m1_w2+alpha6*m2_w2\n",
    "m8_w3=(1-alpha6)*m1_w3+alpha6*m2_w3\n",
    "\n",
    "m8_b1=(1-alpha6)*m1_b1+alpha6*m2_b1\n",
    "m8_b2=(1-alpha6)*m1_b2+alpha6*m2_b2\n",
    "m8_b3=(1-alpha6)*m1_b3+alpha6*m2_b3"
   ]
  },
  {
   "cell_type": "code",
   "execution_count": 178,
   "metadata": {},
   "outputs": [],
   "source": [
    "W1_m8=[]\n",
    "W2_m8=[]\n",
    "W3_m8=[]\n",
    "\n",
    "m8_w1=np.array(m8_w1)\n",
    "m8_w2=np.array(m8_w2)\n",
    "m8_w3=np.array(m8_w3)\n",
    "m8_b1=np.array(m8_b1)\n",
    "m8_b2=np.array(m8_b2)\n",
    "m8_b3=np.array(m8_b3)\n",
    "\n",
    "W1_m8.append(m8_w1)\n",
    "W2_m8.append(m8_w2)\n",
    "W3_m8.append(m8_w3)\n",
    "W1_m8.append(m8_b1)\n",
    "W2_m8.append(m8_b2)\n",
    "W3_m8.append(m8_b3)\n",
    "\n",
    "model8=create_model()\n",
    "model8.layers[0].set_weights(W1_m8)\n",
    "model8.layers[3].set_weights(W2_m8)\n",
    "model8.layers[4].set_weights(W3_m8)"
   ]
  },
  {
   "cell_type": "code",
   "execution_count": 179,
   "metadata": {},
   "outputs": [
    {
     "name": "stdout",
     "output_type": "stream",
     "text": [
      "Epoch 1/20\n",
      "235/235 [==============================] - 7s 27ms/step - loss: 3.2646 - accuracy: 0.8521 - val_loss: 0.1951 - val_accuracy: 0.9680\n",
      "Epoch 2/20\n",
      "235/235 [==============================] - 6s 26ms/step - loss: 0.1459 - accuracy: 0.9745 - val_loss: 0.1644 - val_accuracy: 0.9708\n",
      "Epoch 3/20\n",
      "235/235 [==============================] - 6s 27ms/step - loss: 0.1062 - accuracy: 0.9786 - val_loss: 0.1360 - val_accuracy: 0.9748\n",
      "Epoch 4/20\n",
      "235/235 [==============================] - 6s 26ms/step - loss: 0.0868 - accuracy: 0.9824 - val_loss: 0.1204 - val_accuracy: 0.9774\n",
      "Epoch 5/20\n",
      "235/235 [==============================] - 6s 26ms/step - loss: 0.0710 - accuracy: 0.9837 - val_loss: 0.1234 - val_accuracy: 0.9744\n",
      "Epoch 6/20\n",
      "235/235 [==============================] - 6s 26ms/step - loss: 0.0701 - accuracy: 0.9827 - val_loss: 0.1184 - val_accuracy: 0.9768\n",
      "Epoch 7/20\n",
      "235/235 [==============================] - 6s 27ms/step - loss: 0.0628 - accuracy: 0.9841 - val_loss: 0.1173 - val_accuracy: 0.9754\n",
      "Epoch 8/20\n",
      "235/235 [==============================] - 6s 26ms/step - loss: 0.0558 - accuracy: 0.9852 - val_loss: 0.1007 - val_accuracy: 0.9794\n",
      "Epoch 9/20\n",
      "235/235 [==============================] - 6s 27ms/step - loss: 0.0490 - accuracy: 0.9871 - val_loss: 0.0959 - val_accuracy: 0.9786\n",
      "Epoch 10/20\n",
      "235/235 [==============================] - 6s 27ms/step - loss: 0.0419 - accuracy: 0.9889 - val_loss: 0.1118 - val_accuracy: 0.9770\n",
      "Epoch 11/20\n",
      "235/235 [==============================] - 6s 27ms/step - loss: 0.0467 - accuracy: 0.9874 - val_loss: 0.0997 - val_accuracy: 0.9782\n",
      "Epoch 12/20\n",
      "235/235 [==============================] - 6s 25ms/step - loss: 0.0335 - accuracy: 0.9896 - val_loss: 0.0917 - val_accuracy: 0.9803\n",
      "Epoch 13/20\n",
      "235/235 [==============================] - 6s 25ms/step - loss: 0.0342 - accuracy: 0.9899 - val_loss: 0.0941 - val_accuracy: 0.9786\n",
      "Epoch 14/20\n",
      "235/235 [==============================] - 6s 25ms/step - loss: 0.0381 - accuracy: 0.9885 - val_loss: 0.0911 - val_accuracy: 0.9789\n",
      "Epoch 15/20\n",
      "235/235 [==============================] - 6s 25ms/step - loss: 0.0280 - accuracy: 0.9912 - val_loss: 0.0939 - val_accuracy: 0.9786\n",
      "Epoch 16/20\n",
      "235/235 [==============================] - 6s 25ms/step - loss: 0.0302 - accuracy: 0.9907 - val_loss: 0.0851 - val_accuracy: 0.9800\n",
      "Epoch 17/20\n",
      "235/235 [==============================] - 6s 25ms/step - loss: 0.0254 - accuracy: 0.9922 - val_loss: 0.0793 - val_accuracy: 0.9807\n",
      "Epoch 18/20\n",
      "235/235 [==============================] - 6s 25ms/step - loss: 0.0281 - accuracy: 0.9917 - val_loss: 0.0821 - val_accuracy: 0.9799\n",
      "Epoch 19/20\n",
      "235/235 [==============================] - 6s 25ms/step - loss: 0.0201 - accuracy: 0.9934 - val_loss: 0.0902 - val_accuracy: 0.9792\n",
      "Epoch 20/20\n",
      "235/235 [==============================] - 6s 27ms/step - loss: 0.0184 - accuracy: 0.9942 - val_loss: 0.0989 - val_accuracy: 0.9758\n"
     ]
    }
   ],
   "source": [
    "adam = keras.optimizers.Adam(lr=0.001)\n",
    "model8.compile(optimizer='adam', loss='categorical_crossentropy', metrics=['accuracy'])\n",
    "\n",
    "history8=model8.fit(x_train,y_train,batch_size=256,epochs=epochs,\n",
    "                    validation_data=(x_test, y_test))"
   ]
  },
  {
   "cell_type": "code",
   "execution_count": 180,
   "metadata": {},
   "outputs": [
    {
     "name": "stdout",
     "output_type": "stream",
     "text": [
      "313/313 [==============================] - 1s 2ms/step - loss: 0.0989 - accuracy: 0.9758\n"
     ]
    },
    {
     "data": {
      "text/plain": [
       "[0.09890776127576828, 0.9757999777793884]"
      ]
     },
     "execution_count": 180,
     "metadata": {},
     "output_type": "execute_result"
    }
   ],
   "source": [
    "model8.evaluate(x_test, y_test)"
   ]
  },
  {
   "cell_type": "code",
   "execution_count": 181,
   "metadata": {},
   "outputs": [
    {
     "name": "stdout",
     "output_type": "stream",
     "text": [
      "1875/1875 [==============================] - 4s 2ms/step - loss: 0.0301 - accuracy: 0.9897\n"
     ]
    },
    {
     "data": {
      "text/plain": [
       "[0.03013252094388008, 0.9896666407585144]"
      ]
     },
     "execution_count": 181,
     "metadata": {},
     "output_type": "execute_result"
    }
   ],
   "source": [
    "model8.evaluate(x_train, y_train)"
   ]
  },
  {
   "cell_type": "code",
   "execution_count": null,
   "metadata": {},
   "outputs": [],
   "source": []
  },
  {
   "cell_type": "code",
   "execution_count": 188,
   "metadata": {},
   "outputs": [],
   "source": [
    "from keras import backend as k\n",
    "\n",
    "train_loss=[0.0004654575895983726,4.442395493242657e-06,4.8310987040167674e-05,\n",
    "            0.0021496114786714315,0.009225440211594105,0.03013252094388008]\n",
    "test_loss=[0.4251609742641449,0.18052780628204346,0.07926635444164276,\n",
    "           0.04909065365791321,0.05694104731082916,0.09890776127576828]\n",
    "\n",
    "\n",
    "alpha=[-1.0,-0.5,0.0,0.5,1.0,1.5]\n",
    "\n",
    "train_acc=[0.9998833537101746,1.0,1.0,0.9998999834060669,\n",
    "           0.9975666403770447,0.9896666407585144]\n",
    "test_acc=[0.9837999939918518,0.9843999743461609,0.985700011253356990,\n",
    "          0.9858999848365784,0.9830999970436096,0.9757999777793884]"
   ]
  },
  {
   "cell_type": "code",
   "execution_count": 190,
   "metadata": {
    "scrolled": true
   },
   "outputs": [
    {
     "data": {
      "image/png": "[encoded data removed]",
      "text/plain": [
       "<Figure size 432x288 with 1 Axes>"
      ]
     },
     "metadata": {
      "needs_background": "light"
     },
     "output_type": "display_data"
    }
   ],
   "source": [
    "plt.plot(alpha,train_loss, label = 'train_loss')\n",
    "plt.plot(alpha,test_loss, label = 'test_loss')\n",
    "plt.title('Model1 Loss')\n",
    "plt.ylabel('Loss')\n",
    "plt.xlabel('alpha')\n",
    "plt.legend()\n",
    "plt.savefig(\"interpolation_loss.png\")"
   ]
  },
  {
   "cell_type": "code",
   "execution_count": 187,
   "metadata": {},
   "outputs": [
    {
     "data": {
      "image/png": "[encoded data removed]",
      "text/plain": [
       "<Figure size 432x288 with 1 Axes>"
      ]
     },
     "metadata": {
      "needs_background": "light"
     },
     "output_type": "display_data"
    }
   ],
   "source": [
    "plt.plot(alpha,train_acc,label = 'train_acc')\n",
    "plt.plot(alpha,test_acc,label = 'test_acc')\n",
    "plt.title('Model1 Accuracy')\n",
    "plt.ylabel('Accuracy')\n",
    "plt.xlabel('alpha')\n",
    "plt.legend()\n",
    "plt.savefig(\"interpolation_acc.png\")"
   ]
  },
  {
   "cell_type": "code",
   "execution_count": null,
   "metadata": {},
   "outputs": [],
   "source": []
  }
 ],
 "metadata": {
  "kernelspec": {
   "display_name": "Python 3",
   "language": "python",
   "name": "python3"
  },
  "language_info": {
   "codemirror_mode": {
    "name": "ipython",
    "version": 3
   },
   "file_extension": ".py",
   "mimetype": "text/x-python",
   "name": "python",
   "nbconvert_exporter": "python",
   "pygments_lexer": "ipython3",
   "version": "3.8.5"
  }
 },
 "nbformat": 4,
 "nbformat_minor": 4
}
