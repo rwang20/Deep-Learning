{
  "nbformat": 4,
  "nbformat_minor": 0,
  "metadata": {
    "accelerator": "GPU",
    "colab": {
      "name": "model_s2s_att.ipynb",
      "provenance": [],
      "collapsed_sections": [],
      "machine_shape": "hm"
    },
    "kernelspec": {
      "display_name": "Python 3",
      "name": "python3"
    },
    "language_info": {
      "name": "python"
    }
  },
  "cells": [
    {
      "cell_type": "code",
      "metadata": {
        "id": "ri9OzmrvRoa7"
      },
      "source": [
        "from __future__ import absolute_import\n",
        "from __future__ import division\n",
        "from __future__ import print_function"
      ],
      "execution_count": 2,
      "outputs": []
    },
    {
      "cell_type": "code",
      "metadata": {
        "id": "BpygrL-FRrWr"
      },
      "source": [
        "import tensorflow as tf\n",
        "import numpy as np\n",
        "import os\n",
        "import sys\n",
        "import json\n",
        "import pandas as pd\n",
        "import argparse\n",
        "import random\n",
        "import pickle"
      ],
      "execution_count": 3,
      "outputs": []
    },
    {
      "cell_type": "code",
      "metadata": {
        "colab": {
          "base_uri": "https://localhost:8080/"
        },
        "id": "wS7LDc543eMP",
        "outputId": "89f2ffab-1fce-4cc5-e3fe-84d492d12b0d"
      },
      "source": [
        "from google.colab import drive\n",
        "drive.mount(\"/content/drive\")"
      ],
      "execution_count": 4,
      "outputs": [
        {
          "output_type": "stream",
          "text": [
            "Mounted at /content/drive\n"
          ],
          "name": "stdout"
        }
      ]
    },
    {
      "cell_type": "code",
      "metadata": {
        "colab": {
          "resources": {
            "http://localhost:8080/nbextensions/google.colab/files.js": {
              "data": "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",
              "ok": true,
              "headers": [
                [
                  "content-type",
                  "application/javascript"
                ]
              ],
              "status": 200,
              "status_text": ""
            }
          },
          "base_uri": "https://localhost:8080/",
          "height": 140
        },
        "id": "IDofJWvNRuq9",
        "outputId": "c3876f55-ac90-4936-df86-31642011ef27"
      },
      "source": [
        "from google.colab import files\n",
        "def getLocalFiles():\n",
        "    _files = files.upload()\n",
        "    if len(_files) >0:\n",
        "       for k,v in _files.items():\n",
        "         open(k,'wb').write(v)\n",
        "getLocalFiles()"
      ],
      "execution_count": 5,
      "outputs": [
        {
          "output_type": "display_data",
          "data": {
            "text/html": [
              "\n",
              "     <input type=\"file\" id=\"files-f38a4ef8-bd44-46de-bb0c-2738075ac391\" name=\"files[]\" multiple disabled\n",
              "        style=\"border:none\" />\n",
              "     <output id=\"result-f38a4ef8-bd44-46de-bb0c-2738075ac391\">\n",
              "      Upload widget is only available when the cell has been executed in the\n",
              "      current browser session. Please rerun this cell to enable.\n",
              "      </output>\n",
              "      <script src=\"/nbextensions/google.colab/files.js\"></script> "
            ],
            "text/plain": [
              "<IPython.core.display.HTML object>"
            ]
          },
          "metadata": {
            "tags": []
          }
        },
        {
          "output_type": "stream",
          "text": [
            "Saving datasetBase.py to datasetBase.py\n",
            "Saving datasetProcessing.py to datasetProcessing.py\n",
            "Saving utils.py to utils.py\n"
          ],
          "name": "stdout"
        }
      ]
    },
    {
      "cell_type": "code",
      "metadata": {
        "colab": {
          "base_uri": "https://localhost:8080/"
        },
        "id": "7RxQyeLySgMw",
        "outputId": "a63e23b3-a28b-4055-848b-84526b4e1b62"
      },
      "source": [
        "!pip install ansicolors\n",
        "\n",
        "from colors import *\n",
        "from tqdm import *\n",
        "from datasetProcessing import DatasetTrain,DatasetVal\n",
        "from utils import inv_sigmoid, linear_decay, dec_print_train, dec_print_val, dec_print_test\n",
        "from subprocess import call\n",
        "from keras.preprocessing.text import text_to_word_sequence, Tokenizer\n",
        "\n",
        "import tensorflow.compat.v1 as tf\n",
        "tf.disable_v2_behavior()\n",
        "\n",
        "tf.reset_default_graph()"
      ],
      "execution_count": 6,
      "outputs": [
        {
          "output_type": "stream",
          "text": [
            "Collecting ansicolors\n",
            "  Downloading https://files.pythonhosted.org/packages/53/18/a56e2fe47b259bb52201093a3a9d4a32014f9d85071ad07e9d60600890ca/ansicolors-1.1.8-py2.py3-none-any.whl\n",
            "Installing collected packages: ansicolors\n",
            "Successfully installed ansicolors-1.1.8\n",
            "WARNING:tensorflow:From /usr/local/lib/python3.7/dist-packages/tensorflow/python/compat/v2_compat.py:96: disable_resource_variables (from tensorflow.python.ops.variable_scope) is deprecated and will be removed in a future version.\n",
            "Instructions for updating:\n",
            "non-resource variables are not supported in the long term\n"
          ],
          "name": "stdout"
        }
      ]
    },
    {
      "cell_type": "code",
      "metadata": {
        "id": "HMPS-sHx_W13"
      },
      "source": [
        "load_saver = False\n",
        "test_mode = False\n",
        "with_attention = True\n",
        "\n",
        "learning_rate = 1e-4\n",
        "num_epoches = 100\n",
        "batch_size = 250 \n",
        "num_display_steps = 20\n",
        "num_saver_epoches = 10\n",
        "save_dir = '/content/drive/My Drive/save_models'\n",
        "log_dir =  '/content/drive/My Drive/log'\n",
        "output_filename = '/content/drive/My Drive/output.txt'\n",
        "data_dir = '/content/drive/MyDrive/MLDS_hw2_1_data'\n",
        "test_dir = '/content/drive/My Drive/MLDS_hw2_1_data/testing_data'"
      ],
      "execution_count": 7,
      "outputs": []
    },
    {
      "cell_type": "code",
      "metadata": {
        "id": "DSLkqGedg4aJ"
      },
      "source": [
        "random.seed(0)\n",
        "np.random.seed(0)\n",
        "tf.set_random_seed(0)\n",
        "\n",
        "n_inputs        = 4096\n",
        "n_hidden        = 512\n",
        "val_batch_size  = 100 #100\n",
        "n_frames        = 80\n",
        "max_caption_len = 50\n",
        "forget_bias_red = 1.0\n",
        "forget_bias_gre = 1.0\n",
        "dropout_prob    = 0.5\n",
        "n_attention     = n_hidden"
      ],
      "execution_count": 8,
      "outputs": []
    },
    {
      "cell_type": "code",
      "metadata": {
        "id": "c1C4649TTAXF"
      },
      "source": [
        "filters = '`\",\"?!/.()'\n",
        "special_tokens  = {'<PAD>': 0, '<BOS>': 1, '<EOS>': 2, '<UNK>': 3}\n",
        "special_tokens_to_word = ['<PAD>', '<BOS>', '<EOS>', '<UNK>']\n",
        "max_caption_len = 50\n",
        "phases = {'train': 0, 'val': 1, 'test': 2}"
      ],
      "execution_count": 9,
      "outputs": []
    },
    {
      "cell_type": "code",
      "metadata": {
        "id": "tjKAsbF-TMn7"
      },
      "source": [
        "class S2VT:\n",
        "    def __init__(self, vocab_num = 0, \n",
        "                       with_attention = True, \n",
        "                       lr = 1e-4):\n",
        "\n",
        "        self.vocab_num = vocab_num\n",
        "        self.with_attention = with_attention\n",
        "        self.learning_rate = lr\n",
        "        self.saver = None\n",
        "\n",
        "    def set_saver(self, saver):\n",
        "        self.saver = saver\n",
        "     \n",
        "    def build_model(self, feat, captions=None, cap_len=None, sampling=None, phase=0):\n",
        "\n",
        "        weights = {\n",
        "            'W_feat': tf.Variable( tf.random.uniform([n_inputs, n_hidden], -0.1, 0.1), name='W_feat'), \n",
        "            'W_dec': tf.Variable(tf.random.uniform([n_hidden, self.vocab_num], -0.1, 0.1), name='W_dec')\n",
        "        }\n",
        "        biases = {\n",
        "            'b_feat':  tf.Variable( tf.zeros([n_hidden]), name='b_feat'),\n",
        "            'b_dec': tf.Variable(tf.zeros([self.vocab_num]), name='b_dec')\n",
        "        }   \n",
        "        embeddings = {\n",
        "         'emb': tf.Variable(tf.random.uniform([self.vocab_num, n_hidden], -0.1, 0.1), name='emb')\n",
        "        }\n",
        "\n",
        "        if self.with_attention:\n",
        "            print('wrapped with bahdanau_attention...')\n",
        "            weights['w_enc_out'] =  tf.Variable(tf.random.uniform([n_hidden, n_hidden]), \n",
        "                dtype=tf.float32, name='w_enc_out')\n",
        "            weights['w_dec_state'] =  tf.Variable(tf.random.uniform([n_hidden, n_hidden]), \n",
        "                dtype=tf.float32, name='w_dec_state')\n",
        "            weights['v'] = tf.Variable(tf.random.uniform([n_hidden, 1]), \n",
        "                dtype=tf.float32, name='v')\n",
        "\n",
        "        batch_size = tf.shape(feat)[0]\n",
        "\n",
        "        if phase != phases['test']:\n",
        "            # cap_len: (250, 1) -> (250, 50)\n",
        "            cap_mask = tf.sequence_mask(cap_len, max_caption_len, dtype=tf.float32)\n",
        "     \n",
        "        if phase == phases['train']: #  add noise\n",
        "            noise = tf.random_uniform(tf.shape(feat), -0.1, 0.1, dtype=tf.float32)\n",
        "            feat = feat + noise\n",
        "\n",
        "        if phase == phases['train']:\n",
        "            feat = tf.nn.dropout(feat, dropout_prob)\n",
        "\n",
        "        feat = tf.reshape(feat, [-1, n_inputs])\n",
        "        image_emb = tf.matmul(feat, weights['W_feat']) + biases['b_feat']\n",
        "        image_emb = tf.reshape(image_emb, [-1, n_frames, n_hidden])\n",
        "        image_emb = tf.transpose(image_emb, perm=[1, 0, 2])\n",
        "        \n",
        "        with tf.variable_scope('LSTM1'):\n",
        "            lstm_red = tf.compat.v1.nn.rnn_cell.BasicLSTMCell(n_hidden, forget_bias=forget_bias_red, state_is_tuple=True)\n",
        "            if phase == phases['train']:\n",
        "                lstm_red = tf.nn.rnn_cell.DropoutWrapper(lstm_red, output_keep_prob=dropout_prob)    \n",
        "        with tf.variable_scope('LSTM2'):\n",
        "            lstm_gre = tf.compat.v1.nn.rnn_cell.BasicLSTMCell(n_hidden, forget_bias=forget_bias_gre, state_is_tuple=True)\n",
        "            if phase == phases['train']:\n",
        "                lstm_gre = tf.nn.rnn_cell.DropoutWrapper(lstm_gre, output_keep_prob=dropout_prob)    \n",
        "\n",
        "        state_red = lstm_red.zero_state(batch_size, dtype=tf.float32)\n",
        "        state_gre = lstm_gre.zero_state(batch_size, dtype=tf.float32)\n",
        "\n",
        "        if self.with_attention:\n",
        "            padding = tf.zeros([batch_size, n_hidden + n_attention])\n",
        "        else:\n",
        "            padding = tf.zeros([batch_size, n_hidden])\n",
        "\n",
        "        h_src = []\n",
        "        for i in range(0, n_frames):\n",
        "            with tf.variable_scope(\"LSTM1\"):\n",
        "                output_red, state_red = lstm_red(image_emb[i,:,:], state_red)\n",
        "            \n",
        "            with tf.variable_scope(\"LSTM2\"):\n",
        "                output_gre, state_gre = lstm_gre(tf.concat([padding, output_red], axis=1), state_gre)\n",
        "                h_src.append(output_gre) # even though padding is augmented, output_gre/state_gre's shape not change\n",
        "\n",
        "        h_src = tf.stack(h_src, axis = 0)\n",
        "\n",
        "        bos = tf.ones([batch_size, n_hidden])\n",
        "        padding_in = tf.zeros([batch_size, n_hidden])\n",
        "\n",
        "        logits = []\n",
        "        max_prob_index = None\n",
        "\n",
        "        if self.with_attention:\n",
        "            def bahdanau_attention(time, prev_output=None):\n",
        "                \n",
        "                if time == 0:\n",
        "                    H_t = h_src[-1,:, :] # encoder last output as first target input, H_t\n",
        "                else:\n",
        "                    H_t = prev_output\n",
        "\n",
        "                H_t = tf.matmul(H_t, weights['w_dec_state'])\n",
        "                H_s = tf.identity(h_src) # copy\n",
        "                    \n",
        "                H_s = tf.reshape(H_s, (-1, n_hidden))\n",
        "                score = tf.matmul(H_s, weights['w_enc_out'])\n",
        "                score = tf.reshape(score, (-1, batch_size, n_hidden))\n",
        "                score = tf.add(score, tf.expand_dims(H_t, 0))\n",
        "                \n",
        "                score = tf.reshape(score, (-1, n_hidden))\n",
        "                score = tf.matmul(tf.tanh(score), weights['v'])\n",
        "                score = tf.reshape(score, (n_frames, batch_size, 1))\n",
        "                score = tf.nn.softmax(score, dim=-1, name='alpha')\n",
        "\n",
        "                H_s = tf.reshape(H_s, (-1, batch_size, n_hidden))\n",
        "                C_i = tf.reduce_sum(tf.multiply(H_s, score), axis=0)\n",
        "                return C_i\n",
        "\n",
        "\n",
        "            def luong_attention(time, prev_output=None):\n",
        "                \n",
        "                if time == 0:\n",
        "                    H_t = h_src[-1,:, :] # encoder last output as first target input, H_t\n",
        "                else:\n",
        "                    H_t = prev_output\n",
        "                H_s = tf.identity(h_src) # copy\n",
        "\n",
        "                H_s = tf.reshape(H_s, (-1, n_hidden))\n",
        "                score = tf.matmul(H_s, weights['w_enc_out'])\n",
        "\n",
        "                H_s = tf.reshape(H_s, (-1, batch_size, n_hidden))\n",
        "                score = tf.reshape(score, (-1, batch_size, n_hidden))\n",
        "                \n",
        "                score = tf.reduce_sum(tf.multiply(score, tf.expand_dims(H_t, 0)), axis=-1)\n",
        "                score = tf.nn.softmax(score, dim=-1, name='alpha')\n",
        "\n",
        "                C_i = tf.reduce_sum(tf.multiply(H_s, tf.expand_dims(score, 2)), axis=0)\n",
        "                return C_i\n",
        "\n",
        "        cross_ent_list = []\n",
        "        for i in range(0, max_caption_len):\n",
        "\n",
        "            with tf.variable_scope(\"LSTM1\"):\n",
        "                output_red, state_red = lstm_red(padding_in, state_red)\n",
        "\n",
        "            if i == 0:\n",
        "                with tf.variable_scope(\"LSTM2\"):\n",
        "                    con = tf.concat([bos, output_red], axis=1)\n",
        "                    if self.with_attention:\n",
        "                        C_i = bahdanau_attention(i)\n",
        "                        #C_i = luong_attention(i)\n",
        "                        con = tf.concat([con, C_i], axis=1)\n",
        "\n",
        "                    output_gre, state_gre = lstm_gre(con, state_gre)\n",
        "            else:\n",
        "                if phase == phases['train']:\n",
        "                    if sampling[i] == True:\n",
        "                        feed_in = captions[:, i - 1]\n",
        "                    else:\n",
        "                        feed_in = tf.argmax(logit_words, 1)\n",
        "                else:\n",
        "                    feed_in = tf.argmax(logit_words, 1)\n",
        "                with tf.device(\"/cpu:0\"):\n",
        "                    embed_result = tf.nn.embedding_lookup(embeddings['emb'], feed_in)\n",
        "                with tf.variable_scope(\"LSTM2\"):\n",
        "                    con = tf.concat([embed_result, output_red], axis=1)\n",
        "                    if self.with_attention:\n",
        "                        C_i = bahdanau_attention(i, state_gre[1]) # (state_c, state_h)\n",
        "                        #C_i = luong_attention(i, state_gre[1])\n",
        "                        con = tf.concat([con, C_i], axis=1)\n",
        "                    output_gre, state_gre = lstm_gre(con, state_gre)\n",
        "\n",
        "            logit_words = tf.matmul(output_gre, weights['W_dec']) + biases['b_dec']\n",
        "            logits.append(logit_words)\n",
        "\n",
        "            if phase != phases['test']:\n",
        "                labels = captions[:, i]\n",
        "                one_hot_labels = tf.one_hot(labels, self.vocab_num, on_value = 1, off_value = None, axis = 1) \n",
        "                cross_entropy = tf.nn.softmax_cross_entropy_with_logits(logits=logit_words, labels=one_hot_labels)\n",
        "                cross_entropy = cross_entropy * cap_mask[:, i]\n",
        "                cross_ent_list.append(cross_entropy)\n",
        "        \n",
        "        loss = 0.0\n",
        "        if phase != phases['test']:\n",
        "            cross_entropy_tensor = tf.stack(cross_ent_list, 1)\n",
        "            loss = tf.reduce_sum(cross_entropy_tensor, axis=1)\n",
        "            loss = tf.divide(loss, tf.cast(cap_len, tf.float32))\n",
        "            loss = tf.reduce_mean(loss, axis=0)\n",
        "\n",
        "        logits = tf.stack(logits, axis = 0)\n",
        "        logits = tf.reshape(logits, (max_caption_len, batch_size, self.vocab_num))\n",
        "        logits = tf.transpose(logits, [1, 0, 2])\n",
        "        \n",
        "        summary = None\n",
        "        if phase == phases['train']:\n",
        "            summary = tf.summary.scalar('training loss', loss)\n",
        "        elif phase == phases['val']:\n",
        "            summary = tf.summary.scalar('validation loss', loss)\n",
        "\n",
        "        return logits, loss, summary\n",
        "\n",
        "    def inference(self, logits):\n",
        "        \n",
        "        #print('using greedy search...')\n",
        "        dec_pred = tf.argmax(logits, 2)\n",
        "        return dec_pred\n",
        "\n",
        "    def optimize(self, loss_op):\n",
        "\n",
        "        params = tf.trainable_variables()\n",
        "        optimizer = tf.train.AdamOptimizer(self.learning_rate)#.minimize(loss_op)\n",
        "        gradients, variables = zip(*optimizer.compute_gradients(loss_op))\n",
        "        gradients, _ = tf.clip_by_global_norm(gradients, 5.0)\n",
        "        train_op = optimizer.apply_gradients(zip(gradients, params))\n",
        "\n",
        "        return train_op"
      ],
      "execution_count": 10,
      "outputs": []
    },
    {
      "cell_type": "code",
      "metadata": {
        "id": "Uq-MQjbeTp0f"
      },
      "source": [
        "def train():\n",
        "  with tf.device('/device:GPU:0'):\n",
        "    datasetTrain = DatasetTrain(data_dir, batch_size)\n",
        "    datasetTrain.build_train_data_obj_list()\n",
        "    vocab_num = datasetTrain.dump_tokenizer()\n",
        "\n",
        "    print(\"vocab_num: \" + str(vocab_num))\n",
        "    datasetVal = DatasetVal(data_dir, val_batch_size)\n",
        "    datasetVal.build_val_data_obj_list()\n",
        "    _ = datasetVal.load_tokenizer() # vocab_num are the same\n",
        "\n",
        "    train_graph = tf.Graph()\n",
        "    val_graph = tf.Graph()\n",
        "\n",
        "    gpu_config = tf.ConfigProto()\n",
        "    gpu_config.gpu_options.allow_growth = True\n",
        "\n",
        "    print('train_graph: start')\n",
        "    with train_graph.as_default():\n",
        "        feat = tf.placeholder(tf.float32, [None, n_frames, n_inputs], name='video_features')\n",
        "        captions = tf.placeholder(tf.int32, [None, max_caption_len], name='captions')\n",
        "        sampling = tf.placeholder(tf.bool, [max_caption_len], name='sampling')\n",
        "        cap_len = tf.placeholder(tf.int32, [None], name='cap_len')\n",
        "        model = S2VT(vocab_num=vocab_num, with_attention=with_attention,\n",
        "                    lr=learning_rate)\n",
        "        logits, loss_op, summary = model.build_model(feat, captions, cap_len, sampling, phases['train'])\n",
        "        dec_pred = model.inference(logits)\n",
        "        train_op = model.optimize(loss_op)\n",
        "\n",
        "        model.set_saver(tf.train.Saver(max_to_keep = 3))\n",
        "        init = tf.global_variables_initializer()\n",
        "    train_sess = tf.Session(graph=train_graph, config=gpu_config)\n",
        "\n",
        "    print('val_graph: start')\n",
        "    with val_graph.as_default():\n",
        "        feat_val = tf.placeholder(tf.float32, [None, n_frames, n_inputs], name='video_features')\n",
        "        captions_val = tf.placeholder(tf.int32, [None, max_caption_len], name='captions')\n",
        "        cap_len_val = tf.placeholder(tf.int32, [None], name='cap_len')\n",
        "\n",
        "        model_val = S2VT(vocab_num=vocab_num, with_attention=with_attention, lr=learning_rate)\n",
        "        logits_val, loss_op_val, summary_val = model_val.build_model(feat_val, \n",
        "                    captions_val, cap_len_val, phase=phases['val'])\n",
        "        dec_pred_val = model_val.inference(logits_val)\n",
        "\n",
        "        model_val.set_saver(tf.train.Saver(max_to_keep=3))\n",
        "    val_sess = tf.Session(graph=val_graph, config=gpu_config)\n",
        "\n",
        "    load = load_saver\n",
        "    if not load:\n",
        "        train_sess.run(init)\n",
        "        print(\"No saver was loaded\")\n",
        "    else:\n",
        "        saver_path = save_dir\n",
        "        latest_checkpoint = tf.train.latest_checkpoint(saver_path)\n",
        "        model.saver.restore(train_sess, latest_checkpoint)\n",
        "        print(\"Saver Loaded: \" + latest_checkpoint)\n",
        "\n",
        "    ckpts_path = save_dir + \"save_net.ckpt\"\n",
        "    summary_writer = tf.summary.FileWriter(log_dir + '/train')\n",
        "    summary_writer.add_graph(train_graph)\n",
        "    summary_writer.add_graph(val_graph)\n",
        "\n",
        "    samp_prob = inv_sigmoid(num_epoches)\n",
        "    pbar = tqdm(range(0, num_epoches))\n",
        "\n",
        "    for epo in pbar:\n",
        "        datasetTrain.shuffle_perm()\n",
        "        num_steps = int( datasetTrain.batch_max_size / batch_size)\n",
        "        epo_loss = 0\n",
        "        for i in range(0, num_steps):\n",
        "            data_batch, label_batch, caption_lens_batch, id_batch = datasetTrain.next_batch()\n",
        "            samp = datasetTrain.schedule_sampling(samp_prob[epo], caption_lens_batch)\n",
        "            if i % num_display_steps == 1:\n",
        "                # training \n",
        "                run_options = tf.RunOptions(trace_level=tf.RunOptions.FULL_TRACE)\n",
        "                _, loss, p, summ = train_sess.run([train_op, loss_op, dec_pred, summary], \n",
        "                                feed_dict={feat: data_batch,\n",
        "                                           captions: label_batch,\n",
        "                                           cap_len: caption_lens_batch,\n",
        "                                           sampling: samp},\n",
        "                                options=run_options)\n",
        "                summary_writer.add_summary(summ, global_step=(epo * num_steps) + i)\n",
        "                print(color(\"\\n[Train. Prediction] Epoch \" + str(epo) + \", step \" \\\n",
        "                        + str(i) + \"/\" + str(num_steps) + \"......\", \n",
        "                        fg='white', bg='yellow', style='underline'))\n",
        "                dec_print_train(p, caption_lens_batch, label_batch, \n",
        "                    datasetTrain.idx_to_word, batch_size, id_batch)\n",
        "\n",
        "            else:\n",
        "                _, loss, p = train_sess.run([train_op, loss_op, dec_pred], \n",
        "                                feed_dict={feat: data_batch,\n",
        "                                           captions: label_batch,\n",
        "                                           cap_len: caption_lens_batch,\n",
        "                                           sampling: samp})\n",
        "\n",
        "            epo_loss += loss\n",
        "            av_loss = epo_loss/num_steps\n",
        "            pbar.set_description(\"Epoch \" + str(epo) + \", step \" + str(i) + \"/\" + str(num_steps) + \\\n",
        "                \", (Training Loss: \" + \"{:.4f}\".format(loss) + \\\n",
        "                \", samp_prob: \" + \"{:.4f}\".format(samp_prob[epo]) + \")\" )\n",
        "\n",
        "        print(color(\"\\n[FINISHED] Epoch \" + str(epo) + \\\n",
        "                \", (Training Loss (average loss in this epoch): \" + \"{:.4f}\".format(av_loss) + \\\n",
        "                \", samp_prob: \" + \"{:.4f}\".format(samp_prob[epo]) + \")\", fg='green', bg='white') )\n",
        "\n",
        "        if epo % num_saver_epoches == 0:\n",
        "            ckpt_path = model.saver.save(train_sess, ckpts_path, \n",
        "                global_step=(epo * num_steps) + num_steps - 1)\n",
        "            print(color(\"\\nSaver saved: \" + ckpt_path, fg='white', bg='green', style='bold'))\n",
        "            \n",
        "            # validation\n",
        "            model_val.saver.restore(val_sess, ckpt_path)\n",
        "            print(color(\"\\n[Val. Prediction] Epoch \" + str(epo) + \", step \" + str(num_steps) + \"/\" \\\n",
        "                + str(num_steps) + \"......\", fg='white', bg='green', style='underline'))\n",
        "            \n",
        "            num_steps_val = int( datasetVal.batch_max_size / val_batch_size )\n",
        "            total_loss_val = 0 \n",
        "            txt = open(output_filename, 'w')\n",
        "            for j in range(0, num_steps_val):\n",
        "\n",
        "                data_batch, label_batch, caption_lens_batch, id_batch = datasetVal.next_batch()\n",
        "                loss_val, p_val, summ = val_sess.run([loss_op_val, dec_pred_val, summary_val], \n",
        "                                        feed_dict={feat_val: data_batch,\n",
        "                                                   captions_val: label_batch,\n",
        "                                                   cap_len_val: caption_lens_batch})\n",
        "                seq = dec_print_val(p_val, caption_lens_batch, \n",
        "                    label_batch, datasetVal.idx_to_word, val_batch_size, id_batch)\n",
        "            \n",
        "                total_loss_val += loss_val\n",
        "                summary_writer.add_summary(summ, global_step=(epo * num_steps_val) + j)\n",
        "                \n",
        "                for k in range(0, val_batch_size):\n",
        "                    txt.write(id_batch[k] + \",\" + seq[k] + \"\\n\")\n",
        "            \n",
        "            print('\\nSave file: ' + output_filename)\n",
        "            txt.close()\n",
        "\n",
        "            call(['python3', '/content/drive/MyDrive/MLDS_hw2_1_data/bleu_eval.py', output_filename])\n",
        "            \n",
        "            print(color(\"Validation: \" + str((j+1) * val_batch_size) + \"/\" + \\\n",
        "                    str(datasetVal.batch_max_size) + \", done...\" \\\n",
        "                    + \"Total Loss: \" + \"{:.4f}\".format(total_loss_val), fg='white', bg='green'))\n",
        "\n",
        "    \n",
        "    print('\\n\\nTraining finished!')"
      ],
      "execution_count": 11,
      "outputs": []
    },
    {
      "cell_type": "code",
      "metadata": {
        "id": "mrKQSxlqpx16",
        "colab": {
          "base_uri": "https://localhost:8080/",
          "height": 1000
        },
        "outputId": "cfa633ab-f257-4106-975e-4291be06053a"
      },
      "source": [
        "def main(_):\n",
        "    print('train mode: start')\n",
        "    train()\n",
        "    \n",
        "if __name__ == '__main__':\n",
        "    tf.app.run(main=main)"
      ],
      "execution_count": 12,
      "outputs": [
        {
          "output_type": "stream",
          "text": [
            "train mode: start\n"
          ],
          "name": "stdout"
        },
        {
          "output_type": "stream",
          "text": [
            "I0326 17:52:15.835902 140156139370368 utils.py:157] NumExpr defaulting to 4 threads.\n"
          ],
          "name": "stderr"
        },
        {
          "output_type": "stream",
          "text": [
            "[Training] total data size: 24232\n",
            "vocab_num: 2891\n",
            "[Validation] total data size: 100\n",
            "train_graph: start\n",
            "wrapped with bahdanau_attention...\n",
            "WARNING:tensorflow:From /usr/local/lib/python3.7/dist-packages/tensorflow/python/util/dispatch.py:201: calling dropout (from tensorflow.python.ops.nn_ops) with keep_prob is deprecated and will be removed in a future version.\n",
            "Instructions for updating:\n",
            "Please use `rate` instead of `keep_prob`. Rate should be set to `rate = 1 - keep_prob`.\n"
          ],
          "name": "stdout"
        },
        {
          "output_type": "stream",
          "text": [
            "W0326 18:11:15.920976 140156139370368 deprecation.py:537] From /usr/local/lib/python3.7/dist-packages/tensorflow/python/util/dispatch.py:201: calling dropout (from tensorflow.python.ops.nn_ops) with keep_prob is deprecated and will be removed in a future version.\n",
            "Instructions for updating:\n",
            "Please use `rate` instead of `keep_prob`. Rate should be set to `rate = 1 - keep_prob`.\n"
          ],
          "name": "stderr"
        },
        {
          "output_type": "stream",
          "text": [
            "WARNING:tensorflow:From /usr/local/lib/python3.7/dist-packages/tensorflow/python/keras/layers/legacy_rnn/rnn_cell_impl.py:753: calling Zeros.__init__ (from tensorflow.python.ops.init_ops) with dtype is deprecated and will be removed in a future version.\n",
            "Instructions for updating:\n",
            "Call initializer instance with the dtype argument instead of passing it to the constructor\n"
          ],
          "name": "stdout"
        },
        {
          "output_type": "stream",
          "text": [
            "/usr/local/lib/python3.7/dist-packages/tensorflow/python/keras/layers/legacy_rnn/rnn_cell_impl.py:702: UserWarning: `tf.nn.rnn_cell.BasicLSTMCell` is deprecated and will be removed in a future version. This class is equivalent as `tf.keras.layers.LSTMCell`, and will be replaced by that in Tensorflow 2.0.\n",
            "  warnings.warn(\"`tf.nn.rnn_cell.BasicLSTMCell` is deprecated and will be \"\n",
            "/usr/local/lib/python3.7/dist-packages/tensorflow/python/keras/engine/base_layer_v1.py:1727: UserWarning: `layer.add_variable` is deprecated and will be removed in a future version. Please use `layer.add_weight` method instead.\n",
            "  warnings.warn('`layer.add_variable` is deprecated and '\n",
            "W0326 18:11:15.994726 140156139370368 deprecation.py:537] From /usr/local/lib/python3.7/dist-packages/tensorflow/python/keras/layers/legacy_rnn/rnn_cell_impl.py:753: calling Zeros.__init__ (from tensorflow.python.ops.init_ops) with dtype is deprecated and will be removed in a future version.\n",
            "Instructions for updating:\n",
            "Call initializer instance with the dtype argument instead of passing it to the constructor\n"
          ],
          "name": "stderr"
        },
        {
          "output_type": "stream",
          "text": [
            "WARNING:tensorflow:From /usr/local/lib/python3.7/dist-packages/tensorflow/python/util/dispatch.py:201: calling softmax (from tensorflow.python.ops.nn_ops) with dim is deprecated and will be removed in a future version.\n",
            "Instructions for updating:\n",
            "dim is deprecated, use axis instead\n"
          ],
          "name": "stdout"
        },
        {
          "output_type": "stream",
          "text": [
            "W0326 18:11:18.453550 140156139370368 deprecation.py:537] From /usr/local/lib/python3.7/dist-packages/tensorflow/python/util/dispatch.py:201: calling softmax (from tensorflow.python.ops.nn_ops) with dim is deprecated and will be removed in a future version.\n",
            "Instructions for updating:\n",
            "dim is deprecated, use axis instead\n"
          ],
          "name": "stderr"
        },
        {
          "output_type": "stream",
          "text": [
            "WARNING:tensorflow:From /usr/local/lib/python3.7/dist-packages/tensorflow/python/util/dispatch.py:201: softmax_cross_entropy_with_logits (from tensorflow.python.ops.nn_ops) is deprecated and will be removed in a future version.\n",
            "Instructions for updating:\n",
            "\n",
            "Future major versions of TensorFlow will allow gradients to flow\n",
            "into the labels input on backprop by default.\n",
            "\n",
            "See `tf.nn.softmax_cross_entropy_with_logits_v2`.\n",
            "\n"
          ],
          "name": "stdout"
        },
        {
          "output_type": "stream",
          "text": [
            "W0326 18:11:18.506523 140156139370368 deprecation.py:339] From /usr/local/lib/python3.7/dist-packages/tensorflow/python/util/dispatch.py:201: softmax_cross_entropy_with_logits (from tensorflow.python.ops.nn_ops) is deprecated and will be removed in a future version.\n",
            "Instructions for updating:\n",
            "\n",
            "Future major versions of TensorFlow will allow gradients to flow\n",
            "into the labels input on backprop by default.\n",
            "\n",
            "See `tf.nn.softmax_cross_entropy_with_logits_v2`.\n",
            "\n"
          ],
          "name": "stderr"
        },
        {
          "output_type": "stream",
          "text": [
            "INFO:tensorflow:Summary name training loss is illegal; using training_loss instead.\n"
          ],
          "name": "stdout"
        },
        {
          "output_type": "stream",
          "text": [
            "I0326 18:11:22.623044 140156139370368 summary_op_util.py:66] Summary name training loss is illegal; using training_loss instead.\n"
          ],
          "name": "stderr"
        },
        {
          "output_type": "stream",
          "text": [
            "val_graph: start\n",
            "wrapped with bahdanau_attention...\n",
            "INFO:tensorflow:Summary name validation loss is illegal; using validation_loss instead.\n"
          ],
          "name": "stdout"
        },
        {
          "output_type": "stream",
          "text": [
            "I0326 18:11:57.560519 140156139370368 summary_op_util.py:66] Summary name validation loss is illegal; using validation_loss instead.\n"
          ],
          "name": "stderr"
        },
        {
          "output_type": "stream",
          "text": [
            "No saver was loaded\n"
          ],
          "name": "stdout"
        },
        {
          "output_type": "stream",
          "text": [
            "\r  0%|          | 0/100 [00:00<?, ?it/s]"
          ],
          "name": "stderr"
        },
        {
          "output_type": "stream",
          "text": [
            "[0.88079708 0.87653295 0.87213843 0.86761113 0.86294871 0.85814894\n",
            " 0.85320966 0.84812884 0.84290453 0.83753494 0.83201839 0.82635335\n",
            " 0.82053848 0.81457258 0.80845465 0.80218389 0.7957597  0.78918171\n",
            " 0.78244978 0.77556401 0.76852478 0.76133271 0.75398872 0.74649398\n",
            " 0.73885001 0.73105858 0.72312181 0.71504211 0.70682222 0.69846522\n",
            " 0.68997448 0.68135373 0.67260702 0.6637387  0.65475346 0.64565631\n",
            " 0.63645254 0.62714777 0.61774787 0.60825903 0.59868766 0.58904043\n",
            " 0.57932425 0.56954622 0.55971365 0.549834   0.53991488 0.52996405\n",
            " 0.51998934 0.50999867 0.5        0.49000133 0.48001066 0.47003595\n",
            " 0.46008512 0.450166   0.44028635 0.43045378 0.42067575 0.41095957\n",
            " 0.40131234 0.39174097 0.38225213 0.37285223 0.36354746 0.35434369\n",
            " 0.34524654 0.3362613  0.32739298 0.31864627 0.31002552 0.30153478\n",
            " 0.29317778 0.28495789 0.27687819 0.26894142 0.26114999 0.25350602\n",
            " 0.24601128 0.23866729 0.23147522 0.22443599 0.21755022 0.21081829\n",
            " 0.2042403  0.19781611 0.19154535 0.18542742 0.17946152 0.17364665\n",
            " 0.16798161 0.16246506 0.15709547 0.15187116 0.14679034 0.14185106\n",
            " 0.13705129 0.13238887 0.12786157 0.12346705]\n"
          ],
          "name": "stdout"
        },
        {
          "output_type": "stream",
          "text": [
            "Epoch 0, step 1/96, (Training Loss: 8.0457, samp_prob: 0.8808):   0%|          | 0/100 [00:51<?, ?it/s]"
          ],
          "name": "stderr"
        },
        {
          "output_type": "stream",
          "text": [
            "\u001b[37;43;4m\n",
            "[Train. Prediction] Epoch 0, step 1/96......\u001b[0m\n",
            "\u001b[33m\n",
            "id: PeUHy0A1GF0_51_55.avi\n",
            "answer: ['a', 'woman', 'is', 'pulling', 'dough', 'from', 'a', 'dish']\n",
            "prediction: ['oven', 'jumping', 'emerges', 'skate', 'boxed', 'and', 'shots', 'skate', 'followed', 'shots', 'robot', 'cook', 'dips', 'son', 'vet', 'circles', 'wrap', 'sharpening', 'son', 'son', 'makeup', 'sniffed', 'and', 'before', 'walking', 'lighter', 'handcuffs', 'jumping', 'and', 'him', 'him', 'uncooked', 'handcuffs', 'discussion', 'oven', 'backward', 'before', 'him', 'lighter', 'cook', 'wet', 'person', 'drill', 'beats', 'metallic', 'peel', 'cook', 'meat', 'shape']\u001b[0m\n"
          ],
          "name": "stdout"
        },
        {
          "output_type": "stream",
          "text": [
            "Epoch 0, step 21/96, (Training Loss: 5.8966, samp_prob: 0.8808):   0%|          | 0/100 [01:12<?, ?it/s]"
          ],
          "name": "stderr"
        },
        {
          "output_type": "stream",
          "text": [
            "\u001b[37;43;4m\n",
            "[Train. Prediction] Epoch 0, step 21/96......\u001b[0m\n",
            "\u001b[33m\n",
            "id: ZvJvNcukZ4w_0_10.avi\n",
            "answer: ['a', 'badger', 'is', 'attacking', 'a', 'fox']\n",
            "prediction: ['a', 'a']\u001b[0m\n"
          ],
          "name": "stdout"
        },
        {
          "output_type": "stream",
          "text": [
            "Epoch 0, step 41/96, (Training Loss: 5.5035, samp_prob: 0.8808):   0%|          | 0/100 [01:32<?, ?it/s]"
          ],
          "name": "stderr"
        },
        {
          "output_type": "stream",
          "text": [
            "\u001b[37;43;4m\n",
            "[Train. Prediction] Epoch 0, step 41/96......\u001b[0m\n",
            "\u001b[33m\n",
            "id: HO_ovIrLWfQ_1_11.avi\n",
            "answer: ['a', 'man', 'is', 'rowing', 'a', 'boat']\n",
            "prediction: ['a', 'a', 'is']\u001b[0m\n"
          ],
          "name": "stdout"
        },
        {
          "output_type": "stream",
          "text": [
            "Epoch 0, step 61/96, (Training Loss: 5.2565, samp_prob: 0.8808):   0%|          | 0/100 [01:53<?, ?it/s]"
          ],
          "name": "stderr"
        },
        {
          "output_type": "stream",
          "text": [
            "\u001b[37;43;4m\n",
            "[Train. Prediction] Epoch 0, step 61/96......\u001b[0m\n",
            "\u001b[33m\n",
            "id: ysTmUTQ5wZE_17_45.avi\n",
            "answer: ['a', 'baby', 'panda', 'is', 'crawling', 'up', 'some', 'stairs']\n",
            "prediction: ['a', 'is', 'the']\u001b[0m\n"
          ],
          "name": "stdout"
        },
        {
          "output_type": "stream",
          "text": [
            "Epoch 0, step 81/96, (Training Loss: 5.1449, samp_prob: 0.8808):   0%|          | 0/100 [02:14<?, ?it/s]"
          ],
          "name": "stderr"
        },
        {
          "output_type": "stream",
          "text": [
            "\u001b[37;43;4m\n",
            "[Train. Prediction] Epoch 0, step 81/96......\u001b[0m\n",
            "\u001b[33m\n",
            "id: ACOmKiJDkA4_161_170.avi\n",
            "answer: ['a', 'woman', 'is', 'putting', 'salmon', 'into', 'rice']\n",
            "prediction: ['a', 'is']\u001b[0m\n"
          ],
          "name": "stdout"
        },
        {
          "output_type": "stream",
          "text": [
            "Epoch 0, step 95/96, (Training Loss: 5.0159, samp_prob: 0.8808):   0%|          | 0/100 [02:28<?, ?it/s]"
          ],
          "name": "stderr"
        },
        {
          "output_type": "stream",
          "text": [
            "\u001b[32;47m\n",
            "[FINISHED] Epoch 0, (Training Loss (average loss in this epoch): 5.6786, samp_prob: 0.8808)\u001b[0m\n",
            "\u001b[37;42;1m\n",
            "Saver saved: /content/drive/My Drive/save_modelssave_net.ckpt-95\u001b[0m\n",
            "INFO:tensorflow:Restoring parameters from /content/drive/My Drive/save_modelssave_net.ckpt-95\n"
          ],
          "name": "stdout"
        },
        {
          "output_type": "stream",
          "text": [
            "I0326 18:14:33.548071 140156139370368 saver.py:1292] Restoring parameters from /content/drive/My Drive/save_modelssave_net.ckpt-95\n"
          ],
          "name": "stderr"
        },
        {
          "output_type": "stream",
          "text": [
            "\u001b[37;42;4m\n",
            "[Val. Prediction] Epoch 0, step 96/96......\u001b[0m\n",
            "\u001b[32m\n",
            "id: lw7pTwpx0K0_38_48.avi\n",
            "answer: ['a', 'man', '<UNK>', 'a', 'wave', '<UNK>', 'on', 'the', '<UNK>', 'of', 'a', '<UNK>', 'driver']\n",
            "prediction: ['a', 'a', 'a', 'is']\u001b[0m\n",
            "\u001b[32m\n",
            "id: HAjwXjwN9-A_16_24.avi\n",
            "answer: ['roller', '<UNK>', 'girls', 'are', 'racing', 'around', 'the', 'track']\n",
            "prediction: ['a', 'a', 'a']\u001b[0m\n",
            "\u001b[32m\n",
            "id: Dgf0VHMEtNs_57_66.avi\n",
            "answer: ['<UNK>', 'are', 'operating', 'a', 'man']\n",
            "prediction: ['a', 'a', 'a', 'is']\u001b[0m\n",
            "\u001b[32m\n",
            "id: dfOuTx66bJU_34_39.avi\n",
            "answer: ['a', 'man', 'is', '<UNK>', 'something']\n",
            "prediction: ['a', 'a', 'a', 'is', 'a']\u001b[0m\n",
            "\u001b[32m\n",
            "id: DhwrBs96Kgk_120_124.avi\n",
            "answer: ['a', 'monkey', 'is', 'walking', 'through', 'the', 'water']\n",
            "prediction: ['a', 'a', 'a', 'a']\u001b[0m\n",
            "\u001b[32m\n",
            "id: Fe4tO5vW9_E_64_70.avi\n",
            "answer: ['the', 'cook', 'is', 'melting', 'butter']\n",
            "prediction: ['a', 'a', 'is', 'is']\u001b[0m\n",
            "\u001b[32m\n",
            "id: 04Gt01vatkk_308_321.avi\n",
            "answer: ['a', 'woman', 'is', 'cutting', 'green', 'vegetables']\n",
            "prediction: ['a', 'a', 'is', 'is']\u001b[0m\n",
            "\u001b[32m\n",
            "id: 71soiLO6I9U_15_24.avi\n",
            "answer: ['a', 'hedgehog', 'walks', 'into', 'its', 'house']\n",
            "prediction: ['a', 'a', 'a']\u001b[0m\n",
            "\u001b[32m\n",
            "id: RSx5G0_xH48_12_17.avi\n",
            "answer: ['a', 'little', 'dog', 'is', 'sitting', 'in', 'a', 'room', 'barking', 'at', 'something']\n",
            "prediction: ['a', 'a', 'a', 'is', 'is']\u001b[0m\n",
            "\u001b[32m\n",
            "id: zv2RIbUsnSw_335_341.avi\n",
            "answer: ['a', 'man', 'is', 'being', 'pushed', 'on', 'a', 'stretcher']\n",
            "prediction: ['a', 'a', 'a', 'a']\u001b[0m\n",
            "\n",
            "Save file: /content/drive/My Drive/output.txt\n"
          ],
          "name": "stdout"
        },
        {
          "output_type": "stream",
          "text": [
            "\rEpoch 0, step 95/96, (Training Loss: 5.0159, samp_prob: 0.8808):   1%|          | 1/100 [02:35<4:16:29, 155.45s/it]"
          ],
          "name": "stderr"
        },
        {
          "output_type": "stream",
          "text": [
            "\u001b[37;42mValidation: 100/100, done...Total Loss: 4.7291\u001b[0m\n"
          ],
          "name": "stdout"
        },
        {
          "output_type": "stream",
          "text": [
            "Epoch 1, step 1/96, (Training Loss: 5.0125, samp_prob: 0.8765):   1%|          | 1/100 [02:38<4:16:29, 155.45s/it]"
          ],
          "name": "stderr"
        },
        {
          "output_type": "stream",
          "text": [
            "\u001b[37;43;4m\n",
            "[Train. Prediction] Epoch 1, step 1/96......\u001b[0m\n",
            "\u001b[33m\n",
            "id: OVEe1DMsOq0_43_52.avi\n",
            "answer: ['several', 'ferrets', 'climb', 'out', 'of', 'their', 'cage']\n",
            "prediction: ['a', 'the', 'is']\u001b[0m\n"
          ],
          "name": "stdout"
        },
        {
          "output_type": "stream",
          "text": [
            "Epoch 1, step 21/96, (Training Loss: 4.9464, samp_prob: 0.8765):   1%|          | 1/100 [02:58<4:16:29, 155.45s/it]"
          ],
          "name": "stderr"
        },
        {
          "output_type": "stream",
          "text": [
            "\u001b[37;43;4m\n",
            "[Train. Prediction] Epoch 1, step 21/96......\u001b[0m\n",
            "\u001b[33m\n",
            "id: FTh5zPk34bQ_16_30.avi\n",
            "answer: ['a', 'man', 'is', 'showing', 'some', '<UNK>', 'tricks']\n",
            "prediction: ['a', 'is', 'a', 'is']\u001b[0m\n"
          ],
          "name": "stdout"
        },
        {
          "output_type": "stream",
          "text": [
            "Epoch 1, step 41/96, (Training Loss: 4.8193, samp_prob: 0.8765):   1%|          | 1/100 [03:19<4:16:29, 155.45s/it]"
          ],
          "name": "stderr"
        },
        {
          "output_type": "stream",
          "text": [
            "\u001b[37;43;4m\n",
            "[Train. Prediction] Epoch 1, step 41/96......\u001b[0m\n",
            "\u001b[33m\n",
            "id: nTasT5h0LEg_40_43.avi\n",
            "answer: ['a', 'cat', 'is', 'rubbing', 'against', 'a', 'baby']\n",
            "prediction: ['the', 'man', 'is', 'a']\u001b[0m\n"
          ],
          "name": "stdout"
        },
        {
          "output_type": "stream",
          "text": [
            "Epoch 1, step 61/96, (Training Loss: 4.7436, samp_prob: 0.8765):   1%|          | 1/100 [03:40<4:16:29, 155.45s/it]"
          ],
          "name": "stderr"
        },
        {
          "output_type": "stream",
          "text": [
            "\u001b[37;43;4m\n",
            "[Train. Prediction] Epoch 1, step 61/96......\u001b[0m\n",
            "\u001b[33m\n",
            "id: PmrTDZy3f2M_35_39.avi\n",
            "answer: ['a', 'man', 'is', 'slam', 'dunking', 'a', 'ball']\n",
            "prediction: ['a', 'a', 'a']\u001b[0m\n"
          ],
          "name": "stdout"
        },
        {
          "output_type": "stream",
          "text": [
            "Epoch 1, step 81/96, (Training Loss: 4.6397, samp_prob: 0.8765):   1%|          | 1/100 [04:01<4:16:29, 155.45s/it]"
          ],
          "name": "stderr"
        },
        {
          "output_type": "stream",
          "text": [
            "\u001b[37;43;4m\n",
            "[Train. Prediction] Epoch 1, step 81/96......\u001b[0m\n",
            "\u001b[33m\n",
            "id: tBj4Ny19vfQ_54_59.avi\n",
            "answer: ['an', 'animal', 'walks', 'through', 'the', 'jungle']\n",
            "prediction: ['a', 'is', 'a', 'woman', 'a', 'a', 'a']\u001b[0m\n"
          ],
          "name": "stdout"
        },
        {
          "output_type": "stream",
          "text": [
            "Epoch 1, step 95/96, (Training Loss: 4.7664, samp_prob: 0.8765):   2%|▏         | 2/100 [04:15<3:46:47, 138.85s/it]"
          ],
          "name": "stderr"
        },
        {
          "output_type": "stream",
          "text": [
            "\u001b[32;47m\n",
            "[FINISHED] Epoch 1, (Training Loss (average loss in this epoch): 4.8485, samp_prob: 0.8765)\u001b[0m\n"
          ],
          "name": "stdout"
        },
        {
          "output_type": "stream",
          "text": [
            "Epoch 2, step 1/96, (Training Loss: 4.6471, samp_prob: 0.8721):   2%|▏         | 2/100 [04:18<3:46:47, 138.85s/it]"
          ],
          "name": "stderr"
        },
        {
          "output_type": "stream",
          "text": [
            "\u001b[37;43;4m\n",
            "[Train. Prediction] Epoch 2, step 1/96......\u001b[0m\n",
            "\u001b[33m\n",
            "id: sFExO_PW22s_10_18.avi\n",
            "answer: ['a', 'fish', 'is', 'swimming']\n",
            "prediction: ['a', 'a', 'a', 'a', 'a']\u001b[0m\n"
          ],
          "name": "stdout"
        },
        {
          "output_type": "stream",
          "text": [
            "Epoch 2, step 21/96, (Training Loss: 4.6247, samp_prob: 0.8721):   2%|▏         | 2/100 [04:38<3:46:47, 138.85s/it]"
          ],
          "name": "stderr"
        },
        {
          "output_type": "stream",
          "text": [
            "\u001b[37;43;4m\n",
            "[Train. Prediction] Epoch 2, step 21/96......\u001b[0m\n",
            "\u001b[33m\n",
            "id: 81fABEiwcIM_31_45.avi\n",
            "answer: ['a', 'man', 'plays', 'the', 'guitar', 'and', 'sings']\n",
            "prediction: ['a', 'man', 'man', 'is', 'a']\u001b[0m\n"
          ],
          "name": "stdout"
        },
        {
          "output_type": "stream",
          "text": [
            "Epoch 2, step 41/96, (Training Loss: 4.6290, samp_prob: 0.8721):   2%|▏         | 2/100 [04:59<3:46:47, 138.85s/it]"
          ],
          "name": "stderr"
        },
        {
          "output_type": "stream",
          "text": [
            "\u001b[37;43;4m\n",
            "[Train. Prediction] Epoch 2, step 41/96......\u001b[0m\n",
            "\u001b[33m\n",
            "id: BOLKaQeB6j0_101_111.avi\n",
            "answer: ['one', 'woman', 'is', 'removing', '<UNK>', 'skin']\n",
            "prediction: ['a', 'a', 'is', 'is']\u001b[0m\n"
          ],
          "name": "stdout"
        },
        {
          "output_type": "stream",
          "text": [
            "Epoch 2, step 61/96, (Training Loss: 4.6145, samp_prob: 0.8721):   2%|▏         | 2/100 [05:20<3:46:47, 138.85s/it]"
          ],
          "name": "stderr"
        },
        {
          "output_type": "stream",
          "text": [
            "\u001b[37;43;4m\n",
            "[Train. Prediction] Epoch 2, step 61/96......\u001b[0m\n",
            "\u001b[33m\n",
            "id: EVqc7e8JCco_5_15.avi\n",
            "answer: ['two', 'zebras', 'are', 'fighting']\n",
            "prediction: ['a', 'a', '<UNK>']\u001b[0m\n"
          ],
          "name": "stdout"
        },
        {
          "output_type": "stream",
          "text": [
            "Epoch 2, step 81/96, (Training Loss: 4.6114, samp_prob: 0.8721):   2%|▏         | 2/100 [05:41<3:46:47, 138.85s/it]"
          ],
          "name": "stderr"
        },
        {
          "output_type": "stream",
          "text": [
            "\u001b[37;43;4m\n",
            "[Train. Prediction] Epoch 2, step 81/96......\u001b[0m\n",
            "\u001b[33m\n",
            "id: M_TP6UTrh30_343_358.avi\n",
            "answer: ['a', 'band', 'plays', 'on', 'stage', 'outside']\n",
            "prediction: ['a', 'man', 'is']\u001b[0m\n"
          ],
          "name": "stdout"
        },
        {
          "output_type": "stream",
          "text": [
            "Epoch 2, step 95/96, (Training Loss: 4.4892, samp_prob: 0.8721):   3%|▎         | 3/100 [05:55<3:25:35, 127.17s/it]"
          ],
          "name": "stderr"
        },
        {
          "output_type": "stream",
          "text": [
            "\u001b[32;47m\n",
            "[FINISHED] Epoch 2, (Training Loss (average loss in this epoch): 4.5809, samp_prob: 0.8721)\u001b[0m\n"
          ],
          "name": "stdout"
        },
        {
          "output_type": "stream",
          "text": [
            "Epoch 3, step 1/96, (Training Loss: 4.3930, samp_prob: 0.8676):   3%|▎         | 3/100 [05:58<3:25:35, 127.17s/it]"
          ],
          "name": "stderr"
        },
        {
          "output_type": "stream",
          "text": [
            "\u001b[37;43;4m\n",
            "[Train. Prediction] Epoch 3, step 1/96......\u001b[0m\n",
            "\u001b[33m\n",
            "id: nBFhvrAOFqY_23_29.avi\n",
            "answer: ['an', 'orangutan', 'is', 'riding', 'a', 'bus']\n",
            "prediction: ['a', 'woman', 'is', 'is', 'the']\u001b[0m\n"
          ],
          "name": "stdout"
        },
        {
          "output_type": "stream",
          "text": [
            "Epoch 3, step 21/96, (Training Loss: 4.4788, samp_prob: 0.8676):   3%|▎         | 3/100 [06:18<3:25:35, 127.17s/it]"
          ],
          "name": "stderr"
        },
        {
          "output_type": "stream",
          "text": [
            "\u001b[37;43;4m\n",
            "[Train. Prediction] Epoch 3, step 21/96......\u001b[0m\n",
            "\u001b[33m\n",
            "id: 6njscWrdnM0_8_18.avi\n",
            "answer: ['the', 'man', 'practiced', 'kicks', 'and', 'hits', 'on', 'a', 'dummy']\n",
            "prediction: ['a', 'man', 'is', 'a']\u001b[0m\n"
          ],
          "name": "stdout"
        },
        {
          "output_type": "stream",
          "text": [
            "Epoch 3, step 41/96, (Training Loss: 4.2734, samp_prob: 0.8676):   3%|▎         | 3/100 [06:39<3:25:35, 127.17s/it]"
          ],
          "name": "stderr"
        },
        {
          "output_type": "stream",
          "text": [
            "\u001b[37;43;4m\n",
            "[Train. Prediction] Epoch 3, step 41/96......\u001b[0m\n",
            "\u001b[33m\n",
            "id: iwpnUHFhjWc_84_94.avi\n",
            "answer: ['a', 'woman', 'dances', 'on', 'a', 'decorated', 'brick', 'floor']\n",
            "prediction: ['a', 'man', 'are', 'a', 'a']\u001b[0m\n"
          ],
          "name": "stdout"
        },
        {
          "output_type": "stream",
          "text": [
            "Epoch 3, step 61/96, (Training Loss: 4.3558, samp_prob: 0.8676):   3%|▎         | 3/100 [07:00<3:25:35, 127.17s/it]"
          ],
          "name": "stderr"
        },
        {
          "output_type": "stream",
          "text": [
            "\u001b[37;43;4m\n",
            "[Train. Prediction] Epoch 3, step 61/96......\u001b[0m\n",
            "\u001b[33m\n",
            "id: nZSFn51l3hc_318_326.avi\n",
            "answer: ['someone', 'is', 'cutting', 'fat', 'off', 'of', 'meat']\n",
            "prediction: ['a', 'woman', 'is', 'is']\u001b[0m\n"
          ],
          "name": "stdout"
        },
        {
          "output_type": "stream",
          "text": [
            "Epoch 3, step 81/96, (Training Loss: 4.2806, samp_prob: 0.8676):   3%|▎         | 3/100 [07:21<3:25:35, 127.17s/it]"
          ],
          "name": "stderr"
        },
        {
          "output_type": "stream",
          "text": [
            "\u001b[37;43;4m\n",
            "[Train. Prediction] Epoch 3, step 81/96......\u001b[0m\n",
            "\u001b[33m\n",
            "id: YXixZrSxefk_6_15.avi\n",
            "answer: ['someoen', 'is', 'peeling', 'a', 'potato']\n",
            "prediction: ['a', 'is', 'is', 'slicing', 'a', 'a']\u001b[0m\n"
          ],
          "name": "stdout"
        },
        {
          "output_type": "stream",
          "text": [
            "Epoch 3, step 95/96, (Training Loss: 4.1828, samp_prob: 0.8676):   4%|▍         | 4/100 [07:35<3:10:19, 118.95s/it]"
          ],
          "name": "stderr"
        },
        {
          "output_type": "stream",
          "text": [
            "\u001b[32;47m\n",
            "[FINISHED] Epoch 3, (Training Loss (average loss in this epoch): 4.3739, samp_prob: 0.8676)\u001b[0m\n"
          ],
          "name": "stdout"
        },
        {
          "output_type": "stream",
          "text": [
            "Epoch 4, step 1/96, (Training Loss: 4.3366, samp_prob: 0.8629):   4%|▍         | 4/100 [07:37<3:10:19, 118.95s/it]"
          ],
          "name": "stderr"
        },
        {
          "output_type": "stream",
          "text": [
            "\u001b[37;43;4m\n",
            "[Train. Prediction] Epoch 4, step 1/96......\u001b[0m\n",
            "\u001b[33m\n",
            "id: O06WXS_XZN0_0_6.avi\n",
            "answer: ['a', 'man', 'is', 'petting', 'a', 'dog']\n",
            "prediction: ['the', 'man', 'is', 'a']\u001b[0m\n"
          ],
          "name": "stdout"
        },
        {
          "output_type": "stream",
          "text": [
            "Epoch 4, step 21/96, (Training Loss: 4.2433, samp_prob: 0.8629):   4%|▍         | 4/100 [07:58<3:10:19, 118.95s/it]"
          ],
          "name": "stderr"
        },
        {
          "output_type": "stream",
          "text": [
            "\u001b[37;43;4m\n",
            "[Train. Prediction] Epoch 4, step 21/96......\u001b[0m\n",
            "\u001b[33m\n",
            "id: 0hyZ__3YhZc_598_603.avi\n",
            "answer: ['the', 'man', 'is', 'eating']\n",
            "prediction: ['a', 'man', 'is', 'is', 'a']\u001b[0m\n"
          ],
          "name": "stdout"
        },
        {
          "output_type": "stream",
          "text": [
            "Epoch 4, step 41/96, (Training Loss: 4.1366, samp_prob: 0.8629):   4%|▍         | 4/100 [08:19<3:10:19, 118.95s/it]"
          ],
          "name": "stderr"
        },
        {
          "output_type": "stream",
          "text": [
            "\u001b[37;43;4m\n",
            "[Train. Prediction] Epoch 4, step 41/96......\u001b[0m\n",
            "\u001b[33m\n",
            "id: nBJV56WUDng_38_47.avi\n",
            "answer: ['a', 'man', 'is', 'peeling', 'a', 'banana']\n",
            "prediction: ['a', 'man', 'is', 'a', 'a']\u001b[0m\n"
          ],
          "name": "stdout"
        },
        {
          "output_type": "stream",
          "text": [
            "Epoch 4, step 61/96, (Training Loss: 4.2641, samp_prob: 0.8629):   4%|▍         | 4/100 [08:39<3:10:19, 118.95s/it]"
          ],
          "name": "stderr"
        },
        {
          "output_type": "stream",
          "text": [
            "\u001b[37;43;4m\n",
            "[Train. Prediction] Epoch 4, step 61/96......\u001b[0m\n",
            "\u001b[33m\n",
            "id: uiLr9bdOL0M_23_30.avi\n",
            "answer: ['a', 'bird', 'places', 'a', 'cup', 'into', 'a', 'plate', 'of', 'food']\n",
            "prediction: ['a', 'is', 'is', 'is', 'a']\u001b[0m\n"
          ],
          "name": "stdout"
        },
        {
          "output_type": "stream",
          "text": [
            "Epoch 4, step 81/96, (Training Loss: 4.0705, samp_prob: 0.8629):   4%|▍         | 4/100 [09:00<3:10:19, 118.95s/it]"
          ],
          "name": "stderr"
        },
        {
          "output_type": "stream",
          "text": [
            "\u001b[37;43;4m\n",
            "[Train. Prediction] Epoch 4, step 81/96......\u001b[0m\n",
            "\u001b[33m\n",
            "id: -vg3vR86fu0_1_6.avi\n",
            "answer: ['a', 'kid', 'rides', 'his', 'bike']\n",
            "prediction: ['a', 'is', 'is', 'a']\u001b[0m\n"
          ],
          "name": "stdout"
        },
        {
          "output_type": "stream",
          "text": [
            "Epoch 4, step 95/96, (Training Loss: 4.2016, samp_prob: 0.8629):   5%|▌         | 5/100 [09:14<2:59:05, 113.11s/it]"
          ],
          "name": "stderr"
        },
        {
          "output_type": "stream",
          "text": [
            "\u001b[32;47m\n",
            "[FINISHED] Epoch 4, (Training Loss (average loss in this epoch): 4.1936, samp_prob: 0.8629)\u001b[0m\n"
          ],
          "name": "stdout"
        },
        {
          "output_type": "stream",
          "text": [
            "Epoch 5, step 1/96, (Training Loss: 4.1178, samp_prob: 0.8581):   5%|▌         | 5/100 [09:17<2:59:05, 113.11s/it]"
          ],
          "name": "stderr"
        },
        {
          "output_type": "stream",
          "text": [
            "\u001b[37;43;4m\n",
            "[Train. Prediction] Epoch 5, step 1/96......\u001b[0m\n",
            "\u001b[33m\n",
            "id: hJFBXHtxKIc_163_168.avi\n",
            "answer: ['the', 'man', 'is', 'seasoning', 'the', 'sausages']\n",
            "prediction: ['a', 'person', 'is', 'into', 'the']\u001b[0m\n"
          ],
          "name": "stdout"
        },
        {
          "output_type": "stream",
          "text": [
            "Epoch 5, step 21/96, (Training Loss: 4.1784, samp_prob: 0.8581):   5%|▌         | 5/100 [09:38<2:59:05, 113.11s/it]"
          ],
          "name": "stderr"
        },
        {
          "output_type": "stream",
          "text": [
            "\u001b[37;43;4m\n",
            "[Train. Prediction] Epoch 5, step 21/96......\u001b[0m\n",
            "\u001b[33m\n",
            "id: b4mJ3AQc-ag_30_34.avi\n",
            "answer: ['a', 'woman', 'is', 'pulling', 'chicken', 'meat', 'apart']\n",
            "prediction: ['a', 'is', 'is', 'a']\u001b[0m\n"
          ],
          "name": "stdout"
        },
        {
          "output_type": "stream",
          "text": [
            "Epoch 5, step 41/96, (Training Loss: 4.0593, samp_prob: 0.8581):   5%|▌         | 5/100 [09:58<2:59:05, 113.11s/it]"
          ],
          "name": "stderr"
        },
        {
          "output_type": "stream",
          "text": [
            "\u001b[37;43;4m\n",
            "[Train. Prediction] Epoch 5, step 41/96......\u001b[0m\n",
            "\u001b[33m\n",
            "id: ywHBKayhyvQ_19_28.avi\n",
            "answer: ['a', 'boy', 'crossing', 'a', 'swinging', 'bridge']\n",
            "prediction: ['a', 'man', 'is', 'is', 'a']\u001b[0m\n"
          ],
          "name": "stdout"
        },
        {
          "output_type": "stream",
          "text": [
            "Epoch 5, step 61/96, (Training Loss: 4.1013, samp_prob: 0.8581):   5%|▌         | 5/100 [10:19<2:59:05, 113.11s/it]"
          ],
          "name": "stderr"
        },
        {
          "output_type": "stream",
          "text": [
            "\u001b[37;43;4m\n",
            "[Train. Prediction] Epoch 5, step 61/96......\u001b[0m\n",
            "\u001b[33m\n",
            "id: 8PQiaurIiDM_173_180.avi\n",
            "answer: ['a', 'man', 'is', 'cutting', 'a', 'large', 'piece', 'of', 'beef', 'with', 'a', 'sword']\n",
            "prediction: ['a', 'man', 'is', 'a', 'a']\u001b[0m\n"
          ],
          "name": "stdout"
        },
        {
          "output_type": "stream",
          "text": [
            "Epoch 5, step 81/96, (Training Loss: 4.0345, samp_prob: 0.8581):   5%|▌         | 5/100 [10:40<2:59:05, 113.11s/it]"
          ],
          "name": "stderr"
        },
        {
          "output_type": "stream",
          "text": [
            "\u001b[37;43;4m\n",
            "[Train. Prediction] Epoch 5, step 81/96......\u001b[0m\n",
            "\u001b[33m\n",
            "id: ETUJipdnfOM_0_5.avi\n",
            "answer: ['a', 'man', 'is', 'playing', 'the', 'saxophone']\n",
            "prediction: ['a', 'man', 'is', 'playing', 'a', 'a']\u001b[0m\n"
          ],
          "name": "stdout"
        },
        {
          "output_type": "stream",
          "text": [
            "Epoch 5, step 95/96, (Training Loss: 4.0913, samp_prob: 0.8581):   6%|▌         | 6/100 [10:54<2:50:49, 109.04s/it]"
          ],
          "name": "stderr"
        },
        {
          "output_type": "stream",
          "text": [
            "\u001b[32;47m\n",
            "[FINISHED] Epoch 5, (Training Loss (average loss in this epoch): 4.0392, samp_prob: 0.8581)\u001b[0m\n"
          ],
          "name": "stdout"
        },
        {
          "output_type": "stream",
          "text": [
            "Epoch 6, step 1/96, (Training Loss: 3.9129, samp_prob: 0.8532):   6%|▌         | 6/100 [10:56<2:50:49, 109.04s/it]"
          ],
          "name": "stderr"
        },
        {
          "output_type": "stream",
          "text": [
            "\u001b[37;43;4m\n",
            "[Train. Prediction] Epoch 6, step 1/96......\u001b[0m\n",
            "\u001b[33m\n",
            "id: yyxtyCaEVqk_250_264.avi\n",
            "answer: ['a', 'person', 'is', 'cutting', 'carrots', 'into', 'pieces']\n",
            "prediction: ['a', 'person', 'is', 'cutting', 'slicing']\u001b[0m\n"
          ],
          "name": "stdout"
        },
        {
          "output_type": "stream",
          "text": [
            "Epoch 6, step 21/96, (Training Loss: 3.9530, samp_prob: 0.8532):   6%|▌         | 6/100 [11:17<2:50:49, 109.04s/it]"
          ],
          "name": "stderr"
        },
        {
          "output_type": "stream",
          "text": [
            "\u001b[37;43;4m\n",
            "[Train. Prediction] Epoch 6, step 21/96......\u001b[0m\n",
            "\u001b[33m\n",
            "id: G_hxdUG6QXE_23_28.avi\n",
            "answer: ['a', 'man', 'is', 'playing', 'guitar']\n",
            "prediction: ['a', 'man', 'is', 'guitar', 'a']\u001b[0m\n"
          ],
          "name": "stdout"
        },
        {
          "output_type": "stream",
          "text": [
            "Epoch 6, step 41/96, (Training Loss: 3.8908, samp_prob: 0.8532):   6%|▌         | 6/100 [11:38<2:50:49, 109.04s/it]"
          ],
          "name": "stderr"
        },
        {
          "output_type": "stream",
          "text": [
            "\u001b[37;43;4m\n",
            "[Train. Prediction] Epoch 6, step 41/96......\u001b[0m\n",
            "\u001b[33m\n",
            "id: UXs3eq68ZjE_49_54.avi\n",
            "answer: ['the', 'man', 'poured', 'tomatoe', 'sauce', 'into', 'a', 'pot']\n",
            "prediction: ['a', 'man', 'is', 'is', 'into', 'pot', 'in']\u001b[0m\n"
          ],
          "name": "stdout"
        },
        {
          "output_type": "stream",
          "text": [
            "Epoch 6, step 61/96, (Training Loss: 3.9235, samp_prob: 0.8532):   6%|▌         | 6/100 [11:58<2:50:49, 109.04s/it]"
          ],
          "name": "stderr"
        },
        {
          "output_type": "stream",
          "text": [
            "\u001b[37;43;4m\n",
            "[Train. Prediction] Epoch 6, step 61/96......\u001b[0m\n",
            "\u001b[33m\n",
            "id: YmXCfQm0_CA_140_156.avi\n",
            "answer: ['the', 'man', 'dragged', 'the', 'dead', 'deer', 'through', 'the', 'leaves']\n",
            "prediction: ['a', 'man', 'is', 'a', 'a']\u001b[0m\n"
          ],
          "name": "stdout"
        },
        {
          "output_type": "stream",
          "text": [
            "Epoch 6, step 81/96, (Training Loss: 3.8674, samp_prob: 0.8532):   6%|▌         | 6/100 [12:19<2:50:49, 109.04s/it]"
          ],
          "name": "stderr"
        },
        {
          "output_type": "stream",
          "text": [
            "\u001b[37;43;4m\n",
            "[Train. Prediction] Epoch 6, step 81/96......\u001b[0m\n",
            "\u001b[33m\n",
            "id: IBgsLmDcL78_80_84.avi\n",
            "answer: ['butter', 'is', 'being', 'put', 'into', 'a', 'mixer']\n",
            "prediction: ['a', 'man', 'is', 'into', 'into']\u001b[0m\n"
          ],
          "name": "stdout"
        },
        {
          "output_type": "stream",
          "text": [
            "Epoch 6, step 95/96, (Training Loss: 3.8798, samp_prob: 0.8532):   7%|▋         | 7/100 [12:33<2:44:29, 106.12s/it]"
          ],
          "name": "stderr"
        },
        {
          "output_type": "stream",
          "text": [
            "\u001b[32;47m\n",
            "[FINISHED] Epoch 6, (Training Loss (average loss in this epoch): 3.9022, samp_prob: 0.8532)\u001b[0m\n"
          ],
          "name": "stdout"
        },
        {
          "output_type": "stream",
          "text": [
            "Epoch 7, step 1/96, (Training Loss: 3.8581, samp_prob: 0.8481):   7%|▋         | 7/100 [12:36<2:44:29, 106.12s/it]"
          ],
          "name": "stderr"
        },
        {
          "output_type": "stream",
          "text": [
            "\u001b[37;43;4m\n",
            "[Train. Prediction] Epoch 7, step 1/96......\u001b[0m\n",
            "\u001b[33m\n",
            "id: c2MwqFYVE7A_40_45.avi\n",
            "answer: ['a', 'target', 'is', 'being', 'hit', 'with', 'gun', 'fire']\n",
            "prediction: ['a', 'is', 'is', 'is', 'a']\u001b[0m\n"
          ],
          "name": "stdout"
        },
        {
          "output_type": "stream",
          "text": [
            "Epoch 7, step 21/96, (Training Loss: 3.8823, samp_prob: 0.8481):   7%|▋         | 7/100 [12:56<2:44:29, 106.12s/it]"
          ],
          "name": "stderr"
        },
        {
          "output_type": "stream",
          "text": [
            "\u001b[37;43;4m\n",
            "[Train. Prediction] Epoch 7, step 21/96......\u001b[0m\n",
            "\u001b[33m\n",
            "id: _WRC7HXBJpU_395_401.avi\n",
            "answer: ['a', 'person', 'is', 'mixing', 'rice', 'in', 'a', 'frying', 'pan']\n",
            "prediction: ['a', 'man', 'is', 'a', 'a', 'a']\u001b[0m\n"
          ],
          "name": "stdout"
        },
        {
          "output_type": "stream",
          "text": [
            "Epoch 7, step 41/96, (Training Loss: 3.6371, samp_prob: 0.8481):   7%|▋         | 7/100 [13:17<2:44:29, 106.12s/it]"
          ],
          "name": "stderr"
        },
        {
          "output_type": "stream",
          "text": [
            "\u001b[37;43;4m\n",
            "[Train. Prediction] Epoch 7, step 41/96......\u001b[0m\n",
            "\u001b[33m\n",
            "id: _sJ_09Mf1HY_49_72.avi\n",
            "answer: ['a', 'boy', 'is', 'dribbling', 'a', 'ball', 'with', 'his', 'feet']\n",
            "prediction: ['a', 'man', 'is', 'a', 'of']\u001b[0m\n"
          ],
          "name": "stdout"
        },
        {
          "output_type": "stream",
          "text": [
            "Epoch 7, step 61/96, (Training Loss: 3.8628, samp_prob: 0.8481):   7%|▋         | 7/100 [13:38<2:44:29, 106.12s/it]"
          ],
          "name": "stderr"
        },
        {
          "output_type": "stream",
          "text": [
            "\u001b[37;43;4m\n",
            "[Train. Prediction] Epoch 7, step 61/96......\u001b[0m\n",
            "\u001b[33m\n",
            "id: SzEbtbNSg04_88_93.avi\n",
            "answer: ['a', 'man', 'chops', 'some', 'garlic', 'pods', 'very', 'finely', 'using', 'a', 'knife']\n",
            "prediction: ['a', 'woman', 'is', 'a', 'a']\u001b[0m\n"
          ],
          "name": "stdout"
        },
        {
          "output_type": "stream",
          "text": [
            "Epoch 7, step 81/96, (Training Loss: 3.7489, samp_prob: 0.8481):   7%|▋         | 7/100 [13:58<2:44:29, 106.12s/it]"
          ],
          "name": "stderr"
        },
        {
          "output_type": "stream",
          "text": [
            "\u001b[37;43;4m\n",
            "[Train. Prediction] Epoch 7, step 81/96......\u001b[0m\n",
            "\u001b[33m\n",
            "id: PmrTDZy3f2M_35_39.avi\n",
            "answer: ['the', 'men', 'are', 'making', 'basketball', '<UNK>']\n",
            "prediction: ['a', 'man', 'are', 'are', 'a']\u001b[0m\n"
          ],
          "name": "stdout"
        },
        {
          "output_type": "stream",
          "text": [
            "Epoch 7, step 95/96, (Training Loss: 3.8350, samp_prob: 0.8481):   8%|▊         | 8/100 [14:12<2:39:33, 104.06s/it]"
          ],
          "name": "stderr"
        },
        {
          "output_type": "stream",
          "text": [
            "\u001b[32;47m\n",
            "[FINISHED] Epoch 7, (Training Loss (average loss in this epoch): 3.7847, samp_prob: 0.8481)\u001b[0m\n"
          ],
          "name": "stdout"
        },
        {
          "output_type": "stream",
          "text": [
            "Epoch 8, step 1/96, (Training Loss: 3.7909, samp_prob: 0.8429):   8%|▊         | 8/100 [14:15<2:39:33, 104.06s/it]"
          ],
          "name": "stderr"
        },
        {
          "output_type": "stream",
          "text": [
            "\u001b[37;43;4m\n",
            "[Train. Prediction] Epoch 8, step 1/96......\u001b[0m\n",
            "\u001b[33m\n",
            "id: O_Pst-uryQI_1_14.avi\n",
            "answer: ['a', 'woman', '<UNK>', 'in', 'a', \"man's\", 'arms']\n",
            "prediction: ['a', 'man', 'is', 'is']\u001b[0m\n"
          ],
          "name": "stdout"
        },
        {
          "output_type": "stream",
          "text": [
            "Epoch 8, step 21/96, (Training Loss: 3.6261, samp_prob: 0.8429):   8%|▊         | 8/100 [14:35<2:39:33, 104.06s/it]"
          ],
          "name": "stderr"
        },
        {
          "output_type": "stream",
          "text": [
            "\u001b[37;43;4m\n",
            "[Train. Prediction] Epoch 8, step 21/96......\u001b[0m\n",
            "\u001b[33m\n",
            "id: 8BL9qmFRbd4_6_13.avi\n",
            "answer: ['a', 'couple', 'is', 'entering', 'hotel', '<UNK>', 'with', 'their', 'luggage']\n",
            "prediction: ['a', 'man', 'is', 'dancing', 'in']\u001b[0m\n"
          ],
          "name": "stdout"
        },
        {
          "output_type": "stream",
          "text": [
            "Epoch 8, step 41/96, (Training Loss: 3.5196, samp_prob: 0.8429):   8%|▊         | 8/100 [14:56<2:39:33, 104.06s/it]"
          ],
          "name": "stderr"
        },
        {
          "output_type": "stream",
          "text": [
            "\u001b[37;43;4m\n",
            "[Train. Prediction] Epoch 8, step 41/96......\u001b[0m\n",
            "\u001b[33m\n",
            "id: SaYwh6chmiw_15_40.avi\n",
            "answer: ['a', 'train', 'is', 'riding', 'along', 'the', 'tracks', 'and', 'coming', 'to', 'a', 'stop']\n",
            "prediction: ['a', 'man', 'is', 'a', 'a']\u001b[0m\n"
          ],
          "name": "stdout"
        },
        {
          "output_type": "stream",
          "text": [
            "Epoch 8, step 61/96, (Training Loss: 3.6840, samp_prob: 0.8429):   8%|▊         | 8/100 [15:17<2:39:33, 104.06s/it]"
          ],
          "name": "stderr"
        },
        {
          "output_type": "stream",
          "text": [
            "\u001b[37;43;4m\n",
            "[Train. Prediction] Epoch 8, step 61/96......\u001b[0m\n",
            "\u001b[33m\n",
            "id: lKADopH3qFY_0_10.avi\n",
            "answer: ['a', 'ferret', 'and', 'a', 'cat', 'are', 'playing', 'with', 'each', 'other']\n",
            "prediction: ['a', 'cat', 'is', 'playing', 'a', 'a']\u001b[0m\n"
          ],
          "name": "stdout"
        },
        {
          "output_type": "stream",
          "text": [
            "Epoch 8, step 81/96, (Training Loss: 3.6353, samp_prob: 0.8429):   8%|▊         | 8/100 [15:37<2:39:33, 104.06s/it]"
          ],
          "name": "stderr"
        },
        {
          "output_type": "stream",
          "text": [
            "\u001b[37;43;4m\n",
            "[Train. Prediction] Epoch 8, step 81/96......\u001b[0m\n",
            "\u001b[33m\n",
            "id: jdAbpLooDgM_10_15.avi\n",
            "answer: ['a', 'man', 'with', 'a', 'grocery', 'cart', '<UNK>', 'backwards']\n",
            "prediction: ['a', 'boy', 'is', 'a', 'a', 'a']\u001b[0m\n"
          ],
          "name": "stdout"
        },
        {
          "output_type": "stream",
          "text": [
            "Epoch 8, step 95/96, (Training Loss: 3.4705, samp_prob: 0.8429):   9%|▉         | 9/100 [15:51<2:35:34, 102.58s/it]"
          ],
          "name": "stderr"
        },
        {
          "output_type": "stream",
          "text": [
            "\u001b[32;47m\n",
            "[FINISHED] Epoch 8, (Training Loss (average loss in this epoch): 3.6733, samp_prob: 0.8429)\u001b[0m\n"
          ],
          "name": "stdout"
        },
        {
          "output_type": "stream",
          "text": [
            "Epoch 9, step 1/96, (Training Loss: 3.5802, samp_prob: 0.8375):   9%|▉         | 9/100 [15:54<2:35:34, 102.58s/it]"
          ],
          "name": "stderr"
        },
        {
          "output_type": "stream",
          "text": [
            "\u001b[37;43;4m\n",
            "[Train. Prediction] Epoch 9, step 1/96......\u001b[0m\n",
            "\u001b[33m\n",
            "id: K1ZM0LSLVw8_481_487.avi\n",
            "answer: ['a', 'man', 'scoops', 'out', 'seeds', 'from', 'a', 'cucumber']\n",
            "prediction: ['a', 'man', 'is', 'a', 'a']\u001b[0m\n"
          ],
          "name": "stdout"
        },
        {
          "output_type": "stream",
          "text": [
            "Epoch 9, step 21/96, (Training Loss: 3.5987, samp_prob: 0.8375):   9%|▉         | 9/100 [16:15<2:35:34, 102.58s/it]"
          ],
          "name": "stderr"
        },
        {
          "output_type": "stream",
          "text": [
            "\u001b[37;43;4m\n",
            "[Train. Prediction] Epoch 9, step 21/96......\u001b[0m\n",
            "\u001b[33m\n",
            "id: W6_XuNhgtrM_2_5.avi\n",
            "answer: ['a', 'man', 'riding', 'a', '<UNK>', 'is', 'crashing', 'into', 'the', 'sand']\n",
            "prediction: ['a', 'is', 'is', 'the']\u001b[0m\n"
          ],
          "name": "stdout"
        },
        {
          "output_type": "stream",
          "text": [
            "Epoch 9, step 41/96, (Training Loss: 3.6090, samp_prob: 0.8375):   9%|▉         | 9/100 [16:35<2:35:34, 102.58s/it]"
          ],
          "name": "stderr"
        },
        {
          "output_type": "stream",
          "text": [
            "\u001b[37;43;4m\n",
            "[Train. Prediction] Epoch 9, step 41/96......\u001b[0m\n",
            "\u001b[33m\n",
            "id: aQWCKcg0VRU_321_339.avi\n",
            "answer: ['a', 'man', 'is', 'stirring', '<UNK>']\n",
            "prediction: ['a', 'man', 'is', 'a', 'in', 'the']\u001b[0m\n"
          ],
          "name": "stdout"
        },
        {
          "output_type": "stream",
          "text": [
            "Epoch 9, step 61/96, (Training Loss: 3.4444, samp_prob: 0.8375):   9%|▉         | 9/100 [16:56<2:35:34, 102.58s/it]"
          ],
          "name": "stderr"
        },
        {
          "output_type": "stream",
          "text": [
            "\u001b[37;43;4m\n",
            "[Train. Prediction] Epoch 9, step 61/96......\u001b[0m\n",
            "\u001b[33m\n",
            "id: 0lh_UWF9ZP4_157_160.avi\n",
            "answer: ['a', 'woman', 'is', 'putting', 'shrimp', 'onto', 'skewers']\n",
            "prediction: ['a', 'woman', 'is', 'a']\u001b[0m\n"
          ],
          "name": "stdout"
        },
        {
          "output_type": "stream",
          "text": [
            "Epoch 9, step 81/96, (Training Loss: 3.6256, samp_prob: 0.8375):   9%|▉         | 9/100 [17:17<2:35:34, 102.58s/it]"
          ],
          "name": "stderr"
        },
        {
          "output_type": "stream",
          "text": [
            "\u001b[37;43;4m\n",
            "[Train. Prediction] Epoch 9, step 81/96......\u001b[0m\n",
            "\u001b[33m\n",
            "id: HO_ovIrLWfQ_1_11.avi\n",
            "answer: ['a', 'man', 'is', 'rowing', 'a', 'boat']\n",
            "prediction: ['a', 'man', 'is', 'a', 'a']\u001b[0m\n"
          ],
          "name": "stdout"
        },
        {
          "output_type": "stream",
          "text": [
            "Epoch 9, step 95/96, (Training Loss: 3.4501, samp_prob: 0.8375):  10%|█         | 10/100 [17:31<2:32:28, 101.64s/it]"
          ],
          "name": "stderr"
        },
        {
          "output_type": "stream",
          "text": [
            "\u001b[32;47m\n",
            "[FINISHED] Epoch 9, (Training Loss (average loss in this epoch): 3.5772, samp_prob: 0.8375)\u001b[0m\n"
          ],
          "name": "stdout"
        },
        {
          "output_type": "stream",
          "text": [
            "Epoch 10, step 1/96, (Training Loss: 3.4778, samp_prob: 0.8320):  10%|█         | 10/100 [17:34<2:32:28, 101.64s/it]"
          ],
          "name": "stderr"
        },
        {
          "output_type": "stream",
          "text": [
            "\u001b[37;43;4m\n",
            "[Train. Prediction] Epoch 10, step 1/96......\u001b[0m\n",
            "\u001b[33m\n",
            "id: Jfu-WkuCgD0_140_150.avi\n",
            "answer: ['the', 'man', '<UNK>', 'the', 'sesame', 'seed', 'bun']\n",
            "prediction: ['a', 'man', 'is', 'a', 'a']\u001b[0m\n"
          ],
          "name": "stdout"
        },
        {
          "output_type": "stream",
          "text": [
            "Epoch 10, step 21/96, (Training Loss: 3.5118, samp_prob: 0.8320):  10%|█         | 10/100 [17:54<2:32:28, 101.64s/it]"
          ],
          "name": "stderr"
        },
        {
          "output_type": "stream",
          "text": [
            "\u001b[37;43;4m\n",
            "[Train. Prediction] Epoch 10, step 21/96......\u001b[0m\n",
            "\u001b[33m\n",
            "id: lm0z7eLsbbw_9_23.avi\n",
            "answer: ['a', 'monkey', 'is', 'smoking', 'a', 'cigarette']\n",
            "prediction: ['a', 'is', 'is', 'a']\u001b[0m\n"
          ],
          "name": "stdout"
        },
        {
          "output_type": "stream",
          "text": [
            "Epoch 10, step 41/96, (Training Loss: 3.4207, samp_prob: 0.8320):  10%|█         | 10/100 [18:15<2:32:28, 101.64s/it]"
          ],
          "name": "stderr"
        },
        {
          "output_type": "stream",
          "text": [
            "\u001b[37;43;4m\n",
            "[Train. Prediction] Epoch 10, step 41/96......\u001b[0m\n",
            "\u001b[33m\n",
            "id: 5AEldiUP408_65_71.avi\n",
            "answer: ['a', 'man', 'only', 'wearing', 'underwear', 'and', 'a', 'white', '<UNK>', 'is', 'running', 'down', 'a', 'sidewalk']\n",
            "prediction: ['a', 'man', 'is', 'a', 'a']\u001b[0m\n"
          ],
          "name": "stdout"
        },
        {
          "output_type": "stream",
          "text": [
            "Epoch 10, step 61/96, (Training Loss: 3.4339, samp_prob: 0.8320):  10%|█         | 10/100 [18:36<2:32:28, 101.64s/it]"
          ],
          "name": "stderr"
        },
        {
          "output_type": "stream",
          "text": [
            "\u001b[37;43;4m\n",
            "[Train. Prediction] Epoch 10, step 61/96......\u001b[0m\n",
            "\u001b[33m\n",
            "id: R8FDJgVW3Vc_0_4.avi\n",
            "answer: ['a', 'woman', 'is', 'tapping', 'her', 'fingernails', 'on', 'a', 'table']\n",
            "prediction: ['a', 'girl', 'is', 'her', 'her']\u001b[0m\n"
          ],
          "name": "stdout"
        },
        {
          "output_type": "stream",
          "text": [
            "Epoch 10, step 81/96, (Training Loss: 3.4258, samp_prob: 0.8320):  10%|█         | 10/100 [18:56<2:32:28, 101.64s/it]"
          ],
          "name": "stderr"
        },
        {
          "output_type": "stream",
          "text": [
            "\u001b[37;43;4m\n",
            "[Train. Prediction] Epoch 10, step 81/96......\u001b[0m\n",
            "\u001b[33m\n",
            "id: 8MVo7fje_oE_113_118.avi\n",
            "answer: ['a', 'man', 'sets', 'the', 'timer', 'on', 'a', 'microwave']\n",
            "prediction: ['a', 'man', 'is', 'a', 'a']\u001b[0m\n"
          ],
          "name": "stdout"
        },
        {
          "output_type": "stream",
          "text": [
            "Epoch 10, step 95/96, (Training Loss: 3.5901, samp_prob: 0.8320):  10%|█         | 10/100 [19:10<2:32:28, 101.64s/it]"
          ],
          "name": "stderr"
        },
        {
          "output_type": "stream",
          "text": [
            "\u001b[32;47m\n",
            "[FINISHED] Epoch 10, (Training Loss (average loss in this epoch): 3.4821, samp_prob: 0.8320)\u001b[0m\n",
            "\u001b[37;42;1m\n",
            "Saver saved: /content/drive/My Drive/save_modelssave_net.ckpt-1055\u001b[0m\n",
            "INFO:tensorflow:Restoring parameters from /content/drive/My Drive/save_modelssave_net.ckpt-1055\n"
          ],
          "name": "stdout"
        },
        {
          "output_type": "stream",
          "text": [
            "I0326 18:31:15.346236 140156139370368 saver.py:1292] Restoring parameters from /content/drive/My Drive/save_modelssave_net.ckpt-1055\n"
          ],
          "name": "stderr"
        },
        {
          "output_type": "stream",
          "text": [
            "\u001b[37;42;4m\n",
            "[Val. Prediction] Epoch 10, step 96/96......\u001b[0m\n"
          ],
          "name": "stdout"
        },
        {
          "output_type": "stream",
          "text": [
            "\rEpoch 10, step 95/96, (Training Loss: 3.5901, samp_prob: 0.8320):  11%|█         | 11/100 [19:14<2:31:16, 101.98s/it]"
          ],
          "name": "stderr"
        },
        {
          "output_type": "stream",
          "text": [
            "\u001b[32m\n",
            "id: ScdUht-pM6s_53_63.avi\n",
            "answer: ['a', 'man', 'is', 'adding', 'salt', 'to', 'a', 'skewered', 'whole', 'chicken']\n",
            "prediction: ['a', 'man', 'is', 'is', 'a', 'a']\u001b[0m\n",
            "\u001b[32m\n",
            "id: 5YJaS2Eswg0_22_26.avi\n",
            "answer: ['a', 'girl', 'is', 'jumping', 'rope']\n",
            "prediction: ['a', 'man', 'is', 'is', 'a']\u001b[0m\n",
            "\u001b[32m\n",
            "id: glrijRGnmc0_211_215.avi\n",
            "answer: ['a', 'man', 'puts', 'a', 'cup', 'in', 'the', 'microwave']\n",
            "prediction: ['a', 'man', 'is', 'is', 'a', 'a', 'a', 'a']\u001b[0m\n",
            "\u001b[32m\n",
            "id: PeUHy0A1GF0_114_121.avi\n",
            "answer: ['a', 'woman', 'is', 'peeling', 'shrimp']\n",
            "prediction: ['a', 'woman', 'is', 'peeling', 'shrimp']\u001b[0m\n",
            "\u001b[32m\n",
            "id: 778mkceE0UQ_40_46.avi\n",
            "answer: ['a', 'car', 'is', 'going', 'down', 'a', 'road']\n",
            "prediction: ['a', 'car', 'is', 'is', 'a', 'a']\u001b[0m\n",
            "\u001b[32m\n",
            "id: mmSQTI6gMNQ_120_128.avi\n",
            "answer: ['two', 'men', 'are', 'hiding', 'behind', 'a', 'bush']\n",
            "prediction: ['two', 'are', 'are', 'are']\u001b[0m\n",
            "\u001b[32m\n",
            "id: s1ZABV7AQdA_38_48.avi\n",
            "answer: ['a', 'man', 'is', '<UNK>', 'by', 'a', 'crowd', 'of', 'people', 'who', 'chase', 'him', 'down', 'an', '<UNK>']\n",
            "prediction: ['a', 'are', 'are', 'dancing']\u001b[0m\n",
            "\u001b[32m\n",
            "id: tcxhOGyrCtI_15_21.avi\n",
            "answer: ['the', 'cat', 'walked', 'in', 'the', 'grass']\n",
            "prediction: ['a', 'cat', 'is', 'is', 'a', 'a']\u001b[0m\n",
            "\u001b[32m\n",
            "id: J---aiyznGQ_0_6.avi\n",
            "answer: ['a', 'cat', 'is', 'playing', 'a', 'piano']\n",
            "prediction: ['a', 'man', 'is', 'is', 'a']\u001b[0m\n",
            "\u001b[32m\n",
            "id: WTf5EgVY5uU_124_128.avi\n",
            "answer: ['a', 'woman', 'adds', 'some', 'chopped', 'garlic', 'to', 'a', 'skillet', 'containing', 'oil', 'and', 'stir', 'fries', 'the', 'same']\n",
            "prediction: ['a', 'woman', 'is', 'is', 'a']\u001b[0m\n",
            "\n",
            "Save file: /content/drive/My Drive/output.txt\n",
            "\u001b[37;42mValidation: 100/100, done...Total Loss: 3.6717\u001b[0m\n"
          ],
          "name": "stdout"
        },
        {
          "output_type": "stream",
          "text": [
            "Epoch 11, step 1/96, (Training Loss: 3.4529, samp_prob: 0.8264):  11%|█         | 11/100 [19:16<2:31:16, 101.98s/it]"
          ],
          "name": "stderr"
        },
        {
          "output_type": "stream",
          "text": [
            "\u001b[37;43;4m\n",
            "[Train. Prediction] Epoch 11, step 1/96......\u001b[0m\n",
            "\u001b[33m\n",
            "id: R8FDJgVW3Vc_0_4.avi\n",
            "answer: ['a', 'woman', 'is', 'striking', 'a', 'table', 'with', 'her', 'fingers']\n",
            "prediction: ['a', 'woman', 'is', 'is', 'a']\u001b[0m\n"
          ],
          "name": "stdout"
        },
        {
          "output_type": "stream",
          "text": [
            "Epoch 11, step 21/96, (Training Loss: 3.2717, samp_prob: 0.8264):  11%|█         | 11/100 [19:37<2:31:16, 101.98s/it]"
          ],
          "name": "stderr"
        },
        {
          "output_type": "stream",
          "text": [
            "\u001b[37;43;4m\n",
            "[Train. Prediction] Epoch 11, step 21/96......\u001b[0m\n",
            "\u001b[33m\n",
            "id: J8cP93yG1Ao_14_24.avi\n",
            "answer: ['someone', 'is', 'racing', 'cars']\n",
            "prediction: ['two', 'men', 'are', 'are', 'the']\u001b[0m\n"
          ],
          "name": "stdout"
        },
        {
          "output_type": "stream",
          "text": [
            "Epoch 11, step 41/96, (Training Loss: 3.4296, samp_prob: 0.8264):  11%|█         | 11/100 [19:58<2:31:16, 101.98s/it]"
          ],
          "name": "stderr"
        },
        {
          "output_type": "stream",
          "text": [
            "\u001b[37;43;4m\n",
            "[Train. Prediction] Epoch 11, step 41/96......\u001b[0m\n",
            "\u001b[33m\n",
            "id: 7bcV-TL9mho_0_7.avi\n",
            "answer: ['several', 'puppies', '<UNK>', 'a', 'cat', 'in', 'the', 'hallway']\n",
            "prediction: ['a', 'are', 'are', 'are']\u001b[0m\n"
          ],
          "name": "stdout"
        },
        {
          "output_type": "stream",
          "text": [
            "Epoch 11, step 61/96, (Training Loss: 3.2801, samp_prob: 0.8264):  11%|█         | 11/100 [20:18<2:31:16, 101.98s/it]"
          ],
          "name": "stderr"
        },
        {
          "output_type": "stream",
          "text": [
            "\u001b[37;43;4m\n",
            "[Train. Prediction] Epoch 11, step 61/96......\u001b[0m\n",
            "\u001b[33m\n",
            "id: SRzoLVNgHoI_56_66.avi\n",
            "answer: ['three', 'women', 'are', 'dancing', 'in', 'a', 'field']\n",
            "prediction: ['two', 'are', 'are', 'are']\u001b[0m\n"
          ],
          "name": "stdout"
        },
        {
          "output_type": "stream",
          "text": [
            "Epoch 11, step 81/96, (Training Loss: 3.3126, samp_prob: 0.8264):  11%|█         | 11/100 [20:39<2:31:16, 101.98s/it]"
          ],
          "name": "stderr"
        },
        {
          "output_type": "stream",
          "text": [
            "\u001b[37;43;4m\n",
            "[Train. Prediction] Epoch 11, step 81/96......\u001b[0m\n",
            "\u001b[33m\n",
            "id: ul9Xvjt83eI_111_120.avi\n",
            "answer: ['a', 'man', 'is', 'talking', 'to', 'another', 'man', 'while', 'it', 'rains', 'outside']\n",
            "prediction: ['two', 'are', 'are', 'are']\u001b[0m\n"
          ],
          "name": "stdout"
        },
        {
          "output_type": "stream",
          "text": [
            "Epoch 11, step 95/96, (Training Loss: 3.3598, samp_prob: 0.8264):  12%|█▏        | 12/100 [20:53<2:28:28, 101.24s/it]"
          ],
          "name": "stderr"
        },
        {
          "output_type": "stream",
          "text": [
            "\u001b[32;47m\n",
            "[FINISHED] Epoch 11, (Training Loss (average loss in this epoch): 3.4006, samp_prob: 0.8264)\u001b[0m\n"
          ],
          "name": "stdout"
        },
        {
          "output_type": "stream",
          "text": [
            "Epoch 12, step 1/96, (Training Loss: 3.3800, samp_prob: 0.8205):  12%|█▏        | 12/100 [20:56<2:28:28, 101.24s/it]"
          ],
          "name": "stderr"
        },
        {
          "output_type": "stream",
          "text": [
            "\u001b[37;43;4m\n",
            "[Train. Prediction] Epoch 12, step 1/96......\u001b[0m\n",
            "\u001b[33m\n",
            "id: JAFGw0WRHHU_108_116.avi\n",
            "answer: ['a', 'man', 'is', 'waking', 'up', 'a', 'woman']\n",
            "prediction: ['a', 'man', 'is', 'is', 'a', 'the']\u001b[0m\n"
          ],
          "name": "stdout"
        },
        {
          "output_type": "stream",
          "text": [
            "Epoch 12, step 21/96, (Training Loss: 3.2906, samp_prob: 0.8205):  12%|█▏        | 12/100 [21:16<2:28:28, 101.24s/it]"
          ],
          "name": "stderr"
        },
        {
          "output_type": "stream",
          "text": [
            "\u001b[37;43;4m\n",
            "[Train. Prediction] Epoch 12, step 21/96......\u001b[0m\n",
            "\u001b[33m\n",
            "id: xxHx6s_DbUo_202_207.avi\n",
            "answer: ['a', 'man', 'is', 'punching', 'something']\n",
            "prediction: ['a', 'man', 'is', 'a']\u001b[0m\n"
          ],
          "name": "stdout"
        },
        {
          "output_type": "stream",
          "text": [
            "Epoch 12, step 41/96, (Training Loss: 3.2295, samp_prob: 0.8205):  12%|█▏        | 12/100 [21:37<2:28:28, 101.24s/it]"
          ],
          "name": "stderr"
        },
        {
          "output_type": "stream",
          "text": [
            "\u001b[37;43;4m\n",
            "[Train. Prediction] Epoch 12, step 41/96......\u001b[0m\n",
            "\u001b[33m\n",
            "id: VahnQw2gTQY_315_320.avi\n",
            "answer: ['the', 'person', 'is', 'slicing', 'onions']\n",
            "prediction: ['a', 'is', 'is', 'slicing', 'slicing']\u001b[0m\n"
          ],
          "name": "stdout"
        },
        {
          "output_type": "stream",
          "text": [
            "Epoch 12, step 61/96, (Training Loss: 3.2793, samp_prob: 0.8205):  12%|█▏        | 12/100 [21:58<2:28:28, 101.24s/it]"
          ],
          "name": "stderr"
        },
        {
          "output_type": "stream",
          "text": [
            "\u001b[37;43;4m\n",
            "[Train. Prediction] Epoch 12, step 61/96......\u001b[0m\n",
            "\u001b[33m\n",
            "id: hW8TKz2Aea4_40_50.avi\n",
            "answer: ['a', 'person', 'is', 'washing', 'his', 'pet', 'rat']\n",
            "prediction: ['a', 'is', 'is', 'a', 'a', 'a', 'a']\u001b[0m\n"
          ],
          "name": "stdout"
        },
        {
          "output_type": "stream",
          "text": [
            "Epoch 12, step 81/96, (Training Loss: 3.2923, samp_prob: 0.8205):  12%|█▏        | 12/100 [22:18<2:28:28, 101.24s/it]"
          ],
          "name": "stderr"
        },
        {
          "output_type": "stream",
          "text": [
            "\u001b[37;43;4m\n",
            "[Train. Prediction] Epoch 12, step 81/96......\u001b[0m\n",
            "\u001b[33m\n",
            "id: BR4yQFZK9YM_101_110.avi\n",
            "answer: ['the', 'ladies', 'ran', 'on', 'the', 'treadmill']\n",
            "prediction: ['two', 'are', 'is', 'a']\u001b[0m\n"
          ],
          "name": "stdout"
        },
        {
          "output_type": "stream",
          "text": [
            "Epoch 12, step 95/96, (Training Loss: 3.3740, samp_prob: 0.8205):  13%|█▎        | 13/100 [22:33<2:26:01, 100.70s/it]"
          ],
          "name": "stderr"
        },
        {
          "output_type": "stream",
          "text": [
            "\u001b[32;47m\n",
            "[FINISHED] Epoch 12, (Training Loss (average loss in this epoch): 3.3227, samp_prob: 0.8205)\u001b[0m\n"
          ],
          "name": "stdout"
        },
        {
          "output_type": "stream",
          "text": [
            "Epoch 13, step 1/96, (Training Loss: 3.2374, samp_prob: 0.8146):  13%|█▎        | 13/100 [22:35<2:26:01, 100.70s/it]"
          ],
          "name": "stderr"
        },
        {
          "output_type": "stream",
          "text": [
            "\u001b[37;43;4m\n",
            "[Train. Prediction] Epoch 13, step 1/96......\u001b[0m\n",
            "\u001b[33m\n",
            "id: ACOmKiJDkA4_161_170.avi\n",
            "answer: ['a', 'woman', 'puts', 'some', 'meat', 'into', 'a', '<UNK>', 'of', 'rice']\n",
            "prediction: ['a', 'woman', 'is', 'meat', 'shrimp']\u001b[0m\n"
          ],
          "name": "stdout"
        },
        {
          "output_type": "stream",
          "text": [
            "Epoch 13, step 21/96, (Training Loss: 3.2607, samp_prob: 0.8146):  13%|█▎        | 13/100 [22:56<2:26:01, 100.70s/it]"
          ],
          "name": "stderr"
        },
        {
          "output_type": "stream",
          "text": [
            "\u001b[37;43;4m\n",
            "[Train. Prediction] Epoch 13, step 21/96......\u001b[0m\n",
            "\u001b[33m\n",
            "id: DIebwNHGjm8_133_148.avi\n",
            "answer: ['a', 'girl', 'is', 'on', 'jet', '<UNK>']\n",
            "prediction: ['a', 'woman', 'is', 'a', 'a']\u001b[0m\n"
          ],
          "name": "stdout"
        },
        {
          "output_type": "stream",
          "text": [
            "Epoch 13, step 41/96, (Training Loss: 3.2766, samp_prob: 0.8146):  13%|█▎        | 13/100 [23:17<2:26:01, 100.70s/it]"
          ],
          "name": "stderr"
        },
        {
          "output_type": "stream",
          "text": [
            "\u001b[37;43;4m\n",
            "[Train. Prediction] Epoch 13, step 41/96......\u001b[0m\n",
            "\u001b[33m\n",
            "id: YndZ9YulpTo_61_76.avi\n",
            "answer: ['the', 'woman', 'is', 'slicing', 'a', 'tomato']\n",
            "prediction: ['a', 'person', 'is', 'slicing', 'a']\u001b[0m\n"
          ],
          "name": "stdout"
        },
        {
          "output_type": "stream",
          "text": [
            "Epoch 13, step 61/96, (Training Loss: 3.1904, samp_prob: 0.8146):  13%|█▎        | 13/100 [23:37<2:26:01, 100.70s/it]"
          ],
          "name": "stderr"
        },
        {
          "output_type": "stream",
          "text": [
            "\u001b[37;43;4m\n",
            "[Train. Prediction] Epoch 13, step 61/96......\u001b[0m\n",
            "\u001b[33m\n",
            "id: 5OuYhq6Zl0g_0_10.avi\n",
            "answer: ['girls', 'are', 'dancing']\n",
            "prediction: ['two', 'women', 'are', 'dancing']\u001b[0m\n"
          ],
          "name": "stdout"
        },
        {
          "output_type": "stream",
          "text": [
            "Epoch 13, step 81/96, (Training Loss: 3.1605, samp_prob: 0.8146):  13%|█▎        | 13/100 [23:58<2:26:01, 100.70s/it]"
          ],
          "name": "stderr"
        },
        {
          "output_type": "stream",
          "text": [
            "\u001b[37;43;4m\n",
            "[Train. Prediction] Epoch 13, step 81/96......\u001b[0m\n",
            "\u001b[33m\n",
            "id: u9prcUCHlqM_503_511.avi\n",
            "answer: ['the', 'photographer', 'took', \"someone's\", 'picture', 'in', 'the', 'church']\n",
            "prediction: ['a', 'man', 'is', 'a', 'a', 'a']\u001b[0m\n"
          ],
          "name": "stdout"
        },
        {
          "output_type": "stream",
          "text": [
            "Epoch 13, step 95/96, (Training Loss: 3.2438, samp_prob: 0.8146):  14%|█▍        | 14/100 [24:12<2:23:47, 100.32s/it]"
          ],
          "name": "stderr"
        },
        {
          "output_type": "stream",
          "text": [
            "\u001b[32;47m\n",
            "[FINISHED] Epoch 13, (Training Loss (average loss in this epoch): 3.2539, samp_prob: 0.8146)\u001b[0m\n"
          ],
          "name": "stdout"
        },
        {
          "output_type": "stream",
          "text": [
            "Epoch 14, step 1/96, (Training Loss: 3.1862, samp_prob: 0.8085):  14%|█▍        | 14/100 [24:15<2:23:47, 100.32s/it]"
          ],
          "name": "stderr"
        },
        {
          "output_type": "stream",
          "text": [
            "\u001b[37;43;4m\n",
            "[Train. Prediction] Epoch 14, step 1/96......\u001b[0m\n",
            "\u001b[33m\n",
            "id: xdhLQCYQ-nQ_50_63.avi\n",
            "answer: ['a', 'cat', 'is', 'jumping', 'into', 'a', 'box']\n",
            "prediction: ['a', 'cat', 'is', 'into', 'into', 'into', 'into']\u001b[0m\n"
          ],
          "name": "stdout"
        },
        {
          "output_type": "stream",
          "text": [
            "Epoch 14, step 21/96, (Training Loss: 3.2093, samp_prob: 0.8085):  14%|█▍        | 14/100 [24:35<2:23:47, 100.32s/it]"
          ],
          "name": "stderr"
        },
        {
          "output_type": "stream",
          "text": [
            "\u001b[37;43;4m\n",
            "[Train. Prediction] Epoch 14, step 21/96......\u001b[0m\n",
            "\u001b[33m\n",
            "id: t8Nf1MK7lts_0_10.avi\n",
            "answer: ['a', 'drill', 'sergeant', 'is', 'speaking', 'to', 'soldiers', 'standing', 'in', '<UNK>']\n",
            "prediction: ['a', 'boy', 'is', 'talking', 'a']\u001b[0m\n"
          ],
          "name": "stdout"
        },
        {
          "output_type": "stream",
          "text": [
            "Epoch 14, step 41/96, (Training Loss: 3.1917, samp_prob: 0.8085):  14%|█▍        | 14/100 [24:56<2:23:47, 100.32s/it]"
          ],
          "name": "stderr"
        },
        {
          "output_type": "stream",
          "text": [
            "\u001b[37;43;4m\n",
            "[Train. Prediction] Epoch 14, step 41/96......\u001b[0m\n",
            "\u001b[33m\n",
            "id: KPPCwmU5OHQ_467_472.avi\n",
            "answer: ['the', 'man', 'added', 'chopped', 'vegetables', 'to', 'the', 'broth']\n",
            "prediction: ['a', 'man', 'is', 'vegetables', 'a', 'a']\u001b[0m\n"
          ],
          "name": "stdout"
        },
        {
          "output_type": "stream",
          "text": [
            "Epoch 14, step 61/96, (Training Loss: 3.2324, samp_prob: 0.8085):  14%|█▍        | 14/100 [25:17<2:23:47, 100.32s/it]"
          ],
          "name": "stderr"
        },
        {
          "output_type": "stream",
          "text": [
            "\u001b[37;43;4m\n",
            "[Train. Prediction] Epoch 14, step 61/96......\u001b[0m\n",
            "\u001b[33m\n",
            "id: zTn-nNj5Bng_61_77.avi\n",
            "answer: ['a', 'woman', 'is', 'riding', 'her', 'horse']\n",
            "prediction: ['a', 'woman', 'is', 'riding', 'a', 'horse', 'horse']\u001b[0m\n"
          ],
          "name": "stdout"
        },
        {
          "output_type": "stream",
          "text": [
            "Epoch 14, step 81/96, (Training Loss: 3.1717, samp_prob: 0.8085):  14%|█▍        | 14/100 [25:38<2:23:47, 100.32s/it]"
          ],
          "name": "stderr"
        },
        {
          "output_type": "stream",
          "text": [
            "\u001b[37;43;4m\n",
            "[Train. Prediction] Epoch 14, step 81/96......\u001b[0m\n",
            "\u001b[33m\n",
            "id: i3cHNObcEh8_0_10.avi\n",
            "answer: ['a', 'cat', 'is', 'eating', 'watermelon']\n",
            "prediction: ['a', 'cat', 'is', 'eating', 'a', 'watermelon']\u001b[0m\n"
          ],
          "name": "stdout"
        },
        {
          "output_type": "stream",
          "text": [
            "Epoch 14, step 95/96, (Training Loss: 3.1235, samp_prob: 0.8085):  15%|█▌        | 15/100 [25:52<2:21:47, 100.09s/it]"
          ],
          "name": "stderr"
        },
        {
          "output_type": "stream",
          "text": [
            "\u001b[32;47m\n",
            "[FINISHED] Epoch 14, (Training Loss (average loss in this epoch): 3.1868, samp_prob: 0.8085)\u001b[0m\n"
          ],
          "name": "stdout"
        },
        {
          "output_type": "stream",
          "text": [
            "Epoch 15, step 1/96, (Training Loss: 3.1085, samp_prob: 0.8022):  15%|█▌        | 15/100 [25:54<2:21:47, 100.09s/it]"
          ],
          "name": "stderr"
        },
        {
          "output_type": "stream",
          "text": [
            "\u001b[37;43;4m\n",
            "[Train. Prediction] Epoch 15, step 1/96......\u001b[0m\n",
            "\u001b[33m\n",
            "id: ZK4W-2ifl6I_1_28.avi\n",
            "answer: ['the', 'dog', 'is', 'sitting', 'in', 'the', 'tub']\n",
            "prediction: ['a', 'dog', 'is', 'a', 'a', 'in']\u001b[0m\n"
          ],
          "name": "stdout"
        },
        {
          "output_type": "stream",
          "text": [
            "Epoch 15, step 21/96, (Training Loss: 3.2620, samp_prob: 0.8022):  15%|█▌        | 15/100 [26:15<2:21:47, 100.09s/it]"
          ],
          "name": "stderr"
        },
        {
          "output_type": "stream",
          "text": [
            "\u001b[37;43;4m\n",
            "[Train. Prediction] Epoch 15, step 21/96......\u001b[0m\n",
            "\u001b[33m\n",
            "id: lB1UPJ4leqs_0_6.avi\n",
            "answer: ['the', 'girl', 'woke', 'up']\n",
            "prediction: ['a', 'girl', 'girl', 'up']\u001b[0m\n"
          ],
          "name": "stdout"
        },
        {
          "output_type": "stream",
          "text": [
            "Epoch 15, step 41/96, (Training Loss: 3.0974, samp_prob: 0.8022):  15%|█▌        | 15/100 [26:36<2:21:47, 100.09s/it]"
          ],
          "name": "stderr"
        },
        {
          "output_type": "stream",
          "text": [
            "\u001b[37;43;4m\n",
            "[Train. Prediction] Epoch 15, step 41/96......\u001b[0m\n",
            "\u001b[33m\n",
            "id: QVSt5USMkMg_43_50.avi\n",
            "answer: ['an', 'aardvark', 'is', 'eating', 'avocado', 'from', 'a', \"woman's\", 'hand']\n",
            "prediction: ['a', 'man', 'is', 'a']\u001b[0m\n"
          ],
          "name": "stdout"
        },
        {
          "output_type": "stream",
          "text": [
            "Epoch 15, step 61/96, (Training Loss: 3.1482, samp_prob: 0.8022):  15%|█▌        | 15/100 [26:56<2:21:47, 100.09s/it]"
          ],
          "name": "stderr"
        },
        {
          "output_type": "stream",
          "text": [
            "\u001b[37;43;4m\n",
            "[Train. Prediction] Epoch 15, step 61/96......\u001b[0m\n",
            "\u001b[33m\n",
            "id: 8MVo7fje_oE_85_90.avi\n",
            "answer: ['a', 'man', 'is', 'pouring', 'water', 'into', 'a', 'plastic', 'container']\n",
            "prediction: ['a', 'man', 'is', 'pouring', 'water', 'a']\u001b[0m\n"
          ],
          "name": "stdout"
        },
        {
          "output_type": "stream",
          "text": [
            "Epoch 15, step 81/96, (Training Loss: 3.0765, samp_prob: 0.8022):  15%|█▌        | 15/100 [27:17<2:21:47, 100.09s/it]"
          ],
          "name": "stderr"
        },
        {
          "output_type": "stream",
          "text": [
            "\u001b[37;43;4m\n",
            "[Train. Prediction] Epoch 15, step 81/96......\u001b[0m\n",
            "\u001b[33m\n",
            "id: 77iDIp40m9E_3_9.avi\n",
            "answer: ['a', 'small', 'dog', 'urinates', 'on', 'a', 'larger', 'dog']\n",
            "prediction: ['a', 'dog', 'dog', 'dog']\u001b[0m\n"
          ],
          "name": "stdout"
        },
        {
          "output_type": "stream",
          "text": [
            "Epoch 15, step 95/96, (Training Loss: 3.2347, samp_prob: 0.8022):  16%|█▌        | 16/100 [27:31<2:19:50, 99.88s/it] "
          ],
          "name": "stderr"
        },
        {
          "output_type": "stream",
          "text": [
            "\u001b[32;47m\n",
            "[FINISHED] Epoch 15, (Training Loss (average loss in this epoch): 3.1271, samp_prob: 0.8022)\u001b[0m\n"
          ],
          "name": "stdout"
        },
        {
          "output_type": "stream",
          "text": [
            "Epoch 16, step 1/96, (Training Loss: 3.0809, samp_prob: 0.7958):  16%|█▌        | 16/100 [27:34<2:19:50, 99.88s/it]"
          ],
          "name": "stderr"
        },
        {
          "output_type": "stream",
          "text": [
            "\u001b[37;43;4m\n",
            "[Train. Prediction] Epoch 16, step 1/96......\u001b[0m\n",
            "\u001b[33m\n",
            "id: elQqQfux7Po_12_22.avi\n",
            "answer: ['the', 'dog', 'ate', 'some', 'watermelon']\n",
            "prediction: ['a', 'dog', 'is', 'eating']\u001b[0m\n"
          ],
          "name": "stdout"
        },
        {
          "output_type": "stream",
          "text": [
            "Epoch 16, step 21/96, (Training Loss: 3.0774, samp_prob: 0.7958):  16%|█▌        | 16/100 [27:54<2:19:50, 99.88s/it]"
          ],
          "name": "stderr"
        },
        {
          "output_type": "stream",
          "text": [
            "\u001b[37;43;4m\n",
            "[Train. Prediction] Epoch 16, step 21/96......\u001b[0m\n",
            "\u001b[33m\n",
            "id: L8h2DazQZJY_0_10.avi\n",
            "answer: ['a', 'woman', 'jumps', 'over', 'a', 'pole', 'riding', 'a', 'horse']\n",
            "prediction: ['a', 'man', 'is', 'riding', 'a', 'horse']\u001b[0m\n"
          ],
          "name": "stdout"
        },
        {
          "output_type": "stream",
          "text": [
            "Epoch 16, step 41/96, (Training Loss: 3.1790, samp_prob: 0.7958):  16%|█▌        | 16/100 [28:15<2:19:50, 99.88s/it]"
          ],
          "name": "stderr"
        },
        {
          "output_type": "stream",
          "text": [
            "\u001b[37;43;4m\n",
            "[Train. Prediction] Epoch 16, step 41/96......\u001b[0m\n",
            "\u001b[33m\n",
            "id: dmyz_f8Sx14_56_66.avi\n",
            "answer: ['men', 'are', 'jumping', 'in', 'the', 'swimming', 'pool']\n",
            "prediction: ['a', 'men', '<UNK>', 'a', 'a', 'pool']\u001b[0m\n"
          ],
          "name": "stdout"
        },
        {
          "output_type": "stream",
          "text": [
            "Epoch 16, step 61/96, (Training Loss: 3.0028, samp_prob: 0.7958):  16%|█▌        | 16/100 [28:36<2:19:50, 99.88s/it]"
          ],
          "name": "stderr"
        },
        {
          "output_type": "stream",
          "text": [
            "\u001b[37;43;4m\n",
            "[Train. Prediction] Epoch 16, step 61/96......\u001b[0m\n",
            "\u001b[33m\n",
            "id: E61HNXjgyqA_22_32.avi\n",
            "answer: ['the', '<UNK>', 'sang', 'in', 'the', 'recording', 'studio']\n",
            "prediction: ['a', 'woman', 'is', 'singing']\u001b[0m\n"
          ],
          "name": "stdout"
        },
        {
          "output_type": "stream",
          "text": [
            "Epoch 16, step 81/96, (Training Loss: 2.9676, samp_prob: 0.7958):  16%|█▌        | 16/100 [28:56<2:19:50, 99.88s/it]"
          ],
          "name": "stderr"
        },
        {
          "output_type": "stream",
          "text": [
            "\u001b[37;43;4m\n",
            "[Train. Prediction] Epoch 16, step 81/96......\u001b[0m\n",
            "\u001b[33m\n",
            "id: bLqmf8x7rLI_2_8.avi\n",
            "answer: ['a', 'man', 'is', 'walking', 'a', 'black', 'and', 'white', 'dog']\n",
            "prediction: ['a', 'dog', 'is', 'walking', 'a', 'a', 'a', 'dog']\u001b[0m\n"
          ],
          "name": "stdout"
        },
        {
          "output_type": "stream",
          "text": [
            "Epoch 16, step 95/96, (Training Loss: 3.0619, samp_prob: 0.7958):  17%|█▋        | 17/100 [29:10<2:17:56, 99.71s/it]"
          ],
          "name": "stderr"
        },
        {
          "output_type": "stream",
          "text": [
            "\u001b[32;47m\n",
            "[FINISHED] Epoch 16, (Training Loss (average loss in this epoch): 3.0722, samp_prob: 0.7958)\u001b[0m\n"
          ],
          "name": "stdout"
        },
        {
          "output_type": "stream",
          "text": [
            "Epoch 17, step 1/96, (Training Loss: 3.0682, samp_prob: 0.7892):  17%|█▋        | 17/100 [29:13<2:17:56, 99.71s/it]"
          ],
          "name": "stderr"
        },
        {
          "output_type": "stream",
          "text": [
            "\u001b[37;43;4m\n",
            "[Train. Prediction] Epoch 17, step 1/96......\u001b[0m\n",
            "\u001b[33m\n",
            "id: _pj2Nutu5v8_1_8.avi\n",
            "answer: ['a', 'young', 'boy', 'is', 'wearing', 'a', 'headset']\n",
            "prediction: ['a', 'baby', 'is', 'talking', 'a']\u001b[0m\n"
          ],
          "name": "stdout"
        },
        {
          "output_type": "stream",
          "text": [
            "Epoch 17, step 21/96, (Training Loss: 2.9223, samp_prob: 0.7892):  17%|█▋        | 17/100 [29:34<2:17:56, 99.71s/it]"
          ],
          "name": "stderr"
        },
        {
          "output_type": "stream",
          "text": [
            "\u001b[37;43;4m\n",
            "[Train. Prediction] Epoch 17, step 21/96......\u001b[0m\n",
            "\u001b[33m\n",
            "id: JsD6uEZsIsU_1_47.avi\n",
            "answer: ['a', 'man', '<UNK>', 'a', 'guitar']\n",
            "prediction: ['a', 'man', 'is', 'the', 'guitar']\u001b[0m\n"
          ],
          "name": "stdout"
        },
        {
          "output_type": "stream",
          "text": [
            "Epoch 17, step 41/96, (Training Loss: 3.0917, samp_prob: 0.7892):  17%|█▋        | 17/100 [29:54<2:17:56, 99.71s/it]"
          ],
          "name": "stderr"
        },
        {
          "output_type": "stream",
          "text": [
            "\u001b[37;43;4m\n",
            "[Train. Prediction] Epoch 17, step 41/96......\u001b[0m\n",
            "\u001b[33m\n",
            "id: -vKO3uSG6Do_3_14.avi\n",
            "answer: ['some', 'animated', 'girls', 'are', 'dancing']\n",
            "prediction: ['three', 'are', 'are', 'dancing']\u001b[0m\n"
          ],
          "name": "stdout"
        },
        {
          "output_type": "stream",
          "text": [
            "Epoch 17, step 61/96, (Training Loss: 3.0261, samp_prob: 0.7892):  17%|█▋        | 17/100 [30:15<2:17:56, 99.71s/it]"
          ],
          "name": "stderr"
        },
        {
          "output_type": "stream",
          "text": [
            "\u001b[37;43;4m\n",
            "[Train. Prediction] Epoch 17, step 61/96......\u001b[0m\n",
            "\u001b[33m\n",
            "id: Sq7Vt6KC9Yg_17_35.avi\n",
            "answer: ['food', 'ingredients', 'are', 'added', 'to', 'a', 'blender']\n",
            "prediction: ['someone', 'person', 'is', 'is', 'a', 'a']\u001b[0m\n"
          ],
          "name": "stdout"
        },
        {
          "output_type": "stream",
          "text": [
            "Epoch 17, step 81/96, (Training Loss: 3.0827, samp_prob: 0.7892):  17%|█▋        | 17/100 [30:36<2:17:56, 99.71s/it]"
          ],
          "name": "stderr"
        },
        {
          "output_type": "stream",
          "text": [
            "\u001b[37;43;4m\n",
            "[Train. Prediction] Epoch 17, step 81/96......\u001b[0m\n",
            "\u001b[33m\n",
            "id: s80J2dAUUyI_33_43.avi\n",
            "answer: ['a', 'man', 'draws', 'an', '<UNK>', '<UNK>', 'on', 'a', 'white', 'board']\n",
            "prediction: ['a', 'man', 'is', 'on', 'a']\u001b[0m\n"
          ],
          "name": "stdout"
        },
        {
          "output_type": "stream",
          "text": [
            "Epoch 17, step 95/96, (Training Loss: 3.0634, samp_prob: 0.7892):  18%|█▊        | 18/100 [30:50<2:16:06, 99.59s/it]"
          ],
          "name": "stderr"
        },
        {
          "output_type": "stream",
          "text": [
            "\u001b[32;47m\n",
            "[FINISHED] Epoch 17, (Training Loss (average loss in this epoch): 3.0213, samp_prob: 0.7892)\u001b[0m\n"
          ],
          "name": "stdout"
        },
        {
          "output_type": "stream",
          "text": [
            "Epoch 18, step 1/96, (Training Loss: 3.0444, samp_prob: 0.7824):  18%|█▊        | 18/100 [30:52<2:16:06, 99.59s/it]"
          ],
          "name": "stderr"
        },
        {
          "output_type": "stream",
          "text": [
            "\u001b[37;43;4m\n",
            "[Train. Prediction] Epoch 18, step 1/96......\u001b[0m\n",
            "\u001b[33m\n",
            "id: n6U-TGahwvs_100_110.avi\n",
            "answer: ['a', 'band', 'is', 'playing', 'onstage']\n",
            "prediction: ['a', 'men', 'is', 'singing']\u001b[0m\n"
          ],
          "name": "stdout"
        },
        {
          "output_type": "stream",
          "text": [
            "Epoch 18, step 21/96, (Training Loss: 2.9534, samp_prob: 0.7824):  18%|█▊        | 18/100 [31:13<2:16:06, 99.59s/it]"
          ],
          "name": "stderr"
        },
        {
          "output_type": "stream",
          "text": [
            "\u001b[37;43;4m\n",
            "[Train. Prediction] Epoch 18, step 21/96......\u001b[0m\n",
            "\u001b[33m\n",
            "id: CBD9h0jUq3w_1_7.avi\n",
            "answer: ['the', 'men', 'are', 'playing', 'soccer', 'on', 'the', 'beach']\n",
            "prediction: ['men', 'are', 'are', 'soccer']\u001b[0m\n"
          ],
          "name": "stdout"
        },
        {
          "output_type": "stream",
          "text": [
            "Epoch 18, step 41/96, (Training Loss: 2.9906, samp_prob: 0.7824):  18%|█▊        | 18/100 [31:34<2:16:06, 99.59s/it]"
          ],
          "name": "stderr"
        },
        {
          "output_type": "stream",
          "text": [
            "\u001b[37;43;4m\n",
            "[Train. Prediction] Epoch 18, step 41/96......\u001b[0m\n",
            "\u001b[33m\n",
            "id: MMnnqzOoMF0_68_72.avi\n",
            "answer: ['a', 'girl', 'moves', 'a', '<UNK>', 'table', 'one', 'way', 'and', 'a', 'boy', 'moves', 'it', 'back']\n",
            "prediction: ['a', 'boy', 'are', 'table', 'a', 'a', 'a']\u001b[0m\n"
          ],
          "name": "stdout"
        },
        {
          "output_type": "stream",
          "text": [
            "Epoch 18, step 61/96, (Training Loss: 3.1707, samp_prob: 0.7824):  18%|█▊        | 18/100 [31:54<2:16:06, 99.59s/it]"
          ],
          "name": "stderr"
        },
        {
          "output_type": "stream",
          "text": [
            "\u001b[37;43;4m\n",
            "[Train. Prediction] Epoch 18, step 61/96......\u001b[0m\n",
            "\u001b[33m\n",
            "id: q8t7iSGAKik_11_31.avi\n",
            "answer: ['a', 'boy', 'is', 'kicking', 'a', 'soccer', 'ball', 'around']\n",
            "prediction: ['a', 'man', 'is', 'playing', 'a', 'ball']\u001b[0m\n"
          ],
          "name": "stdout"
        },
        {
          "output_type": "stream",
          "text": [
            "Epoch 18, step 81/96, (Training Loss: 2.9192, samp_prob: 0.7824):  18%|█▊        | 18/100 [32:15<2:16:06, 99.59s/it]"
          ],
          "name": "stderr"
        },
        {
          "output_type": "stream",
          "text": [
            "\u001b[37;43;4m\n",
            "[Train. Prediction] Epoch 18, step 81/96......\u001b[0m\n",
            "\u001b[33m\n",
            "id: pfQPRXcihkI_127_138.avi\n",
            "answer: ['a', 'man', 'is', 'peeling', 'a', 'potato', 'using', 'a', 'peeler']\n",
            "prediction: ['a', 'man', 'is', 'a', 'potato']\u001b[0m\n"
          ],
          "name": "stdout"
        },
        {
          "output_type": "stream",
          "text": [
            "Epoch 18, step 95/96, (Training Loss: 2.9292, samp_prob: 0.7824):  19%|█▉        | 19/100 [32:29<2:14:21, 99.52s/it]"
          ],
          "name": "stderr"
        },
        {
          "output_type": "stream",
          "text": [
            "\u001b[32;47m\n",
            "[FINISHED] Epoch 18, (Training Loss (average loss in this epoch): 2.9798, samp_prob: 0.7824)\u001b[0m\n"
          ],
          "name": "stdout"
        },
        {
          "output_type": "stream",
          "text": [
            "Epoch 19, step 1/96, (Training Loss: 3.0443, samp_prob: 0.7756):  19%|█▉        | 19/100 [32:32<2:14:21, 99.52s/it]"
          ],
          "name": "stderr"
        },
        {
          "output_type": "stream",
          "text": [
            "\u001b[37;43;4m\n",
            "[Train. Prediction] Epoch 19, step 1/96......\u001b[0m\n",
            "\u001b[33m\n",
            "id: 47D9-U8hn5I_11_16.avi\n",
            "answer: ['a', 'cat', 'wearing', 'socks', 'walks', 'on', 'a', 'table']\n",
            "prediction: ['a', 'cat', 'is', 'a', 'a', 'a', 'a']\u001b[0m\n"
          ],
          "name": "stdout"
        },
        {
          "output_type": "stream",
          "text": [
            "Epoch 19, step 21/96, (Training Loss: 3.0156, samp_prob: 0.7756):  19%|█▉        | 19/100 [32:52<2:14:21, 99.52s/it]"
          ],
          "name": "stderr"
        },
        {
          "output_type": "stream",
          "text": [
            "\u001b[37;43;4m\n",
            "[Train. Prediction] Epoch 19, step 21/96......\u001b[0m\n",
            "\u001b[33m\n",
            "id: HxRK-WqZ5Gk_30_50.avi\n",
            "answer: ['someone', 'is', 'going', 'down', 'a', 'slide']\n",
            "prediction: ['a', 'man', 'is', 'down', 'down', 'down']\u001b[0m\n"
          ],
          "name": "stdout"
        },
        {
          "output_type": "stream",
          "text": [
            "Epoch 19, step 41/96, (Training Loss: 2.9180, samp_prob: 0.7756):  19%|█▉        | 19/100 [33:13<2:14:21, 99.52s/it]"
          ],
          "name": "stderr"
        },
        {
          "output_type": "stream",
          "text": [
            "\u001b[37;43;4m\n",
            "[Train. Prediction] Epoch 19, step 41/96......\u001b[0m\n",
            "\u001b[33m\n",
            "id: 4_WZN7uW0NY_140_145.avi\n",
            "answer: ['people', 'are', 'sweeping', 'water', 'out', 'of', 'a', 'house']\n",
            "prediction: ['a', 'are', 'is', 'a']\u001b[0m\n"
          ],
          "name": "stdout"
        },
        {
          "output_type": "stream",
          "text": [
            "Epoch 19, step 61/96, (Training Loss: 2.9709, samp_prob: 0.7756):  19%|█▉        | 19/100 [33:34<2:14:21, 99.52s/it]"
          ],
          "name": "stderr"
        },
        {
          "output_type": "stream",
          "text": [
            "\u001b[37;43;4m\n",
            "[Train. Prediction] Epoch 19, step 61/96......\u001b[0m\n",
            "\u001b[33m\n",
            "id: Z3m9V8qPXhQ_13_24.avi\n",
            "answer: ['a', 'drummer', 'plays', 'a', 'drum', '<UNK>']\n",
            "prediction: ['a', 'man', 'is', 'playing', 'a']\u001b[0m\n"
          ],
          "name": "stdout"
        },
        {
          "output_type": "stream",
          "text": [
            "Epoch 19, step 81/96, (Training Loss: 2.8499, samp_prob: 0.7756):  19%|█▉        | 19/100 [33:54<2:14:21, 99.52s/it]"
          ],
          "name": "stderr"
        },
        {
          "output_type": "stream",
          "text": [
            "\u001b[37;43;4m\n",
            "[Train. Prediction] Epoch 19, step 81/96......\u001b[0m\n",
            "\u001b[33m\n",
            "id: pRpeEdMmmQ0_1_18.avi\n",
            "answer: ['a', 'soccer', 'player', 'makes', 'a', 'goal']\n",
            "prediction: ['a', 'are', 'player', 'playing', 'a', 'ball']\u001b[0m\n"
          ],
          "name": "stdout"
        },
        {
          "output_type": "stream",
          "text": [
            "Epoch 19, step 95/96, (Training Loss: 2.8811, samp_prob: 0.7756):  20%|██        | 20/100 [34:09<2:12:41, 99.52s/it]"
          ],
          "name": "stderr"
        },
        {
          "output_type": "stream",
          "text": [
            "\u001b[32;47m\n",
            "[FINISHED] Epoch 19, (Training Loss (average loss in this epoch): 2.9332, samp_prob: 0.7756)\u001b[0m\n"
          ],
          "name": "stdout"
        },
        {
          "output_type": "stream",
          "text": [
            "Epoch 20, step 1/96, (Training Loss: 2.9402, samp_prob: 0.7685):  20%|██        | 20/100 [34:11<2:12:41, 99.52s/it]"
          ],
          "name": "stderr"
        },
        {
          "output_type": "stream",
          "text": [
            "\u001b[37;43;4m\n",
            "[Train. Prediction] Epoch 20, step 1/96......\u001b[0m\n",
            "\u001b[33m\n",
            "id: v7NpKUVqjpI_23_40.avi\n",
            "answer: ['an', 'elephant', 'kicks', 'a', 'ball']\n",
            "prediction: ['a', 'elephant', 'is', 'soccer']\u001b[0m\n"
          ],
          "name": "stdout"
        },
        {
          "output_type": "stream",
          "text": [
            "Epoch 20, step 21/96, (Training Loss: 2.9309, samp_prob: 0.7685):  20%|██        | 20/100 [34:32<2:12:41, 99.52s/it]"
          ],
          "name": "stderr"
        },
        {
          "output_type": "stream",
          "text": [
            "\u001b[37;43;4m\n",
            "[Train. Prediction] Epoch 20, step 21/96......\u001b[0m\n",
            "\u001b[33m\n",
            "id: -rvjK0lE3z4_33_43.avi\n",
            "answer: ['a', 'woman', 'is', 'slicing', 'potato']\n",
            "prediction: ['a', 'woman', 'is', 'cutting', 'a', 'potato']\u001b[0m\n"
          ],
          "name": "stdout"
        },
        {
          "output_type": "stream",
          "text": [
            "Epoch 20, step 41/96, (Training Loss: 2.8487, samp_prob: 0.7685):  20%|██        | 20/100 [34:52<2:12:41, 99.52s/it]"
          ],
          "name": "stderr"
        },
        {
          "output_type": "stream",
          "text": [
            "\u001b[37;43;4m\n",
            "[Train. Prediction] Epoch 20, step 41/96......\u001b[0m\n",
            "\u001b[33m\n",
            "id: veE0E79dEEc_18_45.avi\n",
            "answer: ['a', 'man', 'slices', 'a', 'potato']\n",
            "prediction: ['a', 'man', 'is', 'a', 'a']\u001b[0m\n"
          ],
          "name": "stdout"
        },
        {
          "output_type": "stream",
          "text": [
            "Epoch 20, step 61/96, (Training Loss: 2.9192, samp_prob: 0.7685):  20%|██        | 20/100 [35:13<2:12:41, 99.52s/it]"
          ],
          "name": "stderr"
        },
        {
          "output_type": "stream",
          "text": [
            "\u001b[37;43;4m\n",
            "[Train. Prediction] Epoch 20, step 61/96......\u001b[0m\n",
            "\u001b[33m\n",
            "id: BVjvRpmHg0w_231_250.avi\n",
            "answer: ['meat', 'is', 'being', 'cooked', 'in', 'a', 'wok']\n",
            "prediction: ['a', 'woman', 'is', 'a']\u001b[0m\n"
          ],
          "name": "stdout"
        },
        {
          "output_type": "stream",
          "text": [
            "Epoch 20, step 81/96, (Training Loss: 2.8711, samp_prob: 0.7685):  20%|██        | 20/100 [35:34<2:12:41, 99.52s/it]"
          ],
          "name": "stderr"
        },
        {
          "output_type": "stream",
          "text": [
            "\u001b[37;43;4m\n",
            "[Train. Prediction] Epoch 20, step 81/96......\u001b[0m\n",
            "\u001b[33m\n",
            "id: gCra4qOrjFw_1_17.avi\n",
            "answer: ['a', 'soldier', 'is', 'shooting', 'two', 'guns']\n",
            "prediction: ['the', 'is', 'is', 'a', 'the']\u001b[0m\n"
          ],
          "name": "stdout"
        },
        {
          "output_type": "stream",
          "text": [
            "Epoch 20, step 95/96, (Training Loss: 2.7415, samp_prob: 0.7685):  20%|██        | 20/100 [35:48<2:12:41, 99.52s/it]"
          ],
          "name": "stderr"
        },
        {
          "output_type": "stream",
          "text": [
            "\u001b[32;47m\n",
            "[FINISHED] Epoch 20, (Training Loss (average loss in this epoch): 2.8927, samp_prob: 0.7685)\u001b[0m\n",
            "\u001b[37;42;1m\n",
            "Saver saved: /content/drive/My Drive/save_modelssave_net.ckpt-2015\u001b[0m\n",
            "INFO:tensorflow:Restoring parameters from /content/drive/My Drive/save_modelssave_net.ckpt-2015\n"
          ],
          "name": "stdout"
        },
        {
          "output_type": "stream",
          "text": [
            "I0326 18:47:52.745289 140156139370368 saver.py:1292] Restoring parameters from /content/drive/My Drive/save_modelssave_net.ckpt-2015\n"
          ],
          "name": "stderr"
        },
        {
          "output_type": "stream",
          "text": [
            "\u001b[37;42;4m\n",
            "[Val. Prediction] Epoch 20, step 96/96......\u001b[0m\n",
            "\u001b[32m\n",
            "id: n016q1w8Q30_2_11.avi\n",
            "answer: ['cards', 'are', 'being', '<UNK>']\n",
            "prediction: ['a', 'person', 'is', 'slicing', 'an']\u001b[0m\n",
            "\u001b[32m\n",
            "id: 4xVGpDmA4lE_23_33.avi\n",
            "answer: ['a', 'man', 'is', 'carrying', 'a', '<UNK>', 'on', 'his', 'head']\n",
            "prediction: ['a', 'man', 'is', 'a', 'a', 'a']\u001b[0m\n",
            "\u001b[32m\n",
            "id: 0lh_UWF9ZP4_62_69.avi\n",
            "answer: ['a', 'woman', 'mixes', 'rice']\n",
            "prediction: ['a', 'woman', 'is', 'is', 'a']\u001b[0m\n",
            "\u001b[32m\n",
            "id: 778mkceE0UQ_40_46.avi\n",
            "answer: ['a', 'car', 'is', 'racing', 'down', 'the', 'street']\n",
            "prediction: ['a', 'car', 'is', 'is', 'a', 'a', 'car']\u001b[0m\n",
            "\u001b[32m\n",
            "id: 30GeJHYoerk_121_126.avi\n",
            "answer: ['a', 'man', 'jumps', 'across', 'a', 'platform', 'on', 'his', 'hands']\n",
            "prediction: ['a', 'man', 'is', 'is', 'a']\u001b[0m\n",
            "\u001b[32m\n",
            "id: UXs3eq68ZjE_250_255.avi\n",
            "answer: ['a', 'person', 'is', 'pouring', 'a', '<UNK>', 'water', 'and', 'rice', 'in', 'the', 'pot']\n",
            "prediction: ['a', 'is', 'is', 'is', 'a', 'a']\u001b[0m\n",
            "\u001b[32m\n",
            "id: g1Gldu1KS44_8_14.avi\n",
            "answer: ['a', 'baby', 'elephant', 'is', 'eating', 'a', 'small', 'tree']\n",
            "prediction: ['a', 'man', 'is', 'is']\u001b[0m\n",
            "\u001b[32m\n",
            "id: J---aiyznGQ_0_6.avi\n",
            "answer: ['the', 'cat', 'is', 'playing', 'the', 'keyboards']\n",
            "prediction: ['a', 'man', 'is', 'playing', 'a']\u001b[0m\n",
            "\u001b[32m\n",
            "id: N2Cm0SLr0ZE_18_29.avi\n",
            "answer: ['the', 'boy', 'is', 'singing', 'and', 'playing', 'the', 'guitar']\n",
            "prediction: ['a', 'baby', 'is', 'playing', 'a']\u001b[0m\n",
            "\u001b[32m\n",
            "id: lo4KcsBN--A_0_10.avi\n",
            "answer: ['a', 'turtle', 'walks', 'on', 'the', 'bottom', 'of', 'the', 'ocean']\n",
            "prediction: ['a', 'man', 'is', '<UNK>', 'a', 'a']\u001b[0m\n",
            "\n",
            "Save file: /content/drive/My Drive/output.txt\n"
          ],
          "name": "stdout"
        },
        {
          "output_type": "stream",
          "text": [
            "\rEpoch 20, step 95/96, (Training Loss: 2.7415, samp_prob: 0.7685):  21%|██        | 21/100 [35:51<2:12:15, 100.45s/it]"
          ],
          "name": "stderr"
        },
        {
          "output_type": "stream",
          "text": [
            "\u001b[37;42mValidation: 100/100, done...Total Loss: 3.8460\u001b[0m\n"
          ],
          "name": "stdout"
        },
        {
          "output_type": "stream",
          "text": [
            "Epoch 21, step 1/96, (Training Loss: 2.9902, samp_prob: 0.7613):  21%|██        | 21/100 [35:54<2:12:15, 100.45s/it]"
          ],
          "name": "stderr"
        },
        {
          "output_type": "stream",
          "text": [
            "\u001b[37;43;4m\n",
            "[Train. Prediction] Epoch 21, step 1/96......\u001b[0m\n",
            "\u001b[33m\n",
            "id: -zOrV-5vh1A_69_76.avi\n",
            "answer: ['a', 'lot', 'of', 'colorful', 'rubber', 'balls', 'danced', 'down', 'the', 'street']\n",
            "prediction: ['a', 'are', 'are', 'a']\u001b[0m\n"
          ],
          "name": "stdout"
        },
        {
          "output_type": "stream",
          "text": [
            "Epoch 21, step 21/96, (Training Loss: 2.8623, samp_prob: 0.7613):  21%|██        | 21/100 [36:14<2:12:15, 100.45s/it]"
          ],
          "name": "stderr"
        },
        {
          "output_type": "stream",
          "text": [
            "\u001b[37;43;4m\n",
            "[Train. Prediction] Epoch 21, step 21/96......\u001b[0m\n",
            "\u001b[33m\n",
            "id: kWLNZzuo3do_154_165.avi\n",
            "answer: ['the', 'woman', 'is', 'removing', 'the', 'tail', 'and', 'deveining', 'the', 'shrimp']\n",
            "prediction: ['a', 'woman', 'is', 'shrimp', 'shrimp']\u001b[0m\n"
          ],
          "name": "stdout"
        },
        {
          "output_type": "stream",
          "text": [
            "Epoch 21, step 41/96, (Training Loss: 2.8136, samp_prob: 0.7613):  21%|██        | 21/100 [36:35<2:12:15, 100.45s/it]"
          ],
          "name": "stderr"
        },
        {
          "output_type": "stream",
          "text": [
            "\u001b[37;43;4m\n",
            "[Train. Prediction] Epoch 21, step 41/96......\u001b[0m\n",
            "\u001b[33m\n",
            "id: HO_ovIrLWfQ_1_11.avi\n",
            "answer: ['a', 'man', 'is', 'paddling', 'a', 'canoe']\n",
            "prediction: ['a', 'man', 'is', 'a', 'a']\u001b[0m\n"
          ],
          "name": "stdout"
        },
        {
          "output_type": "stream",
          "text": [
            "Epoch 21, step 61/96, (Training Loss: 2.7513, samp_prob: 0.7613):  21%|██        | 21/100 [36:56<2:12:15, 100.45s/it]"
          ],
          "name": "stderr"
        },
        {
          "output_type": "stream",
          "text": [
            "\u001b[37;43;4m\n",
            "[Train. Prediction] Epoch 21, step 61/96......\u001b[0m\n",
            "\u001b[33m\n",
            "id: 0hyZ__3YhZc_302_307.avi\n",
            "answer: ['a', 'man', 'is', 'stirring', 'cooked', 'vegetables']\n",
            "prediction: ['someone', 'man', 'is', 'stirring', 'a', 'a']\u001b[0m\n"
          ],
          "name": "stdout"
        },
        {
          "output_type": "stream",
          "text": [
            "Epoch 21, step 81/96, (Training Loss: 2.9414, samp_prob: 0.7613):  21%|██        | 21/100 [37:16<2:12:15, 100.45s/it]"
          ],
          "name": "stderr"
        },
        {
          "output_type": "stream",
          "text": [
            "\u001b[37;43;4m\n",
            "[Train. Prediction] Epoch 21, step 81/96......\u001b[0m\n",
            "\u001b[33m\n",
            "id: 9Bxknsvy3jQ_53_58.avi\n",
            "answer: ['a', 'man', 'showing', 'stunts', 'while', 'skating']\n",
            "prediction: ['a', 'man', 'is', 'a', 'a', 'a']\u001b[0m\n"
          ],
          "name": "stdout"
        },
        {
          "output_type": "stream",
          "text": [
            "Epoch 21, step 95/96, (Training Loss: 2.8844, samp_prob: 0.7613):  22%|██▏       | 22/100 [37:31<2:10:10, 100.13s/it]"
          ],
          "name": "stderr"
        },
        {
          "output_type": "stream",
          "text": [
            "\u001b[32;47m\n",
            "[FINISHED] Epoch 21, (Training Loss (average loss in this epoch): 2.8572, samp_prob: 0.7613)\u001b[0m\n"
          ],
          "name": "stdout"
        },
        {
          "output_type": "stream",
          "text": [
            "Epoch 22, step 1/96, (Training Loss: 2.7887, samp_prob: 0.7540):  22%|██▏       | 22/100 [37:33<2:10:10, 100.13s/it]"
          ],
          "name": "stderr"
        },
        {
          "output_type": "stream",
          "text": [
            "\u001b[37;43;4m\n",
            "[Train. Prediction] Epoch 22, step 1/96......\u001b[0m\n",
            "\u001b[33m\n",
            "id: WTf5EgVY5uU_32_52.avi\n",
            "answer: ['a', 'woman', 'is', 'chopping', 'a', 'onion']\n",
            "prediction: ['a', 'woman', 'is', 'slicing', 'onion', 'onion']\u001b[0m\n"
          ],
          "name": "stdout"
        },
        {
          "output_type": "stream",
          "text": [
            "Epoch 22, step 21/96, (Training Loss: 2.8140, samp_prob: 0.7540):  22%|██▏       | 22/100 [37:54<2:10:10, 100.13s/it]"
          ],
          "name": "stderr"
        },
        {
          "output_type": "stream",
          "text": [
            "\u001b[37;43;4m\n",
            "[Train. Prediction] Epoch 22, step 21/96......\u001b[0m\n",
            "\u001b[33m\n",
            "id: BVilbVCo9sU_1_11.avi\n",
            "answer: ['a', 'large', 'cat', 'is', 'watching', 'and', 'sniffing', 'a', '<UNK>']\n",
            "prediction: ['a', 'cat', 'is', 'playing', 'a']\u001b[0m\n"
          ],
          "name": "stdout"
        },
        {
          "output_type": "stream",
          "text": [
            "Epoch 22, step 41/96, (Training Loss: 2.9905, samp_prob: 0.7540):  22%|██▏       | 22/100 [38:14<2:10:10, 100.13s/it]"
          ],
          "name": "stderr"
        },
        {
          "output_type": "stream",
          "text": [
            "\u001b[37;43;4m\n",
            "[Train. Prediction] Epoch 22, step 41/96......\u001b[0m\n",
            "\u001b[33m\n",
            "id: uVPnDJKt1M0_0_6.avi\n",
            "answer: ['the', 'car', 'drove', 'down', 'the', 'dirt', 'road']\n",
            "prediction: ['a', 'car', 'is', 'driving', 'a', 'a']\u001b[0m\n"
          ],
          "name": "stdout"
        },
        {
          "output_type": "stream",
          "text": [
            "Epoch 22, step 61/96, (Training Loss: 2.7830, samp_prob: 0.7540):  22%|██▏       | 22/100 [38:35<2:10:10, 100.13s/it]"
          ],
          "name": "stderr"
        },
        {
          "output_type": "stream",
          "text": [
            "\u001b[37;43;4m\n",
            "[Train. Prediction] Epoch 22, step 61/96......\u001b[0m\n",
            "\u001b[33m\n",
            "id: yyxtyCaEVqk_250_264.avi\n",
            "answer: ['the', 'man', 'is', 'cutting', 'carrots']\n",
            "prediction: ['a', 'man', 'is', 'a', 'carrots']\u001b[0m\n"
          ],
          "name": "stdout"
        },
        {
          "output_type": "stream",
          "text": [
            "Epoch 22, step 81/96, (Training Loss: 2.7356, samp_prob: 0.7540):  22%|██▏       | 22/100 [38:56<2:10:10, 100.13s/it]"
          ],
          "name": "stderr"
        },
        {
          "output_type": "stream",
          "text": [
            "\u001b[37;43;4m\n",
            "[Train. Prediction] Epoch 22, step 81/96......\u001b[0m\n",
            "\u001b[33m\n",
            "id: 0hyZ__3YhZc_341_348.avi\n",
            "answer: ['someone', 'is', 'putting', 'ingredients', 'into', 'a', 'pot']\n",
            "prediction: ['a', 'person', 'is', 'vegetables', 'a', 'a', 'a', 'a']\u001b[0m\n"
          ],
          "name": "stdout"
        },
        {
          "output_type": "stream",
          "text": [
            "Epoch 22, step 95/96, (Training Loss: 2.7507, samp_prob: 0.7540):  23%|██▎       | 23/100 [39:10<2:08:08, 99.85s/it] "
          ],
          "name": "stderr"
        },
        {
          "output_type": "stream",
          "text": [
            "\u001b[32;47m\n",
            "[FINISHED] Epoch 22, (Training Loss (average loss in this epoch): 2.8226, samp_prob: 0.7540)\u001b[0m\n"
          ],
          "name": "stdout"
        },
        {
          "output_type": "stream",
          "text": [
            "Epoch 23, step 1/96, (Training Loss: 2.8140, samp_prob: 0.7465):  23%|██▎       | 23/100 [39:12<2:08:08, 99.85s/it]"
          ],
          "name": "stderr"
        },
        {
          "output_type": "stream",
          "text": [
            "\u001b[37;43;4m\n",
            "[Train. Prediction] Epoch 23, step 1/96......\u001b[0m\n",
            "\u001b[33m\n",
            "id: l57mQZvDaL4_10_30.avi\n",
            "answer: ['a', 'cat', 'is', 'licking', 'a', 'dog']\n",
            "prediction: ['a', 'cat', 'is', 'a', 'dog']\u001b[0m\n"
          ],
          "name": "stdout"
        },
        {
          "output_type": "stream",
          "text": [
            "Epoch 23, step 21/96, (Training Loss: 2.6935, samp_prob: 0.7465):  23%|██▎       | 23/100 [39:33<2:08:08, 99.85s/it]"
          ],
          "name": "stderr"
        },
        {
          "output_type": "stream",
          "text": [
            "\u001b[37;43;4m\n",
            "[Train. Prediction] Epoch 23, step 21/96......\u001b[0m\n",
            "\u001b[33m\n",
            "id: jPBxl9gFqNY_110_117.avi\n",
            "answer: ['a', 'man', 'is', 'pouring', 'a', 'liquid', 'into', 'a', 'pan']\n",
            "prediction: ['a', 'man', 'pours', 'oil', 'a', 'oil', 'a', 'oil']\u001b[0m\n"
          ],
          "name": "stdout"
        },
        {
          "output_type": "stream",
          "text": [
            "Epoch 23, step 41/96, (Training Loss: 2.8844, samp_prob: 0.7465):  23%|██▎       | 23/100 [39:53<2:08:08, 99.85s/it]"
          ],
          "name": "stderr"
        },
        {
          "output_type": "stream",
          "text": [
            "\u001b[37;43;4m\n",
            "[Train. Prediction] Epoch 23, step 41/96......\u001b[0m\n",
            "\u001b[33m\n",
            "id: Afmc6FeN-hM_20_24.avi\n",
            "answer: ['the', 'men', 'danced', 'in', 'front', 'of', 'an', 'airplane']\n",
            "prediction: ['a', 'men', 'dancing', 'dancing']\u001b[0m\n"
          ],
          "name": "stdout"
        },
        {
          "output_type": "stream",
          "text": [
            "Epoch 23, step 61/96, (Training Loss: 2.9339, samp_prob: 0.7465):  23%|██▎       | 23/100 [40:14<2:08:08, 99.85s/it]"
          ],
          "name": "stderr"
        },
        {
          "output_type": "stream",
          "text": [
            "\u001b[37;43;4m\n",
            "[Train. Prediction] Epoch 23, step 61/96......\u001b[0m\n",
            "\u001b[33m\n",
            "id: nBFhvrAOFqY_89_103.avi\n",
            "answer: ['a', 'monkey', 'takes', 'off', 'his', 'shirt', 'and', 'pants']\n",
            "prediction: ['a', 'monkey', 'is', 'off', 'off', 'off']\u001b[0m\n"
          ],
          "name": "stdout"
        },
        {
          "output_type": "stream",
          "text": [
            "Epoch 23, step 81/96, (Training Loss: 2.8015, samp_prob: 0.7465):  23%|██▎       | 23/100 [40:35<2:08:08, 99.85s/it]"
          ],
          "name": "stderr"
        },
        {
          "output_type": "stream",
          "text": [
            "\u001b[37;43;4m\n",
            "[Train. Prediction] Epoch 23, step 81/96......\u001b[0m\n",
            "\u001b[33m\n",
            "id: DAmOfcvfKZ0_22_32.avi\n",
            "answer: ['the', 'chef', 'sliced', 'a', 'carrot']\n",
            "prediction: ['a', 'chef', 'is', 'slicing', 'a']\u001b[0m\n"
          ],
          "name": "stdout"
        },
        {
          "output_type": "stream",
          "text": [
            "Epoch 23, step 95/96, (Training Loss: 2.8437, samp_prob: 0.7465):  24%|██▍       | 24/100 [40:49<2:06:09, 99.60s/it]"
          ],
          "name": "stderr"
        },
        {
          "output_type": "stream",
          "text": [
            "\u001b[32;47m\n",
            "[FINISHED] Epoch 23, (Training Loss (average loss in this epoch): 2.7890, samp_prob: 0.7465)\u001b[0m\n"
          ],
          "name": "stdout"
        },
        {
          "output_type": "stream",
          "text": [
            "Epoch 24, step 1/96, (Training Loss: 2.7772, samp_prob: 0.7389):  24%|██▍       | 24/100 [40:51<2:06:09, 99.60s/it]"
          ],
          "name": "stderr"
        },
        {
          "output_type": "stream",
          "text": [
            "\u001b[37;43;4m\n",
            "[Train. Prediction] Epoch 24, step 1/96......\u001b[0m\n",
            "\u001b[33m\n",
            "id: 81fABEiwcIM_31_45.avi\n",
            "answer: ['a', 'man', 'plays', 'the', 'guitar', 'and', 'sings', 'onstage']\n",
            "prediction: ['a', 'man', 'is', 'playing', 'a']\u001b[0m\n"
          ],
          "name": "stdout"
        },
        {
          "output_type": "stream",
          "text": [
            "Epoch 24, step 21/96, (Training Loss: 2.7709, samp_prob: 0.7389):  24%|██▍       | 24/100 [41:12<2:06:09, 99.60s/it]"
          ],
          "name": "stderr"
        },
        {
          "output_type": "stream",
          "text": [
            "\u001b[37;43;4m\n",
            "[Train. Prediction] Epoch 24, step 21/96......\u001b[0m\n",
            "\u001b[33m\n",
            "id: LwvyrDxM2G0_0_11.avi\n",
            "answer: ['a', 'man', 'is', 'holding', 'a', 'monkey', 'in', 'his', 'hand']\n",
            "prediction: ['a', 'man', 'is', 'holding', 'a', 'monkey']\u001b[0m\n"
          ],
          "name": "stdout"
        },
        {
          "output_type": "stream",
          "text": [
            "Epoch 24, step 41/96, (Training Loss: 2.7817, samp_prob: 0.7389):  24%|██▍       | 24/100 [41:33<2:06:09, 99.60s/it]"
          ],
          "name": "stderr"
        },
        {
          "output_type": "stream",
          "text": [
            "\u001b[37;43;4m\n",
            "[Train. Prediction] Epoch 24, step 41/96......\u001b[0m\n",
            "\u001b[33m\n",
            "id: uH8ObB_dyOk_159_166.avi\n",
            "answer: ['two', 'women', 'walk', 'down', 'the', '<UNK>', 'of', 'a', 'store']\n",
            "prediction: ['two', 'women', 'are', 'shopping', 'a', 'store']\u001b[0m\n"
          ],
          "name": "stdout"
        },
        {
          "output_type": "stream",
          "text": [
            "Epoch 24, step 61/96, (Training Loss: 2.7454, samp_prob: 0.7389):  24%|██▍       | 24/100 [41:53<2:06:09, 99.60s/it]"
          ],
          "name": "stderr"
        },
        {
          "output_type": "stream",
          "text": [
            "\u001b[37;43;4m\n",
            "[Train. Prediction] Epoch 24, step 61/96......\u001b[0m\n",
            "\u001b[33m\n",
            "id: L9wD3kw-8FE_65_73.avi\n",
            "answer: ['a', 'person', 'is', 'chopping', 'a', 'branch', 'with', 'a', 'machete']\n",
            "prediction: ['a', 'man', 'is', 'chopping', 'a', 'with', 'a']\u001b[0m\n"
          ],
          "name": "stdout"
        },
        {
          "output_type": "stream",
          "text": [
            "Epoch 24, step 81/96, (Training Loss: 2.8795, samp_prob: 0.7389):  24%|██▍       | 24/100 [42:14<2:06:09, 99.60s/it]"
          ],
          "name": "stderr"
        },
        {
          "output_type": "stream",
          "text": [
            "\u001b[37;43;4m\n",
            "[Train. Prediction] Epoch 24, step 81/96......\u001b[0m\n",
            "\u001b[33m\n",
            "id: GcfWD62sbcs_13_33.avi\n",
            "answer: ['a', 'squirrel', '<UNK>', 'get', 'its', 'head', '<UNK>', 'from', 'a', 'cup']\n",
            "prediction: ['a', 'dog', 'is', 'a', 'a', 'a', 'head']\u001b[0m\n"
          ],
          "name": "stdout"
        },
        {
          "output_type": "stream",
          "text": [
            "Epoch 24, step 95/96, (Training Loss: 2.7279, samp_prob: 0.7389):  25%|██▌       | 25/100 [42:28<2:04:24, 99.52s/it]"
          ],
          "name": "stderr"
        },
        {
          "output_type": "stream",
          "text": [
            "\u001b[32;47m\n",
            "[FINISHED] Epoch 24, (Training Loss (average loss in this epoch): 2.7587, samp_prob: 0.7389)\u001b[0m\n"
          ],
          "name": "stdout"
        },
        {
          "output_type": "stream",
          "text": [
            "Epoch 25, step 1/96, (Training Loss: 2.8245, samp_prob: 0.7311):  25%|██▌       | 25/100 [42:31<2:04:24, 99.52s/it]"
          ],
          "name": "stderr"
        },
        {
          "output_type": "stream",
          "text": [
            "\u001b[37;43;4m\n",
            "[Train. Prediction] Epoch 25, step 1/96......\u001b[0m\n",
            "\u001b[33m\n",
            "id: 6t0BpjwYKco_105_110.avi\n",
            "answer: ['a', 'woman', 'is', 'sauteing', 'onions']\n",
            "prediction: ['a', 'woman', 'is', 'cooking', 'frying', 'a', 'pan']\u001b[0m\n"
          ],
          "name": "stdout"
        },
        {
          "output_type": "stream",
          "text": [
            "Epoch 25, step 21/96, (Training Loss: 2.8012, samp_prob: 0.7311):  25%|██▌       | 25/100 [42:51<2:04:24, 99.52s/it]"
          ],
          "name": "stderr"
        },
        {
          "output_type": "stream",
          "text": [
            "\u001b[37;43;4m\n",
            "[Train. Prediction] Epoch 25, step 21/96......\u001b[0m\n",
            "\u001b[33m\n",
            "id: BefkDBj5gSw_233_240.avi\n",
            "answer: ['a', 'man', 'is', 'riding', 'on', 'a', 'bicycle']\n",
            "prediction: ['a', 'man', 'riding', 'riding', 'a', 'a']\u001b[0m\n"
          ],
          "name": "stdout"
        },
        {
          "output_type": "stream",
          "text": [
            "Epoch 25, step 41/96, (Training Loss: 2.6008, samp_prob: 0.7311):  25%|██▌       | 25/100 [43:12<2:04:24, 99.52s/it]"
          ],
          "name": "stderr"
        },
        {
          "output_type": "stream",
          "text": [
            "\u001b[37;43;4m\n",
            "[Train. Prediction] Epoch 25, step 41/96......\u001b[0m\n",
            "\u001b[33m\n",
            "id: wn9rDTZj-m4_8_18.avi\n",
            "answer: ['the', 'girl', 'played', 'the', 'violin', 'on', 'the', 'beach']\n",
            "prediction: ['a', 'girl', 'is', 'playing', 'a']\u001b[0m\n"
          ],
          "name": "stdout"
        },
        {
          "output_type": "stream",
          "text": [
            "Epoch 25, step 61/96, (Training Loss: 2.7070, samp_prob: 0.7311):  25%|██▌       | 25/100 [43:33<2:04:24, 99.52s/it]"
          ],
          "name": "stderr"
        },
        {
          "output_type": "stream",
          "text": [
            "\u001b[37;43;4m\n",
            "[Train. Prediction] Epoch 25, step 61/96......\u001b[0m\n",
            "\u001b[33m\n",
            "id: Je3V7U5Ctj4_768_773.avi\n",
            "answer: ['the', 'man', 'is', 'cooking', 'chicken', 'wings', 'in', 'the', 'oven']\n",
            "prediction: ['a', 'man', 'is', 'chicken', 'wings']\u001b[0m\n"
          ],
          "name": "stdout"
        },
        {
          "output_type": "stream",
          "text": [
            "Epoch 25, step 81/96, (Training Loss: 2.8776, samp_prob: 0.7311):  25%|██▌       | 25/100 [43:53<2:04:24, 99.52s/it]"
          ],
          "name": "stderr"
        },
        {
          "output_type": "stream",
          "text": [
            "\u001b[37;43;4m\n",
            "[Train. Prediction] Epoch 25, step 81/96......\u001b[0m\n",
            "\u001b[33m\n",
            "id: jPBxl9gFqNY_110_117.avi\n",
            "answer: ['a', 'man', 'is', 'pouring', 'oil', 'on', 'a', 'pan']\n",
            "prediction: ['a', 'man', 'is', 'pours', 'oil', 'oil']\u001b[0m\n"
          ],
          "name": "stdout"
        },
        {
          "output_type": "stream",
          "text": [
            "Epoch 25, step 95/96, (Training Loss: 2.7297, samp_prob: 0.7311):  26%|██▌       | 26/100 [44:07<2:02:41, 99.48s/it]"
          ],
          "name": "stderr"
        },
        {
          "output_type": "stream",
          "text": [
            "\u001b[32;47m\n",
            "[FINISHED] Epoch 25, (Training Loss (average loss in this epoch): 2.7344, samp_prob: 0.7311)\u001b[0m\n"
          ],
          "name": "stdout"
        },
        {
          "output_type": "stream",
          "text": [
            "Epoch 26, step 1/96, (Training Loss: 2.7459, samp_prob: 0.7231):  26%|██▌       | 26/100 [44:10<2:02:41, 99.48s/it]"
          ],
          "name": "stderr"
        },
        {
          "output_type": "stream",
          "text": [
            "\u001b[37;43;4m\n",
            "[Train. Prediction] Epoch 26, step 1/96......\u001b[0m\n",
            "\u001b[33m\n",
            "id: kzyFBlNRohs_82_88.avi\n",
            "answer: ['someone', 'is', 'playing', 'a', 'guitar']\n",
            "prediction: ['a', 'girl', 'is', 'playing', 'a', 'guitar']\u001b[0m\n"
          ],
          "name": "stdout"
        },
        {
          "output_type": "stream",
          "text": [
            "Epoch 26, step 21/96, (Training Loss: 2.6667, samp_prob: 0.7231):  26%|██▌       | 26/100 [44:31<2:02:41, 99.48s/it]"
          ],
          "name": "stderr"
        },
        {
          "output_type": "stream",
          "text": [
            "\u001b[37;43;4m\n",
            "[Train. Prediction] Epoch 26, step 21/96......\u001b[0m\n",
            "\u001b[33m\n",
            "id: RiglOfJon8I_3_18.avi\n",
            "answer: ['a', 'soccer', 'player', 'grabs', 'a', 'referee', 'and', 'his', 'team', '<UNK>', 'try', 'to', '<UNK>', 'the', 'player']\n",
            "prediction: ['a', 'man', 'is', 'a']\u001b[0m\n"
          ],
          "name": "stdout"
        },
        {
          "output_type": "stream",
          "text": [
            "Epoch 26, step 41/96, (Training Loss: 2.7532, samp_prob: 0.7231):  26%|██▌       | 26/100 [44:51<2:02:41, 99.48s/it]"
          ],
          "name": "stderr"
        },
        {
          "output_type": "stream",
          "text": [
            "\u001b[37;43;4m\n",
            "[Train. Prediction] Epoch 26, step 41/96......\u001b[0m\n",
            "\u001b[33m\n",
            "id: FOOM-wA2rOY_77_86.avi\n",
            "answer: ['the', 'man', 'attacked', 'the', 'woman']\n",
            "prediction: ['a', 'man', 'is', 'a', 'woman', 'a']\u001b[0m\n"
          ],
          "name": "stdout"
        },
        {
          "output_type": "stream",
          "text": [
            "Epoch 26, step 61/96, (Training Loss: 2.7770, samp_prob: 0.7231):  26%|██▌       | 26/100 [45:12<2:02:41, 99.48s/it]"
          ],
          "name": "stderr"
        },
        {
          "output_type": "stream",
          "text": [
            "\u001b[37;43;4m\n",
            "[Train. Prediction] Epoch 26, step 61/96......\u001b[0m\n",
            "\u001b[33m\n",
            "id: 9WpJxn-2h1o_122_150.avi\n",
            "answer: ['the', 'man', 'sat', 'in', 'his', 'chair', 'reading', 'the', 'newspaper']\n",
            "prediction: ['a', 'man', 'is', 'reading', 'a', 'newspaper']\u001b[0m\n"
          ],
          "name": "stdout"
        },
        {
          "output_type": "stream",
          "text": [
            "Epoch 26, step 81/96, (Training Loss: 2.7381, samp_prob: 0.7231):  26%|██▌       | 26/100 [45:33<2:02:41, 99.48s/it]"
          ],
          "name": "stderr"
        },
        {
          "output_type": "stream",
          "text": [
            "\u001b[37;43;4m\n",
            "[Train. Prediction] Epoch 26, step 81/96......\u001b[0m\n",
            "\u001b[33m\n",
            "id: nMBSDpB3WB8_5_14.avi\n",
            "answer: ['a', 'woman', 'is', 'walking', 'across', 'a', 'stage', 'holding', 'a', 'microphone', 'and', 'singing']\n",
            "prediction: ['a', 'woman', 'is', 'singing']\u001b[0m\n"
          ],
          "name": "stdout"
        },
        {
          "output_type": "stream",
          "text": [
            "Epoch 26, step 95/96, (Training Loss: 2.5852, samp_prob: 0.7231):  27%|██▋       | 27/100 [45:47<2:01:02, 99.49s/it]"
          ],
          "name": "stderr"
        },
        {
          "output_type": "stream",
          "text": [
            "\u001b[32;47m\n",
            "[FINISHED] Epoch 26, (Training Loss (average loss in this epoch): 2.7070, samp_prob: 0.7231)\u001b[0m\n"
          ],
          "name": "stdout"
        },
        {
          "output_type": "stream",
          "text": [
            "Epoch 27, step 1/96, (Training Loss: 2.7416, samp_prob: 0.7150):  27%|██▋       | 27/100 [45:50<2:01:02, 99.49s/it]"
          ],
          "name": "stderr"
        },
        {
          "output_type": "stream",
          "text": [
            "\u001b[37;43;4m\n",
            "[Train. Prediction] Epoch 27, step 1/96......\u001b[0m\n",
            "\u001b[33m\n",
            "id: v-9Gx0gJmfo_91_99.avi\n",
            "answer: ['a', 'woman', 'is', 'rowing', 'a', 'boat']\n",
            "prediction: ['a', 'woman', 'is', 'a', 'a', 'boat']\u001b[0m\n"
          ],
          "name": "stdout"
        },
        {
          "output_type": "stream",
          "text": [
            "Epoch 27, step 21/96, (Training Loss: 2.6567, samp_prob: 0.7150):  27%|██▋       | 27/100 [46:10<2:01:02, 99.49s/it]"
          ],
          "name": "stderr"
        },
        {
          "output_type": "stream",
          "text": [
            "\u001b[37;43;4m\n",
            "[Train. Prediction] Epoch 27, step 21/96......\u001b[0m\n",
            "\u001b[33m\n",
            "id: qew09qQgMAg_22_27.avi\n",
            "answer: ['a', 'man', 'is', 'crawling', 'along', 'the', 'sidewalk', 'carrying', 'a', '<UNK>', 'ice', 'cream', 'cone']\n",
            "prediction: ['a', 'man', 'is', 'on', 'on']\u001b[0m\n"
          ],
          "name": "stdout"
        },
        {
          "output_type": "stream",
          "text": [
            "Epoch 27, step 41/96, (Training Loss: 2.7073, samp_prob: 0.7150):  27%|██▋       | 27/100 [46:31<2:01:02, 99.49s/it]"
          ],
          "name": "stderr"
        },
        {
          "output_type": "stream",
          "text": [
            "\u001b[37;43;4m\n",
            "[Train. Prediction] Epoch 27, step 41/96......\u001b[0m\n",
            "\u001b[33m\n",
            "id: 8CzlhZtunNc_5_11.avi\n",
            "answer: ['a', 'leopard', 'is', 'licking', 'its', 'cub']\n",
            "prediction: ['a', 'leopard', 'are', 'are']\u001b[0m\n"
          ],
          "name": "stdout"
        },
        {
          "output_type": "stream",
          "text": [
            "Epoch 27, step 61/96, (Training Loss: 2.6928, samp_prob: 0.7150):  27%|██▋       | 27/100 [46:52<2:01:02, 99.49s/it]"
          ],
          "name": "stderr"
        },
        {
          "output_type": "stream",
          "text": [
            "\u001b[37;43;4m\n",
            "[Train. Prediction] Epoch 27, step 61/96......\u001b[0m\n",
            "\u001b[33m\n",
            "id: UbmZAe5u5FI_26_33.avi\n",
            "answer: ['a', 'person', 'is', 'salting', 'cucumbers']\n",
            "prediction: ['a', 'woman', 'is', 'a', 'a', 'cucumber']\u001b[0m\n"
          ],
          "name": "stdout"
        },
        {
          "output_type": "stream",
          "text": [
            "Epoch 27, step 81/96, (Training Loss: 2.6656, samp_prob: 0.7150):  27%|██▋       | 27/100 [47:12<2:01:02, 99.49s/it]"
          ],
          "name": "stderr"
        },
        {
          "output_type": "stream",
          "text": [
            "\u001b[37;43;4m\n",
            "[Train. Prediction] Epoch 27, step 81/96......\u001b[0m\n",
            "\u001b[33m\n",
            "id: 4R-tumAGrtU_12_22.avi\n",
            "answer: ['a', 'woman', 'is', 'shooting', 'off', 'a', 'gun']\n",
            "prediction: ['a', 'man', 'is', 'firing', 'a', 'gun']\u001b[0m\n"
          ],
          "name": "stdout"
        },
        {
          "output_type": "stream",
          "text": [
            "Epoch 27, step 95/96, (Training Loss: 2.7248, samp_prob: 0.7150):  28%|██▊       | 28/100 [47:26<1:59:20, 99.45s/it]"
          ],
          "name": "stderr"
        },
        {
          "output_type": "stream",
          "text": [
            "\u001b[32;47m\n",
            "[FINISHED] Epoch 27, (Training Loss (average loss in this epoch): 2.6851, samp_prob: 0.7150)\u001b[0m\n"
          ],
          "name": "stdout"
        },
        {
          "output_type": "stream",
          "text": [
            "Epoch 28, step 1/96, (Training Loss: 2.6205, samp_prob: 0.7068):  28%|██▊       | 28/100 [47:29<1:59:20, 99.45s/it]"
          ],
          "name": "stderr"
        },
        {
          "output_type": "stream",
          "text": [
            "\u001b[37;43;4m\n",
            "[Train. Prediction] Epoch 28, step 1/96......\u001b[0m\n",
            "\u001b[33m\n",
            "id: nq4hG6qgyPs_370_377.avi\n",
            "answer: ['someone', 'is', 'cooking', 'onions']\n",
            "prediction: ['a', 'man', 'is', 'cooking', 'in']\u001b[0m\n"
          ],
          "name": "stdout"
        },
        {
          "output_type": "stream",
          "text": [
            "Epoch 28, step 21/96, (Training Loss: 2.5612, samp_prob: 0.7068):  28%|██▊       | 28/100 [47:50<1:59:20, 99.45s/it]"
          ],
          "name": "stderr"
        },
        {
          "output_type": "stream",
          "text": [
            "\u001b[37;43;4m\n",
            "[Train. Prediction] Epoch 28, step 21/96......\u001b[0m\n",
            "\u001b[33m\n",
            "id: SzEbtbNSg04_88_93.avi\n",
            "answer: ['a', 'person', 'is', 'dicing', 'a', 'clove', 'of', 'garlic', 'with', 'a', 'knife']\n",
            "prediction: ['a', 'is', 'is', 'dicing', 'garlic']\u001b[0m\n"
          ],
          "name": "stdout"
        },
        {
          "output_type": "stream",
          "text": [
            "Epoch 28, step 41/96, (Training Loss: 2.6983, samp_prob: 0.7068):  28%|██▊       | 28/100 [48:10<1:59:20, 99.45s/it]"
          ],
          "name": "stderr"
        },
        {
          "output_type": "stream",
          "text": [
            "\u001b[37;43;4m\n",
            "[Train. Prediction] Epoch 28, step 41/96......\u001b[0m\n",
            "\u001b[33m\n",
            "id: eTnlw7v8ea0_36_50.avi\n",
            "answer: ['the', 'lady', 'added', 'potatoes', 'strips', 'to', 'the', 'hot', 'oil']\n",
            "prediction: ['a', 'person', 'is', 'frying', 'into', 'a', 'a']\u001b[0m\n"
          ],
          "name": "stdout"
        },
        {
          "output_type": "stream",
          "text": [
            "Epoch 28, step 61/96, (Training Loss: 2.6622, samp_prob: 0.7068):  28%|██▊       | 28/100 [48:31<1:59:20, 99.45s/it]"
          ],
          "name": "stderr"
        },
        {
          "output_type": "stream",
          "text": [
            "\u001b[37;43;4m\n",
            "[Train. Prediction] Epoch 28, step 61/96......\u001b[0m\n",
            "\u001b[33m\n",
            "id: 9Q0JfdP36kI_23_28.avi\n",
            "answer: ['a', 'woman', 'is', 'trimming', 'fat', 'from', '<UNK>']\n",
            "prediction: ['a', 'person', 'is', 'the', 'fat']\u001b[0m\n"
          ],
          "name": "stdout"
        },
        {
          "output_type": "stream",
          "text": [
            "Epoch 28, step 81/96, (Training Loss: 2.5833, samp_prob: 0.7068):  28%|██▊       | 28/100 [48:52<1:59:20, 99.45s/it]"
          ],
          "name": "stderr"
        },
        {
          "output_type": "stream",
          "text": [
            "\u001b[37;43;4m\n",
            "[Train. Prediction] Epoch 28, step 81/96......\u001b[0m\n",
            "\u001b[33m\n",
            "id: KqKUXRHHkCc_101_105.avi\n",
            "answer: ['an', 'egg', 'was', 'thrown', 'at', 'the', \"man's\", 'face']\n",
            "prediction: ['a', 'man', 'is', 'a', 'a', 'a']\u001b[0m\n"
          ],
          "name": "stdout"
        },
        {
          "output_type": "stream",
          "text": [
            "Epoch 28, step 95/96, (Training Loss: 2.7841, samp_prob: 0.7068):  29%|██▉       | 29/100 [49:06<1:57:43, 99.49s/it]"
          ],
          "name": "stderr"
        },
        {
          "output_type": "stream",
          "text": [
            "\u001b[32;47m\n",
            "[FINISHED] Epoch 28, (Training Loss (average loss in this epoch): 2.6603, samp_prob: 0.7068)\u001b[0m\n"
          ],
          "name": "stdout"
        },
        {
          "output_type": "stream",
          "text": [
            "Epoch 29, step 1/96, (Training Loss: 2.5438, samp_prob: 0.6985):  29%|██▉       | 29/100 [49:08<1:57:43, 99.49s/it]"
          ],
          "name": "stderr"
        },
        {
          "output_type": "stream",
          "text": [
            "\u001b[37;43;4m\n",
            "[Train. Prediction] Epoch 29, step 1/96......\u001b[0m\n",
            "\u001b[33m\n",
            "id: k9Brw_0gncU_14_33.avi\n",
            "answer: ['a', 'man', 'playing', 'a', 'guitar', 'in', 'front', 'of', 'a', 'large', 'crowd']\n",
            "prediction: ['a', 'man', 'is', 'playing', 'playing']\u001b[0m\n"
          ],
          "name": "stdout"
        },
        {
          "output_type": "stream",
          "text": [
            "Epoch 29, step 21/96, (Training Loss: 2.6082, samp_prob: 0.6985):  29%|██▉       | 29/100 [49:29<1:57:43, 99.49s/it]"
          ],
          "name": "stderr"
        },
        {
          "output_type": "stream",
          "text": [
            "\u001b[37;43;4m\n",
            "[Train. Prediction] Epoch 29, step 21/96......\u001b[0m\n",
            "\u001b[33m\n",
            "id: sJC7E06IBXI_49_59.avi\n",
            "answer: ['a', 'car', 'without', 'a', 'driver', 'drives', 'down', 'a', 'road']\n",
            "prediction: ['a', 'car', 'is', 'driving', 'down', 'a', 'road']\u001b[0m\n"
          ],
          "name": "stdout"
        },
        {
          "output_type": "stream",
          "text": [
            "Epoch 29, step 41/96, (Training Loss: 2.6714, samp_prob: 0.6985):  29%|██▉       | 29/100 [49:50<1:57:43, 99.49s/it]"
          ],
          "name": "stderr"
        },
        {
          "output_type": "stream",
          "text": [
            "\u001b[37;43;4m\n",
            "[Train. Prediction] Epoch 29, step 41/96......\u001b[0m\n",
            "\u001b[33m\n",
            "id: KPPCwmU5OHQ_480_486.avi\n",
            "answer: ['a', 'person', 'is', 'stirring', 'soup', 'in', 'a', 'pot']\n",
            "prediction: ['someone', 'person', 'is', 'a']\u001b[0m\n"
          ],
          "name": "stdout"
        },
        {
          "output_type": "stream",
          "text": [
            "Epoch 29, step 61/96, (Training Loss: 2.5861, samp_prob: 0.6985):  29%|██▉       | 29/100 [50:11<1:57:43, 99.49s/it]"
          ],
          "name": "stderr"
        },
        {
          "output_type": "stream",
          "text": [
            "\u001b[37;43;4m\n",
            "[Train. Prediction] Epoch 29, step 61/96......\u001b[0m\n",
            "\u001b[33m\n",
            "id: uqVCk2oDpSE_194_200.avi\n",
            "answer: ['the', 'man', 'sliced', 'the', 'bun', 'in', 'half']\n",
            "prediction: ['a', 'man', 'is', 'slicing', 'a']\u001b[0m\n"
          ],
          "name": "stdout"
        },
        {
          "output_type": "stream",
          "text": [
            "Epoch 29, step 81/96, (Training Loss: 2.5969, samp_prob: 0.6985):  29%|██▉       | 29/100 [50:32<1:57:43, 99.49s/it]"
          ],
          "name": "stderr"
        },
        {
          "output_type": "stream",
          "text": [
            "\u001b[37;43;4m\n",
            "[Train. Prediction] Epoch 29, step 81/96......\u001b[0m\n",
            "\u001b[33m\n",
            "id: WeOU0Iba1Xg_1_30.avi\n",
            "answer: ['a', 'man', 'rides', 'a', 'horse']\n",
            "prediction: ['a', 'man', 'is', 'riding', 'a', 'horse']\u001b[0m\n"
          ],
          "name": "stdout"
        },
        {
          "output_type": "stream",
          "text": [
            "Epoch 29, step 95/96, (Training Loss: 2.5961, samp_prob: 0.6985):  30%|███       | 30/100 [50:46<1:56:12, 99.61s/it]"
          ],
          "name": "stderr"
        },
        {
          "output_type": "stream",
          "text": [
            "\u001b[32;47m\n",
            "[FINISHED] Epoch 29, (Training Loss (average loss in this epoch): 2.6399, samp_prob: 0.6985)\u001b[0m\n"
          ],
          "name": "stdout"
        },
        {
          "output_type": "stream",
          "text": [
            "Epoch 30, step 1/96, (Training Loss: 2.6681, samp_prob: 0.6900):  30%|███       | 30/100 [50:48<1:56:12, 99.61s/it]"
          ],
          "name": "stderr"
        },
        {
          "output_type": "stream",
          "text": [
            "\u001b[37;43;4m\n",
            "[Train. Prediction] Epoch 30, step 1/96......\u001b[0m\n",
            "\u001b[33m\n",
            "id: b-d-CxHaKGU_10_30.avi\n",
            "answer: ['a', 'man', 'is', 'solving', 'a', 'math', 'problem', 'on', 'a', 'white', 'board']\n",
            "prediction: ['a', 'man', 'is', '<UNK>', 'a', 'math']\u001b[0m\n"
          ],
          "name": "stdout"
        },
        {
          "output_type": "stream",
          "text": [
            "Epoch 30, step 21/96, (Training Loss: 2.7031, samp_prob: 0.6900):  30%|███       | 30/100 [51:09<1:56:12, 99.61s/it]"
          ],
          "name": "stderr"
        },
        {
          "output_type": "stream",
          "text": [
            "\u001b[37;43;4m\n",
            "[Train. Prediction] Epoch 30, step 21/96......\u001b[0m\n",
            "\u001b[33m\n",
            "id: fJr2evLANsE_0_10.avi\n",
            "answer: ['a', 'small', 'turtle', 'is', 'inspecting', 'a', 'cat']\n",
            "prediction: ['a', 'turtle', 'is', 'a', 'a', 'cat']\u001b[0m\n"
          ],
          "name": "stdout"
        },
        {
          "output_type": "stream",
          "text": [
            "Epoch 30, step 41/96, (Training Loss: 2.6033, samp_prob: 0.6900):  30%|███       | 30/100 [51:30<1:56:12, 99.61s/it]"
          ],
          "name": "stderr"
        },
        {
          "output_type": "stream",
          "text": [
            "\u001b[37;43;4m\n",
            "[Train. Prediction] Epoch 30, step 41/96......\u001b[0m\n",
            "\u001b[33m\n",
            "id: fd7Ky1lEPT8_40_50.avi\n",
            "answer: ['using', 'a', 'knife', 'a', 'man', 'thinly', 'slices', 'the', 'skin', 'off', 'an', 'eggplant', 'and', 'thereafter', 'slices', 'it', 'into', 'sticks']\n",
            "prediction: ['a', 'person', 'is', 'slicing', 'onion']\u001b[0m\n"
          ],
          "name": "stdout"
        },
        {
          "output_type": "stream",
          "text": [
            "Epoch 30, step 61/96, (Training Loss: 2.5706, samp_prob: 0.6900):  30%|███       | 30/100 [51:50<1:56:12, 99.61s/it]"
          ],
          "name": "stderr"
        },
        {
          "output_type": "stream",
          "text": [
            "\u001b[37;43;4m\n",
            "[Train. Prediction] Epoch 30, step 61/96......\u001b[0m\n",
            "\u001b[33m\n",
            "id: TFJ6oR89Vb8_90_107.avi\n",
            "answer: ['someone', 'scrambled', 'eggs', 'and', 'tomatoes', 'in', 'a', 'frying', 'pan']\n",
            "prediction: ['a', 'man', 'is', 'eggs', 'eggs', 'in']\u001b[0m\n"
          ],
          "name": "stdout"
        },
        {
          "output_type": "stream",
          "text": [
            "Epoch 30, step 81/96, (Training Loss: 2.5604, samp_prob: 0.6900):  30%|███       | 30/100 [52:11<1:56:12, 99.61s/it]"
          ],
          "name": "stderr"
        },
        {
          "output_type": "stream",
          "text": [
            "\u001b[37;43;4m\n",
            "[Train. Prediction] Epoch 30, step 81/96......\u001b[0m\n",
            "\u001b[33m\n",
            "id: 16iNk1hLJt4_37_40.avi\n",
            "answer: ['the', 'racers', 'lined', 'up', 'at', 'the', 'starting', 'line']\n",
            "prediction: ['a', 'are', 'is', 'a', 'a', 'a']\u001b[0m\n"
          ],
          "name": "stdout"
        },
        {
          "output_type": "stream",
          "text": [
            "Epoch 30, step 95/96, (Training Loss: 2.6835, samp_prob: 0.6900):  30%|███       | 30/100 [52:25<1:56:12, 99.61s/it]"
          ],
          "name": "stderr"
        },
        {
          "output_type": "stream",
          "text": [
            "\u001b[32;47m\n",
            "[FINISHED] Epoch 30, (Training Loss (average loss in this epoch): 2.6222, samp_prob: 0.6900)\u001b[0m\n",
            "WARNING:tensorflow:From /usr/local/lib/python3.7/dist-packages/tensorflow/python/training/saver.py:970: remove_checkpoint (from tensorflow.python.training.checkpoint_management) is deprecated and will be removed in a future version.\n",
            "Instructions for updating:\n",
            "Use standard file APIs to delete files with this prefix.\n"
          ],
          "name": "stdout"
        },
        {
          "output_type": "stream",
          "text": [
            "W0326 19:04:27.439760 140156139370368 deprecation.py:339] From /usr/local/lib/python3.7/dist-packages/tensorflow/python/training/saver.py:970: remove_checkpoint (from tensorflow.python.training.checkpoint_management) is deprecated and will be removed in a future version.\n",
            "Instructions for updating:\n",
            "Use standard file APIs to delete files with this prefix.\n"
          ],
          "name": "stderr"
        },
        {
          "output_type": "stream",
          "text": [
            "\u001b[37;42;1m\n",
            "Saver saved: /content/drive/My Drive/save_modelssave_net.ckpt-2975\u001b[0m\n",
            "INFO:tensorflow:Restoring parameters from /content/drive/My Drive/save_modelssave_net.ckpt-2975\n"
          ],
          "name": "stdout"
        },
        {
          "output_type": "stream",
          "text": [
            "I0326 19:04:29.791623 140156139370368 saver.py:1292] Restoring parameters from /content/drive/My Drive/save_modelssave_net.ckpt-2975\n"
          ],
          "name": "stderr"
        },
        {
          "output_type": "stream",
          "text": [
            "\u001b[37;42;4m\n",
            "[Val. Prediction] Epoch 30, step 96/96......\u001b[0m\n"
          ],
          "name": "stdout"
        },
        {
          "output_type": "stream",
          "text": [
            "\rEpoch 30, step 95/96, (Training Loss: 2.6835, samp_prob: 0.6900):  31%|███       | 31/100 [52:28<1:55:29, 100.43s/it]"
          ],
          "name": "stderr"
        },
        {
          "output_type": "stream",
          "text": [
            "\u001b[32m\n",
            "id: k5OKBX2e7xA_19_32.avi\n",
            "answer: ['a', 'man', 'is', 'performing', 'bike', 'stunts']\n",
            "prediction: ['a', 'man', 'is', 'is', 'riding', 'a']\u001b[0m\n",
            "\u001b[32m\n",
            "id: dfOuTx66bJU_34_39.avi\n",
            "answer: ['a', 'man', 'is', 'running', 'through', 'the', 'woods']\n",
            "prediction: ['a', 'man', 'and', 'a', 'woman', 'a']\u001b[0m\n",
            "\u001b[32m\n",
            "id: v7iIZXtpIb8_5_15.avi\n",
            "answer: ['a', 'young', 'boy', 'is', 'playing', 'the', 'piano']\n",
            "prediction: ['a', 'man', 'is', 'is', 'a']\u001b[0m\n",
            "\u001b[32m\n",
            "id: YmXCfQm0_CA_277_284.avi\n",
            "answer: ['a', 'snake', 'is', '<UNK>', 'on', 'leaves']\n",
            "prediction: ['a', 'man', 'is', 'cutting', 'a']\u001b[0m\n",
            "\u001b[32m\n",
            "id: N3A7944_UJw_63_70.avi\n",
            "answer: ['a', 'chef', 'cooking', 'food']\n",
            "prediction: ['a', 'woman', 'is', 'a', 'a']\u001b[0m\n",
            "\u001b[32m\n",
            "id: cnsjm3fNEec_4_10.avi\n",
            "answer: ['a', 'man', 'is', 'stuffing', 'himself', 'full', 'with', 'food']\n",
            "prediction: ['a', 'man', 'is', 'a', 'a', 'a']\u001b[0m\n",
            "\u001b[32m\n",
            "id: j2Dhf-xFUxU_13_20.avi\n",
            "answer: ['the', 'lady', 'cut', 'through', 'the', '<UNK>']\n",
            "prediction: ['a', 'woman', 'is', 'slicing', 'a']\u001b[0m\n",
            "\u001b[32m\n",
            "id: MTjrZthHwJQ_2_11.avi\n",
            "answer: ['the', 'two', 'dogs', 'raced', 'each', 'other', 'to', 'the', 'pool', 'edge']\n",
            "prediction: ['a', 'is', 'is', 'in', 'a']\u001b[0m\n",
            "\u001b[32m\n",
            "id: sJSmRik2c-c_1_7.avi\n",
            "answer: ['a', 'train', 'is', 'moving', 'very', 'fast']\n",
            "prediction: ['a', 'train', 'is', 'is', 'a', 'a']\u001b[0m\n",
            "\u001b[32m\n",
            "id: lo4KcsBN--A_0_10.avi\n",
            "answer: ['a', 'sea', 'turtle', 'is', 'hunting', 'for', 'fish']\n",
            "prediction: ['a', 'man', 'is', '<UNK>', 'a', 'a']\u001b[0m\n",
            "\n",
            "Save file: /content/drive/My Drive/output.txt\n",
            "\u001b[37;42mValidation: 100/100, done...Total Loss: 3.7491\u001b[0m\n"
          ],
          "name": "stdout"
        },
        {
          "output_type": "stream",
          "text": [
            "Epoch 31, step 1/96, (Training Loss: 2.6100, samp_prob: 0.6814):  31%|███       | 31/100 [52:31<1:55:29, 100.43s/it]"
          ],
          "name": "stderr"
        },
        {
          "output_type": "stream",
          "text": [
            "\u001b[37;43;4m\n",
            "[Train. Prediction] Epoch 31, step 1/96......\u001b[0m\n",
            "\u001b[33m\n",
            "id: -wa0umYJVGg_168_176.avi\n",
            "answer: ['a', 'woman', 'is', 'adding', 'green', 'leaves', 'to', 'a', 'pot', 'of', 'boiling', 'water']\n",
            "prediction: ['a', 'woman', 'is', 'boiling', 'boiling', 'boiling']\u001b[0m\n"
          ],
          "name": "stdout"
        },
        {
          "output_type": "stream",
          "text": [
            "Epoch 31, step 21/96, (Training Loss: 2.7457, samp_prob: 0.6814):  31%|███       | 31/100 [52:51<1:55:29, 100.43s/it]"
          ],
          "name": "stderr"
        },
        {
          "output_type": "stream",
          "text": [
            "\u001b[37;43;4m\n",
            "[Train. Prediction] Epoch 31, step 21/96......\u001b[0m\n",
            "\u001b[33m\n",
            "id: _WRC7HXBJpU_451_464.avi\n",
            "answer: ['a', 'man', 'added', 'meat', 'to', 'the', 'rice-a-roni', 'cooking', 'in', 'a', 'pan']\n",
            "prediction: ['a', 'man', 'is', 'adding', 'meat', 'a']\u001b[0m\n"
          ],
          "name": "stdout"
        },
        {
          "output_type": "stream",
          "text": [
            "Epoch 31, step 41/96, (Training Loss: 2.6036, samp_prob: 0.6814):  31%|███       | 31/100 [53:12<1:55:29, 100.43s/it]"
          ],
          "name": "stderr"
        },
        {
          "output_type": "stream",
          "text": [
            "\u001b[37;43;4m\n",
            "[Train. Prediction] Epoch 31, step 41/96......\u001b[0m\n",
            "\u001b[33m\n",
            "id: IhwPQL9dFYc_78_88.avi\n",
            "answer: ['a', 'person', 'is', 'chopping', 'a', 'vegetable']\n",
            "prediction: ['a', 'woman', 'is', 'chopping', 'a']\u001b[0m\n"
          ],
          "name": "stdout"
        },
        {
          "output_type": "stream",
          "text": [
            "Epoch 31, step 61/96, (Training Loss: 2.7292, samp_prob: 0.6814):  31%|███       | 31/100 [53:33<1:55:29, 100.43s/it]"
          ],
          "name": "stderr"
        },
        {
          "output_type": "stream",
          "text": [
            "\u001b[37;43;4m\n",
            "[Train. Prediction] Epoch 31, step 61/96......\u001b[0m\n",
            "\u001b[33m\n",
            "id: vDhEpqfhVI0_0_8.avi\n",
            "answer: ['a', 'panda', 'bear', 'lying', 'on', 'his', 'back', 'is', 'chewing', 'a', 'blade', 'of', 'grass']\n",
            "prediction: ['a', 'panda', 'panda', 'is', 'a', 'a']\u001b[0m\n"
          ],
          "name": "stdout"
        },
        {
          "output_type": "stream",
          "text": [
            "Epoch 31, step 81/96, (Training Loss: 2.5734, samp_prob: 0.6814):  31%|███       | 31/100 [53:53<1:55:29, 100.43s/it]"
          ],
          "name": "stderr"
        },
        {
          "output_type": "stream",
          "text": [
            "\u001b[37;43;4m\n",
            "[Train. Prediction] Epoch 31, step 81/96......\u001b[0m\n",
            "\u001b[33m\n",
            "id: ACOmKiJDkA4_75_81.avi\n",
            "answer: ['a', 'woman', 'seasons', 'a', '<UNK>', 'of', 'meat']\n",
            "prediction: ['a', 'woman', 'is', 'a', 'meat']\u001b[0m\n"
          ],
          "name": "stdout"
        },
        {
          "output_type": "stream",
          "text": [
            "Epoch 31, step 95/96, (Training Loss: 2.7054, samp_prob: 0.6814):  32%|███▏      | 32/100 [54:07<1:53:22, 100.04s/it]"
          ],
          "name": "stderr"
        },
        {
          "output_type": "stream",
          "text": [
            "\u001b[32;47m\n",
            "[FINISHED] Epoch 31, (Training Loss (average loss in this epoch): 2.6022, samp_prob: 0.6814)\u001b[0m\n"
          ],
          "name": "stdout"
        },
        {
          "output_type": "stream",
          "text": [
            "Epoch 32, step 1/96, (Training Loss: 2.6699, samp_prob: 0.6726):  32%|███▏      | 32/100 [54:10<1:53:22, 100.04s/it]"
          ],
          "name": "stderr"
        },
        {
          "output_type": "stream",
          "text": [
            "\u001b[37;43;4m\n",
            "[Train. Prediction] Epoch 32, step 1/96......\u001b[0m\n",
            "\u001b[33m\n",
            "id: 2YhDTpzxd3c_98_101.avi\n",
            "answer: ['a', 'man', 'is', 'breaking', 'a', 'burning', 'board', 'on', 'another', 'man']\n",
            "prediction: ['a', 'man', 'is', 'a', 'a', 'man', 'with']\u001b[0m\n"
          ],
          "name": "stdout"
        },
        {
          "output_type": "stream",
          "text": [
            "Epoch 32, step 21/96, (Training Loss: 2.5816, samp_prob: 0.6726):  32%|███▏      | 32/100 [54:30<1:53:22, 100.04s/it]"
          ],
          "name": "stderr"
        },
        {
          "output_type": "stream",
          "text": [
            "\u001b[37;43;4m\n",
            "[Train. Prediction] Epoch 32, step 21/96......\u001b[0m\n",
            "\u001b[33m\n",
            "id: k8l4ETsylVY_9_18.avi\n",
            "answer: ['a', 'black', 'dachshund', 'jumps', 'into', 'a', 'swimming', 'pool', 'and', 'swims', 'in', 'the', 'water']\n",
            "prediction: ['a', 'dog', 'is', 'swimming', 'a', 'pool']\u001b[0m\n"
          ],
          "name": "stdout"
        },
        {
          "output_type": "stream",
          "text": [
            "Epoch 32, step 41/96, (Training Loss: 2.7412, samp_prob: 0.6726):  32%|███▏      | 32/100 [54:51<1:53:22, 100.04s/it]"
          ],
          "name": "stderr"
        },
        {
          "output_type": "stream",
          "text": [
            "\u001b[37;43;4m\n",
            "[Train. Prediction] Epoch 32, step 41/96......\u001b[0m\n",
            "\u001b[33m\n",
            "id: 9LOJmQQktHA_10_18.avi\n",
            "answer: ['the', 'man', 'lit', 'the', 'book', 'of', 'matches', 'up']\n",
            "prediction: ['a', 'man', 'is', 'a', 'a', 'a', 'fire', 'a']\u001b[0m\n"
          ],
          "name": "stdout"
        },
        {
          "output_type": "stream",
          "text": [
            "Epoch 32, step 61/96, (Training Loss: 2.6090, samp_prob: 0.6726):  32%|███▏      | 32/100 [55:12<1:53:22, 100.04s/it]"
          ],
          "name": "stderr"
        },
        {
          "output_type": "stream",
          "text": [
            "\u001b[37;43;4m\n",
            "[Train. Prediction] Epoch 32, step 61/96......\u001b[0m\n",
            "\u001b[33m\n",
            "id: 6owu8Mow0_g_302_307.avi\n",
            "answer: ['a', 'person', 'is', 'spreading', 'cheese', 'on', 'a', 'pizza']\n",
            "prediction: ['a', 'man', 'is', 'pizza', 'cheese', 'on', 'on']\u001b[0m\n"
          ],
          "name": "stdout"
        },
        {
          "output_type": "stream",
          "text": [
            "Epoch 32, step 81/96, (Training Loss: 2.6870, samp_prob: 0.6726):  32%|███▏      | 32/100 [55:32<1:53:22, 100.04s/it]"
          ],
          "name": "stderr"
        },
        {
          "output_type": "stream",
          "text": [
            "\u001b[37;43;4m\n",
            "[Train. Prediction] Epoch 32, step 81/96......\u001b[0m\n",
            "\u001b[33m\n",
            "id: _0nX-El-ySo_83_93.avi\n",
            "answer: ['a', 'man', 'is', 'cutting', 'a', 'piece', 'of', 'paper']\n",
            "prediction: ['a', 'man', 'is', 'cutting', 'paper', 'piece']\u001b[0m\n"
          ],
          "name": "stdout"
        },
        {
          "output_type": "stream",
          "text": [
            "Epoch 32, step 95/96, (Training Loss: 2.5911, samp_prob: 0.6726):  33%|███▎      | 33/100 [55:46<1:51:18, 99.68s/it] "
          ],
          "name": "stderr"
        },
        {
          "output_type": "stream",
          "text": [
            "\u001b[32;47m\n",
            "[FINISHED] Epoch 32, (Training Loss (average loss in this epoch): 2.5888, samp_prob: 0.6726)\u001b[0m\n"
          ],
          "name": "stdout"
        },
        {
          "output_type": "stream",
          "text": [
            "Epoch 33, step 1/96, (Training Loss: 2.5695, samp_prob: 0.6637):  33%|███▎      | 33/100 [55:49<1:51:18, 99.68s/it]"
          ],
          "name": "stderr"
        },
        {
          "output_type": "stream",
          "text": [
            "\u001b[37;43;4m\n",
            "[Train. Prediction] Epoch 33, step 1/96......\u001b[0m\n",
            "\u001b[33m\n",
            "id: GopEjCCu2jo_2_9.avi\n",
            "answer: ['a', 'baby', '<UNK>']\n",
            "prediction: ['a', 'baby', 'is', 'smiling', '<UNK>']\u001b[0m\n"
          ],
          "name": "stdout"
        },
        {
          "output_type": "stream",
          "text": [
            "Epoch 33, step 21/96, (Training Loss: 2.4603, samp_prob: 0.6637):  33%|███▎      | 33/100 [56:09<1:51:18, 99.68s/it]"
          ],
          "name": "stderr"
        },
        {
          "output_type": "stream",
          "text": [
            "\u001b[37;43;4m\n",
            "[Train. Prediction] Epoch 33, step 21/96......\u001b[0m\n",
            "\u001b[33m\n",
            "id: 4MjTb5A68VA_111_118.avi\n",
            "answer: ['a', 'girl', 'is', 'flying', 'a', 'kite']\n",
            "prediction: ['a', 'girl', 'is', 'a', 'kite']\u001b[0m\n"
          ],
          "name": "stdout"
        },
        {
          "output_type": "stream",
          "text": [
            "Epoch 33, step 41/96, (Training Loss: 2.5865, samp_prob: 0.6637):  33%|███▎      | 33/100 [56:30<1:51:18, 99.68s/it]"
          ],
          "name": "stderr"
        },
        {
          "output_type": "stream",
          "text": [
            "\u001b[37;43;4m\n",
            "[Train. Prediction] Epoch 33, step 41/96......\u001b[0m\n",
            "\u001b[33m\n",
            "id: kWLNZzuo3do_77_83.avi\n",
            "answer: ['<UNK>', 'is', 'slicing', 'something']\n",
            "prediction: ['a', 'person', 'is', 'cutting', 'a']\u001b[0m\n"
          ],
          "name": "stdout"
        },
        {
          "output_type": "stream",
          "text": [
            "Epoch 33, step 61/96, (Training Loss: 2.5764, samp_prob: 0.6637):  33%|███▎      | 33/100 [56:50<1:51:18, 99.68s/it]"
          ],
          "name": "stderr"
        },
        {
          "output_type": "stream",
          "text": [
            "\u001b[37;43;4m\n",
            "[Train. Prediction] Epoch 33, step 61/96......\u001b[0m\n",
            "\u001b[33m\n",
            "id: oeaVXK2GAyc_4_21.avi\n",
            "answer: ['a', 'toddler', 'is', 'talking', 'on', 'the', 'phone']\n",
            "prediction: ['a', 'little', 'girl', 'is', 'talking', 'the', 'the']\u001b[0m\n"
          ],
          "name": "stdout"
        },
        {
          "output_type": "stream",
          "text": [
            "Epoch 33, step 81/96, (Training Loss: 2.5703, samp_prob: 0.6637):  33%|███▎      | 33/100 [57:11<1:51:18, 99.68s/it]"
          ],
          "name": "stderr"
        },
        {
          "output_type": "stream",
          "text": [
            "\u001b[37;43;4m\n",
            "[Train. Prediction] Epoch 33, step 81/96......\u001b[0m\n",
            "\u001b[33m\n",
            "id: 5PpPOGU_0aA_65_75.avi\n",
            "answer: ['a', 'man', 'and', 'woman', 'are', 'sitting', 'under', 'a', '<UNK>', '<UNK>', 'with', 'garlands', 'of', 'flowers', 'around', 'their', '<UNK>']\n",
            "prediction: ['a', 'man', 'is', 'a', 'woman']\u001b[0m\n"
          ],
          "name": "stdout"
        },
        {
          "output_type": "stream",
          "text": [
            "Epoch 33, step 95/96, (Training Loss: 2.4468, samp_prob: 0.6637):  34%|███▍      | 34/100 [57:25<1:49:21, 99.42s/it]"
          ],
          "name": "stderr"
        },
        {
          "output_type": "stream",
          "text": [
            "\u001b[32;47m\n",
            "[FINISHED] Epoch 33, (Training Loss (average loss in this epoch): 2.5694, samp_prob: 0.6637)\u001b[0m\n"
          ],
          "name": "stdout"
        },
        {
          "output_type": "stream",
          "text": [
            "Epoch 34, step 1/96, (Training Loss: 2.3542, samp_prob: 0.6548):  34%|███▍      | 34/100 [57:27<1:49:21, 99.42s/it]"
          ],
          "name": "stderr"
        },
        {
          "output_type": "stream",
          "text": [
            "\u001b[37;43;4m\n",
            "[Train. Prediction] Epoch 34, step 1/96......\u001b[0m\n",
            "\u001b[33m\n",
            "id: D2FbgK_kkE8_121_151.avi\n",
            "answer: ['a', 'woman', 'is', 'removing', 'the', 'skin', 'from', 'a', 'pineapple']\n",
            "prediction: ['a', 'woman', 'is', 'cutting', 'pineapple', 'pineapple']\u001b[0m\n"
          ],
          "name": "stdout"
        },
        {
          "output_type": "stream",
          "text": [
            "Epoch 34, step 21/96, (Training Loss: 2.5642, samp_prob: 0.6548):  34%|███▍      | 34/100 [57:48<1:49:21, 99.42s/it]"
          ],
          "name": "stderr"
        },
        {
          "output_type": "stream",
          "text": [
            "\u001b[37;43;4m\n",
            "[Train. Prediction] Epoch 34, step 21/96......\u001b[0m\n",
            "\u001b[33m\n",
            "id: RX6NSOuCCAE_13_27.avi\n",
            "answer: ['the', 'man', 'is', 'throwing', 'knives', 'at', 'a', 'tree']\n",
            "prediction: ['a', 'man', 'is', 'knives', 'a', 'knives', 'a']\u001b[0m\n"
          ],
          "name": "stdout"
        },
        {
          "output_type": "stream",
          "text": [
            "Epoch 34, step 41/96, (Training Loss: 2.4328, samp_prob: 0.6548):  34%|███▍      | 34/100 [58:09<1:49:21, 99.42s/it]"
          ],
          "name": "stderr"
        },
        {
          "output_type": "stream",
          "text": [
            "\u001b[37;43;4m\n",
            "[Train. Prediction] Epoch 34, step 41/96......\u001b[0m\n",
            "\u001b[33m\n",
            "id: xBePrplM4OA_6_18.avi\n",
            "answer: ['a', 'woman', 'crawls', 'under', 'a', 'horse', 'and', 'gets', 'a', '<UNK>']\n",
            "prediction: ['a', 'woman', 'is', 'on', 'a', 'horse']\u001b[0m\n"
          ],
          "name": "stdout"
        },
        {
          "output_type": "stream",
          "text": [
            "Epoch 34, step 61/96, (Training Loss: 2.5991, samp_prob: 0.6548):  34%|███▍      | 34/100 [58:29<1:49:21, 99.42s/it]"
          ],
          "name": "stderr"
        },
        {
          "output_type": "stream",
          "text": [
            "\u001b[37;43;4m\n",
            "[Train. Prediction] Epoch 34, step 61/96......\u001b[0m\n",
            "\u001b[33m\n",
            "id: QsvBYKaCXEc_5_15.avi\n",
            "answer: ['an', 'animal', 'swims', 'along', 'the', 'water']\n",
            "prediction: ['a', 'shark', 'is', 'is', 'the', 'the']\u001b[0m\n"
          ],
          "name": "stdout"
        },
        {
          "output_type": "stream",
          "text": [
            "Epoch 34, step 81/96, (Training Loss: 2.6260, samp_prob: 0.6548):  34%|███▍      | 34/100 [58:50<1:49:21, 99.42s/it]"
          ],
          "name": "stderr"
        },
        {
          "output_type": "stream",
          "text": [
            "\u001b[37;43;4m\n",
            "[Train. Prediction] Epoch 34, step 81/96......\u001b[0m\n",
            "\u001b[33m\n",
            "id: oFUsn1owAbs_158_168.avi\n",
            "answer: ['a', 'woman', 'is', 'bathing', 'in', 'a', 'tub']\n",
            "prediction: ['a', 'woman', 'is', 'taking', 'a', 'bath']\u001b[0m\n"
          ],
          "name": "stdout"
        },
        {
          "output_type": "stream",
          "text": [
            "Epoch 34, step 95/96, (Training Loss: 2.5845, samp_prob: 0.6548):  35%|███▌      | 35/100 [59:04<1:47:33, 99.28s/it]"
          ],
          "name": "stderr"
        },
        {
          "output_type": "stream",
          "text": [
            "\u001b[32;47m\n",
            "[FINISHED] Epoch 34, (Training Loss (average loss in this epoch): 2.5547, samp_prob: 0.6548)\u001b[0m\n"
          ],
          "name": "stdout"
        },
        {
          "output_type": "stream",
          "text": [
            "Epoch 35, step 1/96, (Training Loss: 2.5419, samp_prob: 0.6457):  35%|███▌      | 35/100 [59:06<1:47:33, 99.28s/it]"
          ],
          "name": "stderr"
        },
        {
          "output_type": "stream",
          "text": [
            "\u001b[37;43;4m\n",
            "[Train. Prediction] Epoch 35, step 1/96......\u001b[0m\n",
            "\u001b[33m\n",
            "id: zzit5b_-ukg_5_20.avi\n",
            "answer: ['a', 'boy', 'is', 'playing', 'on', 'a', '<UNK>', 'bike']\n",
            "prediction: ['a', 'little', 'boy', 'is', 'a', 'an']\u001b[0m\n"
          ],
          "name": "stdout"
        },
        {
          "output_type": "stream",
          "text": [
            "Epoch 35, step 21/96, (Training Loss: 2.5745, samp_prob: 0.6457):  35%|███▌      | 35/100 [59:27<1:47:33, 99.28s/it]"
          ],
          "name": "stderr"
        },
        {
          "output_type": "stream",
          "text": [
            "\u001b[37;43;4m\n",
            "[Train. Prediction] Epoch 35, step 21/96......\u001b[0m\n",
            "\u001b[33m\n",
            "id: u_6tre9_99Q_13_25.avi\n",
            "answer: ['four', 'elephants', 'kick', 'up', 'dust', 'with', 'their', 'trunks']\n",
            "prediction: ['elephants', 'elephants', 'are']\u001b[0m\n"
          ],
          "name": "stdout"
        },
        {
          "output_type": "stream",
          "text": [
            "Epoch 35, step 41/96, (Training Loss: 2.4423, samp_prob: 0.6457):  35%|███▌      | 35/100 [59:48<1:47:33, 99.28s/it]"
          ],
          "name": "stderr"
        },
        {
          "output_type": "stream",
          "text": [
            "\u001b[37;43;4m\n",
            "[Train. Prediction] Epoch 35, step 41/96......\u001b[0m\n",
            "\u001b[33m\n",
            "id: J3_hkgu6MGc_43_52.avi\n",
            "answer: ['a', 'person', 'is', 'driving', 'a', 'car', 'in', 'the', 'night']\n",
            "prediction: ['a', 'car', 'is', 'a', 'a']\u001b[0m\n"
          ],
          "name": "stdout"
        },
        {
          "output_type": "stream",
          "text": [
            "Epoch 35, step 61/96, (Training Loss: 2.6752, samp_prob: 0.6457):  35%|███▌      | 35/100 [1:00:08<1:47:33, 99.28s/it]"
          ],
          "name": "stderr"
        },
        {
          "output_type": "stream",
          "text": [
            "\u001b[37;43;4m\n",
            "[Train. Prediction] Epoch 35, step 61/96......\u001b[0m\n",
            "\u001b[33m\n",
            "id: Sg5rTYrkpnU_35_48.avi\n",
            "answer: ['the', 'man', 'pushed', 'a', 'big', 'van']\n",
            "prediction: ['a', 'person', 'is', 'pushing', 'a', 'a']\u001b[0m\n"
          ],
          "name": "stdout"
        },
        {
          "output_type": "stream",
          "text": [
            "Epoch 35, step 81/96, (Training Loss: 2.4163, samp_prob: 0.6457):  35%|███▌      | 35/100 [1:00:29<1:47:33, 99.28s/it]"
          ],
          "name": "stderr"
        },
        {
          "output_type": "stream",
          "text": [
            "\u001b[37;43;4m\n",
            "[Train. Prediction] Epoch 35, step 81/96......\u001b[0m\n",
            "\u001b[33m\n",
            "id: 0M-PyX2DbZc_25_31.avi\n",
            "answer: ['a', 'man', 'in', 'a', 'construction', 'hat', 'is', 'dancing', 'while', 'two', 'other', 'seated', 'men', 'watch']\n",
            "prediction: ['a', 'man', 'is', 'dancing', 'dancing']\u001b[0m\n"
          ],
          "name": "stdout"
        },
        {
          "output_type": "stream",
          "text": [
            "Epoch 35, step 95/96, (Training Loss: 2.4664, samp_prob: 0.6457):  36%|███▌      | 36/100 [1:00:43<1:45:44, 99.14s/it]"
          ],
          "name": "stderr"
        },
        {
          "output_type": "stream",
          "text": [
            "\u001b[32;47m\n",
            "[FINISHED] Epoch 35, (Training Loss (average loss in this epoch): 2.5402, samp_prob: 0.6457)\u001b[0m\n"
          ],
          "name": "stdout"
        },
        {
          "output_type": "stream",
          "text": [
            "Epoch 36, step 1/96, (Training Loss: 2.5175, samp_prob: 0.6365):  36%|███▌      | 36/100 [1:00:45<1:45:44, 99.14s/it]"
          ],
          "name": "stderr"
        },
        {
          "output_type": "stream",
          "text": [
            "\u001b[37;43;4m\n",
            "[Train. Prediction] Epoch 36, step 1/96......\u001b[0m\n",
            "\u001b[33m\n",
            "id: 0lh_UWF9ZP4_82_87.avi\n",
            "answer: ['the', 'lady', 'whisked', 'the', 'eggs', 'and', 'spices', 'in', 'the', 'bowl']\n",
            "prediction: ['a', 'woman', 'is', 'eggs', 'eggs', 'eggs']\u001b[0m\n"
          ],
          "name": "stdout"
        },
        {
          "output_type": "stream",
          "text": [
            "Epoch 36, step 21/96, (Training Loss: 2.6106, samp_prob: 0.6365):  36%|███▌      | 36/100 [1:01:06<1:45:44, 99.14s/it]"
          ],
          "name": "stderr"
        },
        {
          "output_type": "stream",
          "text": [
            "\u001b[37;43;4m\n",
            "[Train. Prediction] Epoch 36, step 21/96......\u001b[0m\n",
            "\u001b[33m\n",
            "id: suj4VNfZz5E_33_50.avi\n",
            "answer: ['a', 'man', 'is', 'cutting', 'up', 'carrots']\n",
            "prediction: ['a', 'is', 'is', 'cutting']\u001b[0m\n"
          ],
          "name": "stdout"
        },
        {
          "output_type": "stream",
          "text": [
            "Epoch 36, step 41/96, (Training Loss: 2.6067, samp_prob: 0.6365):  36%|███▌      | 36/100 [1:01:26<1:45:44, 99.14s/it]"
          ],
          "name": "stderr"
        },
        {
          "output_type": "stream",
          "text": [
            "\u001b[37;43;4m\n",
            "[Train. Prediction] Epoch 36, step 41/96......\u001b[0m\n",
            "\u001b[33m\n",
            "id: gHyXstpe_N8_116_125.avi\n",
            "answer: ['a', 'man', 'removes', 'a', '<UNK>', 'from', 'a', 'whole', 'pizza', 'in', 'a', 'carton', 'box', 'shuts', 'the', 'lid', 'and', 'places', 'the', 'slice', 'on', 'top', 'of', 'it']\n",
            "prediction: ['a', 'man', 'is', 'a', 'a', 'pizza']\u001b[0m\n"
          ],
          "name": "stdout"
        },
        {
          "output_type": "stream",
          "text": [
            "Epoch 36, step 61/96, (Training Loss: 2.5573, samp_prob: 0.6365):  36%|███▌      | 36/100 [1:01:47<1:45:44, 99.14s/it]"
          ],
          "name": "stderr"
        },
        {
          "output_type": "stream",
          "text": [
            "\u001b[37;43;4m\n",
            "[Train. Prediction] Epoch 36, step 61/96......\u001b[0m\n",
            "\u001b[33m\n",
            "id: -wa0umYJVGg_168_176.avi\n",
            "answer: ['a', 'woman', 'is', 'placing', 'green', 'vegetables', 'in', 'a', 'pot', 'of', 'boiling', 'water']\n",
            "prediction: ['a', 'woman', 'is', 'boiling', 'a']\u001b[0m\n"
          ],
          "name": "stdout"
        },
        {
          "output_type": "stream",
          "text": [
            "Epoch 36, step 81/96, (Training Loss: 2.5701, samp_prob: 0.6365):  36%|███▌      | 36/100 [1:02:07<1:45:44, 99.14s/it]"
          ],
          "name": "stderr"
        },
        {
          "output_type": "stream",
          "text": [
            "\u001b[37;43;4m\n",
            "[Train. Prediction] Epoch 36, step 81/96......\u001b[0m\n",
            "\u001b[33m\n",
            "id: Je3V7U5Ctj4_997_1004.avi\n",
            "answer: ['a', 'man', 'pours', 'sauce', 'onto', 'chicken', 'wings']\n",
            "prediction: ['a', 'man', 'is', 'pouring', 'sauce', 'sauce']\u001b[0m\n"
          ],
          "name": "stdout"
        },
        {
          "output_type": "stream",
          "text": [
            "Epoch 36, step 95/96, (Training Loss: 2.4615, samp_prob: 0.6365):  37%|███▋      | 37/100 [1:02:21<1:43:56, 99.00s/it]"
          ],
          "name": "stderr"
        },
        {
          "output_type": "stream",
          "text": [
            "\u001b[32;47m\n",
            "[FINISHED] Epoch 36, (Training Loss (average loss in this epoch): 2.5210, samp_prob: 0.6365)\u001b[0m\n"
          ],
          "name": "stdout"
        },
        {
          "output_type": "stream",
          "text": [
            "Epoch 37, step 1/96, (Training Loss: 2.6037, samp_prob: 0.6271):  37%|███▋      | 37/100 [1:02:24<1:43:56, 99.00s/it]"
          ],
          "name": "stderr"
        },
        {
          "output_type": "stream",
          "text": [
            "\u001b[37;43;4m\n",
            "[Train. Prediction] Epoch 37, step 1/96......\u001b[0m\n",
            "\u001b[33m\n",
            "id: nc8hwLaOyZU_1_19.avi\n",
            "answer: ['a', 'monkey', 'is', 'riding', 'a', 'bike']\n",
            "prediction: ['a', 'monkey', 'is', 'riding', 'a', 'bike']\u001b[0m\n"
          ],
          "name": "stdout"
        },
        {
          "output_type": "stream",
          "text": [
            "Epoch 37, step 21/96, (Training Loss: 2.6421, samp_prob: 0.6271):  37%|███▋      | 37/100 [1:02:44<1:43:56, 99.00s/it]"
          ],
          "name": "stderr"
        },
        {
          "output_type": "stream",
          "text": [
            "\u001b[37;43;4m\n",
            "[Train. Prediction] Epoch 37, step 21/96......\u001b[0m\n",
            "\u001b[33m\n",
            "id: DcDYRpa34W8_11_25.avi\n",
            "answer: ['a', 'small', 'baby', 'seated', 'on', 'bed', 'is', '<UNK>', 'away', 'happily']\n",
            "prediction: ['a', 'baby', 'is', 'laughing']\u001b[0m\n"
          ],
          "name": "stdout"
        },
        {
          "output_type": "stream",
          "text": [
            "Epoch 37, step 41/96, (Training Loss: 2.4331, samp_prob: 0.6271):  37%|███▋      | 37/100 [1:03:05<1:43:56, 99.00s/it]"
          ],
          "name": "stderr"
        },
        {
          "output_type": "stream",
          "text": [
            "\u001b[37;43;4m\n",
            "[Train. Prediction] Epoch 37, step 41/96......\u001b[0m\n",
            "\u001b[33m\n",
            "id: hXn7D6-AAMA_0_9.avi\n",
            "answer: ['the', 'sloth', 'tried', 'to', 'get', 'out', 'of', 'the', 'box']\n",
            "prediction: ['a', 'baby', 'is', 'is', 'a', 'a']\u001b[0m\n"
          ],
          "name": "stdout"
        },
        {
          "output_type": "stream",
          "text": [
            "Epoch 37, step 61/96, (Training Loss: 2.5116, samp_prob: 0.6271):  37%|███▋      | 37/100 [1:03:25<1:43:56, 99.00s/it]"
          ],
          "name": "stderr"
        },
        {
          "output_type": "stream",
          "text": [
            "\u001b[37;43;4m\n",
            "[Train. Prediction] Epoch 37, step 61/96......\u001b[0m\n",
            "\u001b[33m\n",
            "id: BVilbVCo9sU_1_11.avi\n",
            "answer: ['a', 'large', 'grey', 'furry', 'cat', 'is', '<UNK>', 'examining', 'a', 'small', 'cream', 'colored', '<UNK>', 'walking', 'near', 'it']\n",
            "prediction: ['a', 'cat', 'is', 'a', 'at']\u001b[0m\n"
          ],
          "name": "stdout"
        },
        {
          "output_type": "stream",
          "text": [
            "Epoch 37, step 81/96, (Training Loss: 2.4301, samp_prob: 0.6271):  37%|███▋      | 37/100 [1:03:46<1:43:56, 99.00s/it]"
          ],
          "name": "stderr"
        },
        {
          "output_type": "stream",
          "text": [
            "\u001b[37;43;4m\n",
            "[Train. Prediction] Epoch 37, step 81/96......\u001b[0m\n",
            "\u001b[33m\n",
            "id: 5OuYhq6Zl0g_0_10.avi\n",
            "answer: ['three', 'girls', 'are', 'dancing', 'in', 'their', 'room']\n",
            "prediction: ['girls', 'girls', 'are', 'dancing']\u001b[0m\n"
          ],
          "name": "stdout"
        },
        {
          "output_type": "stream",
          "text": [
            "Epoch 37, step 95/96, (Training Loss: 2.5161, samp_prob: 0.6271):  38%|███▊      | 38/100 [1:04:00<1:42:10, 98.88s/it]"
          ],
          "name": "stderr"
        },
        {
          "output_type": "stream",
          "text": [
            "\u001b[32;47m\n",
            "[FINISHED] Epoch 37, (Training Loss (average loss in this epoch): 2.5116, samp_prob: 0.6271)\u001b[0m\n"
          ],
          "name": "stdout"
        },
        {
          "output_type": "stream",
          "text": [
            "Epoch 38, step 1/96, (Training Loss: 2.5415, samp_prob: 0.6177):  38%|███▊      | 38/100 [1:04:03<1:42:10, 98.88s/it]"
          ],
          "name": "stderr"
        },
        {
          "output_type": "stream",
          "text": [
            "\u001b[37;43;4m\n",
            "[Train. Prediction] Epoch 38, step 1/96......\u001b[0m\n",
            "\u001b[33m\n",
            "id: UoPU8F9mus8_258_262.avi\n",
            "answer: ['a', 'woman', 'is', 'doing', 'exercise']\n",
            "prediction: ['a', 'woman', 'is', 'exercising']\u001b[0m\n"
          ],
          "name": "stdout"
        },
        {
          "output_type": "stream",
          "text": [
            "Epoch 38, step 21/96, (Training Loss: 2.3944, samp_prob: 0.6177):  38%|███▊      | 38/100 [1:04:23<1:42:10, 98.88s/it]"
          ],
          "name": "stderr"
        },
        {
          "output_type": "stream",
          "text": [
            "\u001b[37;43;4m\n",
            "[Train. Prediction] Epoch 38, step 21/96......\u001b[0m\n",
            "\u001b[33m\n",
            "id: Aa7yf9XtcJM_45_50.avi\n",
            "answer: ['two', 'girls', 'are', 'dancing']\n",
            "prediction: ['two', 'women', 'are', 'dancing']\u001b[0m\n"
          ],
          "name": "stdout"
        },
        {
          "output_type": "stream",
          "text": [
            "Epoch 38, step 41/96, (Training Loss: 2.5545, samp_prob: 0.6177):  38%|███▊      | 38/100 [1:04:44<1:42:10, 98.88s/it]"
          ],
          "name": "stderr"
        },
        {
          "output_type": "stream",
          "text": [
            "\u001b[37;43;4m\n",
            "[Train. Prediction] Epoch 38, step 41/96......\u001b[0m\n",
            "\u001b[33m\n",
            "id: ngHDYzhDBk4_24_29.avi\n",
            "answer: ['the', 'girl', 'ate', 'a', 'tiny', 'cupcake']\n",
            "prediction: ['a', 'girl', 'is', 'eating', 'cupcake']\u001b[0m\n"
          ],
          "name": "stdout"
        },
        {
          "output_type": "stream",
          "text": [
            "Epoch 38, step 61/96, (Training Loss: 2.5407, samp_prob: 0.6177):  38%|███▊      | 38/100 [1:05:04<1:42:10, 98.88s/it]"
          ],
          "name": "stderr"
        },
        {
          "output_type": "stream",
          "text": [
            "\u001b[37;43;4m\n",
            "[Train. Prediction] Epoch 38, step 61/96......\u001b[0m\n",
            "\u001b[33m\n",
            "id: Hu9Sq1RvuoA_19_62.avi\n",
            "answer: ['the', 'man', 'is', 'doing', 'yoga']\n",
            "prediction: ['a', 'man', 'is', 'yoga', 'yoga']\u001b[0m\n"
          ],
          "name": "stdout"
        },
        {
          "output_type": "stream",
          "text": [
            "Epoch 38, step 81/96, (Training Loss: 2.5653, samp_prob: 0.6177):  38%|███▊      | 38/100 [1:05:25<1:42:10, 98.88s/it]"
          ],
          "name": "stderr"
        },
        {
          "output_type": "stream",
          "text": [
            "\u001b[37;43;4m\n",
            "[Train. Prediction] Epoch 38, step 81/96......\u001b[0m\n",
            "\u001b[33m\n",
            "id: WFNXwor69-U_33_40.avi\n",
            "answer: ['an', 'elephant', 'is', 'purchasing', 'items', 'at', 'a', 'pharmacy']\n",
            "prediction: ['an', 'elephant', 'is', 'a', 'a']\u001b[0m\n"
          ],
          "name": "stdout"
        },
        {
          "output_type": "stream",
          "text": [
            "Epoch 38, step 95/96, (Training Loss: 2.5382, samp_prob: 0.6177):  39%|███▉      | 39/100 [1:05:39<1:40:26, 98.80s/it]"
          ],
          "name": "stderr"
        },
        {
          "output_type": "stream",
          "text": [
            "\u001b[32;47m\n",
            "[FINISHED] Epoch 38, (Training Loss (average loss in this epoch): 2.4965, samp_prob: 0.6177)\u001b[0m\n"
          ],
          "name": "stdout"
        },
        {
          "output_type": "stream",
          "text": [
            "Epoch 39, step 1/96, (Training Loss: 2.4893, samp_prob: 0.6083):  39%|███▉      | 39/100 [1:05:41<1:40:26, 98.80s/it]"
          ],
          "name": "stderr"
        },
        {
          "output_type": "stream",
          "text": [
            "\u001b[37;43;4m\n",
            "[Train. Prediction] Epoch 39, step 1/96......\u001b[0m\n",
            "\u001b[33m\n",
            "id: 9OxQ-2gR1DU_18_38.avi\n",
            "answer: ['two', 'women', 'are', 'fighting', 'with', 'knives']\n",
            "prediction: ['two', 'women', 'are', 'fighting', 'with', 'swords']\u001b[0m\n"
          ],
          "name": "stdout"
        },
        {
          "output_type": "stream",
          "text": [
            "Epoch 39, step 21/96, (Training Loss: 2.4254, samp_prob: 0.6083):  39%|███▉      | 39/100 [1:06:02<1:40:26, 98.80s/it]"
          ],
          "name": "stderr"
        },
        {
          "output_type": "stream",
          "text": [
            "\u001b[37;43;4m\n",
            "[Train. Prediction] Epoch 39, step 21/96......\u001b[0m\n",
            "\u001b[33m\n",
            "id: 6GJ1DNOGDAM_223_233.avi\n",
            "answer: ['a', 'woman', 'is', 'flattening', 'her', 'hair']\n",
            "prediction: ['a', 'girl', 'is', 'straightening', 'her', 'hair']\u001b[0m\n"
          ],
          "name": "stdout"
        },
        {
          "output_type": "stream",
          "text": [
            "Epoch 39, step 41/96, (Training Loss: 2.4378, samp_prob: 0.6083):  39%|███▉      | 39/100 [1:06:22<1:40:26, 98.80s/it]"
          ],
          "name": "stderr"
        },
        {
          "output_type": "stream",
          "text": [
            "\u001b[37;43;4m\n",
            "[Train. Prediction] Epoch 39, step 41/96......\u001b[0m\n",
            "\u001b[33m\n",
            "id: X7sQq-Iu1gQ_12_22.avi\n",
            "answer: ['a', 'man', 'is', 'singing', 'into', 'a', 'microphone']\n",
            "prediction: ['a', 'man', 'is', 'singing']\u001b[0m\n"
          ],
          "name": "stdout"
        },
        {
          "output_type": "stream",
          "text": [
            "Epoch 39, step 61/96, (Training Loss: 2.4730, samp_prob: 0.6083):  39%|███▉      | 39/100 [1:06:43<1:40:26, 98.80s/it]"
          ],
          "name": "stderr"
        },
        {
          "output_type": "stream",
          "text": [
            "\u001b[37;43;4m\n",
            "[Train. Prediction] Epoch 39, step 61/96......\u001b[0m\n",
            "\u001b[33m\n",
            "id: xxHx6s_DbUo_240_248.avi\n",
            "answer: ['a', 'man', 'is', 'kicking', 'pots', 'of', 'water']\n",
            "prediction: ['a', 'man', 'is', 'breaking', 'pots', 'pots']\u001b[0m\n"
          ],
          "name": "stdout"
        },
        {
          "output_type": "stream",
          "text": [
            "Epoch 39, step 81/96, (Training Loss: 2.4524, samp_prob: 0.6083):  39%|███▉      | 39/100 [1:07:04<1:40:26, 98.80s/it]"
          ],
          "name": "stderr"
        },
        {
          "output_type": "stream",
          "text": [
            "\u001b[37;43;4m\n",
            "[Train. Prediction] Epoch 39, step 81/96......\u001b[0m\n",
            "\u001b[33m\n",
            "id: PHDmVhShE80_36_46.avi\n",
            "answer: ['someone', 'is', 'dicing', 'a', 'green', 'onion']\n",
            "prediction: ['a', 'person', 'is', 'slicing']\u001b[0m\n"
          ],
          "name": "stdout"
        },
        {
          "output_type": "stream",
          "text": [
            "Epoch 39, step 95/96, (Training Loss: 2.4951, samp_prob: 0.6083):  40%|████      | 40/100 [1:07:18<1:38:52, 98.87s/it]"
          ],
          "name": "stderr"
        },
        {
          "output_type": "stream",
          "text": [
            "\u001b[32;47m\n",
            "[FINISHED] Epoch 39, (Training Loss (average loss in this epoch): 2.4833, samp_prob: 0.6083)\u001b[0m\n"
          ],
          "name": "stdout"
        },
        {
          "output_type": "stream",
          "text": [
            "Epoch 40, step 1/96, (Training Loss: 2.5102, samp_prob: 0.5987):  40%|████      | 40/100 [1:07:20<1:38:52, 98.87s/it]"
          ],
          "name": "stderr"
        },
        {
          "output_type": "stream",
          "text": [
            "\u001b[37;43;4m\n",
            "[Train. Prediction] Epoch 40, step 1/96......\u001b[0m\n",
            "\u001b[33m\n",
            "id: DcDYRpa34W8_11_25.avi\n",
            "answer: ['a', 'baby', 'is', 'laughing', '<UNK>']\n",
            "prediction: ['a', 'baby', 'is', 'laughing']\u001b[0m\n"
          ],
          "name": "stdout"
        },
        {
          "output_type": "stream",
          "text": [
            "Epoch 40, step 21/96, (Training Loss: 2.4678, samp_prob: 0.5987):  40%|████      | 40/100 [1:07:41<1:38:52, 98.87s/it]"
          ],
          "name": "stderr"
        },
        {
          "output_type": "stream",
          "text": [
            "\u001b[37;43;4m\n",
            "[Train. Prediction] Epoch 40, step 21/96......\u001b[0m\n",
            "\u001b[33m\n",
            "id: -_hbPLsZvvo_323_328.avi\n",
            "answer: ['a', 'woman', 'is', 'adding', 'eyes', 'to', 'squash', 'cut', 'into', '<UNK>', 'pieces']\n",
            "prediction: ['a', 'woman', 'is', 'arranging', 'some']\u001b[0m\n"
          ],
          "name": "stdout"
        },
        {
          "output_type": "stream",
          "text": [
            "Epoch 40, step 41/96, (Training Loss: 2.5047, samp_prob: 0.5987):  40%|████      | 40/100 [1:08:01<1:38:52, 98.87s/it]"
          ],
          "name": "stderr"
        },
        {
          "output_type": "stream",
          "text": [
            "\u001b[37;43;4m\n",
            "[Train. Prediction] Epoch 40, step 41/96......\u001b[0m\n",
            "\u001b[33m\n",
            "id: K1ZM0LSLVw8_488_494.avi\n",
            "answer: ['a', 'man', 'is', 'cutting', 'a', '<UNK>']\n",
            "prediction: ['a', 'man', 'is', 'a', 'a']\u001b[0m\n"
          ],
          "name": "stdout"
        },
        {
          "output_type": "stream",
          "text": [
            "Epoch 40, step 61/96, (Training Loss: 2.4900, samp_prob: 0.5987):  40%|████      | 40/100 [1:08:22<1:38:52, 98.87s/it]"
          ],
          "name": "stderr"
        },
        {
          "output_type": "stream",
          "text": [
            "\u001b[37;43;4m\n",
            "[Train. Prediction] Epoch 40, step 61/96......\u001b[0m\n",
            "\u001b[33m\n",
            "id: pfQPRXcihkI_135_144.avi\n",
            "answer: ['a', 'man', 'is', 'scraping', 'potatoes']\n",
            "prediction: ['a', 'man', 'is', 'a', 'a']\u001b[0m\n"
          ],
          "name": "stdout"
        },
        {
          "output_type": "stream",
          "text": [
            "Epoch 40, step 81/96, (Training Loss: 2.4240, samp_prob: 0.5987):  40%|████      | 40/100 [1:08:43<1:38:52, 98.87s/it]"
          ],
          "name": "stderr"
        },
        {
          "output_type": "stream",
          "text": [
            "\u001b[37;43;4m\n",
            "[Train. Prediction] Epoch 40, step 81/96......\u001b[0m\n",
            "\u001b[33m\n",
            "id: 5U3xz9Ovmhk_9_15.avi\n",
            "answer: ['a', 'man', 'is', 'mixing', 'something', 'in', 'a', 'bowl']\n",
            "prediction: ['a', 'man', 'is', 'mixing', 'water', 'water']\u001b[0m\n"
          ],
          "name": "stdout"
        },
        {
          "output_type": "stream",
          "text": [
            "Epoch 40, step 95/96, (Training Loss: 2.4942, samp_prob: 0.5987):  40%|████      | 40/100 [1:08:57<1:38:52, 98.87s/it]"
          ],
          "name": "stderr"
        },
        {
          "output_type": "stream",
          "text": [
            "\u001b[32;47m\n",
            "[FINISHED] Epoch 40, (Training Loss (average loss in this epoch): 2.4774, samp_prob: 0.5987)\u001b[0m\n",
            "\u001b[37;42;1m\n",
            "Saver saved: /content/drive/My Drive/save_modelssave_net.ckpt-3935\u001b[0m\n",
            "INFO:tensorflow:Restoring parameters from /content/drive/My Drive/save_modelssave_net.ckpt-3935\n"
          ],
          "name": "stdout"
        },
        {
          "output_type": "stream",
          "text": [
            "I0326 19:21:01.748050 140156139370368 saver.py:1292] Restoring parameters from /content/drive/My Drive/save_modelssave_net.ckpt-3935\n"
          ],
          "name": "stderr"
        },
        {
          "output_type": "stream",
          "text": [
            "\u001b[37;42;4m\n",
            "[Val. Prediction] Epoch 40, step 96/96......\u001b[0m\n",
            "\u001b[32m\n",
            "id: 4xVGpDmA4lE_23_33.avi\n",
            "answer: ['a', 'man', 'carries', 'a', 'women']\n",
            "prediction: ['a', 'man', 'is', 'a', 'a', 'a']\u001b[0m\n",
            "\u001b[32m\n",
            "id: jTnrm338_KY_34_42.avi\n",
            "answer: ['a', 'woman', 'is', 'picking', 'up', 'a', '<UNK>']\n",
            "prediction: ['a', 'woman', 'is', 'peeling', 'a']\u001b[0m\n",
            "\u001b[32m\n",
            "id: 0lh_UWF9ZP4_62_69.avi\n",
            "answer: ['a', 'woman', 'is', 'stirring', 'a', 'bowl', 'of', 'rice']\n",
            "prediction: ['a', 'woman', 'is', 'mixing']\u001b[0m\n",
            "\u001b[32m\n",
            "id: 778mkceE0UQ_40_46.avi\n",
            "answer: ['someone', 'is', 'driving', 'a', 'car']\n",
            "prediction: ['a', 'car', 'is', 'driving', 'a', 'car']\u001b[0m\n",
            "\u001b[32m\n",
            "id: HV12kTtdTT4_5_14.avi\n",
            "answer: ['a', 'cat', 'is', 'watching', 'tv']\n",
            "prediction: ['a', 'young', 'is', 'is', 'a']\u001b[0m\n",
            "\u001b[32m\n",
            "id: RSx5G0_xH48_12_17.avi\n",
            "answer: ['a', 'dog', 'is', 'barking']\n",
            "prediction: ['a', 'puppy', 'is', 'is', 'a', 'a']\u001b[0m\n",
            "\u001b[32m\n",
            "id: ecm9gf2Pgkc_1_24.avi\n",
            "answer: ['the', '<UNK>', 'turned', 'circles', 'on', 'the', 'floor']\n",
            "prediction: ['a', 'cat', 'is', 'is', 'a', 'a']\u001b[0m\n",
            "\u001b[32m\n",
            "id: zv2RIbUsnSw_335_341.avi\n",
            "answer: ['a', 'woman', 'is', 'wheeled', 'into', 'a', 'hospital', 'on', 'a', 'gurney']\n",
            "prediction: ['a', 'man', 'is', 'a', 'a', 'a']\u001b[0m\n",
            "\u001b[32m\n",
            "id: TZ860P4iTaM_15_28.avi\n",
            "answer: ['a', 'cat', 'is', 'playing', 'piano']\n",
            "prediction: ['a', 'cat', 'is', 'playing', 'a', 'piano', 'piano']\u001b[0m\n",
            "\n",
            "Save file: /content/drive/My Drive/output.txt\n"
          ],
          "name": "stdout"
        },
        {
          "output_type": "stream",
          "text": [
            "\rEpoch 40, step 95/96, (Training Loss: 2.4942, samp_prob: 0.5987):  41%|████      | 41/100 [1:09:00<1:38:17, 99.96s/it]"
          ],
          "name": "stderr"
        },
        {
          "output_type": "stream",
          "text": [
            "\u001b[37;42mValidation: 100/100, done...Total Loss: 3.6672\u001b[0m\n"
          ],
          "name": "stdout"
        },
        {
          "output_type": "stream",
          "text": [
            "Epoch 41, step 1/96, (Training Loss: 2.4788, samp_prob: 0.5890):  41%|████      | 41/100 [1:09:03<1:38:17, 99.96s/it]"
          ],
          "name": "stderr"
        },
        {
          "output_type": "stream",
          "text": [
            "\u001b[37;43;4m\n",
            "[Train. Prediction] Epoch 41, step 1/96......\u001b[0m\n",
            "\u001b[33m\n",
            "id: d_BWuttLRFM_42_52.avi\n",
            "answer: ['a', 'boy', 'is', 'playing', 'flute']\n",
            "prediction: ['a', 'boy', 'is', 'playing', 'a', 'flute']\u001b[0m\n"
          ],
          "name": "stdout"
        },
        {
          "output_type": "stream",
          "text": [
            "Epoch 41, step 21/96, (Training Loss: 2.3800, samp_prob: 0.5890):  41%|████      | 41/100 [1:09:23<1:38:17, 99.96s/it]"
          ],
          "name": "stderr"
        },
        {
          "output_type": "stream",
          "text": [
            "\u001b[37;43;4m\n",
            "[Train. Prediction] Epoch 41, step 21/96......\u001b[0m\n",
            "\u001b[33m\n",
            "id: YJ2aGe7CLBo_25_35.avi\n",
            "answer: ['a', 'little', 'boy', 'plays', 'with', 'a', 'toy', 'phone']\n",
            "prediction: ['a', 'boy', 'is', 'playing', 'playing', 'a', 'phone']\u001b[0m\n"
          ],
          "name": "stdout"
        },
        {
          "output_type": "stream",
          "text": [
            "Epoch 41, step 41/96, (Training Loss: 2.3390, samp_prob: 0.5890):  41%|████      | 41/100 [1:09:44<1:38:17, 99.96s/it]"
          ],
          "name": "stderr"
        },
        {
          "output_type": "stream",
          "text": [
            "\u001b[37;43;4m\n",
            "[Train. Prediction] Epoch 41, step 41/96......\u001b[0m\n",
            "\u001b[33m\n",
            "id: VahnQw2gTQY_288_293.avi\n",
            "answer: ['a', 'person', 'cuts', 'up', 'a', 'pepper']\n",
            "prediction: ['a', 'person', 'is', 'a', 'pepper', 'pepper']\u001b[0m\n"
          ],
          "name": "stdout"
        },
        {
          "output_type": "stream",
          "text": [
            "Epoch 41, step 61/96, (Training Loss: 2.4438, samp_prob: 0.5890):  41%|████      | 41/100 [1:10:05<1:38:17, 99.96s/it]"
          ],
          "name": "stderr"
        },
        {
          "output_type": "stream",
          "text": [
            "\u001b[37;43;4m\n",
            "[Train. Prediction] Epoch 41, step 61/96......\u001b[0m\n",
            "\u001b[33m\n",
            "id: lGk1MA6YP-M_36_48.avi\n",
            "answer: ['a', 'woman', 'rides', 'her', 'horse', 'at', 'walking', 'speed']\n",
            "prediction: ['a', 'man', 'is', 'a', 'a', 'a']\u001b[0m\n"
          ],
          "name": "stdout"
        },
        {
          "output_type": "stream",
          "text": [
            "Epoch 41, step 81/96, (Training Loss: 2.6290, samp_prob: 0.5890):  41%|████      | 41/100 [1:10:25<1:38:17, 99.96s/it]"
          ],
          "name": "stderr"
        },
        {
          "output_type": "stream",
          "text": [
            "\u001b[37;43;4m\n",
            "[Train. Prediction] Epoch 41, step 81/96......\u001b[0m\n",
            "\u001b[33m\n",
            "id: 6t0BpjwYKco_142_151.avi\n",
            "answer: ['the', 'lady', 'poured', 'the', 'vegetables', 'in', 'the', 'pan', 'with', 'the', 'meat']\n",
            "prediction: ['a', 'woman', 'is', 'adding', 'a', 'a', 'a']\u001b[0m\n"
          ],
          "name": "stdout"
        },
        {
          "output_type": "stream",
          "text": [
            "Epoch 41, step 95/96, (Training Loss: 2.3864, samp_prob: 0.5890):  42%|████▏     | 42/100 [1:10:39<1:36:21, 99.69s/it]"
          ],
          "name": "stderr"
        },
        {
          "output_type": "stream",
          "text": [
            "\u001b[32;47m\n",
            "[FINISHED] Epoch 41, (Training Loss (average loss in this epoch): 2.4612, samp_prob: 0.5890)\u001b[0m\n"
          ],
          "name": "stdout"
        },
        {
          "output_type": "stream",
          "text": [
            "Epoch 42, step 1/96, (Training Loss: 2.3045, samp_prob: 0.5793):  42%|████▏     | 42/100 [1:10:42<1:36:21, 99.69s/it]"
          ],
          "name": "stderr"
        },
        {
          "output_type": "stream",
          "text": [
            "\u001b[37;43;4m\n",
            "[Train. Prediction] Epoch 42, step 1/96......\u001b[0m\n",
            "\u001b[33m\n",
            "id: urXDqw3S34I_12_17.avi\n",
            "answer: ['a', 'car', 'is', 'running', 'on', 'a', 'road']\n",
            "prediction: ['a', 'car', 'is', 'down', 'down', 'down']\u001b[0m\n"
          ],
          "name": "stdout"
        },
        {
          "output_type": "stream",
          "text": [
            "Epoch 42, step 21/96, (Training Loss: 2.4988, samp_prob: 0.5793):  42%|████▏     | 42/100 [1:11:02<1:36:21, 99.69s/it]"
          ],
          "name": "stderr"
        },
        {
          "output_type": "stream",
          "text": [
            "\u001b[37;43;4m\n",
            "[Train. Prediction] Epoch 42, step 21/96......\u001b[0m\n",
            "\u001b[33m\n",
            "id: -YI0cxuNcq8_262_272.avi\n",
            "answer: ['a', 'woman', 'does', 'exercises', 'on', 'a', 'floor', 'mat']\n",
            "prediction: ['a', 'woman', 'is', 'exercising', 'exercises']\u001b[0m\n"
          ],
          "name": "stdout"
        },
        {
          "output_type": "stream",
          "text": [
            "Epoch 42, step 41/96, (Training Loss: 2.5125, samp_prob: 0.5793):  42%|████▏     | 42/100 [1:11:23<1:36:21, 99.69s/it]"
          ],
          "name": "stderr"
        },
        {
          "output_type": "stream",
          "text": [
            "\u001b[37;43;4m\n",
            "[Train. Prediction] Epoch 42, step 41/96......\u001b[0m\n",
            "\u001b[33m\n",
            "id: 1kYWws89W3Y_0_5.avi\n",
            "answer: ['a', 'cat', 'jumps', 'up', 'a', 'wall']\n",
            "prediction: ['a', 'cat', 'is', 'a', 'a', 'wall']\u001b[0m\n"
          ],
          "name": "stdout"
        },
        {
          "output_type": "stream",
          "text": [
            "Epoch 42, step 61/96, (Training Loss: 2.5288, samp_prob: 0.5793):  42%|████▏     | 42/100 [1:11:43<1:36:21, 99.69s/it]"
          ],
          "name": "stderr"
        },
        {
          "output_type": "stream",
          "text": [
            "\u001b[37;43;4m\n",
            "[Train. Prediction] Epoch 42, step 61/96......\u001b[0m\n",
            "\u001b[33m\n",
            "id: Je3V7U5Ctj4_582_587.avi\n",
            "answer: ['the', 'man', 'put', 'cheese', 'on', 'a', 'tortilla']\n",
            "prediction: ['a', 'man', 'is', 'cheese', 'tortilla', 'on', 'a', 'tortilla']\u001b[0m\n"
          ],
          "name": "stdout"
        },
        {
          "output_type": "stream",
          "text": [
            "Epoch 42, step 81/96, (Training Loss: 2.4124, samp_prob: 0.5793):  42%|████▏     | 42/100 [1:12:04<1:36:21, 99.69s/it]"
          ],
          "name": "stderr"
        },
        {
          "output_type": "stream",
          "text": [
            "\u001b[37;43;4m\n",
            "[Train. Prediction] Epoch 42, step 81/96......\u001b[0m\n",
            "\u001b[33m\n",
            "id: omIPdpxg--4_39_46.avi\n",
            "answer: ['a', 'woman', 'holding', 'a', 'mic', 'slips', 'on', 'a', 'sand', '<UNK>']\n",
            "prediction: ['a', 'woman', 'falls', 'falls', 'sand', 'castle']\u001b[0m\n"
          ],
          "name": "stdout"
        },
        {
          "output_type": "stream",
          "text": [
            "Epoch 42, step 95/96, (Training Loss: 2.5374, samp_prob: 0.5793):  43%|████▎     | 43/100 [1:12:18<1:34:25, 99.40s/it]"
          ],
          "name": "stderr"
        },
        {
          "output_type": "stream",
          "text": [
            "\u001b[32;47m\n",
            "[FINISHED] Epoch 42, (Training Loss (average loss in this epoch): 2.4528, samp_prob: 0.5793)\u001b[0m\n"
          ],
          "name": "stdout"
        },
        {
          "output_type": "stream",
          "text": [
            "Epoch 43, step 1/96, (Training Loss: 2.5139, samp_prob: 0.5695):  43%|████▎     | 43/100 [1:12:20<1:34:25, 99.40s/it]"
          ],
          "name": "stderr"
        },
        {
          "output_type": "stream",
          "text": [
            "\u001b[37;43;4m\n",
            "[Train. Prediction] Epoch 43, step 1/96......\u001b[0m\n",
            "\u001b[33m\n",
            "id: hJFBXHtxKIc_163_168.avi\n",
            "answer: ['a', 'man', 'is', 'sprinkling', 'spices', 'onto', 'sausages', 'in', 'a', 'pan']\n",
            "prediction: ['a', 'man', 'is', 'seasoning', 'some']\u001b[0m\n"
          ],
          "name": "stdout"
        },
        {
          "output_type": "stream",
          "text": [
            "Epoch 43, step 21/96, (Training Loss: 2.3916, samp_prob: 0.5695):  43%|████▎     | 43/100 [1:12:41<1:34:25, 99.40s/it]"
          ],
          "name": "stderr"
        },
        {
          "output_type": "stream",
          "text": [
            "\u001b[37;43;4m\n",
            "[Train. Prediction] Epoch 43, step 21/96......\u001b[0m\n",
            "\u001b[33m\n",
            "id: 4_WZN7uW0NY_140_145.avi\n",
            "answer: ['peoples', 'are', 'cleaning', 'house']\n",
            "prediction: ['a', 'people', 'are', 'sweeping', 'sweeping', 'out', 'out', 'house']\u001b[0m\n"
          ],
          "name": "stdout"
        },
        {
          "output_type": "stream",
          "text": [
            "Epoch 43, step 41/96, (Training Loss: 2.4631, samp_prob: 0.5695):  43%|████▎     | 43/100 [1:13:01<1:34:25, 99.40s/it]"
          ],
          "name": "stderr"
        },
        {
          "output_type": "stream",
          "text": [
            "\u001b[37;43;4m\n",
            "[Train. Prediction] Epoch 43, step 41/96......\u001b[0m\n",
            "\u001b[33m\n",
            "id: nCtZFOYAlvQ_44_49.avi\n",
            "answer: ['the', 'man', 'is', 'snowboarding']\n",
            "prediction: ['a', 'person', 'snowboarding', 'snowboarding', 'a']\u001b[0m\n"
          ],
          "name": "stdout"
        },
        {
          "output_type": "stream",
          "text": [
            "Epoch 43, step 61/96, (Training Loss: 2.5095, samp_prob: 0.5695):  43%|████▎     | 43/100 [1:13:22<1:34:25, 99.40s/it]"
          ],
          "name": "stderr"
        },
        {
          "output_type": "stream",
          "text": [
            "\u001b[37;43;4m\n",
            "[Train. Prediction] Epoch 43, step 61/96......\u001b[0m\n",
            "\u001b[33m\n",
            "id: j4dMnAPZu70_11_18.avi\n",
            "answer: ['a', 'panda', 'is', 'sliding', 'down', 'a', 'slide']\n",
            "prediction: ['a', 'baby', 'is', 'a', 'a', 'snow']\u001b[0m\n"
          ],
          "name": "stdout"
        },
        {
          "output_type": "stream",
          "text": [
            "Epoch 43, step 81/96, (Training Loss: 2.3593, samp_prob: 0.5695):  43%|████▎     | 43/100 [1:13:43<1:34:25, 99.40s/it]"
          ],
          "name": "stderr"
        },
        {
          "output_type": "stream",
          "text": [
            "\u001b[37;43;4m\n",
            "[Train. Prediction] Epoch 43, step 81/96......\u001b[0m\n",
            "\u001b[33m\n",
            "id: 05gNigkqfNU_24_32.avi\n",
            "answer: ['a', 'person', 'slices', 'potato', 'wedges']\n",
            "prediction: ['a', 'person', 'is', 'slicing', 'potato']\u001b[0m\n"
          ],
          "name": "stdout"
        },
        {
          "output_type": "stream",
          "text": [
            "Epoch 43, step 95/96, (Training Loss: 2.4765, samp_prob: 0.5695):  44%|████▍     | 44/100 [1:13:57<1:32:34, 99.20s/it]"
          ],
          "name": "stderr"
        },
        {
          "output_type": "stream",
          "text": [
            "\u001b[32;47m\n",
            "[FINISHED] Epoch 43, (Training Loss (average loss in this epoch): 2.4415, samp_prob: 0.5695)\u001b[0m\n"
          ],
          "name": "stdout"
        },
        {
          "output_type": "stream",
          "text": [
            "Epoch 44, step 1/96, (Training Loss: 2.5519, samp_prob: 0.5597):  44%|████▍     | 44/100 [1:13:59<1:32:34, 99.20s/it]"
          ],
          "name": "stderr"
        },
        {
          "output_type": "stream",
          "text": [
            "\u001b[37;43;4m\n",
            "[Train. Prediction] Epoch 44, step 1/96......\u001b[0m\n",
            "\u001b[33m\n",
            "id: 8yoUaH6wGLs_22_30.avi\n",
            "answer: ['a', 'motorcyclist', 'is', 'hit', 'by', 'a', 'car']\n",
            "prediction: ['a', 'car', 'car', 'a', 'car', 'car']\u001b[0m\n"
          ],
          "name": "stdout"
        },
        {
          "output_type": "stream",
          "text": [
            "Epoch 44, step 21/96, (Training Loss: 2.3067, samp_prob: 0.5597):  44%|████▍     | 44/100 [1:14:20<1:32:34, 99.20s/it]"
          ],
          "name": "stderr"
        },
        {
          "output_type": "stream",
          "text": [
            "\u001b[37;43;4m\n",
            "[Train. Prediction] Epoch 44, step 21/96......\u001b[0m\n",
            "\u001b[33m\n",
            "id: LLkehH86ABY_30_36.avi\n",
            "answer: ['a', 'man', 'is', 'playing', 'a', 'guitar']\n",
            "prediction: ['a', 'man', 'is', 'playing', 'guitar']\u001b[0m\n"
          ],
          "name": "stdout"
        },
        {
          "output_type": "stream",
          "text": [
            "Epoch 44, step 41/96, (Training Loss: 2.3517, samp_prob: 0.5597):  44%|████▍     | 44/100 [1:14:41<1:32:34, 99.20s/it]"
          ],
          "name": "stderr"
        },
        {
          "output_type": "stream",
          "text": [
            "\u001b[37;43;4m\n",
            "[Train. Prediction] Epoch 44, step 41/96......\u001b[0m\n",
            "\u001b[33m\n",
            "id: LjimLwAhAOQ_5_15.avi\n",
            "answer: ['two', 'girls', 'talk', 'on', 'the', 'phone']\n",
            "prediction: ['two', 'little', 'girls', 'are', 'talking', 'the']\u001b[0m\n"
          ],
          "name": "stdout"
        },
        {
          "output_type": "stream",
          "text": [
            "Epoch 44, step 61/96, (Training Loss: 2.4493, samp_prob: 0.5597):  44%|████▍     | 44/100 [1:15:01<1:32:34, 99.20s/it]"
          ],
          "name": "stderr"
        },
        {
          "output_type": "stream",
          "text": [
            "\u001b[37;43;4m\n",
            "[Train. Prediction] Epoch 44, step 61/96......\u001b[0m\n",
            "\u001b[33m\n",
            "id: CL49s8bO6Fg_1_11.avi\n",
            "answer: ['a', 'kitten', 'is', 'walking']\n",
            "prediction: ['a', 'kitten', 'is', 'walking', 'walking']\u001b[0m\n"
          ],
          "name": "stdout"
        },
        {
          "output_type": "stream",
          "text": [
            "Epoch 44, step 81/96, (Training Loss: 2.5201, samp_prob: 0.5597):  44%|████▍     | 44/100 [1:15:22<1:32:34, 99.20s/it]"
          ],
          "name": "stderr"
        },
        {
          "output_type": "stream",
          "text": [
            "\u001b[37;43;4m\n",
            "[Train. Prediction] Epoch 44, step 81/96......\u001b[0m\n",
            "\u001b[33m\n",
            "id: -pUwIypksfE_13_23.avi\n",
            "answer: ['the', 'panda', 'climbed', 'up', 'the', 'tower', 'in', 'his', 'pen']\n",
            "prediction: ['a', 'panda', 'is', 'climbing', 'playing']\u001b[0m\n"
          ],
          "name": "stdout"
        },
        {
          "output_type": "stream",
          "text": [
            "Epoch 44, step 95/96, (Training Loss: 2.5131, samp_prob: 0.5597):  45%|████▌     | 45/100 [1:15:36<1:30:58, 99.25s/it]"
          ],
          "name": "stderr"
        },
        {
          "output_type": "stream",
          "text": [
            "\u001b[32;47m\n",
            "[FINISHED] Epoch 44, (Training Loss (average loss in this epoch): 2.4314, samp_prob: 0.5597)\u001b[0m\n"
          ],
          "name": "stdout"
        },
        {
          "output_type": "stream",
          "text": [
            "Epoch 45, step 1/96, (Training Loss: 2.4967, samp_prob: 0.5498):  45%|████▌     | 45/100 [1:15:39<1:30:58, 99.25s/it]"
          ],
          "name": "stderr"
        },
        {
          "output_type": "stream",
          "text": [
            "\u001b[37;43;4m\n",
            "[Train. Prediction] Epoch 45, step 1/96......\u001b[0m\n",
            "\u001b[33m\n",
            "id: WTf5EgVY5uU_121_135.avi\n",
            "answer: ['a', 'person', 'is', 'frying', 'onion']\n",
            "prediction: ['a', 'person', 'is', 'cooking', 'a']\u001b[0m\n"
          ],
          "name": "stdout"
        },
        {
          "output_type": "stream",
          "text": [
            "Epoch 45, step 21/96, (Training Loss: 2.4265, samp_prob: 0.5498):  45%|████▌     | 45/100 [1:15:59<1:30:58, 99.25s/it]"
          ],
          "name": "stderr"
        },
        {
          "output_type": "stream",
          "text": [
            "\u001b[37;43;4m\n",
            "[Train. Prediction] Epoch 45, step 21/96......\u001b[0m\n",
            "\u001b[33m\n",
            "id: -wa0umYJVGg_139_157.avi\n",
            "answer: ['a', 'woman', 'cuts', 'up', 'vegetables']\n",
            "prediction: ['a', 'woman', 'is', 'slicing', 'a']\u001b[0m\n"
          ],
          "name": "stdout"
        },
        {
          "output_type": "stream",
          "text": [
            "Epoch 45, step 41/96, (Training Loss: 2.3826, samp_prob: 0.5498):  45%|████▌     | 45/100 [1:16:20<1:30:58, 99.25s/it]"
          ],
          "name": "stderr"
        },
        {
          "output_type": "stream",
          "text": [
            "\u001b[37;43;4m\n",
            "[Train. Prediction] Epoch 45, step 41/96......\u001b[0m\n",
            "\u001b[33m\n",
            "id: unhiT2D6WvE_0_20.avi\n",
            "answer: ['a', 'cat', 'is', 'playing', 'inside', 'a', 'cardboard', 'box']\n",
            "prediction: ['a', 'cat', 'is', 'playing', 'a', 'box', 'box', 'box']\u001b[0m\n"
          ],
          "name": "stdout"
        },
        {
          "output_type": "stream",
          "text": [
            "Epoch 45, step 61/96, (Training Loss: 2.4988, samp_prob: 0.5498):  45%|████▌     | 45/100 [1:16:40<1:30:58, 99.25s/it]"
          ],
          "name": "stderr"
        },
        {
          "output_type": "stream",
          "text": [
            "\u001b[37;43;4m\n",
            "[Train. Prediction] Epoch 45, step 61/96......\u001b[0m\n",
            "\u001b[33m\n",
            "id: 3chNlP5TeO8_0_10.avi\n",
            "answer: ['a', 'jet', 'is', 'launching', 'from', 'the', 'ocean']\n",
            "prediction: ['a', 'jet', 'is', 'in', 'the', 'of']\u001b[0m\n"
          ],
          "name": "stdout"
        },
        {
          "output_type": "stream",
          "text": [
            "Epoch 45, step 81/96, (Training Loss: 2.3930, samp_prob: 0.5498):  45%|████▌     | 45/100 [1:17:01<1:30:58, 99.25s/it]"
          ],
          "name": "stderr"
        },
        {
          "output_type": "stream",
          "text": [
            "\u001b[37;43;4m\n",
            "[Train. Prediction] Epoch 45, step 81/96......\u001b[0m\n",
            "\u001b[33m\n",
            "id: 8mSUD7JGNO0_174_181.avi\n",
            "answer: ['a', 'woman', '<UNK>', 'on', 'a', 'horse']\n",
            "prediction: ['a', 'woman', 'is', 'riding', 'a', 'a', 'horse']\u001b[0m\n"
          ],
          "name": "stdout"
        },
        {
          "output_type": "stream",
          "text": [
            "Epoch 45, step 95/96, (Training Loss: 2.4309, samp_prob: 0.5498):  46%|████▌     | 46/100 [1:17:15<1:29:14, 99.16s/it]"
          ],
          "name": "stderr"
        },
        {
          "output_type": "stream",
          "text": [
            "\u001b[32;47m\n",
            "[FINISHED] Epoch 45, (Training Loss (average loss in this epoch): 2.4217, samp_prob: 0.5498)\u001b[0m\n"
          ],
          "name": "stdout"
        },
        {
          "output_type": "stream",
          "text": [
            "Epoch 46, step 1/96, (Training Loss: 2.5578, samp_prob: 0.5399):  46%|████▌     | 46/100 [1:17:17<1:29:14, 99.16s/it]"
          ],
          "name": "stderr"
        },
        {
          "output_type": "stream",
          "text": [
            "\u001b[37;43;4m\n",
            "[Train. Prediction] Epoch 46, step 1/96......\u001b[0m\n",
            "\u001b[33m\n",
            "id: msCidKHOh74_410_418.avi\n",
            "answer: ['a', 'man', 'rides', 'a', 'motorcycle']\n",
            "prediction: ['a', 'man', 'is', 'riding', 'a', 'motorcycle']\u001b[0m\n"
          ],
          "name": "stdout"
        },
        {
          "output_type": "stream",
          "text": [
            "Epoch 46, step 21/96, (Training Loss: 2.3806, samp_prob: 0.5399):  46%|████▌     | 46/100 [1:17:38<1:29:14, 99.16s/it]"
          ],
          "name": "stderr"
        },
        {
          "output_type": "stream",
          "text": [
            "\u001b[37;43;4m\n",
            "[Train. Prediction] Epoch 46, step 21/96......\u001b[0m\n",
            "\u001b[33m\n",
            "id: xtbsD3PUua4_84_94.avi\n",
            "answer: ['a', 'person', 'is', 'mixing', 'a', 'bowl', 'of', 'ingredients']\n",
            "prediction: ['a', 'woman', 'is', 'mixing', 'in', 'in']\u001b[0m\n"
          ],
          "name": "stdout"
        },
        {
          "output_type": "stream",
          "text": [
            "Epoch 46, step 41/96, (Training Loss: 2.3947, samp_prob: 0.5399):  46%|████▌     | 46/100 [1:17:59<1:29:14, 99.16s/it]"
          ],
          "name": "stderr"
        },
        {
          "output_type": "stream",
          "text": [
            "\u001b[37;43;4m\n",
            "[Train. Prediction] Epoch 46, step 41/96......\u001b[0m\n",
            "\u001b[33m\n",
            "id: 8jP8CC2rKj4_80_88.avi\n",
            "answer: ['a', 'dolphin', 'is', 'jumping', 'out', 'of', 'the', 'water']\n",
            "prediction: ['a', 'dolphin', 'is', 'out', 'out', 'water', 'of']\u001b[0m\n"
          ],
          "name": "stdout"
        },
        {
          "output_type": "stream",
          "text": [
            "Epoch 46, step 61/96, (Training Loss: 2.4913, samp_prob: 0.5399):  46%|████▌     | 46/100 [1:18:19<1:29:14, 99.16s/it]"
          ],
          "name": "stderr"
        },
        {
          "output_type": "stream",
          "text": [
            "\u001b[37;43;4m\n",
            "[Train. Prediction] Epoch 46, step 61/96......\u001b[0m\n",
            "\u001b[33m\n",
            "id: _O9kWD8nuRU_16_23.avi\n",
            "answer: ['a', 'woman', 'is', 'slicing', 'a', 'carrot', 'into', 'pieces']\n",
            "prediction: ['a', 'woman', 'is', 'slicing', 'a', 'carrot']\u001b[0m\n"
          ],
          "name": "stdout"
        },
        {
          "output_type": "stream",
          "text": [
            "Epoch 46, step 81/96, (Training Loss: 2.4394, samp_prob: 0.5399):  46%|████▌     | 46/100 [1:18:40<1:29:14, 99.16s/it]"
          ],
          "name": "stderr"
        },
        {
          "output_type": "stream",
          "text": [
            "\u001b[37;43;4m\n",
            "[Train. Prediction] Epoch 46, step 81/96......\u001b[0m\n",
            "\u001b[33m\n",
            "id: zHy7pM0U49w_110_116.avi\n",
            "answer: ['a', 'man', 'is', 'slicing', 'a', 'tomato']\n",
            "prediction: ['a', 'man', 'is', 'slicing', 'tomato']\u001b[0m\n"
          ],
          "name": "stdout"
        },
        {
          "output_type": "stream",
          "text": [
            "Epoch 46, step 95/96, (Training Loss: 2.4011, samp_prob: 0.5399):  47%|████▋     | 47/100 [1:18:54<1:27:29, 99.04s/it]"
          ],
          "name": "stderr"
        },
        {
          "output_type": "stream",
          "text": [
            "\u001b[32;47m\n",
            "[FINISHED] Epoch 46, (Training Loss (average loss in this epoch): 2.4146, samp_prob: 0.5399)\u001b[0m\n"
          ],
          "name": "stdout"
        },
        {
          "output_type": "stream",
          "text": [
            "Epoch 47, step 1/96, (Training Loss: 2.4882, samp_prob: 0.5300):  47%|████▋     | 47/100 [1:18:56<1:27:29, 99.04s/it]"
          ],
          "name": "stderr"
        },
        {
          "output_type": "stream",
          "text": [
            "\u001b[37;43;4m\n",
            "[Train. Prediction] Epoch 47, step 1/96......\u001b[0m\n",
            "\u001b[33m\n",
            "id: bDoCQEwghZU_201_211.avi\n",
            "answer: ['a', 'man', 'is', 'making', 'a', 'telephone', 'call']\n",
            "prediction: ['a', 'man', 'is', 'on', 'on', 'phone', 'phone']\u001b[0m\n"
          ],
          "name": "stdout"
        },
        {
          "output_type": "stream",
          "text": [
            "Epoch 47, step 21/96, (Training Loss: 2.4259, samp_prob: 0.5300):  47%|████▋     | 47/100 [1:19:17<1:27:29, 99.04s/it]"
          ],
          "name": "stderr"
        },
        {
          "output_type": "stream",
          "text": [
            "\u001b[37;43;4m\n",
            "[Train. Prediction] Epoch 47, step 21/96......\u001b[0m\n",
            "\u001b[33m\n",
            "id: QVSt5USMkMg_43_50.avi\n",
            "answer: ['the', 'girl', 'fed', 'the', 'kangaroo']\n",
            "prediction: ['a', 'woman', 'is', 'feeding', 'an']\u001b[0m\n"
          ],
          "name": "stdout"
        },
        {
          "output_type": "stream",
          "text": [
            "Epoch 47, step 41/96, (Training Loss: 2.4553, samp_prob: 0.5300):  47%|████▋     | 47/100 [1:19:37<1:27:29, 99.04s/it]"
          ],
          "name": "stderr"
        },
        {
          "output_type": "stream",
          "text": [
            "\u001b[37;43;4m\n",
            "[Train. Prediction] Epoch 47, step 41/96......\u001b[0m\n",
            "\u001b[33m\n",
            "id: dZBIdRGKRhM_13_32.avi\n",
            "answer: ['two', 'men', 'are', 'walking', 'through', 'a', 'night', 'club']\n",
            "prediction: ['two', 'men', 'are', 'walking', 'through', 'club']\u001b[0m\n"
          ],
          "name": "stdout"
        },
        {
          "output_type": "stream",
          "text": [
            "Epoch 47, step 61/96, (Training Loss: 2.2805, samp_prob: 0.5300):  47%|████▋     | 47/100 [1:19:58<1:27:29, 99.04s/it]"
          ],
          "name": "stderr"
        },
        {
          "output_type": "stream",
          "text": [
            "\u001b[37;43;4m\n",
            "[Train. Prediction] Epoch 47, step 61/96......\u001b[0m\n",
            "\u001b[33m\n",
            "id: Ce7equ9zCxk_4_19.avi\n",
            "answer: ['the', 'bird', 'is', 'playing', 'with', 'the', 'telephone']\n",
            "prediction: ['a', 'parakeet', 'is', 'a', 'a']\u001b[0m\n"
          ],
          "name": "stdout"
        },
        {
          "output_type": "stream",
          "text": [
            "Epoch 47, step 81/96, (Training Loss: 2.4934, samp_prob: 0.5300):  47%|████▋     | 47/100 [1:20:19<1:27:29, 99.04s/it]"
          ],
          "name": "stderr"
        },
        {
          "output_type": "stream",
          "text": [
            "\u001b[37;43;4m\n",
            "[Train. Prediction] Epoch 47, step 81/96......\u001b[0m\n",
            "\u001b[33m\n",
            "id: ACOmKiJDkA4_161_170.avi\n",
            "answer: ['someone', 'is', 'making', 'a', 'ball', 'out', 'of', 'rice', 'with', 'filling', 'in', 'it']\n",
            "prediction: ['a', 'woman', 'is', 'wrapping', 'rice', 'rice']\u001b[0m\n"
          ],
          "name": "stdout"
        },
        {
          "output_type": "stream",
          "text": [
            "Epoch 47, step 95/96, (Training Loss: 2.4248, samp_prob: 0.5300):  48%|████▊     | 48/100 [1:20:32<1:25:46, 98.96s/it]"
          ],
          "name": "stderr"
        },
        {
          "output_type": "stream",
          "text": [
            "\u001b[32;47m\n",
            "[FINISHED] Epoch 47, (Training Loss (average loss in this epoch): 2.4042, samp_prob: 0.5300)\u001b[0m\n"
          ],
          "name": "stdout"
        },
        {
          "output_type": "stream",
          "text": [
            "Epoch 48, step 1/96, (Training Loss: 2.3644, samp_prob: 0.5200):  48%|████▊     | 48/100 [1:20:35<1:25:46, 98.96s/it]"
          ],
          "name": "stderr"
        },
        {
          "output_type": "stream",
          "text": [
            "\u001b[37;43;4m\n",
            "[Train. Prediction] Epoch 48, step 1/96......\u001b[0m\n",
            "\u001b[33m\n",
            "id: BVjvRpmHg0w_157_165.avi\n",
            "answer: ['a', 'woman', 'is', 'cutting', 'broccoli', 'with', 'a', 'knife']\n",
            "prediction: ['a', 'woman', 'is', 'cutting', 'broccoli']\u001b[0m\n"
          ],
          "name": "stdout"
        },
        {
          "output_type": "stream",
          "text": [
            "Epoch 48, step 21/96, (Training Loss: 2.4211, samp_prob: 0.5200):  48%|████▊     | 48/100 [1:20:56<1:25:46, 98.96s/it]"
          ],
          "name": "stderr"
        },
        {
          "output_type": "stream",
          "text": [
            "\u001b[37;43;4m\n",
            "[Train. Prediction] Epoch 48, step 21/96......\u001b[0m\n",
            "\u001b[33m\n",
            "id: 6r5DmFa5ZR8_51_58.avi\n",
            "answer: ['two', 'animals', 'eat', 'food']\n",
            "prediction: ['two', 'are', 'eating', 'food', 'food', 'plate']\u001b[0m\n"
          ],
          "name": "stdout"
        },
        {
          "output_type": "stream",
          "text": [
            "Epoch 48, step 41/96, (Training Loss: 2.4574, samp_prob: 0.5200):  48%|████▊     | 48/100 [1:21:16<1:25:46, 98.96s/it]"
          ],
          "name": "stderr"
        },
        {
          "output_type": "stream",
          "text": [
            "\u001b[37;43;4m\n",
            "[Train. Prediction] Epoch 48, step 41/96......\u001b[0m\n",
            "\u001b[33m\n",
            "id: Kxa0mnDj0bs_15_20.avi\n",
            "answer: ['a', 'cat', 'is', 'hitting', 'a', 'toddler', 'on', 'the', 'head']\n",
            "prediction: ['a', 'cat', 'is', 'a', 'a', 'a', 'a']\u001b[0m\n"
          ],
          "name": "stdout"
        },
        {
          "output_type": "stream",
          "text": [
            "Epoch 48, step 61/96, (Training Loss: 2.5037, samp_prob: 0.5200):  48%|████▊     | 48/100 [1:21:37<1:25:46, 98.96s/it]"
          ],
          "name": "stderr"
        },
        {
          "output_type": "stream",
          "text": [
            "\u001b[37;43;4m\n",
            "[Train. Prediction] Epoch 48, step 61/96......\u001b[0m\n",
            "\u001b[33m\n",
            "id: 4_WZN7uW0NY_140_145.avi\n",
            "answer: ['a', 'group', 'of', 'people', 'are', 'sweeping', 'water', 'out', 'of', 'a', 'house']\n",
            "prediction: ['people', 'are', 'of', 'out']\u001b[0m\n"
          ],
          "name": "stdout"
        },
        {
          "output_type": "stream",
          "text": [
            "Epoch 48, step 81/96, (Training Loss: 2.2820, samp_prob: 0.5200):  48%|████▊     | 48/100 [1:21:57<1:25:46, 98.96s/it]"
          ],
          "name": "stderr"
        },
        {
          "output_type": "stream",
          "text": [
            "\u001b[37;43;4m\n",
            "[Train. Prediction] Epoch 48, step 81/96......\u001b[0m\n",
            "\u001b[33m\n",
            "id: ghynaoVNwZc_1_20.avi\n",
            "answer: ['the', 'orange', 'car', 'skidded', 'in', 'the', 'parking', 'lot']\n",
            "prediction: ['a', 'car', 'is', 'driving', 'a']\u001b[0m\n"
          ],
          "name": "stdout"
        },
        {
          "output_type": "stream",
          "text": [
            "Epoch 48, step 95/96, (Training Loss: 2.4246, samp_prob: 0.5200):  49%|████▉     | 49/100 [1:22:11<1:24:03, 98.89s/it]"
          ],
          "name": "stderr"
        },
        {
          "output_type": "stream",
          "text": [
            "\u001b[32;47m\n",
            "[FINISHED] Epoch 48, (Training Loss (average loss in this epoch): 2.3979, samp_prob: 0.5200)\u001b[0m\n"
          ],
          "name": "stdout"
        },
        {
          "output_type": "stream",
          "text": [
            "Epoch 49, step 1/96, (Training Loss: 2.3855, samp_prob: 0.5100):  49%|████▉     | 49/100 [1:22:14<1:24:03, 98.89s/it]"
          ],
          "name": "stderr"
        },
        {
          "output_type": "stream",
          "text": [
            "\u001b[37;43;4m\n",
            "[Train. Prediction] Epoch 49, step 1/96......\u001b[0m\n",
            "\u001b[33m\n",
            "id: e-j59PqJjSM_163_173.avi\n",
            "answer: ['a', 'person', 'is', 'cutting', 'a', 'top', 'of', 'an', 'onion']\n",
            "prediction: ['a', 'man', 'is', 'slicing', 'a', 'onion']\u001b[0m\n"
          ],
          "name": "stdout"
        },
        {
          "output_type": "stream",
          "text": [
            "Epoch 49, step 21/96, (Training Loss: 2.4525, samp_prob: 0.5100):  49%|████▉     | 49/100 [1:22:35<1:24:03, 98.89s/it]"
          ],
          "name": "stderr"
        },
        {
          "output_type": "stream",
          "text": [
            "\u001b[37;43;4m\n",
            "[Train. Prediction] Epoch 49, step 21/96......\u001b[0m\n",
            "\u001b[33m\n",
            "id: QA_JTtM1hKA_5_15.avi\n",
            "answer: ['a', 'man', 'is', 'playing', 'a', 'guitar']\n",
            "prediction: ['a', 'man', 'is', 'playing', 'guitar', 'guitar']\u001b[0m\n"
          ],
          "name": "stdout"
        },
        {
          "output_type": "stream",
          "text": [
            "Epoch 49, step 41/96, (Training Loss: 2.3398, samp_prob: 0.5100):  49%|████▉     | 49/100 [1:22:56<1:24:03, 98.89s/it]"
          ],
          "name": "stderr"
        },
        {
          "output_type": "stream",
          "text": [
            "\u001b[37;43;4m\n",
            "[Train. Prediction] Epoch 49, step 41/96......\u001b[0m\n",
            "\u001b[33m\n",
            "id: -bjOB4zS0uE_100_105.avi\n",
            "answer: ['the', 'girl', 'stirred', 'the', 'stuff', 'in', 'the', 'glass']\n",
            "prediction: ['a', 'woman', 'is', 'mixing', 'mixing', 'in', 'glass', 'a', 'a']\u001b[0m\n"
          ],
          "name": "stdout"
        },
        {
          "output_type": "stream",
          "text": [
            "Epoch 49, step 61/96, (Training Loss: 2.4612, samp_prob: 0.5100):  49%|████▉     | 49/100 [1:23:17<1:24:03, 98.89s/it]"
          ],
          "name": "stderr"
        },
        {
          "output_type": "stream",
          "text": [
            "\u001b[37;43;4m\n",
            "[Train. Prediction] Epoch 49, step 61/96......\u001b[0m\n",
            "\u001b[33m\n",
            "id: hJuqBDw_TT4_105_112.avi\n",
            "answer: ['some', 'people', 'are', 'dancing']\n",
            "prediction: ['people', 'are', 'dancing']\u001b[0m\n"
          ],
          "name": "stdout"
        },
        {
          "output_type": "stream",
          "text": [
            "Epoch 49, step 81/96, (Training Loss: 2.4070, samp_prob: 0.5100):  49%|████▉     | 49/100 [1:23:37<1:24:03, 98.89s/it]"
          ],
          "name": "stderr"
        },
        {
          "output_type": "stream",
          "text": [
            "\u001b[37;43;4m\n",
            "[Train. Prediction] Epoch 49, step 81/96......\u001b[0m\n",
            "\u001b[33m\n",
            "id: hEOGZoYSvT4_82_86.avi\n",
            "answer: ['a', 'little', 'girl', 'falls', 'down']\n",
            "prediction: ['a', 'woman', 'is', 'down', 'down']\u001b[0m\n"
          ],
          "name": "stdout"
        },
        {
          "output_type": "stream",
          "text": [
            "Epoch 49, step 95/96, (Training Loss: 2.3107, samp_prob: 0.5100):  50%|█████     | 50/100 [1:23:51<1:22:41, 99.24s/it]"
          ],
          "name": "stderr"
        },
        {
          "output_type": "stream",
          "text": [
            "\u001b[32;47m\n",
            "[FINISHED] Epoch 49, (Training Loss (average loss in this epoch): 2.3883, samp_prob: 0.5100)\u001b[0m\n"
          ],
          "name": "stdout"
        },
        {
          "output_type": "stream",
          "text": [
            "Epoch 50, step 1/96, (Training Loss: 2.3077, samp_prob: 0.5000):  50%|█████     | 50/100 [1:23:54<1:22:41, 99.24s/it]"
          ],
          "name": "stderr"
        },
        {
          "output_type": "stream",
          "text": [
            "\u001b[37;43;4m\n",
            "[Train. Prediction] Epoch 50, step 1/96......\u001b[0m\n",
            "\u001b[33m\n",
            "id: -zOrV-5vh1A_69_76.avi\n",
            "answer: ['a', 'wall', 'of', 'bouncing', 'balls', '<UNK>', 'a', 'street']\n",
            "prediction: ['balls', 'are', 'bouncing', 'down', 'down', 'down']\u001b[0m\n"
          ],
          "name": "stdout"
        },
        {
          "output_type": "stream",
          "text": [
            "Epoch 50, step 21/96, (Training Loss: 2.3443, samp_prob: 0.5000):  50%|█████     | 50/100 [1:24:14<1:22:41, 99.24s/it]"
          ],
          "name": "stderr"
        },
        {
          "output_type": "stream",
          "text": [
            "\u001b[37;43;4m\n",
            "[Train. Prediction] Epoch 50, step 21/96......\u001b[0m\n",
            "\u001b[33m\n",
            "id: mYzajpeAWuA_100_112.avi\n",
            "answer: ['a', 'man', 'is', 'passionately', 'playing', 'a', 'guitar', 'in', 'front', 'of', 'an', 'audience']\n",
            "prediction: ['a', 'man', 'is', 'playing', 'a', 'guitar']\u001b[0m\n"
          ],
          "name": "stdout"
        },
        {
          "output_type": "stream",
          "text": [
            "Epoch 50, step 41/96, (Training Loss: 2.3328, samp_prob: 0.5000):  50%|█████     | 50/100 [1:24:35<1:22:41, 99.24s/it]"
          ],
          "name": "stderr"
        },
        {
          "output_type": "stream",
          "text": [
            "\u001b[37;43;4m\n",
            "[Train. Prediction] Epoch 50, step 41/96......\u001b[0m\n",
            "\u001b[33m\n",
            "id: 7uOiiA4Kxbo_23_35.avi\n",
            "answer: ['the', 'dog', 'clung', 'to', 'the', \"man's\", 'neck', 'and', 'back', 'while', 'riding', 'on', 'the', 'bike']\n",
            "prediction: ['a', 'man', 'is', 'riding', 'a', 'dog', 'on', 'a', 'a']\u001b[0m\n"
          ],
          "name": "stdout"
        },
        {
          "output_type": "stream",
          "text": [
            "Epoch 50, step 61/96, (Training Loss: 2.2857, samp_prob: 0.5000):  50%|█████     | 50/100 [1:24:56<1:22:41, 99.24s/it]"
          ],
          "name": "stderr"
        },
        {
          "output_type": "stream",
          "text": [
            "\u001b[37;43;4m\n",
            "[Train. Prediction] Epoch 50, step 61/96......\u001b[0m\n",
            "\u001b[33m\n",
            "id: unhiT2D6WvE_0_20.avi\n",
            "answer: ['there', 'is', 'a', 'small', 'doorway', 'cut', 'in', 'a', 'cardboard', 'box', 'and', 'a', 'cat', 'inside', 'the', 'box', 'keeps', 'poking', \"it's\", 'paw', 'out', 'of', 'the', 'doorway']\n",
            "prediction: ['a', 'cat', 'is', 'playing', 'a', 'box', 'box', 'box']\u001b[0m\n"
          ],
          "name": "stdout"
        },
        {
          "output_type": "stream",
          "text": [
            "Epoch 50, step 81/96, (Training Loss: 2.4358, samp_prob: 0.5000):  50%|█████     | 50/100 [1:25:17<1:22:41, 99.24s/it]"
          ],
          "name": "stderr"
        },
        {
          "output_type": "stream",
          "text": [
            "\u001b[37;43;4m\n",
            "[Train. Prediction] Epoch 50, step 81/96......\u001b[0m\n",
            "\u001b[33m\n",
            "id: sWqi41wyXcQ_68_79.avi\n",
            "answer: ['a', 'man', 'is', 'doing', '<UNK>']\n",
            "prediction: ['a', 'man', 'is', 'lifting', 'lifting']\u001b[0m\n"
          ],
          "name": "stdout"
        },
        {
          "output_type": "stream",
          "text": [
            "Epoch 50, step 95/96, (Training Loss: 2.3822, samp_prob: 0.5000):  50%|█████     | 50/100 [1:25:31<1:22:41, 99.24s/it]"
          ],
          "name": "stderr"
        },
        {
          "output_type": "stream",
          "text": [
            "\u001b[32;47m\n",
            "[FINISHED] Epoch 50, (Training Loss (average loss in this epoch): 2.3770, samp_prob: 0.5000)\u001b[0m\n",
            "\u001b[37;42;1m\n",
            "Saver saved: /content/drive/My Drive/save_modelssave_net.ckpt-4895\u001b[0m\n",
            "INFO:tensorflow:Restoring parameters from /content/drive/My Drive/save_modelssave_net.ckpt-4895\n"
          ],
          "name": "stdout"
        },
        {
          "output_type": "stream",
          "text": [
            "I0326 19:37:35.693641 140156139370368 saver.py:1292] Restoring parameters from /content/drive/My Drive/save_modelssave_net.ckpt-4895\n"
          ],
          "name": "stderr"
        },
        {
          "output_type": "stream",
          "text": [
            "\u001b[37;42;4m\n",
            "[Val. Prediction] Epoch 50, step 96/96......\u001b[0m\n",
            "\u001b[32m\n",
            "id: shPymuahrsc_5_12.avi\n",
            "answer: ['a', 'loris', 'is', 'inspecting', 'a', 'plastic', 'box']\n",
            "prediction: ['a', 'dog', 'is', 'is', 'a']\u001b[0m\n",
            "\u001b[32m\n",
            "id: UbmZAe5u5FI_132_141.avi\n",
            "answer: ['a', 'woman', 'is', 'removing', 'the', 'skin', 'and', '<UNK>', 'from', 'a', 'fish']\n",
            "prediction: ['a', 'woman', 'is', 'a', 'shrimp']\u001b[0m\n",
            "\u001b[32m\n",
            "id: He7Ge7Sogrk_47_70.avi\n",
            "answer: ['an', 'elephant', 'uses', 'a', '<UNK>', 'brush']\n",
            "prediction: ['a', 'person', 'is', 'a', 'a', 'a']\u001b[0m\n",
            "\u001b[32m\n",
            "id: q7pOFn8s4zc_263_273.avi\n",
            "answer: ['a', 'man', 'and', 'a', 'woman', 'are', 'dancing']\n",
            "prediction: ['a', 'man', 'is', 'a', 'a', 'a']\u001b[0m\n",
            "\u001b[32m\n",
            "id: 30GeJHYoerk_121_126.avi\n",
            "answer: ['the', 'man', 'jumped', 'from', '<UNK>', 'to', '<UNK>', 'while', 'standing', 'on', 'his', 'hands']\n",
            "prediction: ['a', 'man', 'is', 'is', 'down']\u001b[0m\n",
            "\u001b[32m\n",
            "id: 5HAf_INrFy0_3_25.avi\n",
            "answer: ['a', 'cat', 'is', 'watching', 'boxing', 'on', 'tv']\n",
            "prediction: ['a', 'girl', 'is', 'a', 'a', 'a']\u001b[0m\n",
            "\u001b[32m\n",
            "id: g1Gldu1KS44_8_14.avi\n",
            "answer: ['a', 'baby', 'elephant', 'is', 'eating', 'leaves']\n",
            "prediction: ['a', 'monkey', 'is', 'is']\u001b[0m\n",
            "\u001b[32m\n",
            "id: inzk2fTUe1w_1_15.avi\n",
            "answer: ['a', 'banana', 'is', 'being', 'peeled']\n",
            "prediction: ['a', 'man', 'is', 'peeling', 'a']\u001b[0m\n",
            "\u001b[32m\n",
            "id: aM-RcQj0a7I_37_55.avi\n",
            "answer: ['a', 'chef', 'stirs', 'frying', 'food']\n",
            "prediction: ['a', 'woman', 'is', 'boiling', 'in']\u001b[0m\n",
            "\n",
            "Save file: /content/drive/My Drive/output.txt\n"
          ],
          "name": "stdout"
        },
        {
          "output_type": "stream",
          "text": [
            "\rEpoch 50, step 95/96, (Training Loss: 2.3822, samp_prob: 0.5000):  51%|█████     | 51/100 [1:25:34<1:21:54, 100.31s/it]"
          ],
          "name": "stderr"
        },
        {
          "output_type": "stream",
          "text": [
            "\u001b[37;42mValidation: 100/100, done...Total Loss: 3.8340\u001b[0m\n"
          ],
          "name": "stdout"
        },
        {
          "output_type": "stream",
          "text": [
            "Epoch 51, step 1/96, (Training Loss: 2.3461, samp_prob: 0.4900):  51%|█████     | 51/100 [1:25:37<1:21:54, 100.31s/it]"
          ],
          "name": "stderr"
        },
        {
          "output_type": "stream",
          "text": [
            "\u001b[37;43;4m\n",
            "[Train. Prediction] Epoch 51, step 1/96......\u001b[0m\n",
            "\u001b[33m\n",
            "id: 7uOiiA4Kxbo_23_35.avi\n",
            "answer: ['a', 'man', 'is', 'giving', 'a', 'dog', 'a', 'ride', 'on', 'his', 'shoulders', 'while', 'riding', 'a', 'bicycle']\n",
            "prediction: ['a', 'man', 'is', 'riding', 'a', 'bicycle', 'his', 'dog']\u001b[0m\n"
          ],
          "name": "stdout"
        },
        {
          "output_type": "stream",
          "text": [
            "Epoch 51, step 21/96, (Training Loss: 2.3672, samp_prob: 0.4900):  51%|█████     | 51/100 [1:25:57<1:21:54, 100.31s/it]"
          ],
          "name": "stderr"
        },
        {
          "output_type": "stream",
          "text": [
            "\u001b[37;43;4m\n",
            "[Train. Prediction] Epoch 51, step 21/96......\u001b[0m\n",
            "\u001b[33m\n",
            "id: RMznbCn5sQs_0_10.avi\n",
            "answer: ['zebras', 'are', 'running', 'in', 'a', 'pen']\n",
            "prediction: ['zebras', 'are', 'running', 'running']\u001b[0m\n"
          ],
          "name": "stdout"
        },
        {
          "output_type": "stream",
          "text": [
            "Epoch 51, step 41/96, (Training Loss: 2.3231, samp_prob: 0.4900):  51%|█████     | 51/100 [1:26:18<1:21:54, 100.31s/it]"
          ],
          "name": "stderr"
        },
        {
          "output_type": "stream",
          "text": [
            "\u001b[37;43;4m\n",
            "[Train. Prediction] Epoch 51, step 41/96......\u001b[0m\n",
            "\u001b[33m\n",
            "id: J7zb8YXrmIA_93_99.avi\n",
            "answer: ['a', 'man', 'is', 'riding', 'a', 'bike']\n",
            "prediction: ['a', 'man', 'is', 'riding', 'a', 'bike']\u001b[0m\n"
          ],
          "name": "stdout"
        },
        {
          "output_type": "stream",
          "text": [
            "Epoch 51, step 61/96, (Training Loss: 2.3711, samp_prob: 0.4900):  51%|█████     | 51/100 [1:26:39<1:21:54, 100.31s/it]"
          ],
          "name": "stderr"
        },
        {
          "output_type": "stream",
          "text": [
            "\u001b[37;43;4m\n",
            "[Train. Prediction] Epoch 51, step 61/96......\u001b[0m\n",
            "\u001b[33m\n",
            "id: qeKX-N1nKiM_133_142.avi\n",
            "answer: ['vegetables', 'are', 'being', 'deep', 'fried']\n",
            "prediction: ['a', 'woman', 'is', 'placing', 'some']\u001b[0m\n"
          ],
          "name": "stdout"
        },
        {
          "output_type": "stream",
          "text": [
            "Epoch 51, step 81/96, (Training Loss: 2.3513, samp_prob: 0.4900):  51%|█████     | 51/100 [1:26:59<1:21:54, 100.31s/it]"
          ],
          "name": "stderr"
        },
        {
          "output_type": "stream",
          "text": [
            "\u001b[37;43;4m\n",
            "[Train. Prediction] Epoch 51, step 81/96......\u001b[0m\n",
            "\u001b[33m\n",
            "id: D2FbgK_kkE8_121_151.avi\n",
            "answer: ['the', 'woman', 'is', 'peeling', 'the', 'pineapple']\n",
            "prediction: ['a', 'woman', 'is', 'peeling', 'pineapple', 'pineapple', 'pineapple']\u001b[0m\n"
          ],
          "name": "stdout"
        },
        {
          "output_type": "stream",
          "text": [
            "Epoch 51, step 95/96, (Training Loss: 2.3939, samp_prob: 0.4900):  52%|█████▏    | 52/100 [1:27:13<1:19:59, 99.99s/it] "
          ],
          "name": "stderr"
        },
        {
          "output_type": "stream",
          "text": [
            "\u001b[32;47m\n",
            "[FINISHED] Epoch 51, (Training Loss (average loss in this epoch): 2.3721, samp_prob: 0.4900)\u001b[0m\n"
          ],
          "name": "stdout"
        },
        {
          "output_type": "stream",
          "text": [
            "Epoch 52, step 1/96, (Training Loss: 2.3409, samp_prob: 0.4800):  52%|█████▏    | 52/100 [1:27:16<1:19:59, 99.99s/it]"
          ],
          "name": "stderr"
        },
        {
          "output_type": "stream",
          "text": [
            "\u001b[37;43;4m\n",
            "[Train. Prediction] Epoch 52, step 1/96......\u001b[0m\n",
            "\u001b[33m\n",
            "id: 9d57lHEsLU8_1_14.avi\n",
            "answer: ['the', 'scene', 'of', 'a', 'frog', '<UNK>', 'from', 'water', 'to', 'catch', 'a', 'dragonfly', '<UNK>', 'to', 'do', 'so', 'and', 'falling', 'back', 'into', 'the', 'water', 'is', '<UNK>', 'in', 'slow', 'motion']\n",
            "prediction: ['a', 'frog', 'is', 'out', 'out', 'water']\u001b[0m\n"
          ],
          "name": "stdout"
        },
        {
          "output_type": "stream",
          "text": [
            "Epoch 52, step 21/96, (Training Loss: 2.3517, samp_prob: 0.4800):  52%|█████▏    | 52/100 [1:27:36<1:19:59, 99.99s/it]"
          ],
          "name": "stderr"
        },
        {
          "output_type": "stream",
          "text": [
            "\u001b[37;43;4m\n",
            "[Train. Prediction] Epoch 52, step 21/96......\u001b[0m\n",
            "\u001b[33m\n",
            "id: kJY5BRCNAs4_3_6.avi\n",
            "answer: ['after', 'talking', 'on', 'the', 'phone', 'a', 'baby', 'hangs', 'up']\n",
            "prediction: ['a', 'baby', 'is', 'up', 'on']\u001b[0m\n"
          ],
          "name": "stdout"
        },
        {
          "output_type": "stream",
          "text": [
            "Epoch 52, step 41/96, (Training Loss: 2.3343, samp_prob: 0.4800):  52%|█████▏    | 52/100 [1:27:57<1:19:59, 99.99s/it]"
          ],
          "name": "stderr"
        },
        {
          "output_type": "stream",
          "text": [
            "\u001b[37;43;4m\n",
            "[Train. Prediction] Epoch 52, step 41/96......\u001b[0m\n",
            "\u001b[33m\n",
            "id: hkkmKk9LcQk_36_43.avi\n",
            "answer: ['a', 'man', 'is', 'eating', 'a', 'banana']\n",
            "prediction: ['a', 'man', 'is', 'eating', 'banana']\u001b[0m\n"
          ],
          "name": "stdout"
        },
        {
          "output_type": "stream",
          "text": [
            "Epoch 52, step 61/96, (Training Loss: 2.2671, samp_prob: 0.4800):  52%|█████▏    | 52/100 [1:28:18<1:19:59, 99.99s/it]"
          ],
          "name": "stderr"
        },
        {
          "output_type": "stream",
          "text": [
            "\u001b[37;43;4m\n",
            "[Train. Prediction] Epoch 52, step 61/96......\u001b[0m\n",
            "\u001b[33m\n",
            "id: 4D1o4FC8YbA_29_39.avi\n",
            "answer: ['a', 'woman', 'is', 'dancing', 'in', 'the', 'rain']\n",
            "prediction: ['a', 'woman', 'is', 'dancing', 'rain', 'rain']\u001b[0m\n"
          ],
          "name": "stdout"
        },
        {
          "output_type": "stream",
          "text": [
            "Epoch 52, step 81/96, (Training Loss: 2.3340, samp_prob: 0.4800):  52%|█████▏    | 52/100 [1:28:38<1:19:59, 99.99s/it]"
          ],
          "name": "stderr"
        },
        {
          "output_type": "stream",
          "text": [
            "\u001b[37;43;4m\n",
            "[Train. Prediction] Epoch 52, step 81/96......\u001b[0m\n",
            "\u001b[33m\n",
            "id: FWzsXeXCwuc_106_110.avi\n",
            "answer: ['the', 'monkey', 'climbed', 'up', 'the', 'statue']\n",
            "prediction: ['a', 'monkey', 'is', 'climbing', 'on']\u001b[0m\n"
          ],
          "name": "stdout"
        },
        {
          "output_type": "stream",
          "text": [
            "Epoch 52, step 95/96, (Training Loss: 2.4189, samp_prob: 0.4800):  53%|█████▎    | 53/100 [1:28:52<1:18:05, 99.69s/it]"
          ],
          "name": "stderr"
        },
        {
          "output_type": "stream",
          "text": [
            "\u001b[32;47m\n",
            "[FINISHED] Epoch 52, (Training Loss (average loss in this epoch): 2.3647, samp_prob: 0.4800)\u001b[0m\n"
          ],
          "name": "stdout"
        },
        {
          "output_type": "stream",
          "text": [
            "Epoch 53, step 1/96, (Training Loss: 2.2746, samp_prob: 0.4700):  53%|█████▎    | 53/100 [1:28:55<1:18:05, 99.69s/it]"
          ],
          "name": "stderr"
        },
        {
          "output_type": "stream",
          "text": [
            "\u001b[37;43;4m\n",
            "[Train. Prediction] Epoch 53, step 1/96......\u001b[0m\n",
            "\u001b[33m\n",
            "id: GPT4vUwlrXY_1_10.avi\n",
            "answer: ['a', 'kid', 'is', 'pointing', 'out', 'days', 'on', 'a', 'calendar']\n",
            "prediction: ['a', 'boy', 'is', 'looking', 'a', 'calendar']\u001b[0m\n"
          ],
          "name": "stdout"
        },
        {
          "output_type": "stream",
          "text": [
            "Epoch 53, step 21/96, (Training Loss: 2.4047, samp_prob: 0.4700):  53%|█████▎    | 53/100 [1:29:16<1:18:05, 99.69s/it]"
          ],
          "name": "stderr"
        },
        {
          "output_type": "stream",
          "text": [
            "\u001b[37;43;4m\n",
            "[Train. Prediction] Epoch 53, step 21/96......\u001b[0m\n",
            "\u001b[33m\n",
            "id: 2I20ZTFHheg_96_104.avi\n",
            "answer: ['a', 'person', 'is', 'cutting', 'a', 'sock', 'with', 'scissors']\n",
            "prediction: ['a', 'person', 'is', 'a', 'a']\u001b[0m\n"
          ],
          "name": "stdout"
        },
        {
          "output_type": "stream",
          "text": [
            "Epoch 53, step 41/96, (Training Loss: 2.3564, samp_prob: 0.4700):  53%|█████▎    | 53/100 [1:29:36<1:18:05, 99.69s/it]"
          ],
          "name": "stderr"
        },
        {
          "output_type": "stream",
          "text": [
            "\u001b[37;43;4m\n",
            "[Train. Prediction] Epoch 53, step 41/96......\u001b[0m\n",
            "\u001b[33m\n",
            "id: 9Q0JfdP36kI_23_28.avi\n",
            "answer: ['a', 'person', 'is', 'cutting', 'fat', 'from', 'a', 'piece', 'of', 'meat']\n",
            "prediction: ['a', 'person', 'is', 'cutting', 'meat', 'chicken']\u001b[0m\n"
          ],
          "name": "stdout"
        },
        {
          "output_type": "stream",
          "text": [
            "Epoch 53, step 61/96, (Training Loss: 2.3780, samp_prob: 0.4700):  53%|█████▎    | 53/100 [1:29:57<1:18:05, 99.69s/it]"
          ],
          "name": "stderr"
        },
        {
          "output_type": "stream",
          "text": [
            "\u001b[37;43;4m\n",
            "[Train. Prediction] Epoch 53, step 61/96......\u001b[0m\n",
            "\u001b[33m\n",
            "id: 4MjTb5A68VA_111_118.avi\n",
            "answer: ['a', 'woman', 'is', 'running', 'in', 'a', 'field', 'and', 'flying', 'a', 'kite']\n",
            "prediction: ['a', 'girl', 'is', 'flying', 'a', 'kite']\u001b[0m\n"
          ],
          "name": "stdout"
        },
        {
          "output_type": "stream",
          "text": [
            "Epoch 53, step 81/96, (Training Loss: 2.2736, samp_prob: 0.4700):  53%|█████▎    | 53/100 [1:30:17<1:18:05, 99.69s/it]"
          ],
          "name": "stderr"
        },
        {
          "output_type": "stream",
          "text": [
            "\u001b[37;43;4m\n",
            "[Train. Prediction] Epoch 53, step 81/96......\u001b[0m\n",
            "\u001b[33m\n",
            "id: G_hxdUG6QXE_23_28.avi\n",
            "answer: ['a', 'guy', 'is', 'playing', 'guitar']\n",
            "prediction: ['a', 'man', 'is', 'playing', 'singing', 'guitar']\u001b[0m\n"
          ],
          "name": "stdout"
        },
        {
          "output_type": "stream",
          "text": [
            "Epoch 53, step 95/96, (Training Loss: 2.3369, samp_prob: 0.4700):  54%|█████▍    | 54/100 [1:30:31<1:16:18, 99.53s/it]"
          ],
          "name": "stderr"
        },
        {
          "output_type": "stream",
          "text": [
            "\u001b[32;47m\n",
            "[FINISHED] Epoch 53, (Training Loss (average loss in this epoch): 2.3573, samp_prob: 0.4700)\u001b[0m\n"
          ],
          "name": "stdout"
        },
        {
          "output_type": "stream",
          "text": [
            "Epoch 54, step 1/96, (Training Loss: 2.3724, samp_prob: 0.4601):  54%|█████▍    | 54/100 [1:30:34<1:16:18, 99.53s/it]"
          ],
          "name": "stderr"
        },
        {
          "output_type": "stream",
          "text": [
            "\u001b[37;43;4m\n",
            "[Train. Prediction] Epoch 54, step 1/96......\u001b[0m\n",
            "\u001b[33m\n",
            "id: f_GnkweYzzI_35_41.avi\n",
            "answer: ['a', 'man', 'gets', 'hit', 'in', 'the', 'head', 'with', 'a', 'brick']\n",
            "prediction: ['someone', 'man', 'hit', 'hit', 'brick', 'a', 'head']\u001b[0m\n"
          ],
          "name": "stdout"
        },
        {
          "output_type": "stream",
          "text": [
            "Epoch 54, step 21/96, (Training Loss: 2.3762, samp_prob: 0.4601):  54%|█████▍    | 54/100 [1:30:55<1:16:18, 99.53s/it]"
          ],
          "name": "stderr"
        },
        {
          "output_type": "stream",
          "text": [
            "\u001b[37;43;4m\n",
            "[Train. Prediction] Epoch 54, step 21/96......\u001b[0m\n",
            "\u001b[33m\n",
            "id: LqPIBHAmt4E_22_30.avi\n",
            "answer: ['the', 'man', 'sang', 'and', 'played', 'his', 'guitar']\n",
            "prediction: ['a', 'man', 'is', 'playing', 'guitar']\u001b[0m\n"
          ],
          "name": "stdout"
        },
        {
          "output_type": "stream",
          "text": [
            "Epoch 54, step 41/96, (Training Loss: 2.4174, samp_prob: 0.4601):  54%|█████▍    | 54/100 [1:31:15<1:16:18, 99.53s/it]"
          ],
          "name": "stderr"
        },
        {
          "output_type": "stream",
          "text": [
            "\u001b[37;43;4m\n",
            "[Train. Prediction] Epoch 54, step 41/96......\u001b[0m\n",
            "\u001b[33m\n",
            "id: kWLNZzuo3do_228_232.avi\n",
            "answer: ['the', 'lady', 'put', 'the', 'battered', 'shrimp', 'in', 'the', 'hot', 'oil']\n",
            "prediction: ['a', 'is', 'is', 'frying']\u001b[0m\n"
          ],
          "name": "stdout"
        },
        {
          "output_type": "stream",
          "text": [
            "Epoch 54, step 61/96, (Training Loss: 2.3340, samp_prob: 0.4601):  54%|█████▍    | 54/100 [1:31:36<1:16:18, 99.53s/it]"
          ],
          "name": "stderr"
        },
        {
          "output_type": "stream",
          "text": [
            "\u001b[37;43;4m\n",
            "[Train. Prediction] Epoch 54, step 61/96......\u001b[0m\n",
            "\u001b[33m\n",
            "id: q7pOFn8s4zc_27_36.avi\n",
            "answer: ['a', 'man', 'and', 'woman', 'is', 'riding', 'on', 'a', 'bike']\n",
            "prediction: ['a', 'man', 'and', 'riding', 'a', 'riding', 'on']\u001b[0m\n"
          ],
          "name": "stdout"
        },
        {
          "output_type": "stream",
          "text": [
            "Epoch 54, step 81/96, (Training Loss: 2.2801, samp_prob: 0.4601):  54%|█████▍    | 54/100 [1:31:57<1:16:18, 99.53s/it]"
          ],
          "name": "stderr"
        },
        {
          "output_type": "stream",
          "text": [
            "\u001b[37;43;4m\n",
            "[Train. Prediction] Epoch 54, step 81/96......\u001b[0m\n",
            "\u001b[33m\n",
            "id: zbAk0gX7kas_16_24.avi\n",
            "answer: ['a', 'monkey', 'is', 'sucking', 'on', 'a', 'finger']\n",
            "prediction: ['a', 'baby', 'monkey', 'is', 'sucking', 'on']\u001b[0m\n"
          ],
          "name": "stdout"
        },
        {
          "output_type": "stream",
          "text": [
            "Epoch 54, step 95/96, (Training Loss: 2.4485, samp_prob: 0.4601):  55%|█████▌    | 55/100 [1:32:11<1:14:34, 99.43s/it]"
          ],
          "name": "stderr"
        },
        {
          "output_type": "stream",
          "text": [
            "\u001b[32;47m\n",
            "[FINISHED] Epoch 54, (Training Loss (average loss in this epoch): 2.3517, samp_prob: 0.4601)\u001b[0m\n"
          ],
          "name": "stdout"
        },
        {
          "output_type": "stream",
          "text": [
            "Epoch 55, step 1/96, (Training Loss: 2.3115, samp_prob: 0.4502):  55%|█████▌    | 55/100 [1:32:13<1:14:34, 99.43s/it]"
          ],
          "name": "stderr"
        },
        {
          "output_type": "stream",
          "text": [
            "\u001b[37;43;4m\n",
            "[Train. Prediction] Epoch 55, step 1/96......\u001b[0m\n",
            "\u001b[33m\n",
            "id: ysTmUTQ5wZE_17_45.avi\n",
            "answer: ['a', 'baby', 'panda', 'is', 'climbing', 'a', 'step']\n",
            "prediction: ['a', 'baby', 'bear', 'climbs', 'up', 'step']\u001b[0m\n"
          ],
          "name": "stdout"
        },
        {
          "output_type": "stream",
          "text": [
            "Epoch 55, step 21/96, (Training Loss: 2.3861, samp_prob: 0.4502):  55%|█████▌    | 55/100 [1:32:34<1:14:34, 99.43s/it]"
          ],
          "name": "stderr"
        },
        {
          "output_type": "stream",
          "text": [
            "\u001b[37;43;4m\n",
            "[Train. Prediction] Epoch 55, step 21/96......\u001b[0m\n",
            "\u001b[33m\n",
            "id: 6KS8R3RxrV8_0_23.avi\n",
            "answer: ['a', 'dog', 'sat', 'at', 'the', 'counter', 'of', 'a', 'store']\n",
            "prediction: ['a', 'dog', 'is', 'on', 'a']\u001b[0m\n"
          ],
          "name": "stdout"
        },
        {
          "output_type": "stream",
          "text": [
            "Epoch 55, step 41/96, (Training Loss: 2.2997, samp_prob: 0.4502):  55%|█████▌    | 55/100 [1:32:54<1:14:34, 99.43s/it]"
          ],
          "name": "stderr"
        },
        {
          "output_type": "stream",
          "text": [
            "\u001b[37;43;4m\n",
            "[Train. Prediction] Epoch 55, step 41/96......\u001b[0m\n",
            "\u001b[33m\n",
            "id: nc8hwLaOyZU_1_19.avi\n",
            "answer: ['a', 'monkey', 'is', 'riding', 'a', 'bicycle']\n",
            "prediction: ['a', 'monkey', 'is', 'riding', 'a', 'bicycle']\u001b[0m\n"
          ],
          "name": "stdout"
        },
        {
          "output_type": "stream",
          "text": [
            "Epoch 55, step 61/96, (Training Loss: 2.4976, samp_prob: 0.4502):  55%|█████▌    | 55/100 [1:33:15<1:14:34, 99.43s/it]"
          ],
          "name": "stderr"
        },
        {
          "output_type": "stream",
          "text": [
            "\u001b[37;43;4m\n",
            "[Train. Prediction] Epoch 55, step 61/96......\u001b[0m\n",
            "\u001b[33m\n",
            "id: 4kQnrKvOTNg_15_24.avi\n",
            "answer: ['a', 'puppy', 'is', 'coming', 'down', 'from', 'the', 'stairs']\n",
            "prediction: ['a', 'puppy', 'is', 'walking', 'down', 'staircase']\u001b[0m\n"
          ],
          "name": "stdout"
        },
        {
          "output_type": "stream",
          "text": [
            "Epoch 55, step 81/96, (Training Loss: 2.4039, samp_prob: 0.4502):  55%|█████▌    | 55/100 [1:33:36<1:14:34, 99.43s/it]"
          ],
          "name": "stderr"
        },
        {
          "output_type": "stream",
          "text": [
            "\u001b[37;43;4m\n",
            "[Train. Prediction] Epoch 55, step 81/96......\u001b[0m\n",
            "\u001b[33m\n",
            "id: tzd3AYTZq0U_0_6.avi\n",
            "answer: ['two', 'dogs', 'are', 'lying', 'on', 'a', 'bed']\n",
            "prediction: ['two', 'dog', 'dog', 'lying', 'its', 'a', 'bed']\u001b[0m\n"
          ],
          "name": "stdout"
        },
        {
          "output_type": "stream",
          "text": [
            "Epoch 55, step 95/96, (Training Loss: 2.3566, samp_prob: 0.4502):  56%|█████▌    | 56/100 [1:33:50<1:12:48, 99.28s/it]"
          ],
          "name": "stderr"
        },
        {
          "output_type": "stream",
          "text": [
            "\u001b[32;47m\n",
            "[FINISHED] Epoch 55, (Training Loss (average loss in this epoch): 2.3454, samp_prob: 0.4502)\u001b[0m\n"
          ],
          "name": "stdout"
        },
        {
          "output_type": "stream",
          "text": [
            "Epoch 56, step 1/96, (Training Loss: 2.2887, samp_prob: 0.4403):  56%|█████▌    | 56/100 [1:33:52<1:12:48, 99.28s/it]"
          ],
          "name": "stderr"
        },
        {
          "output_type": "stream",
          "text": [
            "\u001b[37;43;4m\n",
            "[Train. Prediction] Epoch 56, step 1/96......\u001b[0m\n",
            "\u001b[33m\n",
            "id: klFyrnrUSck_63_73.avi\n",
            "answer: ['a', 'woman', 'coats', 'a', 'slice', 'of', 'pork', 'meat', 'on', 'both', 'sides', 'with', 'flour', 'using', 'a', 'brush']\n",
            "prediction: ['a', 'woman', 'brushes', 'a', 'flour']\u001b[0m\n"
          ],
          "name": "stdout"
        },
        {
          "output_type": "stream",
          "text": [
            "Epoch 56, step 21/96, (Training Loss: 2.2913, samp_prob: 0.4403):  56%|█████▌    | 56/100 [1:34:13<1:12:48, 99.28s/it]"
          ],
          "name": "stderr"
        },
        {
          "output_type": "stream",
          "text": [
            "\u001b[37;43;4m\n",
            "[Train. Prediction] Epoch 56, step 21/96......\u001b[0m\n",
            "\u001b[33m\n",
            "id: hxZ-5wELSJM_0_12.avi\n",
            "answer: ['two', 'men', 'are', 'playing', 'table', 'tennis']\n",
            "prediction: ['two', 'men', 'are', 'playing', 'table', 'tennis']\u001b[0m\n"
          ],
          "name": "stdout"
        },
        {
          "output_type": "stream",
          "text": [
            "Epoch 56, step 41/96, (Training Loss: 2.4159, samp_prob: 0.4403):  56%|█████▌    | 56/100 [1:34:33<1:12:48, 99.28s/it]"
          ],
          "name": "stderr"
        },
        {
          "output_type": "stream",
          "text": [
            "\u001b[37;43;4m\n",
            "[Train. Prediction] Epoch 56, step 41/96......\u001b[0m\n",
            "\u001b[33m\n",
            "id: bQJQGoJF7_k_162_169.avi\n",
            "answer: ['a', 'person', 'is', 'pouring', 'sauce', 'into', 'a', 'bag', 'of', 'meat']\n",
            "prediction: ['a', 'man', 'is', 'pouring', 'marinade', 'meat', 'chicken', 'bag']\u001b[0m\n"
          ],
          "name": "stdout"
        },
        {
          "output_type": "stream",
          "text": [
            "Epoch 56, step 61/96, (Training Loss: 2.3752, samp_prob: 0.4403):  56%|█████▌    | 56/100 [1:34:54<1:12:48, 99.28s/it]"
          ],
          "name": "stderr"
        },
        {
          "output_type": "stream",
          "text": [
            "\u001b[37;43;4m\n",
            "[Train. Prediction] Epoch 56, step 61/96......\u001b[0m\n",
            "\u001b[33m\n",
            "id: O2qiPS2NCeY_2_18.avi\n",
            "answer: ['the', 'bird', 'is', 'eating']\n",
            "prediction: ['a', 'bird', 'is', 'eating']\u001b[0m\n"
          ],
          "name": "stdout"
        },
        {
          "output_type": "stream",
          "text": [
            "Epoch 56, step 81/96, (Training Loss: 2.3703, samp_prob: 0.4403):  56%|█████▌    | 56/100 [1:35:15<1:12:48, 99.28s/it]"
          ],
          "name": "stderr"
        },
        {
          "output_type": "stream",
          "text": [
            "\u001b[37;43;4m\n",
            "[Train. Prediction] Epoch 56, step 81/96......\u001b[0m\n",
            "\u001b[33m\n",
            "id: ZxqkAGNyo8A_12_22.avi\n",
            "answer: ['a', 'baby', 'girl', 'is', 'playing', 'with', 'her', 'toy', 'keyboard']\n",
            "prediction: ['a', 'girl', 'girl', 'is', 'playing', 'her', 'toy']\u001b[0m\n"
          ],
          "name": "stdout"
        },
        {
          "output_type": "stream",
          "text": [
            "Epoch 56, step 95/96, (Training Loss: 2.3751, samp_prob: 0.4403):  57%|█████▋    | 57/100 [1:35:28<1:11:04, 99.16s/it]"
          ],
          "name": "stderr"
        },
        {
          "output_type": "stream",
          "text": [
            "\u001b[32;47m\n",
            "[FINISHED] Epoch 56, (Training Loss (average loss in this epoch): 2.3385, samp_prob: 0.4403)\u001b[0m\n"
          ],
          "name": "stdout"
        },
        {
          "output_type": "stream",
          "text": [
            "Epoch 57, step 1/96, (Training Loss: 2.3661, samp_prob: 0.4305):  57%|█████▋    | 57/100 [1:35:31<1:11:04, 99.16s/it]"
          ],
          "name": "stderr"
        },
        {
          "output_type": "stream",
          "text": [
            "\u001b[37;43;4m\n",
            "[Train. Prediction] Epoch 57, step 1/96......\u001b[0m\n",
            "\u001b[33m\n",
            "id: fjDvKHkmxs0_119_126.avi\n",
            "answer: ['a', 'man', 'driving', 'a', 'car']\n",
            "prediction: ['a', 'man', 'is', 'driving', 'a', 'car', 'car']\u001b[0m\n"
          ],
          "name": "stdout"
        },
        {
          "output_type": "stream",
          "text": [
            "Epoch 57, step 21/96, (Training Loss: 2.3402, samp_prob: 0.4305):  57%|█████▋    | 57/100 [1:35:52<1:11:04, 99.16s/it]"
          ],
          "name": "stderr"
        },
        {
          "output_type": "stream",
          "text": [
            "\u001b[37;43;4m\n",
            "[Train. Prediction] Epoch 57, step 21/96......\u001b[0m\n",
            "\u001b[33m\n",
            "id: kWLNZzuo3do_31_37.avi\n",
            "answer: ['a', 'woman', 'unwraps', 'a', 'pink', 'vegetable']\n",
            "prediction: ['a', 'woman', 'is', 'a', 'a']\u001b[0m\n"
          ],
          "name": "stdout"
        },
        {
          "output_type": "stream",
          "text": [
            "Epoch 57, step 41/96, (Training Loss: 2.2552, samp_prob: 0.4305):  57%|█████▋    | 57/100 [1:36:12<1:11:04, 99.16s/it]"
          ],
          "name": "stderr"
        },
        {
          "output_type": "stream",
          "text": [
            "\u001b[37;43;4m\n",
            "[Train. Prediction] Epoch 57, step 41/96......\u001b[0m\n",
            "\u001b[33m\n",
            "id: PCXHuseKwDc_17_20.avi\n",
            "answer: ['a', 'man', 'is', 'putting', '<UNK>', 'into', 'a', 'car']\n",
            "prediction: ['a', 'man', 'is', 'pouring', 'antifreeze', 'a']\u001b[0m\n"
          ],
          "name": "stdout"
        },
        {
          "output_type": "stream",
          "text": [
            "Epoch 57, step 61/96, (Training Loss: 2.3184, samp_prob: 0.4305):  57%|█████▋    | 57/100 [1:36:33<1:11:04, 99.16s/it]"
          ],
          "name": "stderr"
        },
        {
          "output_type": "stream",
          "text": [
            "\u001b[37;43;4m\n",
            "[Train. Prediction] Epoch 57, step 61/96......\u001b[0m\n",
            "\u001b[33m\n",
            "id: qIk_Dz5XE5E_104_109.avi\n",
            "answer: ['a', 'mannequin', 'is', 'thrown', 'off', 'a', 'ledge']\n",
            "prediction: ['a', 'mannequin', 'is', 'a', 'a', 'mannequin', 'a']\u001b[0m\n"
          ],
          "name": "stdout"
        },
        {
          "output_type": "stream",
          "text": [
            "Epoch 57, step 81/96, (Training Loss: 2.2462, samp_prob: 0.4305):  57%|█████▋    | 57/100 [1:36:53<1:11:04, 99.16s/it]"
          ],
          "name": "stderr"
        },
        {
          "output_type": "stream",
          "text": [
            "\u001b[37;43;4m\n",
            "[Train. Prediction] Epoch 57, step 81/96......\u001b[0m\n",
            "\u001b[33m\n",
            "id: 25NmudB2fqg_0_7.avi\n",
            "answer: ['two', 'men', 'are', 'boxing']\n",
            "prediction: ['two', 'men', 'are', 'in', 'boxing', 'boxing']\u001b[0m\n"
          ],
          "name": "stdout"
        },
        {
          "output_type": "stream",
          "text": [
            "Epoch 57, step 95/96, (Training Loss: 2.1984, samp_prob: 0.4305):  58%|█████▊    | 58/100 [1:37:07<1:09:21, 99.09s/it]"
          ],
          "name": "stderr"
        },
        {
          "output_type": "stream",
          "text": [
            "\u001b[32;47m\n",
            "[FINISHED] Epoch 57, (Training Loss (average loss in this epoch): 2.3297, samp_prob: 0.4305)\u001b[0m\n"
          ],
          "name": "stdout"
        },
        {
          "output_type": "stream",
          "text": [
            "Epoch 58, step 1/96, (Training Loss: 2.2739, samp_prob: 0.4207):  58%|█████▊    | 58/100 [1:37:10<1:09:21, 99.09s/it]"
          ],
          "name": "stderr"
        },
        {
          "output_type": "stream",
          "text": [
            "\u001b[37;43;4m\n",
            "[Train. Prediction] Epoch 58, step 1/96......\u001b[0m\n",
            "\u001b[33m\n",
            "id: n2NLoLNecgI_168_178.avi\n",
            "answer: ['a', 'woman', 'is', 'playing', 'a', 'violin']\n",
            "prediction: ['a', 'woman', 'is', 'playing', 'a']\u001b[0m\n"
          ],
          "name": "stdout"
        },
        {
          "output_type": "stream",
          "text": [
            "Epoch 58, step 21/96, (Training Loss: 2.4037, samp_prob: 0.4207):  58%|█████▊    | 58/100 [1:37:31<1:09:21, 99.09s/it]"
          ],
          "name": "stderr"
        },
        {
          "output_type": "stream",
          "text": [
            "\u001b[37;43;4m\n",
            "[Train. Prediction] Epoch 58, step 21/96......\u001b[0m\n",
            "\u001b[33m\n",
            "id: CgWYN5e9K10_30_62.avi\n",
            "answer: ['the', 'cat', 'made', 'a', '<UNK>', '<UNK>', 'into', 'the', 'toilet']\n",
            "prediction: ['a', 'cat', 'is', 'a', 'a']\u001b[0m\n"
          ],
          "name": "stdout"
        },
        {
          "output_type": "stream",
          "text": [
            "Epoch 58, step 41/96, (Training Loss: 2.3879, samp_prob: 0.4207):  58%|█████▊    | 58/100 [1:37:51<1:09:21, 99.09s/it]"
          ],
          "name": "stderr"
        },
        {
          "output_type": "stream",
          "text": [
            "\u001b[37;43;4m\n",
            "[Train. Prediction] Epoch 58, step 41/96......\u001b[0m\n",
            "\u001b[33m\n",
            "id: f9_bP219ehQ_63_70.avi\n",
            "answer: ['the', 'man', 'spoke', 'at', 'a', 'rally']\n",
            "prediction: ['a', 'man', 'is', 'talking', 'a']\u001b[0m\n"
          ],
          "name": "stdout"
        },
        {
          "output_type": "stream",
          "text": [
            "Epoch 58, step 61/96, (Training Loss: 2.2956, samp_prob: 0.4207):  58%|█████▊    | 58/100 [1:38:12<1:09:21, 99.09s/it]"
          ],
          "name": "stderr"
        },
        {
          "output_type": "stream",
          "text": [
            "\u001b[37;43;4m\n",
            "[Train. Prediction] Epoch 58, step 61/96......\u001b[0m\n",
            "\u001b[33m\n",
            "id: 7d1d2WlEnKs_0_12.avi\n",
            "answer: ['a', 'kitten', 'gets', 'stuck', 'in', 'a', 'paper', 'tube']\n",
            "prediction: ['a', 'cat', 'is', 'into', 'a', 'out']\u001b[0m\n"
          ],
          "name": "stdout"
        },
        {
          "output_type": "stream",
          "text": [
            "Epoch 58, step 81/96, (Training Loss: 2.4540, samp_prob: 0.4207):  58%|█████▊    | 58/100 [1:38:32<1:09:21, 99.09s/it]"
          ],
          "name": "stderr"
        },
        {
          "output_type": "stream",
          "text": [
            "\u001b[37;43;4m\n",
            "[Train. Prediction] Epoch 58, step 81/96......\u001b[0m\n",
            "\u001b[33m\n",
            "id: F2Ny7rq9RKs_139_148.avi\n",
            "answer: ['a', 'person', 'adds', 'cinnamon', 'and', 'vanilla', 'extract', 'to', 'eggs']\n",
            "prediction: ['a', 'person', 'is', 'adding', 'eggs', 'eggs']\u001b[0m\n"
          ],
          "name": "stdout"
        },
        {
          "output_type": "stream",
          "text": [
            "Epoch 58, step 95/96, (Training Loss: 2.3939, samp_prob: 0.4207):  59%|█████▉    | 59/100 [1:38:46<1:07:40, 99.03s/it]"
          ],
          "name": "stderr"
        },
        {
          "output_type": "stream",
          "text": [
            "\u001b[32;47m\n",
            "[FINISHED] Epoch 58, (Training Loss (average loss in this epoch): 2.3263, samp_prob: 0.4207)\u001b[0m\n"
          ],
          "name": "stdout"
        },
        {
          "output_type": "stream",
          "text": [
            "Epoch 59, step 1/96, (Training Loss: 2.2481, samp_prob: 0.4110):  59%|█████▉    | 59/100 [1:38:49<1:07:40, 99.03s/it]"
          ],
          "name": "stderr"
        },
        {
          "output_type": "stream",
          "text": [
            "\u001b[37;43;4m\n",
            "[Train. Prediction] Epoch 59, step 1/96......\u001b[0m\n",
            "\u001b[33m\n",
            "id: e-j59PqJjSM_264_277.avi\n",
            "answer: ['the', 'man', 'is', 'cutting', 'tomatoes']\n",
            "prediction: ['a', 'man', 'is', 'slicing', 'a', 'a']\u001b[0m\n"
          ],
          "name": "stdout"
        },
        {
          "output_type": "stream",
          "text": [
            "Epoch 59, step 21/96, (Training Loss: 2.2165, samp_prob: 0.4110):  59%|█████▉    | 59/100 [1:39:09<1:07:40, 99.03s/it]"
          ],
          "name": "stderr"
        },
        {
          "output_type": "stream",
          "text": [
            "\u001b[37;43;4m\n",
            "[Train. Prediction] Epoch 59, step 21/96......\u001b[0m\n",
            "\u001b[33m\n",
            "id: 4yYapi-5QYQ_33_57.avi\n",
            "answer: ['someone', 'is', 'doing', 'a', 'card', 'trick']\n",
            "prediction: ['a', 'man', 'is', 'doing', 'card', 'card']\u001b[0m\n"
          ],
          "name": "stdout"
        },
        {
          "output_type": "stream",
          "text": [
            "Epoch 59, step 41/96, (Training Loss: 2.3708, samp_prob: 0.4110):  59%|█████▉    | 59/100 [1:39:30<1:07:40, 99.03s/it]"
          ],
          "name": "stderr"
        },
        {
          "output_type": "stream",
          "text": [
            "\u001b[37;43;4m\n",
            "[Train. Prediction] Epoch 59, step 41/96......\u001b[0m\n",
            "\u001b[33m\n",
            "id: F44bLc6t7-I_1_8.avi\n",
            "answer: ['a', 'man', 'wearing', 'a', 'chef', '<UNK>', 'is', 'serving', 'plates', 'of', 'food', 'on', 'a', 'table', 'where', 'four', 'children', 'are', 'seated']\n",
            "prediction: ['a', 'man', 'is', 'a', 'food']\u001b[0m\n"
          ],
          "name": "stdout"
        },
        {
          "output_type": "stream",
          "text": [
            "Epoch 59, step 61/96, (Training Loss: 2.2866, samp_prob: 0.4110):  59%|█████▉    | 59/100 [1:39:51<1:07:40, 99.03s/it]"
          ],
          "name": "stderr"
        },
        {
          "output_type": "stream",
          "text": [
            "\u001b[37;43;4m\n",
            "[Train. Prediction] Epoch 59, step 61/96......\u001b[0m\n",
            "\u001b[33m\n",
            "id: Ylb4pnW-jP4_102_113.avi\n",
            "answer: ['a', 'man', 'runs', 'down', 'several', 'flights', 'of', 'stairs']\n",
            "prediction: ['a', 'man', 'is', 'running', 'down', 'stairs']\u001b[0m\n"
          ],
          "name": "stdout"
        },
        {
          "output_type": "stream",
          "text": [
            "Epoch 59, step 81/96, (Training Loss: 2.2397, samp_prob: 0.4110):  59%|█████▉    | 59/100 [1:40:11<1:07:40, 99.03s/it]"
          ],
          "name": "stderr"
        },
        {
          "output_type": "stream",
          "text": [
            "\u001b[37;43;4m\n",
            "[Train. Prediction] Epoch 59, step 81/96......\u001b[0m\n",
            "\u001b[33m\n",
            "id: hW8TKz2Aea4_5_12.avi\n",
            "answer: ['a', 'person', 'holds', 'a', 'hedgehog', 'in', 'their', 'hand']\n",
            "prediction: ['a', 'person', 'holds', 'a', 'hedgehog']\u001b[0m\n"
          ],
          "name": "stdout"
        },
        {
          "output_type": "stream",
          "text": [
            "Epoch 59, step 95/96, (Training Loss: 2.3620, samp_prob: 0.4110):  60%|██████    | 60/100 [1:40:25<1:05:59, 98.98s/it]"
          ],
          "name": "stderr"
        },
        {
          "output_type": "stream",
          "text": [
            "\u001b[32;47m\n",
            "[FINISHED] Epoch 59, (Training Loss (average loss in this epoch): 2.3181, samp_prob: 0.4110)\u001b[0m\n"
          ],
          "name": "stdout"
        },
        {
          "output_type": "stream",
          "text": [
            "Epoch 60, step 1/96, (Training Loss: 2.3729, samp_prob: 0.4013):  60%|██████    | 60/100 [1:40:28<1:05:59, 98.98s/it]"
          ],
          "name": "stderr"
        },
        {
          "output_type": "stream",
          "text": [
            "\u001b[37;43;4m\n",
            "[Train. Prediction] Epoch 60, step 1/96......\u001b[0m\n",
            "\u001b[33m\n",
            "id: yNy9jTeolUk_8_12.avi\n",
            "answer: ['a', 'moose', 'drinks', 'from', 'a', 'sprinkler']\n",
            "prediction: ['a', 'moose', 'moose', 'is', 'a', 'a', 'sprinkler', 'sprinkler']\u001b[0m\n"
          ],
          "name": "stdout"
        },
        {
          "output_type": "stream",
          "text": [
            "Epoch 60, step 21/96, (Training Loss: 2.3573, samp_prob: 0.4013):  60%|██████    | 60/100 [1:40:48<1:05:59, 98.98s/it]"
          ],
          "name": "stderr"
        },
        {
          "output_type": "stream",
          "text": [
            "\u001b[37;43;4m\n",
            "[Train. Prediction] Epoch 60, step 21/96......\u001b[0m\n",
            "\u001b[33m\n",
            "id: PTxHJMM6hHE_0_15.avi\n",
            "answer: ['a', 'boy', 'is', 'playing', 'a', 'video', 'game']\n",
            "prediction: ['a', 'boy', 'is', 'playing', 'a', 'video', 'a']\u001b[0m\n"
          ],
          "name": "stdout"
        },
        {
          "output_type": "stream",
          "text": [
            "Epoch 60, step 41/96, (Training Loss: 2.3486, samp_prob: 0.4013):  60%|██████    | 60/100 [1:41:09<1:05:59, 98.98s/it]"
          ],
          "name": "stderr"
        },
        {
          "output_type": "stream",
          "text": [
            "\u001b[37;43;4m\n",
            "[Train. Prediction] Epoch 60, step 41/96......\u001b[0m\n",
            "\u001b[33m\n",
            "id: rwHT2SuNOi8_240_255.avi\n",
            "answer: ['someone', 'seasoned', 'the', 'braided', 'bacon', 'strips']\n",
            "prediction: ['a', 'person', 'is', 'seasoning']\u001b[0m\n"
          ],
          "name": "stdout"
        },
        {
          "output_type": "stream",
          "text": [
            "Epoch 60, step 61/96, (Training Loss: 2.2712, samp_prob: 0.4013):  60%|██████    | 60/100 [1:41:29<1:05:59, 98.98s/it]"
          ],
          "name": "stderr"
        },
        {
          "output_type": "stream",
          "text": [
            "\u001b[37;43;4m\n",
            "[Train. Prediction] Epoch 60, step 61/96......\u001b[0m\n",
            "\u001b[33m\n",
            "id: ACOmKiJDkA4_67_74.avi\n",
            "answer: ['the', 'lady', 'cut', 'up', 'seaweed', 'wraps']\n",
            "prediction: ['a', 'woman', 'is', 'cutting', 'with']\u001b[0m\n"
          ],
          "name": "stdout"
        },
        {
          "output_type": "stream",
          "text": [
            "Epoch 60, step 81/96, (Training Loss: 2.3984, samp_prob: 0.4013):  60%|██████    | 60/100 [1:41:50<1:05:59, 98.98s/it]"
          ],
          "name": "stderr"
        },
        {
          "output_type": "stream",
          "text": [
            "\u001b[37;43;4m\n",
            "[Train. Prediction] Epoch 60, step 81/96......\u001b[0m\n",
            "\u001b[33m\n",
            "id: lAznAeFFldg_6_10.avi\n",
            "answer: ['a', 'man', 'rides', 'a', 'bike', 'over', 'a', 'hill', 'in', 'the', 'woods']\n",
            "prediction: ['a', 'man', 'is', 'riding', 'a', 'bike']\u001b[0m\n"
          ],
          "name": "stdout"
        },
        {
          "output_type": "stream",
          "text": [
            "Epoch 60, step 95/96, (Training Loss: 2.3198, samp_prob: 0.4013):  60%|██████    | 60/100 [1:42:04<1:05:59, 98.98s/it]"
          ],
          "name": "stderr"
        },
        {
          "output_type": "stream",
          "text": [
            "\u001b[32;47m\n",
            "[FINISHED] Epoch 60, (Training Loss (average loss in this epoch): 2.3142, samp_prob: 0.4013)\u001b[0m\n",
            "\u001b[37;42;1m\n",
            "Saver saved: /content/drive/My Drive/save_modelssave_net.ckpt-5855\u001b[0m\n",
            "INFO:tensorflow:Restoring parameters from /content/drive/My Drive/save_modelssave_net.ckpt-5855\n"
          ],
          "name": "stdout"
        },
        {
          "output_type": "stream",
          "text": [
            "I0326 19:54:09.029175 140156139370368 saver.py:1292] Restoring parameters from /content/drive/My Drive/save_modelssave_net.ckpt-5855\n"
          ],
          "name": "stderr"
        },
        {
          "output_type": "stream",
          "text": [
            "\u001b[37;42;4m\n",
            "[Val. Prediction] Epoch 60, step 96/96......\u001b[0m\n",
            "\u001b[32m\n",
            "id: 8MVo7fje_oE_125_130.avi\n",
            "answer: ['the', 'man', 'is', 'covering', 'the', 'container']\n",
            "prediction: ['a', 'man', 'is', 'pouring', 'pasta', 'a', 'a', 'a']\u001b[0m\n",
            "\u001b[32m\n",
            "id: 04Gt01vatkk_308_321.avi\n",
            "answer: ['the', 'woman', 'is', 'dicing', 'a', 'jalapeno', 'pepper']\n",
            "prediction: ['a', 'man', 'is', 'a', 'a']\u001b[0m\n",
            "\u001b[32m\n",
            "id: MrQd1zUVRUM_103_110.avi\n",
            "answer: ['two', 'women', 'are', 'making', 'out']\n",
            "prediction: ['a', 'woman', 'is', 'a', 'a']\u001b[0m\n",
            "\u001b[32m\n",
            "id: 5HAf_INrFy0_3_25.avi\n",
            "answer: ['a', 'cat', 'is', 'watching', 'a', 'boxing', 'match', 'and', '<UNK>', 'it']\n",
            "prediction: ['a', 'little', 'is', 'a', 'a', 'a']\u001b[0m\n",
            "\u001b[32m\n",
            "id: N3A7944_UJw_63_70.avi\n",
            "answer: ['a', 'cook', 'stirs', 'ingredients', 'in', 'a', 'pan']\n",
            "prediction: ['a', 'woman', 'is', 'a', 'a']\u001b[0m\n",
            "\u001b[32m\n",
            "id: tcxhOGyrCtI_15_21.avi\n",
            "answer: ['a', 'cat', 'is', 'walking', 'on', 'the', 'ground']\n",
            "prediction: ['a', 'cat', 'is', 'playing', 'a', 'a']\u001b[0m\n",
            "\u001b[32m\n",
            "id: j2Dhf-xFUxU_13_20.avi\n",
            "answer: ['a', 'man', 'is', 'cutting', 'vegetables']\n",
            "prediction: ['a', 'woman', 'is', 'slicing', 'a']\u001b[0m\n",
            "\u001b[32m\n",
            "id: ecm9gf2Pgkc_1_24.avi\n",
            "answer: ['a', 'woman', 'is', 'talking', 'to', 'her', 'pet', 'bunny', 'as', 'she', '<UNK>', 'it']\n",
            "prediction: ['a', 'cat', 'is', 'is', 'a']\u001b[0m\n",
            "\n",
            "Save file: /content/drive/My Drive/output.txt\n"
          ],
          "name": "stdout"
        },
        {
          "output_type": "stream",
          "text": [
            "\rEpoch 60, step 95/96, (Training Loss: 2.3198, samp_prob: 0.4013):  61%|██████    | 61/100 [1:42:07<1:04:58, 99.96s/it]"
          ],
          "name": "stderr"
        },
        {
          "output_type": "stream",
          "text": [
            "\u001b[37;42mValidation: 100/100, done...Total Loss: 3.7940\u001b[0m\n"
          ],
          "name": "stdout"
        },
        {
          "output_type": "stream",
          "text": [
            "Epoch 61, step 1/96, (Training Loss: 2.3016, samp_prob: 0.3917):  61%|██████    | 61/100 [1:42:10<1:04:58, 99.96s/it]"
          ],
          "name": "stderr"
        },
        {
          "output_type": "stream",
          "text": [
            "\u001b[37;43;4m\n",
            "[Train. Prediction] Epoch 61, step 1/96......\u001b[0m\n",
            "\u001b[33m\n",
            "id: Sq7Vt6KC9Yg_17_35.avi\n",
            "answer: ['a', 'cook', 'is', 'putting', 'some', 'ingredients', 'in', 'a', 'blender']\n",
            "prediction: ['a', 'is', 'is', 'being', 'a']\u001b[0m\n"
          ],
          "name": "stdout"
        },
        {
          "output_type": "stream",
          "text": [
            "Epoch 61, step 21/96, (Training Loss: 2.3606, samp_prob: 0.3917):  61%|██████    | 61/100 [1:42:31<1:04:58, 99.96s/it]"
          ],
          "name": "stderr"
        },
        {
          "output_type": "stream",
          "text": [
            "\u001b[37;43;4m\n",
            "[Train. Prediction] Epoch 61, step 21/96......\u001b[0m\n",
            "\u001b[33m\n",
            "id: VahnQw2gTQY_298_305.avi\n",
            "answer: ['a', 'woman', 'is', 'cutting', 'a', 'pepper']\n",
            "prediction: ['a', 'person', 'slicing', 'a', 'pepper', 'pepper']\u001b[0m\n"
          ],
          "name": "stdout"
        },
        {
          "output_type": "stream",
          "text": [
            "Epoch 61, step 41/96, (Training Loss: 2.3187, samp_prob: 0.3917):  61%|██████    | 61/100 [1:42:51<1:04:58, 99.96s/it]"
          ],
          "name": "stderr"
        },
        {
          "output_type": "stream",
          "text": [
            "\u001b[37;43;4m\n",
            "[Train. Prediction] Epoch 61, step 41/96......\u001b[0m\n",
            "\u001b[33m\n",
            "id: k-SWy-sU8cE_5_10.avi\n",
            "answer: ['the', 'man', 'played', 'his', 'guitar']\n",
            "prediction: ['a', 'man', 'is', 'playing', 'a', 'guitar']\u001b[0m\n"
          ],
          "name": "stdout"
        },
        {
          "output_type": "stream",
          "text": [
            "Epoch 61, step 61/96, (Training Loss: 2.2760, samp_prob: 0.3917):  61%|██████    | 61/100 [1:43:12<1:04:58, 99.96s/it]"
          ],
          "name": "stderr"
        },
        {
          "output_type": "stream",
          "text": [
            "\u001b[37;43;4m\n",
            "[Train. Prediction] Epoch 61, step 61/96......\u001b[0m\n",
            "\u001b[33m\n",
            "id: PeUHy0A1GF0_105_112.avi\n",
            "answer: ['the', 'woman', 'is', 'slicing', 'cooked', 'octopus']\n",
            "prediction: ['a', 'is', 'is', 'up']\u001b[0m\n"
          ],
          "name": "stdout"
        },
        {
          "output_type": "stream",
          "text": [
            "Epoch 61, step 81/96, (Training Loss: 2.3835, samp_prob: 0.3917):  61%|██████    | 61/100 [1:43:33<1:04:58, 99.96s/it]"
          ],
          "name": "stderr"
        },
        {
          "output_type": "stream",
          "text": [
            "\u001b[37;43;4m\n",
            "[Train. Prediction] Epoch 61, step 81/96......\u001b[0m\n",
            "\u001b[33m\n",
            "id: ePujnD4qJO0_62_77.avi\n",
            "answer: ['the', 'lady', 'walked', 'down', 'the', 'street']\n",
            "prediction: ['a', 'woman', 'is', 'walking', 'the', 'the']\u001b[0m\n"
          ],
          "name": "stdout"
        },
        {
          "output_type": "stream",
          "text": [
            "Epoch 61, step 95/96, (Training Loss: 2.3379, samp_prob: 0.3917):  62%|██████▏   | 62/100 [1:43:47<1:03:09, 99.71s/it]"
          ],
          "name": "stderr"
        },
        {
          "output_type": "stream",
          "text": [
            "\u001b[32;47m\n",
            "[FINISHED] Epoch 61, (Training Loss (average loss in this epoch): 2.3085, samp_prob: 0.3917)\u001b[0m\n"
          ],
          "name": "stdout"
        },
        {
          "output_type": "stream",
          "text": [
            "Epoch 62, step 1/96, (Training Loss: 2.3832, samp_prob: 0.3823):  62%|██████▏   | 62/100 [1:43:49<1:03:09, 99.71s/it]"
          ],
          "name": "stderr"
        },
        {
          "output_type": "stream",
          "text": [
            "\u001b[37;43;4m\n",
            "[Train. Prediction] Epoch 62, step 1/96......\u001b[0m\n",
            "\u001b[33m\n",
            "id: IBgsLmDcL78_80_84.avi\n",
            "answer: ['a', 'man', 'is', 'slicing', 'some', 'butter', 'pieces', 'and', 'putting', 'it', 'into', 'a', 'steel', 'bowl']\n",
            "prediction: ['a', 'man', 'is', 'slicing', 'butter', 'butter', 'a', 'bowl']\u001b[0m\n"
          ],
          "name": "stdout"
        },
        {
          "output_type": "stream",
          "text": [
            "Epoch 62, step 21/96, (Training Loss: 2.3367, samp_prob: 0.3823):  62%|██████▏   | 62/100 [1:44:10<1:03:09, 99.71s/it]"
          ],
          "name": "stderr"
        },
        {
          "output_type": "stream",
          "text": [
            "\u001b[37;43;4m\n",
            "[Train. Prediction] Epoch 62, step 21/96......\u001b[0m\n",
            "\u001b[33m\n",
            "id: 3ytUOoa1SBE_12_23.avi\n",
            "answer: ['a', 'group', 'of', 'male', 'and', 'female', 'dancers', 'are', 'performing', 'on', 'stage']\n",
            "prediction: ['people', 'people', 'are', 'dancing']\u001b[0m\n"
          ],
          "name": "stdout"
        },
        {
          "output_type": "stream",
          "text": [
            "Epoch 62, step 41/96, (Training Loss: 2.2493, samp_prob: 0.3823):  62%|██████▏   | 62/100 [1:44:30<1:03:09, 99.71s/it]"
          ],
          "name": "stderr"
        },
        {
          "output_type": "stream",
          "text": [
            "\u001b[37;43;4m\n",
            "[Train. Prediction] Epoch 62, step 41/96......\u001b[0m\n",
            "\u001b[33m\n",
            "id: -_hbPLsZvvo_172_179.avi\n",
            "answer: ['a', 'person', 'is', 'mixing', 'ingredients', 'in', 'a', 'bowl']\n",
            "prediction: ['a', 'woman', 'is', 'adding', 'ingredients', 'ingredients', 'a', 'bowl']\u001b[0m\n"
          ],
          "name": "stdout"
        },
        {
          "output_type": "stream",
          "text": [
            "Epoch 62, step 61/96, (Training Loss: 2.4036, samp_prob: 0.3823):  62%|██████▏   | 62/100 [1:44:51<1:03:09, 99.71s/it]"
          ],
          "name": "stderr"
        },
        {
          "output_type": "stream",
          "text": [
            "\u001b[37;43;4m\n",
            "[Train. Prediction] Epoch 62, step 61/96......\u001b[0m\n",
            "\u001b[33m\n",
            "id: 3lBHYoI5V8s_30_45.avi\n",
            "answer: ['a', 'piece', 'of', 'burrata', 'cheese', 'is', 'cut', 'with', 'a', 'knife']\n",
            "prediction: ['a', 'is', 'is', 'cheese']\u001b[0m\n"
          ],
          "name": "stdout"
        },
        {
          "output_type": "stream",
          "text": [
            "Epoch 62, step 81/96, (Training Loss: 2.3822, samp_prob: 0.3823):  62%|██████▏   | 62/100 [1:45:11<1:03:09, 99.71s/it]"
          ],
          "name": "stderr"
        },
        {
          "output_type": "stream",
          "text": [
            "\u001b[37;43;4m\n",
            "[Train. Prediction] Epoch 62, step 81/96......\u001b[0m\n",
            "\u001b[33m\n",
            "id: p69d3UBdpR8_98_109.avi\n",
            "answer: ['a', 'girl', 'puts', 'on', 'makeup']\n",
            "prediction: ['a', 'girl', 'is', 'applying', 'eyeliner']\u001b[0m\n"
          ],
          "name": "stdout"
        },
        {
          "output_type": "stream",
          "text": [
            "Epoch 62, step 95/96, (Training Loss: 2.3291, samp_prob: 0.3823):  63%|██████▎   | 63/100 [1:45:25<1:01:19, 99.44s/it]"
          ],
          "name": "stderr"
        },
        {
          "output_type": "stream",
          "text": [
            "\u001b[32;47m\n",
            "[FINISHED] Epoch 62, (Training Loss (average loss in this epoch): 2.2980, samp_prob: 0.3823)\u001b[0m\n"
          ],
          "name": "stdout"
        },
        {
          "output_type": "stream",
          "text": [
            "Epoch 63, step 1/96, (Training Loss: 2.2866, samp_prob: 0.3729):  63%|██████▎   | 63/100 [1:45:28<1:01:19, 99.44s/it]"
          ],
          "name": "stderr"
        },
        {
          "output_type": "stream",
          "text": [
            "\u001b[37;43;4m\n",
            "[Train. Prediction] Epoch 63, step 1/96......\u001b[0m\n",
            "\u001b[33m\n",
            "id: FxIuFwMhOu8_18_26.avi\n",
            "answer: ['the', 'cat', 'did', 'a', 'somersault', 'on', 'the', 'carpet']\n",
            "prediction: ['a', 'cat', 'cat', 'a', 'on']\u001b[0m\n"
          ],
          "name": "stdout"
        },
        {
          "output_type": "stream",
          "text": [
            "Epoch 63, step 21/96, (Training Loss: 2.3633, samp_prob: 0.3729):  63%|██████▎   | 63/100 [1:45:48<1:01:19, 99.44s/it]"
          ],
          "name": "stderr"
        },
        {
          "output_type": "stream",
          "text": [
            "\u001b[37;43;4m\n",
            "[Train. Prediction] Epoch 63, step 21/96......\u001b[0m\n",
            "\u001b[33m\n",
            "id: q8t7iSGAKik_11_31.avi\n",
            "answer: ['a', 'man', 'is', 'kicking', 'a', 'soccer', 'ball']\n",
            "prediction: ['a', 'man', 'is', 'kicking', 'with', 'a', 'soccer']\u001b[0m\n"
          ],
          "name": "stdout"
        },
        {
          "output_type": "stream",
          "text": [
            "Epoch 63, step 41/96, (Training Loss: 2.2321, samp_prob: 0.3729):  63%|██████▎   | 63/100 [1:46:09<1:01:19, 99.44s/it]"
          ],
          "name": "stderr"
        },
        {
          "output_type": "stream",
          "text": [
            "\u001b[37;43;4m\n",
            "[Train. Prediction] Epoch 63, step 41/96......\u001b[0m\n",
            "\u001b[33m\n",
            "id: _7nP9z6T9m8_11_17.avi\n",
            "answer: ['a', 'man', 'crashes', 'into', 'a', 'sign']\n",
            "prediction: ['a', 'man', 'riding', 'a', 'bike', 'sign']\u001b[0m\n"
          ],
          "name": "stdout"
        },
        {
          "output_type": "stream",
          "text": [
            "Epoch 63, step 61/96, (Training Loss: 2.4430, samp_prob: 0.3729):  63%|██████▎   | 63/100 [1:46:30<1:01:19, 99.44s/it]"
          ],
          "name": "stderr"
        },
        {
          "output_type": "stream",
          "text": [
            "\u001b[37;43;4m\n",
            "[Train. Prediction] Epoch 63, step 61/96......\u001b[0m\n",
            "\u001b[33m\n",
            "id: Li3umATsU0E_1_5.avi\n",
            "answer: ['a', 'cat', 'stares', 'into', 'the', 'camera']\n",
            "prediction: ['a', 'cat', 'is', 'meowing']\u001b[0m\n"
          ],
          "name": "stdout"
        },
        {
          "output_type": "stream",
          "text": [
            "Epoch 63, step 81/96, (Training Loss: 2.2250, samp_prob: 0.3729):  63%|██████▎   | 63/100 [1:46:50<1:01:19, 99.44s/it]"
          ],
          "name": "stderr"
        },
        {
          "output_type": "stream",
          "text": [
            "\u001b[37;43;4m\n",
            "[Train. Prediction] Epoch 63, step 81/96......\u001b[0m\n",
            "\u001b[33m\n",
            "id: ogcqFaNbah4_475_487.avi\n",
            "answer: ['numerous', 'people', 'are', 'dancing', 'on', 'a', 'stage']\n",
            "prediction: ['a', 'are', 'of', 'dancing']\u001b[0m\n"
          ],
          "name": "stdout"
        },
        {
          "output_type": "stream",
          "text": [
            "Epoch 63, step 95/96, (Training Loss: 2.2336, samp_prob: 0.3729):  64%|██████▍   | 64/100 [1:47:04<59:35, 99.32s/it]  "
          ],
          "name": "stderr"
        },
        {
          "output_type": "stream",
          "text": [
            "\u001b[32;47m\n",
            "[FINISHED] Epoch 63, (Training Loss (average loss in this epoch): 2.2945, samp_prob: 0.3729)\u001b[0m\n"
          ],
          "name": "stdout"
        },
        {
          "output_type": "stream",
          "text": [
            "Epoch 64, step 1/96, (Training Loss: 2.4058, samp_prob: 0.3635):  64%|██████▍   | 64/100 [1:47:07<59:35, 99.32s/it]"
          ],
          "name": "stderr"
        },
        {
          "output_type": "stream",
          "text": [
            "\u001b[37;43;4m\n",
            "[Train. Prediction] Epoch 64, step 1/96......\u001b[0m\n",
            "\u001b[33m\n",
            "id: 4QdX5Q3qQsQ_6_14.avi\n",
            "answer: ['the', 'man', 'was', 'thinking', 'about', 'something']\n",
            "prediction: ['a', 'man', 'is', 'thinking']\u001b[0m\n"
          ],
          "name": "stdout"
        },
        {
          "output_type": "stream",
          "text": [
            "Epoch 64, step 21/96, (Training Loss: 2.1893, samp_prob: 0.3635):  64%|██████▍   | 64/100 [1:47:28<59:35, 99.32s/it]"
          ],
          "name": "stderr"
        },
        {
          "output_type": "stream",
          "text": [
            "\u001b[37;43;4m\n",
            "[Train. Prediction] Epoch 64, step 21/96......\u001b[0m\n",
            "\u001b[33m\n",
            "id: a28s_wyqkyc_68_77.avi\n",
            "answer: ['a', 'man', 'runs', 'down', 'a', 'road']\n",
            "prediction: ['a', 'man', 'is', 'running']\u001b[0m\n"
          ],
          "name": "stdout"
        },
        {
          "output_type": "stream",
          "text": [
            "Epoch 64, step 41/96, (Training Loss: 2.2830, samp_prob: 0.3635):  64%|██████▍   | 64/100 [1:47:48<59:35, 99.32s/it]"
          ],
          "name": "stderr"
        },
        {
          "output_type": "stream",
          "text": [
            "\u001b[37;43;4m\n",
            "[Train. Prediction] Epoch 64, step 41/96......\u001b[0m\n",
            "\u001b[33m\n",
            "id: yyxtyCaEVqk_329_360.avi\n",
            "answer: ['a', 'man', 'is', 'putting', 'seasonings', 'on', 'sliced', 'carrots']\n",
            "prediction: ['a', 'man', 'is', 'a', 'carrots', 'over']\u001b[0m\n"
          ],
          "name": "stdout"
        },
        {
          "output_type": "stream",
          "text": [
            "Epoch 64, step 61/96, (Training Loss: 2.3158, samp_prob: 0.3635):  64%|██████▍   | 64/100 [1:48:09<59:35, 99.32s/it]"
          ],
          "name": "stderr"
        },
        {
          "output_type": "stream",
          "text": [
            "\u001b[37;43;4m\n",
            "[Train. Prediction] Epoch 64, step 61/96......\u001b[0m\n",
            "\u001b[33m\n",
            "id: 2jXxtQRy47A_30_38.avi\n",
            "answer: ['the', 'wolves', '<UNK>', 'the', 'bear']\n",
            "prediction: ['a', 'wolves', 'is', 'a', 'bear']\u001b[0m\n"
          ],
          "name": "stdout"
        },
        {
          "output_type": "stream",
          "text": [
            "Epoch 64, step 81/96, (Training Loss: 2.3464, samp_prob: 0.3635):  64%|██████▍   | 64/100 [1:48:30<59:35, 99.32s/it]"
          ],
          "name": "stderr"
        },
        {
          "output_type": "stream",
          "text": [
            "\u001b[37;43;4m\n",
            "[Train. Prediction] Epoch 64, step 81/96......\u001b[0m\n",
            "\u001b[33m\n",
            "id: WV9K6MbLjHA_106_116.avi\n",
            "answer: ['the', 'rider', 'trotted', 'on', 'the', 'horse', 'across', 'the', 'field']\n",
            "prediction: ['a', 'woman', 'is', 'riding', 'a', 'horse']\u001b[0m\n"
          ],
          "name": "stdout"
        },
        {
          "output_type": "stream",
          "text": [
            "Epoch 64, step 95/96, (Training Loss: 2.3419, samp_prob: 0.3635):  65%|██████▌   | 65/100 [1:48:44<57:55, 99.30s/it]"
          ],
          "name": "stderr"
        },
        {
          "output_type": "stream",
          "text": [
            "\u001b[32;47m\n",
            "[FINISHED] Epoch 64, (Training Loss (average loss in this epoch): 2.2918, samp_prob: 0.3635)\u001b[0m\n"
          ],
          "name": "stdout"
        },
        {
          "output_type": "stream",
          "text": [
            "Epoch 65, step 1/96, (Training Loss: 2.2480, samp_prob: 0.3543):  65%|██████▌   | 65/100 [1:48:46<57:55, 99.30s/it]"
          ],
          "name": "stderr"
        },
        {
          "output_type": "stream",
          "text": [
            "\u001b[37;43;4m\n",
            "[Train. Prediction] Epoch 65, step 1/96......\u001b[0m\n",
            "\u001b[33m\n",
            "id: _9iG5Ge01PM_3_11.avi\n",
            "answer: ['a', 'kitten', 'starts', 'to', 'fall', 'asleep']\n",
            "prediction: ['a', 'kitten', 'is', 'asleep', 'asleep', 'asleep']\u001b[0m\n"
          ],
          "name": "stdout"
        },
        {
          "output_type": "stream",
          "text": [
            "Epoch 65, step 21/96, (Training Loss: 2.2970, samp_prob: 0.3543):  65%|██████▌   | 65/100 [1:49:07<57:55, 99.30s/it]"
          ],
          "name": "stderr"
        },
        {
          "output_type": "stream",
          "text": [
            "\u001b[37;43;4m\n",
            "[Train. Prediction] Epoch 65, step 21/96......\u001b[0m\n",
            "\u001b[33m\n",
            "id: 05gNigkqfNU_25_34.avi\n",
            "answer: ['a', 'person', 'is', 'chopping', 'potatoes']\n",
            "prediction: ['a', 'is', 'is', 'chopping', 'potatoes']\u001b[0m\n"
          ],
          "name": "stdout"
        },
        {
          "output_type": "stream",
          "text": [
            "Epoch 65, step 41/96, (Training Loss: 2.1709, samp_prob: 0.3543):  65%|██████▌   | 65/100 [1:49:27<57:55, 99.30s/it]"
          ],
          "name": "stderr"
        },
        {
          "output_type": "stream",
          "text": [
            "\u001b[37;43;4m\n",
            "[Train. Prediction] Epoch 65, step 41/96......\u001b[0m\n",
            "\u001b[33m\n",
            "id: CcvJs77L-e8_15_22.avi\n",
            "answer: ['three', 'people', 'are', 'carrying', 'heavy', '<UNK>', '<UNK>', 'as', 'they', 'are', 'walking', 'in', 'the', 'grass']\n",
            "prediction: ['people', 'are', 'are', 'carrying', 'bags']\u001b[0m\n"
          ],
          "name": "stdout"
        },
        {
          "output_type": "stream",
          "text": [
            "Epoch 65, step 61/96, (Training Loss: 2.2256, samp_prob: 0.3543):  65%|██████▌   | 65/100 [1:49:48<57:55, 99.30s/it]"
          ],
          "name": "stderr"
        },
        {
          "output_type": "stream",
          "text": [
            "\u001b[37;43;4m\n",
            "[Train. Prediction] Epoch 65, step 61/96......\u001b[0m\n",
            "\u001b[33m\n",
            "id: _txL575S_OA_13_23.avi\n",
            "answer: ['zebras', 'are', '<UNK>']\n",
            "prediction: ['zebras', 'zebras', 'are', 'in']\u001b[0m\n"
          ],
          "name": "stdout"
        },
        {
          "output_type": "stream",
          "text": [
            "Epoch 65, step 81/96, (Training Loss: 2.3041, samp_prob: 0.3543):  65%|██████▌   | 65/100 [1:50:09<57:55, 99.30s/it]"
          ],
          "name": "stderr"
        },
        {
          "output_type": "stream",
          "text": [
            "\u001b[37;43;4m\n",
            "[Train. Prediction] Epoch 65, step 81/96......\u001b[0m\n",
            "\u001b[33m\n",
            "id: -wa0umYJVGg_117_123.avi\n",
            "answer: ['a', 'woman', 'is', 'peeling', 'the', 'shell', 'off', 'of', 'an', 'egg']\n",
            "prediction: ['a', 'woman', 'is', 'an', 'eggs', 'eggs']\u001b[0m\n"
          ],
          "name": "stdout"
        },
        {
          "output_type": "stream",
          "text": [
            "Epoch 65, step 95/96, (Training Loss: 2.2157, samp_prob: 0.3543):  66%|██████▌   | 66/100 [1:50:23<56:17, 99.33s/it]"
          ],
          "name": "stderr"
        },
        {
          "output_type": "stream",
          "text": [
            "\u001b[32;47m\n",
            "[FINISHED] Epoch 65, (Training Loss (average loss in this epoch): 2.2859, samp_prob: 0.3543)\u001b[0m\n"
          ],
          "name": "stdout"
        },
        {
          "output_type": "stream",
          "text": [
            "Epoch 66, step 1/96, (Training Loss: 2.3148, samp_prob: 0.3452):  66%|██████▌   | 66/100 [1:50:26<56:17, 99.33s/it]"
          ],
          "name": "stderr"
        },
        {
          "output_type": "stream",
          "text": [
            "\u001b[37;43;4m\n",
            "[Train. Prediction] Epoch 66, step 1/96......\u001b[0m\n",
            "\u001b[33m\n",
            "id: 6eokrw6_bjU_1_9.avi\n",
            "answer: ['a', 'woman', 'is', 'shooting', 'a', 'gun']\n",
            "prediction: ['a', 'woman', 'is', 'shooting', 'a', 'an']\u001b[0m\n"
          ],
          "name": "stdout"
        },
        {
          "output_type": "stream",
          "text": [
            "Epoch 66, step 21/96, (Training Loss: 2.3232, samp_prob: 0.3452):  66%|██████▌   | 66/100 [1:50:46<56:17, 99.33s/it]"
          ],
          "name": "stderr"
        },
        {
          "output_type": "stream",
          "text": [
            "\u001b[37;43;4m\n",
            "[Train. Prediction] Epoch 66, step 21/96......\u001b[0m\n",
            "\u001b[33m\n",
            "id: 0piwbTivpDg_10_40.avi\n",
            "answer: ['a', 'man', 'shows', 'how', 'to', 'style', 'a', 'mohawk']\n",
            "prediction: ['a', 'man', 'is', 'combing', 'hair', 'hair', 'hair']\u001b[0m\n"
          ],
          "name": "stdout"
        },
        {
          "output_type": "stream",
          "text": [
            "Epoch 66, step 41/96, (Training Loss: 2.1995, samp_prob: 0.3452):  66%|██████▌   | 66/100 [1:51:07<56:17, 99.33s/it]"
          ],
          "name": "stderr"
        },
        {
          "output_type": "stream",
          "text": [
            "\u001b[37;43;4m\n",
            "[Train. Prediction] Epoch 66, step 41/96......\u001b[0m\n",
            "\u001b[33m\n",
            "id: eroAmLZ85DI_28_35.avi\n",
            "answer: ['someone', 'is', 'sharpening', 'a', 'pencil', 'with', 'a', 'knife']\n",
            "prediction: ['a', 'person', 'is', 'sharpening', 'a', 'pencil']\u001b[0m\n"
          ],
          "name": "stdout"
        },
        {
          "output_type": "stream",
          "text": [
            "Epoch 66, step 61/96, (Training Loss: 2.2489, samp_prob: 0.3452):  66%|██████▌   | 66/100 [1:51:28<56:17, 99.33s/it]"
          ],
          "name": "stderr"
        },
        {
          "output_type": "stream",
          "text": [
            "\u001b[37;43;4m\n",
            "[Train. Prediction] Epoch 66, step 61/96......\u001b[0m\n",
            "\u001b[33m\n",
            "id: LwicaralvS0_90_104.avi\n",
            "answer: ['a', 'man', 'is', 'pouring', 'sugar', 'into', 'his', 'coffee']\n",
            "prediction: ['a', 'man', 'is', 'pouring', 'coffee', 'coffee']\u001b[0m\n"
          ],
          "name": "stdout"
        },
        {
          "output_type": "stream",
          "text": [
            "Epoch 66, step 81/96, (Training Loss: 2.2003, samp_prob: 0.3452):  66%|██████▌   | 66/100 [1:51:48<56:17, 99.33s/it]"
          ],
          "name": "stderr"
        },
        {
          "output_type": "stream",
          "text": [
            "\u001b[37;43;4m\n",
            "[Train. Prediction] Epoch 66, step 81/96......\u001b[0m\n",
            "\u001b[33m\n",
            "id: 4QYPZM01xFE_14_26.avi\n",
            "answer: ['a', 'person', 'peels', 'an', 'onion']\n",
            "prediction: ['a', 'person', 'peeling', 'an', 'onion']\u001b[0m\n"
          ],
          "name": "stdout"
        },
        {
          "output_type": "stream",
          "text": [
            "Epoch 66, step 95/96, (Training Loss: 2.5137, samp_prob: 0.3452):  67%|██████▋   | 67/100 [1:52:02<54:37, 99.31s/it]"
          ],
          "name": "stderr"
        },
        {
          "output_type": "stream",
          "text": [
            "\u001b[32;47m\n",
            "[FINISHED] Epoch 66, (Training Loss (average loss in this epoch): 2.2805, samp_prob: 0.3452)\u001b[0m\n"
          ],
          "name": "stdout"
        },
        {
          "output_type": "stream",
          "text": [
            "Epoch 67, step 1/96, (Training Loss: 2.2678, samp_prob: 0.3363):  67%|██████▋   | 67/100 [1:52:05<54:37, 99.31s/it]"
          ],
          "name": "stderr"
        },
        {
          "output_type": "stream",
          "text": [
            "\u001b[37;43;4m\n",
            "[Train. Prediction] Epoch 67, step 1/96......\u001b[0m\n",
            "\u001b[33m\n",
            "id: PAN5IVvMlVc_17_23.avi\n",
            "answer: ['two', 'young', 'women', 'are', 'dancing', 'in', 'the', 'bedroom']\n",
            "prediction: ['two', 'girls', 'are', 'dancing']\u001b[0m\n"
          ],
          "name": "stdout"
        },
        {
          "output_type": "stream",
          "text": [
            "Epoch 67, step 21/96, (Training Loss: 2.1744, samp_prob: 0.3363):  67%|██████▋   | 67/100 [1:52:26<54:37, 99.31s/it]"
          ],
          "name": "stderr"
        },
        {
          "output_type": "stream",
          "text": [
            "\u001b[37;43;4m\n",
            "[Train. Prediction] Epoch 67, step 21/96......\u001b[0m\n",
            "\u001b[33m\n",
            "id: ZvJvNcukZ4w_0_10.avi\n",
            "answer: ['two', 'dogs', 'are', 'fighting', 'each', 'other']\n",
            "prediction: ['a', 'fox', 'is', 'fox', 'fox']\u001b[0m\n"
          ],
          "name": "stdout"
        },
        {
          "output_type": "stream",
          "text": [
            "Epoch 67, step 41/96, (Training Loss: 2.3216, samp_prob: 0.3363):  67%|██████▋   | 67/100 [1:52:46<54:37, 99.31s/it]"
          ],
          "name": "stderr"
        },
        {
          "output_type": "stream",
          "text": [
            "\u001b[37;43;4m\n",
            "[Train. Prediction] Epoch 67, step 41/96......\u001b[0m\n",
            "\u001b[33m\n",
            "id: 0hyZ__3YhZc_279_283.avi\n",
            "answer: ['a', 'man', 'pours', 'oil', 'into', 'a', 'pot']\n",
            "prediction: ['a', 'person', 'pours', 'pouring', 'into', 'into', 'pot']\u001b[0m\n"
          ],
          "name": "stdout"
        },
        {
          "output_type": "stream",
          "text": [
            "Epoch 67, step 61/96, (Training Loss: 2.2889, samp_prob: 0.3363):  67%|██████▋   | 67/100 [1:53:07<54:37, 99.31s/it]"
          ],
          "name": "stderr"
        },
        {
          "output_type": "stream",
          "text": [
            "\u001b[37;43;4m\n",
            "[Train. Prediction] Epoch 67, step 61/96......\u001b[0m\n",
            "\u001b[33m\n",
            "id: WTf5EgVY5uU_18_23.avi\n",
            "answer: ['a', 'chef', 'slices', 'a', 'piece', 'of', 'chicken']\n",
            "prediction: ['a', 'woman', 'is', 'cutting', 'meat']\u001b[0m\n"
          ],
          "name": "stdout"
        },
        {
          "output_type": "stream",
          "text": [
            "Epoch 67, step 81/96, (Training Loss: 2.2629, samp_prob: 0.3363):  67%|██████▋   | 67/100 [1:53:27<54:37, 99.31s/it]"
          ],
          "name": "stderr"
        },
        {
          "output_type": "stream",
          "text": [
            "\u001b[37;43;4m\n",
            "[Train. Prediction] Epoch 67, step 81/96......\u001b[0m\n",
            "\u001b[33m\n",
            "id: EjAoBKagWQA_132_145.avi\n",
            "answer: ['two', 'robots', 'kiss']\n",
            "prediction: ['two', 'robots', 'are', 'kissing', 'kissing', 'kissing', 'kissing']\u001b[0m\n"
          ],
          "name": "stdout"
        },
        {
          "output_type": "stream",
          "text": [
            "Epoch 67, step 95/96, (Training Loss: 2.2106, samp_prob: 0.3363):  68%|██████▊   | 68/100 [1:53:42<52:57, 99.29s/it]"
          ],
          "name": "stderr"
        },
        {
          "output_type": "stream",
          "text": [
            "\u001b[32;47m\n",
            "[FINISHED] Epoch 67, (Training Loss (average loss in this epoch): 2.2754, samp_prob: 0.3363)\u001b[0m\n"
          ],
          "name": "stdout"
        },
        {
          "output_type": "stream",
          "text": [
            "Epoch 68, step 1/96, (Training Loss: 2.3745, samp_prob: 0.3274):  68%|██████▊   | 68/100 [1:53:44<52:57, 99.29s/it]"
          ],
          "name": "stderr"
        },
        {
          "output_type": "stream",
          "text": [
            "\u001b[37;43;4m\n",
            "[Train. Prediction] Epoch 68, step 1/96......\u001b[0m\n",
            "\u001b[33m\n",
            "id: NaX51emUDn4_0_20.avi\n",
            "answer: ['a', 'cat', 'is', 'attempting', 'to', 'drink', 'water']\n",
            "prediction: ['a', 'cat', 'is', 'water', 'water', 'water', 'water']\u001b[0m\n"
          ],
          "name": "stdout"
        },
        {
          "output_type": "stream",
          "text": [
            "Epoch 68, step 21/96, (Training Loss: 2.2168, samp_prob: 0.3274):  68%|██████▊   | 68/100 [1:54:05<52:57, 99.29s/it]"
          ],
          "name": "stderr"
        },
        {
          "output_type": "stream",
          "text": [
            "\u001b[37;43;4m\n",
            "[Train. Prediction] Epoch 68, step 21/96......\u001b[0m\n",
            "\u001b[33m\n",
            "id: WqwcWk1In_g_46_54.avi\n",
            "answer: ['a', 'cow', 'is', 'eating', 'grass']\n",
            "prediction: ['a', 'cow', 'is', 'eating']\u001b[0m\n"
          ],
          "name": "stdout"
        },
        {
          "output_type": "stream",
          "text": [
            "Epoch 68, step 41/96, (Training Loss: 2.1011, samp_prob: 0.3274):  68%|██████▊   | 68/100 [1:54:25<52:57, 99.29s/it]"
          ],
          "name": "stderr"
        },
        {
          "output_type": "stream",
          "text": [
            "\u001b[37;43;4m\n",
            "[Train. Prediction] Epoch 68, step 41/96......\u001b[0m\n",
            "\u001b[33m\n",
            "id: KPPCwmU5OHQ_227_238.avi\n",
            "answer: ['the', 'man', 'is', 'pouring', 'broth', 'into', 'the', 'pot']\n",
            "prediction: ['someone', 'is', 'is', 'broth', 'into', 'a', 'pot']\u001b[0m\n"
          ],
          "name": "stdout"
        },
        {
          "output_type": "stream",
          "text": [
            "Epoch 68, step 61/96, (Training Loss: 2.3603, samp_prob: 0.3274):  68%|██████▊   | 68/100 [1:54:46<52:57, 99.29s/it]"
          ],
          "name": "stderr"
        },
        {
          "output_type": "stream",
          "text": [
            "\u001b[37;43;4m\n",
            "[Train. Prediction] Epoch 68, step 61/96......\u001b[0m\n",
            "\u001b[33m\n",
            "id: 8PQiaurIiDM_173_180.avi\n",
            "answer: ['a', 'person', 'is', 'slicing', 'meat', 'with', 'a', 'sword']\n",
            "prediction: ['a', 'man', 'is', 'a', 'a', 'a', 'a', 'meat']\u001b[0m\n"
          ],
          "name": "stdout"
        },
        {
          "output_type": "stream",
          "text": [
            "Epoch 68, step 81/96, (Training Loss: 2.2578, samp_prob: 0.3274):  68%|██████▊   | 68/100 [1:55:07<52:57, 99.29s/it]"
          ],
          "name": "stderr"
        },
        {
          "output_type": "stream",
          "text": [
            "\u001b[37;43;4m\n",
            "[Train. Prediction] Epoch 68, step 81/96......\u001b[0m\n",
            "\u001b[33m\n",
            "id: 0lh_UWF9ZP4_178_182.avi\n",
            "answer: ['someone', 'is', 'slicing', 'shrimp']\n",
            "prediction: ['a', 'woman', 'is', 'shrimp']\u001b[0m\n"
          ],
          "name": "stdout"
        },
        {
          "output_type": "stream",
          "text": [
            "Epoch 68, step 95/96, (Training Loss: 2.1983, samp_prob: 0.3274):  69%|██████▉   | 69/100 [1:55:21<51:19, 99.33s/it]"
          ],
          "name": "stderr"
        },
        {
          "output_type": "stream",
          "text": [
            "\u001b[32;47m\n",
            "[FINISHED] Epoch 68, (Training Loss (average loss in this epoch): 2.2700, samp_prob: 0.3274)\u001b[0m\n"
          ],
          "name": "stdout"
        },
        {
          "output_type": "stream",
          "text": [
            "Epoch 69, step 1/96, (Training Loss: 2.2004, samp_prob: 0.3186):  69%|██████▉   | 69/100 [1:55:24<51:19, 99.33s/it]"
          ],
          "name": "stderr"
        },
        {
          "output_type": "stream",
          "text": [
            "\u001b[37;43;4m\n",
            "[Train. Prediction] Epoch 69, step 1/96......\u001b[0m\n",
            "\u001b[33m\n",
            "id: Ylb4pnW-jP4_102_113.avi\n",
            "answer: ['a', 'man', 'is', '<UNK>', 'running', 'down', 'a', 'staircase']\n",
            "prediction: ['a', 'man', 'is', 'running', 'down', 'down', 'stairs']\u001b[0m\n"
          ],
          "name": "stdout"
        },
        {
          "output_type": "stream",
          "text": [
            "Epoch 69, step 21/96, (Training Loss: 2.2887, samp_prob: 0.3186):  69%|██████▉   | 69/100 [1:55:44<51:19, 99.33s/it]"
          ],
          "name": "stderr"
        },
        {
          "output_type": "stream",
          "text": [
            "\u001b[37;43;4m\n",
            "[Train. Prediction] Epoch 69, step 21/96......\u001b[0m\n",
            "\u001b[33m\n",
            "id: -Ms9tsWmhyU_80_95.avi\n",
            "answer: ['a', 'woman', 'is', 'playing', 'a', 'flute']\n",
            "prediction: ['a', 'woman', 'is', 'playing', 'flute']\u001b[0m\n"
          ],
          "name": "stdout"
        },
        {
          "output_type": "stream",
          "text": [
            "Epoch 69, step 41/96, (Training Loss: 2.2795, samp_prob: 0.3186):  69%|██████▉   | 69/100 [1:56:05<51:19, 99.33s/it]"
          ],
          "name": "stderr"
        },
        {
          "output_type": "stream",
          "text": [
            "\u001b[37;43;4m\n",
            "[Train. Prediction] Epoch 69, step 41/96......\u001b[0m\n",
            "\u001b[33m\n",
            "id: Tied-t1fFsk_15_20.avi\n",
            "answer: ['a', 'man', 'eyes', 'a', 'target', '<UNK>', 'away']\n",
            "prediction: ['a', 'man', 'is', 'a', 'at', 'a']\u001b[0m\n"
          ],
          "name": "stdout"
        },
        {
          "output_type": "stream",
          "text": [
            "Epoch 69, step 61/96, (Training Loss: 2.2405, samp_prob: 0.3186):  69%|██████▉   | 69/100 [1:56:25<51:19, 99.33s/it]"
          ],
          "name": "stderr"
        },
        {
          "output_type": "stream",
          "text": [
            "\u001b[37;43;4m\n",
            "[Train. Prediction] Epoch 69, step 61/96......\u001b[0m\n",
            "\u001b[33m\n",
            "id: 4PayIIIOeIs_230_238.avi\n",
            "answer: ['a', 'man', 'using', 'a', 'shotgun', 'for', 'target', 'practice']\n",
            "prediction: ['a', 'man', 'is', 'shooting', 'shotgun', 'shotgun']\u001b[0m\n"
          ],
          "name": "stdout"
        },
        {
          "output_type": "stream",
          "text": [
            "Epoch 69, step 81/96, (Training Loss: 2.1959, samp_prob: 0.3186):  69%|██████▉   | 69/100 [1:56:46<51:19, 99.33s/it]"
          ],
          "name": "stderr"
        },
        {
          "output_type": "stream",
          "text": [
            "\u001b[37;43;4m\n",
            "[Train. Prediction] Epoch 69, step 81/96......\u001b[0m\n",
            "\u001b[33m\n",
            "id: 6r5DmFa5ZR8_51_58.avi\n",
            "answer: ['two', 'foxes', 'are', 'eating', 'off', 'a', 'plate', 'on', 'a', 'patio']\n",
            "prediction: ['two', 'are', 'are', 'eating', 'food']\u001b[0m\n"
          ],
          "name": "stdout"
        },
        {
          "output_type": "stream",
          "text": [
            "Epoch 69, step 95/96, (Training Loss: 2.3755, samp_prob: 0.3186):  70%|███████   | 70/100 [1:57:00<49:39, 99.32s/it]"
          ],
          "name": "stderr"
        },
        {
          "output_type": "stream",
          "text": [
            "\u001b[32;47m\n",
            "[FINISHED] Epoch 69, (Training Loss (average loss in this epoch): 2.2682, samp_prob: 0.3186)\u001b[0m\n"
          ],
          "name": "stdout"
        },
        {
          "output_type": "stream",
          "text": [
            "Epoch 70, step 1/96, (Training Loss: 2.3580, samp_prob: 0.3100):  70%|███████   | 70/100 [1:57:03<49:39, 99.32s/it]"
          ],
          "name": "stderr"
        },
        {
          "output_type": "stream",
          "text": [
            "\u001b[37;43;4m\n",
            "[Train. Prediction] Epoch 70, step 1/96......\u001b[0m\n",
            "\u001b[33m\n",
            "id: 0hyZ__3YhZc_352_356.avi\n",
            "answer: ['someone', 'is', 'dumping', 'tomato', 'sauce', 'into', 'a', 'pan']\n",
            "prediction: ['a', 'is', 'is', 'sauce', 'sauce', 'sauce', 'a', 'a', 'a']\u001b[0m\n"
          ],
          "name": "stdout"
        },
        {
          "output_type": "stream",
          "text": [
            "Epoch 70, step 21/96, (Training Loss: 2.2839, samp_prob: 0.3100):  70%|███████   | 70/100 [1:57:24<49:39, 99.32s/it]"
          ],
          "name": "stderr"
        },
        {
          "output_type": "stream",
          "text": [
            "\u001b[37;43;4m\n",
            "[Train. Prediction] Epoch 70, step 21/96......\u001b[0m\n",
            "\u001b[33m\n",
            "id: 0hyZ__3YhZc_388_394.avi\n",
            "answer: ['someone', 'is', 'adding', 'beans', 'to', 'soup']\n",
            "prediction: ['someone', 'is', 'is', 'adding', 'into', 'into', 'a']\u001b[0m\n"
          ],
          "name": "stdout"
        },
        {
          "output_type": "stream",
          "text": [
            "Epoch 70, step 41/96, (Training Loss: 2.1743, samp_prob: 0.3100):  70%|███████   | 70/100 [1:57:44<49:39, 99.32s/it]"
          ],
          "name": "stderr"
        },
        {
          "output_type": "stream",
          "text": [
            "\u001b[37;43;4m\n",
            "[Train. Prediction] Epoch 70, step 41/96......\u001b[0m\n",
            "\u001b[33m\n",
            "id: NjblUomxFQo_100_108.avi\n",
            "answer: ['two', 'women', 'make', 'something', 'in', 'a', 'blender']\n",
            "prediction: ['two', 'women', 'blending', 'blending', 'blender']\u001b[0m\n"
          ],
          "name": "stdout"
        },
        {
          "output_type": "stream",
          "text": [
            "Epoch 70, step 61/96, (Training Loss: 2.3047, samp_prob: 0.3100):  70%|███████   | 70/100 [1:58:05<49:39, 99.32s/it]"
          ],
          "name": "stderr"
        },
        {
          "output_type": "stream",
          "text": [
            "\u001b[37;43;4m\n",
            "[Train. Prediction] Epoch 70, step 61/96......\u001b[0m\n",
            "\u001b[33m\n",
            "id: XNV7hKVu-Xg_40_47.avi\n",
            "answer: ['the', 'boys', 'rode', 'their', 'horses', 'to', 'the', 'stagecoach']\n",
            "prediction: ['five', 'group', 'are', 'riding', 'horses']\u001b[0m\n"
          ],
          "name": "stdout"
        },
        {
          "output_type": "stream",
          "text": [
            "Epoch 70, step 81/96, (Training Loss: 2.2056, samp_prob: 0.3100):  70%|███████   | 70/100 [1:58:26<49:39, 99.32s/it]"
          ],
          "name": "stderr"
        },
        {
          "output_type": "stream",
          "text": [
            "\u001b[37;43;4m\n",
            "[Train. Prediction] Epoch 70, step 81/96......\u001b[0m\n",
            "\u001b[33m\n",
            "id: _pj2Nutu5v8_1_8.avi\n",
            "answer: ['a', 'baby', 'has', 'headphones', 'on']\n",
            "prediction: ['a', 'boy', 'boy', 'speaks', 'into']\u001b[0m\n"
          ],
          "name": "stdout"
        },
        {
          "output_type": "stream",
          "text": [
            "Epoch 70, step 95/96, (Training Loss: 2.2164, samp_prob: 0.3100):  70%|███████   | 70/100 [1:58:40<49:39, 99.32s/it]"
          ],
          "name": "stderr"
        },
        {
          "output_type": "stream",
          "text": [
            "\u001b[32;47m\n",
            "[FINISHED] Epoch 70, (Training Loss (average loss in this epoch): 2.2645, samp_prob: 0.3100)\u001b[0m\n",
            "\u001b[37;42;1m\n",
            "Saver saved: /content/drive/My Drive/save_modelssave_net.ckpt-6815\u001b[0m\n",
            "INFO:tensorflow:Restoring parameters from /content/drive/My Drive/save_modelssave_net.ckpt-6815\n"
          ],
          "name": "stdout"
        },
        {
          "output_type": "stream",
          "text": [
            "I0326 20:10:44.703759 140156139370368 saver.py:1292] Restoring parameters from /content/drive/My Drive/save_modelssave_net.ckpt-6815\n"
          ],
          "name": "stderr"
        },
        {
          "output_type": "stream",
          "text": [
            "\u001b[37;42;4m\n",
            "[Val. Prediction] Epoch 70, step 96/96......\u001b[0m\n",
            "\u001b[32m\n",
            "id: wkgGxsuNVSg_34_41.avi\n",
            "answer: ['a', 'boy', 'is', 'running', 'in', 'front', 'of', 'fish', 'hanging', 'on', '<UNK>', '<UNK>']\n",
            "prediction: ['a', 'man', 'is', 'a', 'a', 'a']\u001b[0m\n",
            "\u001b[32m\n",
            "id: jTnrm338_KY_34_42.avi\n",
            "answer: ['a', 'man', 'transfers', 'a', '<UNK>', 'dragon', 'from', 'one', 'container', 'to', 'another']\n",
            "prediction: ['a', 'woman', 'is', 'peeling', 'a']\u001b[0m\n",
            "\u001b[32m\n",
            "id: PeUHy0A1GF0_114_121.avi\n",
            "answer: ['a', 'person', 'peels', 'shrimp']\n",
            "prediction: ['a', 'woman', 'is', 'shrimp', 'shrimp']\u001b[0m\n",
            "\u001b[32m\n",
            "id: f9Won2JpOEU_60_80.avi\n",
            "answer: ['a', 'cat', 'is', 'licking', 'itself']\n",
            "prediction: ['a', 'cat', 'is', 'playing', 'a', 'a']\u001b[0m\n",
            "\u001b[32m\n",
            "id: mmSQTI6gMNQ_120_128.avi\n",
            "answer: ['two', 'men', 'hiding', 'behind', 'a', 'bush', 'are', 'watching', 'two', 'women', 'who', 'are', 'on', 'the', 'street']\n",
            "prediction: ['two', 'are', 'are', 'fighting']\u001b[0m\n",
            "\u001b[32m\n",
            "id: 30GeJHYoerk_121_126.avi\n",
            "answer: ['a', 'man', 'is', 'doing', 'some', 'tricks']\n",
            "prediction: ['a', 'man', 'is', 'is']\u001b[0m\n",
            "\u001b[32m\n",
            "id: 04Gt01vatkk_308_321.avi\n",
            "answer: ['a', 'woman', 'cuts', 'a', 'jalapeno', 'pepper', 'into', 'fine', 'pieces', 'using', 'a', 'knife']\n",
            "prediction: ['a', 'man', 'is', 'a', 'a']\u001b[0m\n",
            "\u001b[32m\n",
            "id: zulPFoY64wE_26_33.avi\n",
            "answer: ['a', 'man', 'is', 'riding', 'a', 'horse']\n",
            "prediction: ['a', 'man', 'is', 'riding', 'a']\u001b[0m\n",
            "\u001b[32m\n",
            "id: qvg9eM4Hmzk_4_10.avi\n",
            "answer: ['a', 'man', 'is', 'lifting', 'a', 'truck']\n",
            "prediction: ['a', 'man', 'is', 'lifting', 'a', 'a']\u001b[0m\n",
            "\u001b[32m\n",
            "id: uJPupV4oLZ0_4_12.avi\n",
            "answer: ['a', 'tiny', 'toad', 'is', 'sitting', 'in', 'the', 'palm', 'of', \"someone's\", 'hand']\n",
            "prediction: ['a', 'baby', 'is', 'a', 'a', 'a']\u001b[0m\n",
            "\n",
            "Save file: /content/drive/My Drive/output.txt\n"
          ],
          "name": "stdout"
        },
        {
          "output_type": "stream",
          "text": [
            "\rEpoch 70, step 95/96, (Training Loss: 2.2164, samp_prob: 0.3100):  71%|███████   | 71/100 [1:58:43<48:30, 100.37s/it]"
          ],
          "name": "stderr"
        },
        {
          "output_type": "stream",
          "text": [
            "\u001b[37;42mValidation: 100/100, done...Total Loss: 3.9213\u001b[0m\n"
          ],
          "name": "stdout"
        },
        {
          "output_type": "stream",
          "text": [
            "Epoch 71, step 1/96, (Training Loss: 2.2859, samp_prob: 0.3015):  71%|███████   | 71/100 [1:58:46<48:30, 100.37s/it]"
          ],
          "name": "stderr"
        },
        {
          "output_type": "stream",
          "text": [
            "\u001b[37;43;4m\n",
            "[Train. Prediction] Epoch 71, step 1/96......\u001b[0m\n",
            "\u001b[33m\n",
            "id: _xf24TYgbuY_14_20.avi\n",
            "answer: ['an', 'individual', 'places', 'slices', 'of', 'bacon', 'in', 'between', 'two', 'paper', 'towels', 'and', '<UNK>', 'them']\n",
            "prediction: ['a', 'towels', 'is', 'putting', 'towels', 'on']\u001b[0m\n"
          ],
          "name": "stdout"
        },
        {
          "output_type": "stream",
          "text": [
            "Epoch 71, step 21/96, (Training Loss: 2.3115, samp_prob: 0.3015):  71%|███████   | 71/100 [1:59:06<48:30, 100.37s/it]"
          ],
          "name": "stderr"
        },
        {
          "output_type": "stream",
          "text": [
            "\u001b[37;43;4m\n",
            "[Train. Prediction] Epoch 71, step 21/96......\u001b[0m\n",
            "\u001b[33m\n",
            "id: 6owu8Mow0_g_302_307.avi\n",
            "answer: ['a', 'man', 'puts', 'cheese', 'on', 'a', 'pizza']\n",
            "prediction: ['a', 'man', 'is', 'cheese', 'cheese', 'on', 'pizza']\u001b[0m\n"
          ],
          "name": "stdout"
        },
        {
          "output_type": "stream",
          "text": [
            "Epoch 71, step 41/96, (Training Loss: 2.2431, samp_prob: 0.3015):  71%|███████   | 71/100 [1:59:27<48:30, 100.37s/it]"
          ],
          "name": "stderr"
        },
        {
          "output_type": "stream",
          "text": [
            "\u001b[37;43;4m\n",
            "[Train. Prediction] Epoch 71, step 41/96......\u001b[0m\n",
            "\u001b[33m\n",
            "id: p6T3XrnYtFk_4_13.avi\n",
            "answer: ['the', 'goat', 'is', 'walking']\n",
            "prediction: ['a', 'goat', 'is', 'walking', 'around']\u001b[0m\n"
          ],
          "name": "stdout"
        },
        {
          "output_type": "stream",
          "text": [
            "Epoch 71, step 61/96, (Training Loss: 2.1901, samp_prob: 0.3015):  71%|███████   | 71/100 [1:59:48<48:30, 100.37s/it]"
          ],
          "name": "stderr"
        },
        {
          "output_type": "stream",
          "text": [
            "\u001b[37;43;4m\n",
            "[Train. Prediction] Epoch 71, step 61/96......\u001b[0m\n",
            "\u001b[33m\n",
            "id: XZ0Ch_ClBfo_120_127.avi\n",
            "answer: ['men', 'are', 'playing', 'in', 'the', 'beach']\n",
            "prediction: ['two', 'are', 'playing', 'playing', 'the', 'the']\u001b[0m\n"
          ],
          "name": "stdout"
        },
        {
          "output_type": "stream",
          "text": [
            "Epoch 71, step 81/96, (Training Loss: 2.3823, samp_prob: 0.3015):  71%|███████   | 71/100 [2:00:09<48:30, 100.37s/it]"
          ],
          "name": "stderr"
        },
        {
          "output_type": "stream",
          "text": [
            "\u001b[37;43;4m\n",
            "[Train. Prediction] Epoch 71, step 81/96......\u001b[0m\n",
            "\u001b[33m\n",
            "id: JIoiUNOXGaI_8_13.avi\n",
            "answer: ['a', 'woman', 'is', 'carrying', 'a', 'huge', 'plastic', 'bag', 'of', 'cans', 'over', 'her', 'back']\n",
            "prediction: ['a', 'woman', 'is', 'carrying', 'a', 'bag', 'bag']\u001b[0m\n"
          ],
          "name": "stdout"
        },
        {
          "output_type": "stream",
          "text": [
            "Epoch 71, step 95/96, (Training Loss: 2.2352, samp_prob: 0.3015):  72%|███████▏  | 72/100 [2:00:23<46:43, 100.13s/it]"
          ],
          "name": "stderr"
        },
        {
          "output_type": "stream",
          "text": [
            "\u001b[32;47m\n",
            "[FINISHED] Epoch 71, (Training Loss (average loss in this epoch): 2.2595, samp_prob: 0.3015)\u001b[0m\n"
          ],
          "name": "stdout"
        },
        {
          "output_type": "stream",
          "text": [
            "Epoch 72, step 1/96, (Training Loss: 2.3654, samp_prob: 0.2932):  72%|███████▏  | 72/100 [2:00:25<46:43, 100.13s/it]"
          ],
          "name": "stderr"
        },
        {
          "output_type": "stream",
          "text": [
            "\u001b[37;43;4m\n",
            "[Train. Prediction] Epoch 72, step 1/96......\u001b[0m\n",
            "\u001b[33m\n",
            "id: qew09qQgMAg_22_27.avi\n",
            "answer: ['a', 'man', 'is', 'crawling', 'on', 'his', 'hands', 'and', 'knees', 'while', 'holding', 'an', 'ice', 'cream', 'cone', 'in', 'one', 'hand']\n",
            "prediction: ['a', 'man', 'is', 'crawling', 'on', 'the']\u001b[0m\n"
          ],
          "name": "stdout"
        },
        {
          "output_type": "stream",
          "text": [
            "Epoch 72, step 21/96, (Training Loss: 2.2950, samp_prob: 0.2932):  72%|███████▏  | 72/100 [2:00:46<46:43, 100.13s/it]"
          ],
          "name": "stderr"
        },
        {
          "output_type": "stream",
          "text": [
            "\u001b[37;43;4m\n",
            "[Train. Prediction] Epoch 72, step 21/96......\u001b[0m\n",
            "\u001b[33m\n",
            "id: 7_XASfcYdBk_3_13.avi\n",
            "answer: ['a', 'man', 'is', 'playing', 'the', 'guitar']\n",
            "prediction: ['a', 'man', 'is', 'playing', 'a', 'guitar']\u001b[0m\n"
          ],
          "name": "stdout"
        },
        {
          "output_type": "stream",
          "text": [
            "Epoch 72, step 41/96, (Training Loss: 2.1335, samp_prob: 0.2932):  72%|███████▏  | 72/100 [2:01:07<46:43, 100.13s/it]"
          ],
          "name": "stderr"
        },
        {
          "output_type": "stream",
          "text": [
            "\u001b[37;43;4m\n",
            "[Train. Prediction] Epoch 72, step 41/96......\u001b[0m\n",
            "\u001b[33m\n",
            "id: WTf5EgVY5uU_108_116.avi\n",
            "answer: ['a', 'woman', 'is', 'putting', 'ingredients', 'into', 'a', 'bowl']\n",
            "prediction: ['a', 'woman', 'is', 'mixing', 'ingredients']\u001b[0m\n"
          ],
          "name": "stdout"
        },
        {
          "output_type": "stream",
          "text": [
            "Epoch 72, step 61/96, (Training Loss: 2.2418, samp_prob: 0.2932):  72%|███████▏  | 72/100 [2:01:27<46:43, 100.13s/it]"
          ],
          "name": "stderr"
        },
        {
          "output_type": "stream",
          "text": [
            "\u001b[37;43;4m\n",
            "[Train. Prediction] Epoch 72, step 61/96......\u001b[0m\n",
            "\u001b[33m\n",
            "id: puineN1UMto_25_29.avi\n",
            "answer: ['a', 'squirrel', 'is', 'singing', 'and', 'dancing']\n",
            "prediction: ['a', 'squirrel', 'squirrel', 'dancing', 'dancing']\u001b[0m\n"
          ],
          "name": "stdout"
        },
        {
          "output_type": "stream",
          "text": [
            "Epoch 72, step 81/96, (Training Loss: 2.3113, samp_prob: 0.2932):  72%|███████▏  | 72/100 [2:01:48<46:43, 100.13s/it]"
          ],
          "name": "stderr"
        },
        {
          "output_type": "stream",
          "text": [
            "\u001b[37;43;4m\n",
            "[Train. Prediction] Epoch 72, step 81/96......\u001b[0m\n",
            "\u001b[33m\n",
            "id: UgUFP5baQ9Y_0_7.avi\n",
            "answer: ['the', 'three', 'ladies', 'danced', 'in', 'costume']\n",
            "prediction: ['three', 'women', 'dancing']\u001b[0m\n"
          ],
          "name": "stdout"
        },
        {
          "output_type": "stream",
          "text": [
            "Epoch 72, step 95/96, (Training Loss: 2.3179, samp_prob: 0.2932):  73%|███████▎  | 73/100 [2:02:02<44:56, 99.89s/it] "
          ],
          "name": "stderr"
        },
        {
          "output_type": "stream",
          "text": [
            "\u001b[32;47m\n",
            "[FINISHED] Epoch 72, (Training Loss (average loss in this epoch): 2.2543, samp_prob: 0.2932)\u001b[0m\n"
          ],
          "name": "stdout"
        },
        {
          "output_type": "stream",
          "text": [
            "Epoch 73, step 1/96, (Training Loss: 2.2139, samp_prob: 0.2850):  73%|███████▎  | 73/100 [2:02:05<44:56, 99.89s/it]"
          ],
          "name": "stderr"
        },
        {
          "output_type": "stream",
          "text": [
            "\u001b[37;43;4m\n",
            "[Train. Prediction] Epoch 73, step 1/96......\u001b[0m\n",
            "\u001b[33m\n",
            "id: Ms3QdGIzltU_1_16.avi\n",
            "answer: ['a', 'hamster', 'eating', 'seeds', 'and', 'carrots']\n",
            "prediction: ['a', 'hamster', 'is', 'eating', 'sunflower']\u001b[0m\n"
          ],
          "name": "stdout"
        },
        {
          "output_type": "stream",
          "text": [
            "Epoch 73, step 21/96, (Training Loss: 2.2217, samp_prob: 0.2850):  73%|███████▎  | 73/100 [2:02:25<44:56, 99.89s/it]"
          ],
          "name": "stderr"
        },
        {
          "output_type": "stream",
          "text": [
            "\u001b[37;43;4m\n",
            "[Train. Prediction] Epoch 73, step 21/96......\u001b[0m\n",
            "\u001b[33m\n",
            "id: 81fABEiwcIM_31_45.avi\n",
            "answer: ['a', 'man', 'is', 'playing', 'the', 'guitar', 'and', 'singing']\n",
            "prediction: ['a', 'man', 'is', 'playing', 'guitar', 'guitar', 'guitar', 'guitar', 'guitar']\u001b[0m\n"
          ],
          "name": "stdout"
        },
        {
          "output_type": "stream",
          "text": [
            "Epoch 73, step 41/96, (Training Loss: 2.2312, samp_prob: 0.2850):  73%|███████▎  | 73/100 [2:02:46<44:56, 99.89s/it]"
          ],
          "name": "stderr"
        },
        {
          "output_type": "stream",
          "text": [
            "\u001b[37;43;4m\n",
            "[Train. Prediction] Epoch 73, step 41/96......\u001b[0m\n",
            "\u001b[33m\n",
            "id: bmOy6p87TWI_26_35.avi\n",
            "answer: ['two', 'men', 'are', 'talking', 'to', 'each', 'other']\n",
            "prediction: ['two', 'men', 'are', 'talking', 'each']\u001b[0m\n"
          ],
          "name": "stdout"
        },
        {
          "output_type": "stream",
          "text": [
            "Epoch 73, step 61/96, (Training Loss: 2.2375, samp_prob: 0.2850):  73%|███████▎  | 73/100 [2:03:07<44:56, 99.89s/it]"
          ],
          "name": "stderr"
        },
        {
          "output_type": "stream",
          "text": [
            "\u001b[37;43;4m\n",
            "[Train. Prediction] Epoch 73, step 61/96......\u001b[0m\n",
            "\u001b[33m\n",
            "id: DvYN53KBDr0_51_62.avi\n",
            "answer: ['three', 'men', 'are', 'hitting', 'a', 'car']\n",
            "prediction: ['three', 'men', 'are', 'a', 'car']\u001b[0m\n"
          ],
          "name": "stdout"
        },
        {
          "output_type": "stream",
          "text": [
            "Epoch 73, step 81/96, (Training Loss: 2.3236, samp_prob: 0.2850):  73%|███████▎  | 73/100 [2:03:27<44:56, 99.89s/it]"
          ],
          "name": "stderr"
        },
        {
          "output_type": "stream",
          "text": [
            "\u001b[37;43;4m\n",
            "[Train. Prediction] Epoch 73, step 81/96......\u001b[0m\n",
            "\u001b[33m\n",
            "id: e-j59PqJjSM_264_277.avi\n",
            "answer: ['a', 'man', 'is', 'cutting', 'a', 'tomato', 'into', 'pieces']\n",
            "prediction: ['a', 'man', 'is', 'cutting', 'a', 'tomato']\u001b[0m\n"
          ],
          "name": "stdout"
        },
        {
          "output_type": "stream",
          "text": [
            "Epoch 73, step 95/96, (Training Loss: 2.0677, samp_prob: 0.2850):  74%|███████▍  | 74/100 [2:03:41<43:13, 99.76s/it]"
          ],
          "name": "stderr"
        },
        {
          "output_type": "stream",
          "text": [
            "\u001b[32;47m\n",
            "[FINISHED] Epoch 73, (Training Loss (average loss in this epoch): 2.2469, samp_prob: 0.2850)\u001b[0m\n"
          ],
          "name": "stdout"
        },
        {
          "output_type": "stream",
          "text": [
            "Epoch 74, step 1/96, (Training Loss: 2.1971, samp_prob: 0.2769):  74%|███████▍  | 74/100 [2:03:44<43:13, 99.76s/it]"
          ],
          "name": "stderr"
        },
        {
          "output_type": "stream",
          "text": [
            "\u001b[37;43;4m\n",
            "[Train. Prediction] Epoch 74, step 1/96......\u001b[0m\n",
            "\u001b[33m\n",
            "id: e-j59PqJjSM_163_173.avi\n",
            "answer: ['a', 'person', 'is', 'chopping', 'a', 'red', 'onion', 'with', 'a', 'cleaver']\n",
            "prediction: ['a', 'man', 'is', 'slicing', 'an', 'onion']\u001b[0m\n"
          ],
          "name": "stdout"
        },
        {
          "output_type": "stream",
          "text": [
            "Epoch 74, step 21/96, (Training Loss: 2.2199, samp_prob: 0.2769):  74%|███████▍  | 74/100 [2:04:05<43:13, 99.76s/it]"
          ],
          "name": "stderr"
        },
        {
          "output_type": "stream",
          "text": [
            "\u001b[37;43;4m\n",
            "[Train. Prediction] Epoch 74, step 21/96......\u001b[0m\n",
            "\u001b[33m\n",
            "id: i3fd4nE8OCI_174_181.avi\n",
            "answer: ['the', 'men', 'are', 'fighting', 'with', 'each', 'other']\n",
            "prediction: ['two', 'men', 'are', 'fighting', 'fighting']\u001b[0m\n"
          ],
          "name": "stdout"
        },
        {
          "output_type": "stream",
          "text": [
            "Epoch 74, step 41/96, (Training Loss: 2.2249, samp_prob: 0.2769):  74%|███████▍  | 74/100 [2:04:25<43:13, 99.76s/it]"
          ],
          "name": "stderr"
        },
        {
          "output_type": "stream",
          "text": [
            "\u001b[37;43;4m\n",
            "[Train. Prediction] Epoch 74, step 41/96......\u001b[0m\n",
            "\u001b[33m\n",
            "id: labytsb3gfI_146_154.avi\n",
            "answer: ['the', 'scary', 'looking', 'clown', 'is', 'singing']\n",
            "prediction: ['a', 'costumed', 'clown', 'singing']\u001b[0m\n"
          ],
          "name": "stdout"
        },
        {
          "output_type": "stream",
          "text": [
            "Epoch 74, step 61/96, (Training Loss: 2.1444, samp_prob: 0.2769):  74%|███████▍  | 74/100 [2:04:46<43:13, 99.76s/it]"
          ],
          "name": "stderr"
        },
        {
          "output_type": "stream",
          "text": [
            "\u001b[37;43;4m\n",
            "[Train. Prediction] Epoch 74, step 61/96......\u001b[0m\n",
            "\u001b[33m\n",
            "id: 7uOiiA4Kxbo_23_35.avi\n",
            "answer: ['a', 'man', 'with', 'a', 'dog', 'on', 'his', 'back', 'is', 'riding', 'a', 'bicycle']\n",
            "prediction: ['a', 'dog', 'is', 'riding', 'a', 'a', 'back', 'on']\u001b[0m\n"
          ],
          "name": "stdout"
        },
        {
          "output_type": "stream",
          "text": [
            "Epoch 74, step 81/96, (Training Loss: 2.2789, samp_prob: 0.2769):  74%|███████▍  | 74/100 [2:05:07<43:13, 99.76s/it]"
          ],
          "name": "stderr"
        },
        {
          "output_type": "stream",
          "text": [
            "\u001b[37;43;4m\n",
            "[Train. Prediction] Epoch 74, step 81/96......\u001b[0m\n",
            "\u001b[33m\n",
            "id: ruNrdmjcNTc_0_5.avi\n",
            "answer: ['the', '<UNK>', '<UNK>', 'flag', 'is', 'waving', 'in', 'the', 'wind']\n",
            "prediction: ['an', 'flag', 'is', 'is', 'waving']\u001b[0m\n"
          ],
          "name": "stdout"
        },
        {
          "output_type": "stream",
          "text": [
            "Epoch 74, step 95/96, (Training Loss: 2.2932, samp_prob: 0.2769):  75%|███████▌  | 75/100 [2:05:21<41:30, 99.63s/it]"
          ],
          "name": "stderr"
        },
        {
          "output_type": "stream",
          "text": [
            "\u001b[32;47m\n",
            "[FINISHED] Epoch 74, (Training Loss (average loss in this epoch): 2.2430, samp_prob: 0.2769)\u001b[0m\n"
          ],
          "name": "stdout"
        },
        {
          "output_type": "stream",
          "text": [
            "Epoch 75, step 1/96, (Training Loss: 2.2077, samp_prob: 0.2689):  75%|███████▌  | 75/100 [2:05:23<41:30, 99.63s/it]"
          ],
          "name": "stderr"
        },
        {
          "output_type": "stream",
          "text": [
            "\u001b[37;43;4m\n",
            "[Train. Prediction] Epoch 75, step 1/96......\u001b[0m\n",
            "\u001b[33m\n",
            "id: IiTzJQE67FA_74_86.avi\n",
            "answer: ['a', 'band', 'is', 'performing', 'on', 'a', 'stage']\n",
            "prediction: ['a', 'band', 'is', 'playing']\u001b[0m\n"
          ],
          "name": "stdout"
        },
        {
          "output_type": "stream",
          "text": [
            "Epoch 75, step 21/96, (Training Loss: 2.1336, samp_prob: 0.2689):  75%|███████▌  | 75/100 [2:05:44<41:30, 99.63s/it]"
          ],
          "name": "stderr"
        },
        {
          "output_type": "stream",
          "text": [
            "\u001b[37;43;4m\n",
            "[Train. Prediction] Epoch 75, step 21/96......\u001b[0m\n",
            "\u001b[33m\n",
            "id: 7OGizkf_JEo_191_194.avi\n",
            "answer: ['a', 'man', 'is', 'running', 'across', 'a', 'high', 'wire']\n",
            "prediction: ['a', 'man', 'is', 'running', 'a', 'tight', 'rope']\u001b[0m\n"
          ],
          "name": "stdout"
        },
        {
          "output_type": "stream",
          "text": [
            "Epoch 75, step 41/96, (Training Loss: 2.3420, samp_prob: 0.2689):  75%|███████▌  | 75/100 [2:06:05<41:30, 99.63s/it]"
          ],
          "name": "stderr"
        },
        {
          "output_type": "stream",
          "text": [
            "\u001b[37;43;4m\n",
            "[Train. Prediction] Epoch 75, step 41/96......\u001b[0m\n",
            "\u001b[33m\n",
            "id: 2I20ZTFHheg_96_104.avi\n",
            "answer: ['the', 'person', 'is', 'cutting', 'socks']\n",
            "prediction: ['a', 'person', 'is', 'a', 'a', 'sock', 'sock']\u001b[0m\n"
          ],
          "name": "stdout"
        },
        {
          "output_type": "stream",
          "text": [
            "Epoch 75, step 61/96, (Training Loss: 2.1723, samp_prob: 0.2689):  75%|███████▌  | 75/100 [2:06:25<41:30, 99.63s/it]"
          ],
          "name": "stderr"
        },
        {
          "output_type": "stream",
          "text": [
            "\u001b[37;43;4m\n",
            "[Train. Prediction] Epoch 75, step 61/96......\u001b[0m\n",
            "\u001b[33m\n",
            "id: 0SMOK2ql7Pg_5_12.avi\n",
            "answer: ['a', 'cat', 'is', 'making', '<UNK>', 'on', 'a', 'board']\n",
            "prediction: ['a', 'cat', 'is', 'scratching', 'a', 'a', 'board']\u001b[0m\n"
          ],
          "name": "stdout"
        },
        {
          "output_type": "stream",
          "text": [
            "Epoch 75, step 81/96, (Training Loss: 2.1854, samp_prob: 0.2689):  75%|███████▌  | 75/100 [2:06:46<41:30, 99.63s/it]"
          ],
          "name": "stderr"
        },
        {
          "output_type": "stream",
          "text": [
            "\u001b[37;43;4m\n",
            "[Train. Prediction] Epoch 75, step 81/96......\u001b[0m\n",
            "\u001b[33m\n",
            "id: YEmS8ZQIhTA_7_20.avi\n",
            "answer: ['the', 'basketball', 'player', 'jumped', 'and', 'made', 'a', 'basket']\n",
            "prediction: ['a', 'man', 'playing', 'playing', 'basketball']\u001b[0m\n"
          ],
          "name": "stdout"
        },
        {
          "output_type": "stream",
          "text": [
            "Epoch 75, step 95/96, (Training Loss: 2.3095, samp_prob: 0.2689):  76%|███████▌  | 76/100 [2:07:00<39:49, 99.57s/it]"
          ],
          "name": "stderr"
        },
        {
          "output_type": "stream",
          "text": [
            "\u001b[32;47m\n",
            "[FINISHED] Epoch 75, (Training Loss (average loss in this epoch): 2.2399, samp_prob: 0.2689)\u001b[0m\n"
          ],
          "name": "stdout"
        },
        {
          "output_type": "stream",
          "text": [
            "Epoch 76, step 1/96, (Training Loss: 2.1207, samp_prob: 0.2611):  76%|███████▌  | 76/100 [2:07:03<39:49, 99.57s/it]"
          ],
          "name": "stderr"
        },
        {
          "output_type": "stream",
          "text": [
            "\u001b[37;43;4m\n",
            "[Train. Prediction] Epoch 76, step 1/96......\u001b[0m\n",
            "\u001b[33m\n",
            "id: JIoiUNOXGaI_34_41.avi\n",
            "answer: ['a', 'woman', 'is', 'rinsing', 'a', '<UNK>', 'with', 'water']\n",
            "prediction: ['a', 'woman', 'is', 'washing', 'a', 'a']\u001b[0m\n"
          ],
          "name": "stdout"
        },
        {
          "output_type": "stream",
          "text": [
            "Epoch 76, step 21/96, (Training Loss: 2.1778, samp_prob: 0.2611):  76%|███████▌  | 76/100 [2:07:23<39:49, 99.57s/it]"
          ],
          "name": "stderr"
        },
        {
          "output_type": "stream",
          "text": [
            "\u001b[37;43;4m\n",
            "[Train. Prediction] Epoch 76, step 21/96......\u001b[0m\n",
            "\u001b[33m\n",
            "id: EPXsiQw9vvo_1_12.avi\n",
            "answer: ['a', 'man', 'rides', 'a', 'motorcycle', 'over', 'a', 'car']\n",
            "prediction: ['a', 'man', 'rides', 'riding', 'a', 'a', 'a']\u001b[0m\n"
          ],
          "name": "stdout"
        },
        {
          "output_type": "stream",
          "text": [
            "Epoch 76, step 41/96, (Training Loss: 2.1009, samp_prob: 0.2611):  76%|███████▌  | 76/100 [2:07:44<39:49, 99.57s/it]"
          ],
          "name": "stderr"
        },
        {
          "output_type": "stream",
          "text": [
            "\u001b[37;43;4m\n",
            "[Train. Prediction] Epoch 76, step 41/96......\u001b[0m\n",
            "\u001b[33m\n",
            "id: aRo8x3xXeEA_3_8.avi\n",
            "answer: ['a', 'man', 'crosses', '<UNK>', 'upside', 'down', 'on', 'a', 'snowboard']\n",
            "prediction: ['a', 'man', 'is', 'doing', 'tricks']\u001b[0m\n"
          ],
          "name": "stdout"
        },
        {
          "output_type": "stream",
          "text": [
            "Epoch 76, step 61/96, (Training Loss: 2.2850, samp_prob: 0.2611):  76%|███████▌  | 76/100 [2:08:05<39:49, 99.57s/it]"
          ],
          "name": "stderr"
        },
        {
          "output_type": "stream",
          "text": [
            "\u001b[37;43;4m\n",
            "[Train. Prediction] Epoch 76, step 61/96......\u001b[0m\n",
            "\u001b[33m\n",
            "id: Lyp7MiaCXNE_114_120.avi\n",
            "answer: ['someone', 'adds', 'a', 'few', 'drops', 'of', 'clear', 'liquid', 'to', 'a', 'kettle', 'with', 'an', 'eyedropper']\n",
            "prediction: ['a', 'man', 'is', 'adding', 'water', 'into', 'a', 'a']\u001b[0m\n"
          ],
          "name": "stdout"
        },
        {
          "output_type": "stream",
          "text": [
            "Epoch 76, step 81/96, (Training Loss: 2.1744, samp_prob: 0.2611):  76%|███████▌  | 76/100 [2:08:25<39:49, 99.57s/it]"
          ],
          "name": "stderr"
        },
        {
          "output_type": "stream",
          "text": [
            "\u001b[37;43;4m\n",
            "[Train. Prediction] Epoch 76, step 81/96......\u001b[0m\n",
            "\u001b[33m\n",
            "id: nc8hwLaOyZU_1_19.avi\n",
            "answer: ['a', 'monkey', 'is', 'riding', 'a', 'bicycle']\n",
            "prediction: ['a', 'monkey', 'is', 'riding', 'a', 'bike']\u001b[0m\n"
          ],
          "name": "stdout"
        },
        {
          "output_type": "stream",
          "text": [
            "Epoch 76, step 95/96, (Training Loss: 2.2428, samp_prob: 0.2611):  77%|███████▋  | 77/100 [2:08:39<38:07, 99.44s/it]"
          ],
          "name": "stderr"
        },
        {
          "output_type": "stream",
          "text": [
            "\u001b[32;47m\n",
            "[FINISHED] Epoch 76, (Training Loss (average loss in this epoch): 2.2347, samp_prob: 0.2611)\u001b[0m\n"
          ],
          "name": "stdout"
        },
        {
          "output_type": "stream",
          "text": [
            "Epoch 77, step 1/96, (Training Loss: 2.2490, samp_prob: 0.2535):  77%|███████▋  | 77/100 [2:08:42<38:07, 99.44s/it]"
          ],
          "name": "stderr"
        },
        {
          "output_type": "stream",
          "text": [
            "\u001b[37;43;4m\n",
            "[Train. Prediction] Epoch 77, step 1/96......\u001b[0m\n",
            "\u001b[33m\n",
            "id: nq4hG6qgyPs_184_195.avi\n",
            "answer: ['a', 'man', 'cuts', 'slices', 'off', 'a', 'huge', 'loaf', 'of', 'bread']\n",
            "prediction: ['a', 'man', 'is', 'slicing', 'loaf', 'loaf', 'bread', 'bread', 'bread']\u001b[0m\n"
          ],
          "name": "stdout"
        },
        {
          "output_type": "stream",
          "text": [
            "Epoch 77, step 21/96, (Training Loss: 2.2497, samp_prob: 0.2535):  77%|███████▋  | 77/100 [2:09:03<38:07, 99.44s/it]"
          ],
          "name": "stderr"
        },
        {
          "output_type": "stream",
          "text": [
            "\u001b[37;43;4m\n",
            "[Train. Prediction] Epoch 77, step 21/96......\u001b[0m\n",
            "\u001b[33m\n",
            "id: 6t0BpjwYKco_71_76.avi\n",
            "answer: ['a', 'woman', 'is', 'peeling', 'an', 'apple']\n",
            "prediction: ['a', 'woman', 'is', 'peeling', 'an', 'apple']\u001b[0m\n"
          ],
          "name": "stdout"
        },
        {
          "output_type": "stream",
          "text": [
            "Epoch 77, step 41/96, (Training Loss: 2.1374, samp_prob: 0.2535):  77%|███████▋  | 77/100 [2:09:23<38:07, 99.44s/it]"
          ],
          "name": "stderr"
        },
        {
          "output_type": "stream",
          "text": [
            "\u001b[37;43;4m\n",
            "[Train. Prediction] Epoch 77, step 41/96......\u001b[0m\n",
            "\u001b[33m\n",
            "id: 1RchFBCT9JU_43_53.avi\n",
            "answer: ['an', 'animal', 'eats', 'a', 'piece', 'of', 'food']\n",
            "prediction: ['a', 'hedgehog', 'is', 'eating']\u001b[0m\n"
          ],
          "name": "stdout"
        },
        {
          "output_type": "stream",
          "text": [
            "Epoch 77, step 61/96, (Training Loss: 2.2283, samp_prob: 0.2535):  77%|███████▋  | 77/100 [2:09:44<38:07, 99.44s/it]"
          ],
          "name": "stderr"
        },
        {
          "output_type": "stream",
          "text": [
            "\u001b[37;43;4m\n",
            "[Train. Prediction] Epoch 77, step 61/96......\u001b[0m\n",
            "\u001b[33m\n",
            "id: f_CvW22Eauc_16_23.avi\n",
            "answer: ['a', 'man', 'in', 'a', '<UNK>', 'white', 'suit', 'is', 'walking', 'the', 'floor', 'while', 'a', 'woman', 'is', 'sitting', 'in', 'a', 'chair']\n",
            "prediction: ['a', 'man', 'is', 'walking']\u001b[0m\n"
          ],
          "name": "stdout"
        },
        {
          "output_type": "stream",
          "text": [
            "Epoch 77, step 81/96, (Training Loss: 2.2359, samp_prob: 0.2535):  77%|███████▋  | 77/100 [2:10:04<38:07, 99.44s/it]"
          ],
          "name": "stderr"
        },
        {
          "output_type": "stream",
          "text": [
            "\u001b[37;43;4m\n",
            "[Train. Prediction] Epoch 77, step 81/96......\u001b[0m\n",
            "\u001b[33m\n",
            "id: r2PM0om2El8_18_25.avi\n",
            "answer: ['two', 'women', 'are', 'walking', 'and', 'talking', 'in', 'a', 'garden']\n",
            "prediction: ['two', 'women', 'are', 'a', 'flowers']\u001b[0m\n"
          ],
          "name": "stdout"
        },
        {
          "output_type": "stream",
          "text": [
            "Epoch 77, step 95/96, (Training Loss: 2.2577, samp_prob: 0.2535):  78%|███████▊  | 78/100 [2:10:18<36:25, 99.35s/it]"
          ],
          "name": "stderr"
        },
        {
          "output_type": "stream",
          "text": [
            "\u001b[32;47m\n",
            "[FINISHED] Epoch 77, (Training Loss (average loss in this epoch): 2.2304, samp_prob: 0.2535)\u001b[0m\n"
          ],
          "name": "stdout"
        },
        {
          "output_type": "stream",
          "text": [
            "Epoch 78, step 1/96, (Training Loss: 2.2209, samp_prob: 0.2460):  78%|███████▊  | 78/100 [2:10:21<36:25, 99.35s/it]"
          ],
          "name": "stderr"
        },
        {
          "output_type": "stream",
          "text": [
            "\u001b[37;43;4m\n",
            "[Train. Prediction] Epoch 78, step 1/96......\u001b[0m\n",
            "\u001b[33m\n",
            "id: 2F9jX7u5nOg_83_97.avi\n",
            "answer: ['a', 'woman', 'is', 'riding', 'on', 'a', 'horse']\n",
            "prediction: ['a', 'woman', 'is', 'riding', 'a', 'horse']\u001b[0m\n"
          ],
          "name": "stdout"
        },
        {
          "output_type": "stream",
          "text": [
            "Epoch 78, step 21/96, (Training Loss: 2.2656, samp_prob: 0.2460):  78%|███████▊  | 78/100 [2:10:42<36:25, 99.35s/it]"
          ],
          "name": "stderr"
        },
        {
          "output_type": "stream",
          "text": [
            "\u001b[37;43;4m\n",
            "[Train. Prediction] Epoch 78, step 21/96......\u001b[0m\n",
            "\u001b[33m\n",
            "id: xTd_IdIcB4s_2_10.avi\n",
            "answer: ['a', 'toddler', 'walking', 'on', 'a', 'treadmill']\n",
            "prediction: ['a', 'baby', 'is', 'walking', 'on', 'a', 'treadmill', 'treadmill']\u001b[0m\n"
          ],
          "name": "stdout"
        },
        {
          "output_type": "stream",
          "text": [
            "Epoch 78, step 41/96, (Training Loss: 2.3078, samp_prob: 0.2460):  78%|███████▊  | 78/100 [2:11:02<36:25, 99.35s/it]"
          ],
          "name": "stderr"
        },
        {
          "output_type": "stream",
          "text": [
            "\u001b[37;43;4m\n",
            "[Train. Prediction] Epoch 78, step 41/96......\u001b[0m\n",
            "\u001b[33m\n",
            "id: dc4UltkRJsw_53_59.avi\n",
            "answer: ['a', 'boy', 'is', 'standing', 'in', 'the', 'rain']\n",
            "prediction: ['a', 'boy', 'is', 'his', 'a', 'the', 'the']\u001b[0m\n"
          ],
          "name": "stdout"
        },
        {
          "output_type": "stream",
          "text": [
            "Epoch 78, step 61/96, (Training Loss: 2.2759, samp_prob: 0.2460):  78%|███████▊  | 78/100 [2:11:23<36:25, 99.35s/it]"
          ],
          "name": "stderr"
        },
        {
          "output_type": "stream",
          "text": [
            "\u001b[37;43;4m\n",
            "[Train. Prediction] Epoch 78, step 61/96......\u001b[0m\n",
            "\u001b[33m\n",
            "id: u9prcUCHlqM_503_511.avi\n",
            "answer: ['a', 'photographer', 'is', 'taking', 'pictures']\n",
            "prediction: ['a', 'man', 'is', 'photographs', 'a', 'of', 'of']\u001b[0m\n"
          ],
          "name": "stdout"
        },
        {
          "output_type": "stream",
          "text": [
            "Epoch 78, step 81/96, (Training Loss: 2.3184, samp_prob: 0.2460):  78%|███████▊  | 78/100 [2:11:44<36:25, 99.35s/it]"
          ],
          "name": "stderr"
        },
        {
          "output_type": "stream",
          "text": [
            "\u001b[37;43;4m\n",
            "[Train. Prediction] Epoch 78, step 81/96......\u001b[0m\n",
            "\u001b[33m\n",
            "id: z2kUc8wp9l8_40_46.avi\n",
            "answer: ['a', 'person', 'is', 'playing', 'a', 'foot-ball']\n",
            "prediction: ['a', 'person', 'is', 'kicking', 'a', 'soccer']\u001b[0m\n"
          ],
          "name": "stdout"
        },
        {
          "output_type": "stream",
          "text": [
            "Epoch 78, step 95/96, (Training Loss: 2.2920, samp_prob: 0.2460):  79%|███████▉  | 79/100 [2:11:58<34:46, 99.33s/it]"
          ],
          "name": "stderr"
        },
        {
          "output_type": "stream",
          "text": [
            "\u001b[32;47m\n",
            "[FINISHED] Epoch 78, (Training Loss (average loss in this epoch): 2.2299, samp_prob: 0.2460)\u001b[0m\n"
          ],
          "name": "stdout"
        },
        {
          "output_type": "stream",
          "text": [
            "Epoch 79, step 1/96, (Training Loss: 2.2380, samp_prob: 0.2387):  79%|███████▉  | 79/100 [2:12:00<34:46, 99.33s/it]"
          ],
          "name": "stderr"
        },
        {
          "output_type": "stream",
          "text": [
            "\u001b[37;43;4m\n",
            "[Train. Prediction] Epoch 79, step 1/96......\u001b[0m\n",
            "\u001b[33m\n",
            "id: N6SglZopfmk_97_111.avi\n",
            "answer: ['a', 'man', 'is', '<UNK>', 'up', 'his', 'face', 'for', 'a', '<UNK>']\n",
            "prediction: ['a', 'man', 'is', 'shaving', 'on', 'cream']\u001b[0m\n"
          ],
          "name": "stdout"
        },
        {
          "output_type": "stream",
          "text": [
            "Epoch 79, step 21/96, (Training Loss: 2.1387, samp_prob: 0.2387):  79%|███████▉  | 79/100 [2:12:21<34:46, 99.33s/it]"
          ],
          "name": "stderr"
        },
        {
          "output_type": "stream",
          "text": [
            "\u001b[37;43;4m\n",
            "[Train. Prediction] Epoch 79, step 21/96......\u001b[0m\n",
            "\u001b[33m\n",
            "id: V4q5dQmpxIE_20_30.avi\n",
            "answer: ['a', 'boy', 'is', 'playing', 'a', 'trumpet']\n",
            "prediction: ['a', 'boy', 'is', 'playing', 'a']\u001b[0m\n"
          ],
          "name": "stdout"
        },
        {
          "output_type": "stream",
          "text": [
            "Epoch 79, step 41/96, (Training Loss: 2.1639, samp_prob: 0.2387):  79%|███████▉  | 79/100 [2:12:42<34:46, 99.33s/it]"
          ],
          "name": "stderr"
        },
        {
          "output_type": "stream",
          "text": [
            "\u001b[37;43;4m\n",
            "[Train. Prediction] Epoch 79, step 41/96......\u001b[0m\n",
            "\u001b[33m\n",
            "id: XZ0Ch_ClBfo_120_127.avi\n",
            "answer: ['three', 'men', 'run', 'into', 'and', 'play', 'in', 'the', 'ocean']\n",
            "prediction: ['people', 'are', 'playing', 'in', 'the', 'beach']\u001b[0m\n"
          ],
          "name": "stdout"
        },
        {
          "output_type": "stream",
          "text": [
            "Epoch 79, step 61/96, (Training Loss: 2.1403, samp_prob: 0.2387):  79%|███████▉  | 79/100 [2:13:02<34:46, 99.33s/it]"
          ],
          "name": "stderr"
        },
        {
          "output_type": "stream",
          "text": [
            "\u001b[37;43;4m\n",
            "[Train. Prediction] Epoch 79, step 61/96......\u001b[0m\n",
            "\u001b[33m\n",
            "id: 53dc4z7HLyg_16_23.avi\n",
            "answer: ['a', 'monkey', 'is', 'teasing', 'a', 'dog']\n",
            "prediction: ['a', 'monkey', 'is', 'a', 'a', 'dog', 'tail']\u001b[0m\n"
          ],
          "name": "stdout"
        },
        {
          "output_type": "stream",
          "text": [
            "Epoch 79, step 81/96, (Training Loss: 2.1327, samp_prob: 0.2387):  79%|███████▉  | 79/100 [2:13:23<34:46, 99.33s/it]"
          ],
          "name": "stderr"
        },
        {
          "output_type": "stream",
          "text": [
            "\u001b[37;43;4m\n",
            "[Train. Prediction] Epoch 79, step 81/96......\u001b[0m\n",
            "\u001b[33m\n",
            "id: i3fd4nE8OCI_174_181.avi\n",
            "answer: ['two', 'men', 'are', 'fighting']\n",
            "prediction: ['two', 'men', 'are', 'fighting']\u001b[0m\n"
          ],
          "name": "stdout"
        },
        {
          "output_type": "stream",
          "text": [
            "Epoch 79, step 95/96, (Training Loss: 2.2516, samp_prob: 0.2387):  80%|████████  | 80/100 [2:13:37<33:06, 99.32s/it]"
          ],
          "name": "stderr"
        },
        {
          "output_type": "stream",
          "text": [
            "\u001b[32;47m\n",
            "[FINISHED] Epoch 79, (Training Loss (average loss in this epoch): 2.2240, samp_prob: 0.2387)\u001b[0m\n"
          ],
          "name": "stdout"
        },
        {
          "output_type": "stream",
          "text": [
            "Epoch 80, step 1/96, (Training Loss: 2.1330, samp_prob: 0.2315):  80%|████████  | 80/100 [2:13:40<33:06, 99.32s/it]"
          ],
          "name": "stderr"
        },
        {
          "output_type": "stream",
          "text": [
            "\u001b[37;43;4m\n",
            "[Train. Prediction] Epoch 80, step 1/96......\u001b[0m\n",
            "\u001b[33m\n",
            "id: W8l_ezoU8Lc_156_162.avi\n",
            "answer: ['a', 'man', 'plays', 'the', 'guitar']\n",
            "prediction: ['a', 'man', 'is', 'playing', 'on']\u001b[0m\n"
          ],
          "name": "stdout"
        },
        {
          "output_type": "stream",
          "text": [
            "Epoch 80, step 21/96, (Training Loss: 2.3096, samp_prob: 0.2315):  80%|████████  | 80/100 [2:14:00<33:06, 99.32s/it]"
          ],
          "name": "stderr"
        },
        {
          "output_type": "stream",
          "text": [
            "\u001b[37;43;4m\n",
            "[Train. Prediction] Epoch 80, step 21/96......\u001b[0m\n",
            "\u001b[33m\n",
            "id: DIebwNHGjm8_133_148.avi\n",
            "answer: ['a', 'woman', 'is', 'riding', 'a', 'jet', 'ski']\n",
            "prediction: ['a', 'woman', 'is', 'riding', 'a', 'jet', 'jet', 'ski', 'ocean']\u001b[0m\n"
          ],
          "name": "stdout"
        },
        {
          "output_type": "stream",
          "text": [
            "Epoch 80, step 41/96, (Training Loss: 2.3571, samp_prob: 0.2315):  80%|████████  | 80/100 [2:14:21<33:06, 99.32s/it]"
          ],
          "name": "stderr"
        },
        {
          "output_type": "stream",
          "text": [
            "\u001b[37;43;4m\n",
            "[Train. Prediction] Epoch 80, step 41/96......\u001b[0m\n",
            "\u001b[33m\n",
            "id: O06WXS_XZN0_0_6.avi\n",
            "answer: ['a', 'man', 'is', 'showing', 'his', 'dog', 'to', 'the', 'camera']\n",
            "prediction: ['a', 'man', 'is', 'a', 'a', 'dog', 'dog']\u001b[0m\n"
          ],
          "name": "stdout"
        },
        {
          "output_type": "stream",
          "text": [
            "Epoch 80, step 61/96, (Training Loss: 2.2158, samp_prob: 0.2315):  80%|████████  | 80/100 [2:14:42<33:06, 99.32s/it]"
          ],
          "name": "stderr"
        },
        {
          "output_type": "stream",
          "text": [
            "\u001b[37;43;4m\n",
            "[Train. Prediction] Epoch 80, step 61/96......\u001b[0m\n",
            "\u001b[33m\n",
            "id: WTf5EgVY5uU_33_39.avi\n",
            "answer: ['the', 'lady', 'sliced', 'an', 'onion']\n",
            "prediction: ['a', 'woman', 'is', 'slicing', 'an', 'onion']\u001b[0m\n"
          ],
          "name": "stdout"
        },
        {
          "output_type": "stream",
          "text": [
            "Epoch 80, step 81/96, (Training Loss: 2.1990, samp_prob: 0.2315):  80%|████████  | 80/100 [2:15:02<33:06, 99.32s/it]"
          ],
          "name": "stderr"
        },
        {
          "output_type": "stream",
          "text": [
            "\u001b[37;43;4m\n",
            "[Train. Prediction] Epoch 80, step 81/96......\u001b[0m\n",
            "\u001b[33m\n",
            "id: bmOy6p87TWI_26_35.avi\n",
            "answer: ['two', 'men', 'are', 'talking', 'to', 'each', 'other']\n",
            "prediction: ['two', 'men', 'are', 'talking']\u001b[0m\n"
          ],
          "name": "stdout"
        },
        {
          "output_type": "stream",
          "text": [
            "Epoch 80, step 95/96, (Training Loss: 2.2025, samp_prob: 0.2315):  80%|████████  | 80/100 [2:15:16<33:06, 99.32s/it]"
          ],
          "name": "stderr"
        },
        {
          "output_type": "stream",
          "text": [
            "\u001b[32;47m\n",
            "[FINISHED] Epoch 80, (Training Loss (average loss in this epoch): 2.2218, samp_prob: 0.2315)\u001b[0m\n",
            "\u001b[37;42;1m\n",
            "Saver saved: /content/drive/My Drive/save_modelssave_net.ckpt-7775\u001b[0m\n",
            "INFO:tensorflow:Restoring parameters from /content/drive/My Drive/save_modelssave_net.ckpt-7775\n"
          ],
          "name": "stdout"
        },
        {
          "output_type": "stream",
          "text": [
            "I0326 20:27:21.313716 140156139370368 saver.py:1292] Restoring parameters from /content/drive/My Drive/save_modelssave_net.ckpt-7775\n"
          ],
          "name": "stderr"
        },
        {
          "output_type": "stream",
          "text": [
            "\u001b[37;42;4m\n",
            "[Val. Prediction] Epoch 80, step 96/96......\u001b[0m\n",
            "\u001b[32m\n",
            "id: ufFT2BWh3BQ_0_8.avi\n",
            "answer: ['two', 'panda', 'cubs', 'are', 'playing']\n",
            "prediction: ['a', 'panda', 'panda', 'is', 'on']\u001b[0m\n",
            "\u001b[32m\n",
            "id: He7Ge7Sogrk_47_70.avi\n",
            "answer: ['an', 'elephant', 'is', 'painting']\n",
            "prediction: ['a', 'person', 'is', 'a', 'a', 'a']\u001b[0m\n",
            "\u001b[32m\n",
            "id: JntMAcTlOF0_50_70.avi\n",
            "answer: ['a', 'boy', 'is', '<UNK>', 'chased']\n",
            "prediction: ['a', 'man', 'is', 'walking', 'a', 'a']\u001b[0m\n",
            "\u001b[32m\n",
            "id: 778mkceE0UQ_40_46.avi\n",
            "answer: ['a', 'red', 'car', 'with', 'two', 'black', '<UNK>', 'on', 'the', '<UNK>', 'is', 'being', 'driven', 'down', 'the', 'street']\n",
            "prediction: ['a', 'car', 'is', 'driving', 'a', 'car']\u001b[0m\n",
            "\u001b[32m\n",
            "id: 8HB7ywgJuTg_131_142.avi\n",
            "answer: ['someone', 'fired', 'rice', 'in', 'a', 'pan']\n",
            "prediction: ['a', 'woman', 'is', 'is', 'some']\u001b[0m\n",
            "\u001b[32m\n",
            "id: 88DOMJ11q2M_84_87.avi\n",
            "answer: ['animation', 'of', 'a', 'woman', 'diving', 'off', 'a', 'diving', 'board']\n",
            "prediction: ['a', 'woman', 'is', 'a', 'a']\u001b[0m\n",
            "\u001b[32m\n",
            "id: cnsjm3fNEec_4_10.avi\n",
            "answer: ['a', 'man', 'is', '<UNK>', 'noodles', 'and', 'ice', 'cream']\n",
            "prediction: ['a', 'man', 'is', 'a', 'a']\u001b[0m\n",
            "\u001b[32m\n",
            "id: g1Gldu1KS44_8_14.avi\n",
            "answer: ['a', 'baby', 'elephant', 'eats', 'a', 'plant']\n",
            "prediction: ['a', 'elephant', 'is', 'is']\u001b[0m\n",
            "\u001b[32m\n",
            "id: s1ZABV7AQdA_38_48.avi\n",
            "answer: ['a', 'group', 'of', 'people', 'chase', 'a', 'man']\n",
            "prediction: ['two', 'are', 'are']\u001b[0m\n",
            "\u001b[32m\n",
            "id: tcxhOGyrCtI_15_21.avi\n",
            "answer: ['a', 'cat', 'is', 'walking', 'slowly', 'in', 'the', 'grass']\n",
            "prediction: ['a', 'cat', 'is', 'is', 'a', 'a']\u001b[0m\n",
            "\n",
            "Save file: /content/drive/My Drive/output.txt\n"
          ],
          "name": "stdout"
        },
        {
          "output_type": "stream",
          "text": [
            "\rEpoch 80, step 95/96, (Training Loss: 2.2025, samp_prob: 0.2315):  81%|████████  | 81/100 [2:15:20<31:47, 100.41s/it]"
          ],
          "name": "stderr"
        },
        {
          "output_type": "stream",
          "text": [
            "\u001b[37;42mValidation: 100/100, done...Total Loss: 3.8956\u001b[0m\n"
          ],
          "name": "stdout"
        },
        {
          "output_type": "stream",
          "text": [
            "Epoch 81, step 1/96, (Training Loss: 2.2655, samp_prob: 0.2244):  81%|████████  | 81/100 [2:15:23<31:47, 100.41s/it]"
          ],
          "name": "stderr"
        },
        {
          "output_type": "stream",
          "text": [
            "\u001b[37;43;4m\n",
            "[Train. Prediction] Epoch 81, step 1/96......\u001b[0m\n",
            "\u001b[33m\n",
            "id: 0hyZ__3YhZc_289_295.avi\n",
            "answer: ['the', 'man', 'added', 'cut', 'vegetables', 'to', 'the', 'pot', 'and', 'oil']\n",
            "prediction: ['a', 'man', 'is', 'adding', 'into', 'a']\u001b[0m\n"
          ],
          "name": "stdout"
        },
        {
          "output_type": "stream",
          "text": [
            "Epoch 81, step 21/96, (Training Loss: 2.1399, samp_prob: 0.2244):  81%|████████  | 81/100 [2:15:43<31:47, 100.41s/it]"
          ],
          "name": "stderr"
        },
        {
          "output_type": "stream",
          "text": [
            "\u001b[37;43;4m\n",
            "[Train. Prediction] Epoch 81, step 21/96......\u001b[0m\n",
            "\u001b[33m\n",
            "id: xb-Nacm-pKc_78_82.avi\n",
            "answer: ['a', 'man', 'is', 'singing', 'and', 'playing', 'the', 'guitar']\n",
            "prediction: ['a', 'man', 'is', 'performing', 'and', 'guitar']\u001b[0m\n"
          ],
          "name": "stdout"
        },
        {
          "output_type": "stream",
          "text": [
            "Epoch 81, step 41/96, (Training Loss: 2.2441, samp_prob: 0.2244):  81%|████████  | 81/100 [2:16:04<31:47, 100.41s/it]"
          ],
          "name": "stderr"
        },
        {
          "output_type": "stream",
          "text": [
            "\u001b[37;43;4m\n",
            "[Train. Prediction] Epoch 81, step 41/96......\u001b[0m\n",
            "\u001b[33m\n",
            "id: aC-KOYQsIvU_25_31.avi\n",
            "answer: ['a', 'person', 'is', 'stirring', 'a', 'small', 'pot', 'on', 'a', 'stove']\n",
            "prediction: ['a', 'is', 'stirring', 'stirring', 'a']\u001b[0m\n"
          ],
          "name": "stdout"
        },
        {
          "output_type": "stream",
          "text": [
            "Epoch 81, step 61/96, (Training Loss: 2.2801, samp_prob: 0.2244):  81%|████████  | 81/100 [2:16:25<31:47, 100.41s/it]"
          ],
          "name": "stderr"
        },
        {
          "output_type": "stream",
          "text": [
            "\u001b[37;43;4m\n",
            "[Train. Prediction] Epoch 81, step 61/96......\u001b[0m\n",
            "\u001b[33m\n",
            "id: nrZyPuRd5pU_85_92.avi\n",
            "answer: ['the', 'orange', 'cat', '<UNK>', 'on', 'the', 'black', 'cat', 'who', 'was', 'waving', 'its', 'arms', 'at', 'it']\n",
            "prediction: ['a', 'cats', 'is', 'playing']\u001b[0m\n"
          ],
          "name": "stdout"
        },
        {
          "output_type": "stream",
          "text": [
            "Epoch 81, step 81/96, (Training Loss: 2.1361, samp_prob: 0.2244):  81%|████████  | 81/100 [2:16:45<31:47, 100.41s/it]"
          ],
          "name": "stderr"
        },
        {
          "output_type": "stream",
          "text": [
            "\u001b[37;43;4m\n",
            "[Train. Prediction] Epoch 81, step 81/96......\u001b[0m\n",
            "\u001b[33m\n",
            "id: Jfu-WkuCgD0_140_150.avi\n",
            "answer: ['a', 'person', 'is', 'holding', 'a', 'hamburger', 'bun']\n",
            "prediction: ['a', 'man', 'is', 'showing', 'a', 'bun']\u001b[0m\n"
          ],
          "name": "stdout"
        },
        {
          "output_type": "stream",
          "text": [
            "Epoch 81, step 95/96, (Training Loss: 2.2035, samp_prob: 0.2244):  82%|████████▏ | 82/100 [2:17:00<30:02, 100.16s/it]"
          ],
          "name": "stderr"
        },
        {
          "output_type": "stream",
          "text": [
            "\u001b[32;47m\n",
            "[FINISHED] Epoch 81, (Training Loss (average loss in this epoch): 2.2156, samp_prob: 0.2244)\u001b[0m\n"
          ],
          "name": "stdout"
        },
        {
          "output_type": "stream",
          "text": [
            "Epoch 82, step 1/96, (Training Loss: 2.1054, samp_prob: 0.2176):  82%|████████▏ | 82/100 [2:17:02<30:02, 100.16s/it]"
          ],
          "name": "stderr"
        },
        {
          "output_type": "stream",
          "text": [
            "\u001b[37;43;4m\n",
            "[Train. Prediction] Epoch 82, step 1/96......\u001b[0m\n",
            "\u001b[33m\n",
            "id: BGG0uYWZBdw_6_12.avi\n",
            "answer: ['the', 'man', 'is', 'doing', 'bicycle', 'tricks']\n",
            "prediction: ['a', 'man', 'is', 'doing', 'bike', 'bike']\u001b[0m\n"
          ],
          "name": "stdout"
        },
        {
          "output_type": "stream",
          "text": [
            "Epoch 82, step 21/96, (Training Loss: 2.2880, samp_prob: 0.2176):  82%|████████▏ | 82/100 [2:17:23<30:02, 100.16s/it]"
          ],
          "name": "stderr"
        },
        {
          "output_type": "stream",
          "text": [
            "\u001b[37;43;4m\n",
            "[Train. Prediction] Epoch 82, step 21/96......\u001b[0m\n",
            "\u001b[33m\n",
            "id: X56XkGFe7OY_47_61.avi\n",
            "answer: ['raccoons', 'are', 'eating', 'food', 'near', 'a', 'fence']\n",
            "prediction: ['raccoons', 'are', 'eating', 'raccoons']\u001b[0m\n"
          ],
          "name": "stdout"
        },
        {
          "output_type": "stream",
          "text": [
            "Epoch 82, step 41/96, (Training Loss: 2.1423, samp_prob: 0.2176):  82%|████████▏ | 82/100 [2:17:44<30:02, 100.16s/it]"
          ],
          "name": "stderr"
        },
        {
          "output_type": "stream",
          "text": [
            "\u001b[37;43;4m\n",
            "[Train. Prediction] Epoch 82, step 41/96......\u001b[0m\n",
            "\u001b[33m\n",
            "id: kWLNZzuo3do_31_37.avi\n",
            "answer: ['a', 'woman', 'is', 'opening', 'something']\n",
            "prediction: ['a', 'woman', 'is', 'a', 'package']\u001b[0m\n"
          ],
          "name": "stdout"
        },
        {
          "output_type": "stream",
          "text": [
            "Epoch 82, step 61/96, (Training Loss: 2.2853, samp_prob: 0.2176):  82%|████████▏ | 82/100 [2:18:04<30:02, 100.16s/it]"
          ],
          "name": "stderr"
        },
        {
          "output_type": "stream",
          "text": [
            "\u001b[37;43;4m\n",
            "[Train. Prediction] Epoch 82, step 61/96......\u001b[0m\n",
            "\u001b[33m\n",
            "id: CHFXTeQWXjo_206_212.avi\n",
            "answer: ['the', 'teacher', 'fought', 'off', 'all', 'of', 'the', 'martial', 'arts', 'students']\n",
            "prediction: ['a', 'man', 'is', 'karate']\u001b[0m\n"
          ],
          "name": "stdout"
        },
        {
          "output_type": "stream",
          "text": [
            "Epoch 82, step 81/96, (Training Loss: 2.1954, samp_prob: 0.2176):  82%|████████▏ | 82/100 [2:18:25<30:02, 100.16s/it]"
          ],
          "name": "stderr"
        },
        {
          "output_type": "stream",
          "text": [
            "\u001b[37;43;4m\n",
            "[Train. Prediction] Epoch 82, step 81/96......\u001b[0m\n",
            "\u001b[33m\n",
            "id: qvg9eM4Hmzk_1_9.avi\n",
            "answer: ['a', 'man', 'is', 'lifting', 'a', 'truck']\n",
            "prediction: ['a', 'man', 'is', 'lifting', 'a', 'truck']\u001b[0m\n"
          ],
          "name": "stdout"
        },
        {
          "output_type": "stream",
          "text": [
            "Epoch 82, step 95/96, (Training Loss: 2.2844, samp_prob: 0.2176):  83%|████████▎ | 83/100 [2:18:39<28:18, 99.90s/it] "
          ],
          "name": "stderr"
        },
        {
          "output_type": "stream",
          "text": [
            "\u001b[32;47m\n",
            "[FINISHED] Epoch 82, (Training Loss (average loss in this epoch): 2.2124, samp_prob: 0.2176)\u001b[0m\n"
          ],
          "name": "stdout"
        },
        {
          "output_type": "stream",
          "text": [
            "Epoch 83, step 1/96, (Training Loss: 2.1323, samp_prob: 0.2108):  83%|████████▎ | 83/100 [2:18:41<28:18, 99.90s/it]"
          ],
          "name": "stderr"
        },
        {
          "output_type": "stream",
          "text": [
            "\u001b[37;43;4m\n",
            "[Train. Prediction] Epoch 83, step 1/96......\u001b[0m\n",
            "\u001b[33m\n",
            "id: X7sQq-Iu1gQ_12_22.avi\n",
            "answer: ['a', 'man', 'is', 'singing']\n",
            "prediction: ['a', 'man', 'is', 'singing', 'a', 'microphone']\u001b[0m\n"
          ],
          "name": "stdout"
        },
        {
          "output_type": "stream",
          "text": [
            "Epoch 83, step 21/96, (Training Loss: 2.2252, samp_prob: 0.2108):  83%|████████▎ | 83/100 [2:19:02<28:18, 99.90s/it]"
          ],
          "name": "stderr"
        },
        {
          "output_type": "stream",
          "text": [
            "\u001b[37;43;4m\n",
            "[Train. Prediction] Epoch 83, step 21/96......\u001b[0m\n",
            "\u001b[33m\n",
            "id: ok4cM6WTA5E_142_150.avi\n",
            "answer: ['a', 'chef', 'pours', 'shredded', '<UNK>', 'into', 'a', 'sauce', 'pan']\n",
            "prediction: ['a', 'person', 'is', 'putting', 'cheese', 'into', 'into', 'pot']\u001b[0m\n"
          ],
          "name": "stdout"
        },
        {
          "output_type": "stream",
          "text": [
            "Epoch 83, step 41/96, (Training Loss: 2.2529, samp_prob: 0.2108):  83%|████████▎ | 83/100 [2:19:23<28:18, 99.90s/it]"
          ],
          "name": "stderr"
        },
        {
          "output_type": "stream",
          "text": [
            "\u001b[37;43;4m\n",
            "[Train. Prediction] Epoch 83, step 41/96......\u001b[0m\n",
            "\u001b[33m\n",
            "id: wpUT0DNB3qs_9_19.avi\n",
            "answer: ['the', 'mammal', 'chewed', 'something', 'in', 'his', 'hands']\n",
            "prediction: ['a', 'animal', 'is', 'eating']\u001b[0m\n"
          ],
          "name": "stdout"
        },
        {
          "output_type": "stream",
          "text": [
            "Epoch 83, step 61/96, (Training Loss: 2.1378, samp_prob: 0.2108):  83%|████████▎ | 83/100 [2:19:44<28:18, 99.90s/it]"
          ],
          "name": "stderr"
        },
        {
          "output_type": "stream",
          "text": [
            "\u001b[37;43;4m\n",
            "[Train. Prediction] Epoch 83, step 61/96......\u001b[0m\n",
            "\u001b[33m\n",
            "id: ysTmUTQ5wZE_17_45.avi\n",
            "answer: ['a', 'panda', 'crawls', 'up', 'a', 'cement', 'step']\n",
            "prediction: ['a', 'baby', 'panda', 'is', 'up', 'a', 'step']\u001b[0m\n"
          ],
          "name": "stdout"
        },
        {
          "output_type": "stream",
          "text": [
            "Epoch 83, step 81/96, (Training Loss: 2.2738, samp_prob: 0.2108):  83%|████████▎ | 83/100 [2:20:04<28:18, 99.90s/it]"
          ],
          "name": "stderr"
        },
        {
          "output_type": "stream",
          "text": [
            "\u001b[37;43;4m\n",
            "[Train. Prediction] Epoch 83, step 81/96......\u001b[0m\n",
            "\u001b[33m\n",
            "id: -zOrV-5vh1A_69_76.avi\n",
            "answer: ['the', 'bouncing', 'balls', 'are', 'moving', 'down', 'the', 'street']\n",
            "prediction: ['a', 'balls', 'bouncing', 'down', 'down', 'bouncing', 'street']\u001b[0m\n"
          ],
          "name": "stdout"
        },
        {
          "output_type": "stream",
          "text": [
            "Epoch 83, step 95/96, (Training Loss: 2.1802, samp_prob: 0.2108):  84%|████████▍ | 84/100 [2:20:18<26:36, 99.77s/it]"
          ],
          "name": "stderr"
        },
        {
          "output_type": "stream",
          "text": [
            "\u001b[32;47m\n",
            "[FINISHED] Epoch 83, (Training Loss (average loss in this epoch): 2.2109, samp_prob: 0.2108)\u001b[0m\n"
          ],
          "name": "stdout"
        },
        {
          "output_type": "stream",
          "text": [
            "Epoch 84, step 1/96, (Training Loss: 2.2416, samp_prob: 0.2042):  84%|████████▍ | 84/100 [2:20:21<26:36, 99.77s/it]"
          ],
          "name": "stderr"
        },
        {
          "output_type": "stream",
          "text": [
            "\u001b[37;43;4m\n",
            "[Train. Prediction] Epoch 84, step 1/96......\u001b[0m\n",
            "\u001b[33m\n",
            "id: s-dSFyz_5Ww_13_23.avi\n",
            "answer: ['women', 'are', 'wrestling']\n",
            "prediction: ['two', 'women', 'are', 'wrestling']\u001b[0m\n"
          ],
          "name": "stdout"
        },
        {
          "output_type": "stream",
          "text": [
            "Epoch 84, step 21/96, (Training Loss: 2.2235, samp_prob: 0.2042):  84%|████████▍ | 84/100 [2:20:42<26:36, 99.77s/it]"
          ],
          "name": "stderr"
        },
        {
          "output_type": "stream",
          "text": [
            "\u001b[37;43;4m\n",
            "[Train. Prediction] Epoch 84, step 21/96......\u001b[0m\n",
            "\u001b[33m\n",
            "id: kquB3rIgfGk_537_544.avi\n",
            "answer: ['a', 'man', 'puts', 'sliced', 'cucumbers', 'in', 'a', 'pitcher', 'of', 'iced', 'water']\n",
            "prediction: ['a', 'man', 'is', 'putting', 'cucumber', 'slices', 'of', 'pitcher']\u001b[0m\n"
          ],
          "name": "stdout"
        },
        {
          "output_type": "stream",
          "text": [
            "Epoch 84, step 41/96, (Training Loss: 2.1873, samp_prob: 0.2042):  84%|████████▍ | 84/100 [2:21:02<26:36, 99.77s/it]"
          ],
          "name": "stderr"
        },
        {
          "output_type": "stream",
          "text": [
            "\u001b[37;43;4m\n",
            "[Train. Prediction] Epoch 84, step 41/96......\u001b[0m\n",
            "\u001b[33m\n",
            "id: lfGlDg47How_110_115.avi\n",
            "answer: ['a', 'man', 'opens', 'a', 'can', 'of', 'seasoning']\n",
            "prediction: ['a', 'man', 'is', 'chili', 'a', 'chili', 'a']\u001b[0m\n"
          ],
          "name": "stdout"
        },
        {
          "output_type": "stream",
          "text": [
            "Epoch 84, step 61/96, (Training Loss: 2.1435, samp_prob: 0.2042):  84%|████████▍ | 84/100 [2:21:23<26:36, 99.77s/it]"
          ],
          "name": "stderr"
        },
        {
          "output_type": "stream",
          "text": [
            "\u001b[37;43;4m\n",
            "[Train. Prediction] Epoch 84, step 61/96......\u001b[0m\n",
            "\u001b[33m\n",
            "id: pFSoWsocv0g_8_17.avi\n",
            "answer: ['two', 'puppies', 'are', 'playing']\n",
            "prediction: ['two', 'puppies', 'and', 'playing']\u001b[0m\n"
          ],
          "name": "stdout"
        },
        {
          "output_type": "stream",
          "text": [
            "Epoch 84, step 81/96, (Training Loss: 2.1866, samp_prob: 0.2042):  84%|████████▍ | 84/100 [2:21:43<26:36, 99.77s/it]"
          ],
          "name": "stderr"
        },
        {
          "output_type": "stream",
          "text": [
            "\u001b[37;43;4m\n",
            "[Train. Prediction] Epoch 84, step 81/96......\u001b[0m\n",
            "\u001b[33m\n",
            "id: 6t0BpjwYKco_105_110.avi\n",
            "answer: ['a', 'woman', 'is', 'pouring', 'some', 'onions', 'into', 'a', 'pot']\n",
            "prediction: ['a', 'is', 'is', 'onions', 'onions']\u001b[0m\n"
          ],
          "name": "stdout"
        },
        {
          "output_type": "stream",
          "text": [
            "Epoch 84, step 95/96, (Training Loss: 2.3038, samp_prob: 0.2042):  85%|████████▌ | 85/100 [2:21:57<24:53, 99.58s/it]"
          ],
          "name": "stderr"
        },
        {
          "output_type": "stream",
          "text": [
            "\u001b[32;47m\n",
            "[FINISHED] Epoch 84, (Training Loss (average loss in this epoch): 2.2049, samp_prob: 0.2042)\u001b[0m\n"
          ],
          "name": "stdout"
        },
        {
          "output_type": "stream",
          "text": [
            "Epoch 85, step 1/96, (Training Loss: 2.1453, samp_prob: 0.1978):  85%|████████▌ | 85/100 [2:22:00<24:53, 99.58s/it]"
          ],
          "name": "stderr"
        },
        {
          "output_type": "stream",
          "text": [
            "\u001b[37;43;4m\n",
            "[Train. Prediction] Epoch 85, step 1/96......\u001b[0m\n",
            "\u001b[33m\n",
            "id: 6owu8Mow0_g_527_534.avi\n",
            "answer: ['a', 'man', 'is', 'sniffing', 'two', 'pizzas']\n",
            "prediction: ['a', 'man', 'is', 'two', 'two']\u001b[0m\n"
          ],
          "name": "stdout"
        },
        {
          "output_type": "stream",
          "text": [
            "Epoch 85, step 21/96, (Training Loss: 2.1498, samp_prob: 0.1978):  85%|████████▌ | 85/100 [2:22:21<24:53, 99.58s/it]"
          ],
          "name": "stderr"
        },
        {
          "output_type": "stream",
          "text": [
            "\u001b[37;43;4m\n",
            "[Train. Prediction] Epoch 85, step 21/96......\u001b[0m\n",
            "\u001b[33m\n",
            "id: _0nX-El-ySo_83_93.avi\n",
            "answer: ['a', 'man', 'is', 'cutting', 'a', 'piece', 'of', 'paper']\n",
            "prediction: ['a', 'man', 'is', 'cutting', 'a', 'paper', 'paper']\u001b[0m\n"
          ],
          "name": "stdout"
        },
        {
          "output_type": "stream",
          "text": [
            "Epoch 85, step 41/96, (Training Loss: 2.2354, samp_prob: 0.1978):  85%|████████▌ | 85/100 [2:22:41<24:53, 99.58s/it]"
          ],
          "name": "stderr"
        },
        {
          "output_type": "stream",
          "text": [
            "\u001b[37;43;4m\n",
            "[Train. Prediction] Epoch 85, step 41/96......\u001b[0m\n",
            "\u001b[33m\n",
            "id: 9LHg5RUGukI_58_63.avi\n",
            "answer: ['a', 'man', 'takes', 'some', 'pastries', 'out', 'of', 'their', 'packaging']\n",
            "prediction: ['a', 'man', 'is', 'food', 'food', 'from', 'from', 'out']\u001b[0m\n"
          ],
          "name": "stdout"
        },
        {
          "output_type": "stream",
          "text": [
            "Epoch 85, step 61/96, (Training Loss: 2.1387, samp_prob: 0.1978):  85%|████████▌ | 85/100 [2:23:02<24:53, 99.58s/it]"
          ],
          "name": "stderr"
        },
        {
          "output_type": "stream",
          "text": [
            "\u001b[37;43;4m\n",
            "[Train. Prediction] Epoch 85, step 61/96......\u001b[0m\n",
            "\u001b[33m\n",
            "id: JsD6uEZsIsU_1_47.avi\n",
            "answer: ['a', 'bearded', 'bald', 'man', 'is', 'playing', 'the', 'guitar']\n",
            "prediction: ['a', 'man', 'is', 'playing', 'a', 'guitar']\u001b[0m\n"
          ],
          "name": "stdout"
        },
        {
          "output_type": "stream",
          "text": [
            "Epoch 85, step 81/96, (Training Loss: 2.2441, samp_prob: 0.1978):  85%|████████▌ | 85/100 [2:23:23<24:53, 99.58s/it]"
          ],
          "name": "stderr"
        },
        {
          "output_type": "stream",
          "text": [
            "\u001b[37;43;4m\n",
            "[Train. Prediction] Epoch 85, step 81/96......\u001b[0m\n",
            "\u001b[33m\n",
            "id: omGWjiwxcTE_18_23.avi\n",
            "answer: ['two', 'men', 'are', 'fighting']\n",
            "prediction: ['two', 'men', 'are', 'fighting']\u001b[0m\n"
          ],
          "name": "stdout"
        },
        {
          "output_type": "stream",
          "text": [
            "Epoch 85, step 95/96, (Training Loss: 2.2387, samp_prob: 0.1978):  86%|████████▌ | 86/100 [2:23:37<23:12, 99.45s/it]"
          ],
          "name": "stderr"
        },
        {
          "output_type": "stream",
          "text": [
            "\u001b[32;47m\n",
            "[FINISHED] Epoch 85, (Training Loss (average loss in this epoch): 2.2020, samp_prob: 0.1978)\u001b[0m\n"
          ],
          "name": "stdout"
        },
        {
          "output_type": "stream",
          "text": [
            "Epoch 86, step 1/96, (Training Loss: 2.2473, samp_prob: 0.1915):  86%|████████▌ | 86/100 [2:23:39<23:12, 99.45s/it]"
          ],
          "name": "stderr"
        },
        {
          "output_type": "stream",
          "text": [
            "\u001b[37;43;4m\n",
            "[Train. Prediction] Epoch 86, step 1/96......\u001b[0m\n",
            "\u001b[33m\n",
            "id: qIXs7fUoLIg_1_11.avi\n",
            "answer: ['a', 'little', 'girl', 'is', 'laughing']\n",
            "prediction: ['a', 'little', 'girl', 'is']\u001b[0m\n"
          ],
          "name": "stdout"
        },
        {
          "output_type": "stream",
          "text": [
            "Epoch 86, step 21/96, (Training Loss: 2.0876, samp_prob: 0.1915):  86%|████████▌ | 86/100 [2:24:00<23:12, 99.45s/it]"
          ],
          "name": "stderr"
        },
        {
          "output_type": "stream",
          "text": [
            "\u001b[37;43;4m\n",
            "[Train. Prediction] Epoch 86, step 21/96......\u001b[0m\n",
            "\u001b[33m\n",
            "id: BvHnDAsMtUA_0_13.avi\n",
            "answer: ['a', 'cat', 'attacks', 'a', 'toy']\n",
            "prediction: ['a', 'cat', 'is', 'jumping', 'a', 'a']\u001b[0m\n"
          ],
          "name": "stdout"
        },
        {
          "output_type": "stream",
          "text": [
            "Epoch 86, step 41/96, (Training Loss: 2.2177, samp_prob: 0.1915):  86%|████████▌ | 86/100 [2:24:21<23:12, 99.45s/it]"
          ],
          "name": "stderr"
        },
        {
          "output_type": "stream",
          "text": [
            "\u001b[37;43;4m\n",
            "[Train. Prediction] Epoch 86, step 41/96......\u001b[0m\n",
            "\u001b[33m\n",
            "id: vloe_60s_dk_0_9.avi\n",
            "answer: ['the', 'man', 'is', 'shooting', 'a', 'gun']\n",
            "prediction: ['a', 'man', 'is', 'a', 'gun']\u001b[0m\n"
          ],
          "name": "stdout"
        },
        {
          "output_type": "stream",
          "text": [
            "Epoch 86, step 61/96, (Training Loss: 2.0989, samp_prob: 0.1915):  86%|████████▌ | 86/100 [2:24:41<23:12, 99.45s/it]"
          ],
          "name": "stderr"
        },
        {
          "output_type": "stream",
          "text": [
            "\u001b[37;43;4m\n",
            "[Train. Prediction] Epoch 86, step 61/96......\u001b[0m\n",
            "\u001b[33m\n",
            "id: 8PQiaurIiDM_173_180.avi\n",
            "answer: ['a', 'man', 'is', 'cutting', 'meat', 'with', 'a', 'sword']\n",
            "prediction: ['a', 'man', 'is', 'a', 'a', 'a', 'sword']\u001b[0m\n"
          ],
          "name": "stdout"
        },
        {
          "output_type": "stream",
          "text": [
            "Epoch 86, step 81/96, (Training Loss: 2.1118, samp_prob: 0.1915):  86%|████████▌ | 86/100 [2:25:02<23:12, 99.45s/it]"
          ],
          "name": "stderr"
        },
        {
          "output_type": "stream",
          "text": [
            "\u001b[37;43;4m\n",
            "[Train. Prediction] Epoch 86, step 81/96......\u001b[0m\n",
            "\u001b[33m\n",
            "id: aHiUM8uWxxo_17_25.avi\n",
            "answer: ['a', 'boy', '<UNK>', 'a', 'remote', 'controlled', 'plane', 'in', 'the', 'air']\n",
            "prediction: ['two', 'men', 'are', 'a', 'a', 'airplane']\u001b[0m\n"
          ],
          "name": "stdout"
        },
        {
          "output_type": "stream",
          "text": [
            "Epoch 86, step 95/96, (Training Loss: 2.2294, samp_prob: 0.1915):  87%|████████▋ | 87/100 [2:25:16<21:31, 99.36s/it]"
          ],
          "name": "stderr"
        },
        {
          "output_type": "stream",
          "text": [
            "\u001b[32;47m\n",
            "[FINISHED] Epoch 86, (Training Loss (average loss in this epoch): 2.1999, samp_prob: 0.1915)\u001b[0m\n"
          ],
          "name": "stdout"
        },
        {
          "output_type": "stream",
          "text": [
            "Epoch 87, step 1/96, (Training Loss: 2.2255, samp_prob: 0.1854):  87%|████████▋ | 87/100 [2:25:18<21:31, 99.36s/it]"
          ],
          "name": "stderr"
        },
        {
          "output_type": "stream",
          "text": [
            "\u001b[37;43;4m\n",
            "[Train. Prediction] Epoch 87, step 1/96......\u001b[0m\n",
            "\u001b[33m\n",
            "id: sTMlQSbAGfE_0_12.avi\n",
            "answer: ['a', 'man', 'petting', 'a', 'crocodile']\n",
            "prediction: ['a', 'man', 'is', 'petting', 'crocodile']\u001b[0m\n"
          ],
          "name": "stdout"
        },
        {
          "output_type": "stream",
          "text": [
            "Epoch 87, step 21/96, (Training Loss: 2.2325, samp_prob: 0.1854):  87%|████████▋ | 87/100 [2:25:39<21:31, 99.36s/it]"
          ],
          "name": "stderr"
        },
        {
          "output_type": "stream",
          "text": [
            "\u001b[37;43;4m\n",
            "[Train. Prediction] Epoch 87, step 21/96......\u001b[0m\n",
            "\u001b[33m\n",
            "id: auFXfsCzAvQ_1_15.avi\n",
            "answer: ['a', 'dog', 'is', 'walking', 'along', 'the', 'edge', 'of', 'a', 'pool']\n",
            "prediction: ['a', 'dog', 'is', 'walking', 'the', 'the', 'pool']\u001b[0m\n"
          ],
          "name": "stdout"
        },
        {
          "output_type": "stream",
          "text": [
            "Epoch 87, step 41/96, (Training Loss: 2.1639, samp_prob: 0.1854):  87%|████████▋ | 87/100 [2:26:00<21:31, 99.36s/it]"
          ],
          "name": "stderr"
        },
        {
          "output_type": "stream",
          "text": [
            "\u001b[37;43;4m\n",
            "[Train. Prediction] Epoch 87, step 41/96......\u001b[0m\n",
            "\u001b[33m\n",
            "id: qzQzooI4BqU_5_15.avi\n",
            "answer: ['a', 'man', 'is', 'playing', 'a', 'wooden', 'flute']\n",
            "prediction: ['a', 'man', 'is', 'playing', 'flute', 'flute']\u001b[0m\n"
          ],
          "name": "stdout"
        },
        {
          "output_type": "stream",
          "text": [
            "Epoch 87, step 61/96, (Training Loss: 2.1344, samp_prob: 0.1854):  87%|████████▋ | 87/100 [2:26:20<21:31, 99.36s/it]"
          ],
          "name": "stderr"
        },
        {
          "output_type": "stream",
          "text": [
            "\u001b[37;43;4m\n",
            "[Train. Prediction] Epoch 87, step 61/96......\u001b[0m\n",
            "\u001b[33m\n",
            "id: X0UJaprpxrk_18_26.avi\n",
            "answer: ['two', 'men', 'are', 'flying', 'a', 'helicopter']\n",
            "prediction: ['batman', 'are', 'robin', 'flying', 'a', 'helicopter', 'helicopter', 'helicopter']\u001b[0m\n"
          ],
          "name": "stdout"
        },
        {
          "output_type": "stream",
          "text": [
            "Epoch 87, step 81/96, (Training Loss: 2.1929, samp_prob: 0.1854):  87%|████████▋ | 87/100 [2:26:41<21:31, 99.36s/it]"
          ],
          "name": "stderr"
        },
        {
          "output_type": "stream",
          "text": [
            "\u001b[37;43;4m\n",
            "[Train. Prediction] Epoch 87, step 81/96......\u001b[0m\n",
            "\u001b[33m\n",
            "id: NjCqtzZ3OtU_62_67.avi\n",
            "answer: ['a', 'woman', 'is', 'filling', 'water', 'into', 'a', 'steel', 'saucepan', 'from', 'the', 'tap', 'of', 'the', 'kitchen', 'sink']\n",
            "prediction: ['a', 'woman', 'is', 'filling', 'water', 'water']\u001b[0m\n"
          ],
          "name": "stdout"
        },
        {
          "output_type": "stream",
          "text": [
            "Epoch 87, step 95/96, (Training Loss: 2.1708, samp_prob: 0.1854):  88%|████████▊ | 88/100 [2:26:55<19:51, 99.26s/it]"
          ],
          "name": "stderr"
        },
        {
          "output_type": "stream",
          "text": [
            "\u001b[32;47m\n",
            "[FINISHED] Epoch 87, (Training Loss (average loss in this epoch): 2.1976, samp_prob: 0.1854)\u001b[0m\n"
          ],
          "name": "stdout"
        },
        {
          "output_type": "stream",
          "text": [
            "Epoch 88, step 1/96, (Training Loss: 2.0031, samp_prob: 0.1795):  88%|████████▊ | 88/100 [2:26:57<19:51, 99.26s/it]"
          ],
          "name": "stderr"
        },
        {
          "output_type": "stream",
          "text": [
            "\u001b[37;43;4m\n",
            "[Train. Prediction] Epoch 88, step 1/96......\u001b[0m\n",
            "\u001b[33m\n",
            "id: JIoiUNOXGaI_34_41.avi\n",
            "answer: ['a', 'woman', 'is', 'rinsing', 'off', 'a', 'bowl']\n",
            "prediction: ['a', 'girl', 'is', 'rinsing', 'a', 'a']\u001b[0m\n"
          ],
          "name": "stdout"
        },
        {
          "output_type": "stream",
          "text": [
            "Epoch 88, step 21/96, (Training Loss: 2.0607, samp_prob: 0.1795):  88%|████████▊ | 88/100 [2:27:18<19:51, 99.26s/it]"
          ],
          "name": "stderr"
        },
        {
          "output_type": "stream",
          "text": [
            "\u001b[37;43;4m\n",
            "[Train. Prediction] Epoch 88, step 21/96......\u001b[0m\n",
            "\u001b[33m\n",
            "id: ljGcQocjSs4_38_60.avi\n",
            "answer: ['a', 'guy', 'is', 'shooting', 'a', 'gun']\n",
            "prediction: ['a', 'man', 'is', 'shooting', 'a', 'targets']\u001b[0m\n"
          ],
          "name": "stdout"
        },
        {
          "output_type": "stream",
          "text": [
            "Epoch 88, step 41/96, (Training Loss: 2.2323, samp_prob: 0.1795):  88%|████████▊ | 88/100 [2:27:39<19:51, 99.26s/it]"
          ],
          "name": "stderr"
        },
        {
          "output_type": "stream",
          "text": [
            "\u001b[37;43;4m\n",
            "[Train. Prediction] Epoch 88, step 41/96......\u001b[0m\n",
            "\u001b[33m\n",
            "id: LF51fban_x4_300_325.avi\n",
            "answer: ['a', 'hotel', '<UNK>', 'is', 'preparing', 'bed']\n",
            "prediction: ['a', 'man', 'is', 'making', 'bed']\u001b[0m\n"
          ],
          "name": "stdout"
        },
        {
          "output_type": "stream",
          "text": [
            "Epoch 88, step 61/96, (Training Loss: 2.1354, samp_prob: 0.1795):  88%|████████▊ | 88/100 [2:27:59<19:51, 99.26s/it]"
          ],
          "name": "stderr"
        },
        {
          "output_type": "stream",
          "text": [
            "\u001b[37;43;4m\n",
            "[Train. Prediction] Epoch 88, step 61/96......\u001b[0m\n",
            "\u001b[33m\n",
            "id: WPG-BIWOrG4_608_613.avi\n",
            "answer: ['a', 'man', 'is', 'cutting', 'tomato']\n",
            "prediction: ['a', 'man', 'is', 'a', 'a', 'a']\u001b[0m\n"
          ],
          "name": "stdout"
        },
        {
          "output_type": "stream",
          "text": [
            "Epoch 88, step 81/96, (Training Loss: 2.2840, samp_prob: 0.1795):  88%|████████▊ | 88/100 [2:28:20<19:51, 99.26s/it]"
          ],
          "name": "stderr"
        },
        {
          "output_type": "stream",
          "text": [
            "\u001b[37;43;4m\n",
            "[Train. Prediction] Epoch 88, step 81/96......\u001b[0m\n",
            "\u001b[33m\n",
            "id: qeKX-N1nKiM_133_142.avi\n",
            "answer: ['sliced', 'vegetables', 'are', 'dipped', 'in', 'batter', 'and', 'deep', 'fried']\n",
            "prediction: ['a', 'person', 'is', 'is', 'vegetables']\u001b[0m\n"
          ],
          "name": "stdout"
        },
        {
          "output_type": "stream",
          "text": [
            "Epoch 88, step 95/96, (Training Loss: 2.2464, samp_prob: 0.1795):  89%|████████▉ | 89/100 [2:28:34<18:12, 99.28s/it]"
          ],
          "name": "stderr"
        },
        {
          "output_type": "stream",
          "text": [
            "\u001b[32;47m\n",
            "[FINISHED] Epoch 88, (Training Loss (average loss in this epoch): 2.1925, samp_prob: 0.1795)\u001b[0m\n"
          ],
          "name": "stdout"
        },
        {
          "output_type": "stream",
          "text": [
            "Epoch 89, step 1/96, (Training Loss: 2.1609, samp_prob: 0.1736):  89%|████████▉ | 89/100 [2:28:37<18:12, 99.28s/it]"
          ],
          "name": "stderr"
        },
        {
          "output_type": "stream",
          "text": [
            "\u001b[37;43;4m\n",
            "[Train. Prediction] Epoch 89, step 1/96......\u001b[0m\n",
            "\u001b[33m\n",
            "id: 6gQu8PWhFoQ_30_35.avi\n",
            "answer: ['a', 'motor', 'bike', 'is', 'crashing', 'into', 'water']\n",
            "prediction: ['a', 'man', 'is', 'a', 'a', 'water']\u001b[0m\n"
          ],
          "name": "stdout"
        },
        {
          "output_type": "stream",
          "text": [
            "Epoch 89, step 21/96, (Training Loss: 2.1901, samp_prob: 0.1736):  89%|████████▉ | 89/100 [2:28:57<18:12, 99.28s/it]"
          ],
          "name": "stderr"
        },
        {
          "output_type": "stream",
          "text": [
            "\u001b[37;43;4m\n",
            "[Train. Prediction] Epoch 89, step 21/96......\u001b[0m\n",
            "\u001b[33m\n",
            "id: 5-8z5U-o4O4_0_3.avi\n",
            "answer: ['many', 'horses', 'run', 'on', 'a', 'racetrack']\n",
            "prediction: ['horses', 'are', 'are', 'on']\u001b[0m\n"
          ],
          "name": "stdout"
        },
        {
          "output_type": "stream",
          "text": [
            "Epoch 89, step 41/96, (Training Loss: 2.2046, samp_prob: 0.1736):  89%|████████▉ | 89/100 [2:29:19<18:12, 99.28s/it]"
          ],
          "name": "stderr"
        },
        {
          "output_type": "stream",
          "text": [
            "\u001b[37;43;4m\n",
            "[Train. Prediction] Epoch 89, step 41/96......\u001b[0m\n",
            "\u001b[33m\n",
            "id: 0hyZ__3YhZc_352_356.avi\n",
            "answer: ['the', 'man', 'poured', 'tomatoe', 'sauce', 'into', 'the', 'pot', 'of', 'vegetables']\n",
            "prediction: ['someone', 'man', 'is', 'tomato', 'into', 'into', 'into']\u001b[0m\n"
          ],
          "name": "stdout"
        },
        {
          "output_type": "stream",
          "text": [
            "Epoch 89, step 61/96, (Training Loss: 2.2992, samp_prob: 0.1736):  89%|████████▉ | 89/100 [2:29:40<18:12, 99.28s/it]"
          ],
          "name": "stderr"
        },
        {
          "output_type": "stream",
          "text": [
            "\u001b[37;43;4m\n",
            "[Train. Prediction] Epoch 89, step 61/96......\u001b[0m\n",
            "\u001b[33m\n",
            "id: VahnQw2gTQY_288_293.avi\n",
            "answer: ['a', 'chef', 'is', 'slicing', 'up', 'a', 'pepper']\n",
            "prediction: ['a', 'person', 'is', 'a', 'pepper', 'pepper']\u001b[0m\n"
          ],
          "name": "stdout"
        },
        {
          "output_type": "stream",
          "text": [
            "Epoch 89, step 81/96, (Training Loss: 2.2140, samp_prob: 0.1736):  89%|████████▉ | 89/100 [2:30:00<18:12, 99.28s/it]"
          ],
          "name": "stderr"
        },
        {
          "output_type": "stream",
          "text": [
            "\u001b[37;43;4m\n",
            "[Train. Prediction] Epoch 89, step 81/96......\u001b[0m\n",
            "\u001b[33m\n",
            "id: 05gNigkqfNU_78_84.avi\n",
            "answer: ['a', 'boiled', 'egg', 'is', 'cut', 'four', '<UNK>']\n",
            "prediction: ['a', 'woman', 'is', 'cutting', 'a']\u001b[0m\n"
          ],
          "name": "stdout"
        },
        {
          "output_type": "stream",
          "text": [
            "Epoch 89, step 95/96, (Training Loss: 2.2572, samp_prob: 0.1736):  90%|█████████ | 90/100 [2:30:14<16:35, 99.60s/it]"
          ],
          "name": "stderr"
        },
        {
          "output_type": "stream",
          "text": [
            "\u001b[32;47m\n",
            "[FINISHED] Epoch 89, (Training Loss (average loss in this epoch): 2.1870, samp_prob: 0.1736)\u001b[0m\n"
          ],
          "name": "stdout"
        },
        {
          "output_type": "stream",
          "text": [
            "Epoch 90, step 1/96, (Training Loss: 2.1928, samp_prob: 0.1680):  90%|█████████ | 90/100 [2:30:17<16:35, 99.60s/it]"
          ],
          "name": "stderr"
        },
        {
          "output_type": "stream",
          "text": [
            "\u001b[37;43;4m\n",
            "[Train. Prediction] Epoch 90, step 1/96......\u001b[0m\n",
            "\u001b[33m\n",
            "id: buJ5HDCinrM_150_166.avi\n",
            "answer: ['a', 'woman', 'applies', 'a', '<UNK>', 'to', 'the', 'lower', 'portion', 'of', 'her', 'right', 'cheek', 'and', 'blends', 'it', 'using', 'her', 'fingers', 'to', 'get', 'a', '<UNK>', 'look']\n",
            "prediction: ['a', 'woman', 'is', 'putting', 'makeup']\u001b[0m\n"
          ],
          "name": "stdout"
        },
        {
          "output_type": "stream",
          "text": [
            "Epoch 90, step 21/96, (Training Loss: 2.0829, samp_prob: 0.1680):  90%|█████████ | 90/100 [2:30:38<16:35, 99.60s/it]"
          ],
          "name": "stderr"
        },
        {
          "output_type": "stream",
          "text": [
            "\u001b[37;43;4m\n",
            "[Train. Prediction] Epoch 90, step 21/96......\u001b[0m\n",
            "\u001b[33m\n",
            "id: BnJUWwSx1kE_11_22.avi\n",
            "answer: ['a', 'giant', 'hamster', 'is', 'walking', 'across', 'the', 'ground']\n",
            "prediction: ['a', 'wombat', 'is', 'walking']\u001b[0m\n"
          ],
          "name": "stdout"
        },
        {
          "output_type": "stream",
          "text": [
            "Epoch 90, step 41/96, (Training Loss: 2.1837, samp_prob: 0.1680):  90%|█████████ | 90/100 [2:30:58<16:35, 99.60s/it]"
          ],
          "name": "stderr"
        },
        {
          "output_type": "stream",
          "text": [
            "\u001b[37;43;4m\n",
            "[Train. Prediction] Epoch 90, step 41/96......\u001b[0m\n",
            "\u001b[33m\n",
            "id: nZSFn51l3hc_480_485.avi\n",
            "answer: ['a', 'person', 'is', 'cutting', 'up', 'some', 'ribs']\n",
            "prediction: ['a', 'person', 'is', 'cutting', 'some']\u001b[0m\n"
          ],
          "name": "stdout"
        },
        {
          "output_type": "stream",
          "text": [
            "Epoch 90, step 61/96, (Training Loss: 2.1844, samp_prob: 0.1680):  90%|█████████ | 90/100 [2:31:19<16:35, 99.60s/it]"
          ],
          "name": "stderr"
        },
        {
          "output_type": "stream",
          "text": [
            "\u001b[37;43;4m\n",
            "[Train. Prediction] Epoch 90, step 61/96......\u001b[0m\n",
            "\u001b[33m\n",
            "id: kWLNZzuo3do_48_53.avi\n",
            "answer: ['a', 'woman', 'cuts', 'off', 'a', 'small', 'piece', 'of', 'lemon', 'rind']\n",
            "prediction: ['a', 'woman', 'is', 'cutting', 'lemon']\u001b[0m\n"
          ],
          "name": "stdout"
        },
        {
          "output_type": "stream",
          "text": [
            "Epoch 90, step 81/96, (Training Loss: 2.3300, samp_prob: 0.1680):  90%|█████████ | 90/100 [2:31:40<16:35, 99.60s/it]"
          ],
          "name": "stderr"
        },
        {
          "output_type": "stream",
          "text": [
            "\u001b[37;43;4m\n",
            "[Train. Prediction] Epoch 90, step 81/96......\u001b[0m\n",
            "\u001b[33m\n",
            "id: qvg9eM4Hmzk_1_9.avi\n",
            "answer: ['a', 'man', 'is', 'lifting', 'a', 'car']\n",
            "prediction: ['a', 'man', 'lifted', 'lifting', 'a', 'truck']\u001b[0m\n"
          ],
          "name": "stdout"
        },
        {
          "output_type": "stream",
          "text": [
            "Epoch 90, step 95/96, (Training Loss: 2.3156, samp_prob: 0.1680):  90%|█████████ | 90/100 [2:31:54<16:35, 99.60s/it]"
          ],
          "name": "stderr"
        },
        {
          "output_type": "stream",
          "text": [
            "\u001b[32;47m\n",
            "[FINISHED] Epoch 90, (Training Loss (average loss in this epoch): 2.1863, samp_prob: 0.1680)\u001b[0m\n",
            "\u001b[37;42;1m\n",
            "Saver saved: /content/drive/My Drive/save_modelssave_net.ckpt-8735\u001b[0m\n",
            "INFO:tensorflow:Restoring parameters from /content/drive/My Drive/save_modelssave_net.ckpt-8735\n"
          ],
          "name": "stdout"
        },
        {
          "output_type": "stream",
          "text": [
            "I0326 20:43:58.809762 140156139370368 saver.py:1292] Restoring parameters from /content/drive/My Drive/save_modelssave_net.ckpt-8735\n"
          ],
          "name": "stderr"
        },
        {
          "output_type": "stream",
          "text": [
            "\u001b[37;42;4m\n",
            "[Val. Prediction] Epoch 90, step 96/96......\u001b[0m\n",
            "\u001b[32m\n",
            "id: 4PcL6-mjRNk_11_18.avi\n",
            "answer: ['a', 'dog', '<UNK>', 'his', 'ball', 'to', 'a', 'machine']\n",
            "prediction: ['a', 'dog', 'is', 'a', 'a', 'a']\u001b[0m\n",
            "\u001b[32m\n",
            "id: 6q1dX6thX3E_286_295.avi\n",
            "answer: ['the', 'man', 'is', 'talking', 'on', 'the', 'phone']\n",
            "prediction: ['a', 'man', 'is', 'is', 'a', 'a']\u001b[0m\n",
            "\u001b[32m\n",
            "id: e-j59PqJjSM_405_416.avi\n",
            "answer: ['a', 'man', 'is', 'stirring', 'a', 'bowl', 'of', 'food']\n",
            "prediction: ['a', 'person', 'is', 'adding', 'a', 'a', 'a']\u001b[0m\n",
            "\u001b[32m\n",
            "id: Dgf0VHMEtNs_57_66.avi\n",
            "answer: ['<UNK>', 'are', 'operating', 'on', 'a', 'man']\n",
            "prediction: ['a', 'man', 'is', 'a', 'a']\u001b[0m\n",
            "\u001b[32m\n",
            "id: j2Dhf-xFUxU_13_20.avi\n",
            "answer: ['a', 'person', 'is', 'slicing', 'a', 'stack', 'of', '<UNK>']\n",
            "prediction: ['a', 'woman', 'is', 'slicing', 'a']\u001b[0m\n",
            "\u001b[32m\n",
            "id: MTjrZthHwJQ_2_11.avi\n",
            "answer: ['dogs', 'are', 'swimming', 'in', 'a', 'pool']\n",
            "prediction: ['a', 'dog', 'is', 'in', 'a']\u001b[0m\n",
            "\u001b[32m\n",
            "id: ZbtpcGi2DWY_161_170.avi\n",
            "answer: ['the', 'polar', 'bear', 'came', 'down', 'the', '<UNK>']\n",
            "prediction: ['a', 'baby', 'is', 'a', 'a']\u001b[0m\n",
            "\u001b[32m\n",
            "id: zv2RIbUsnSw_335_341.avi\n",
            "answer: ['a', 'woman', 'is', 'riding', 'on', 'a', 'hospital', 'stretcher']\n",
            "prediction: ['a', 'man', 'is', 'a', 'a']\u001b[0m\n",
            "\u001b[32m\n",
            "id: lo4KcsBN--A_0_10.avi\n",
            "answer: ['a', 'turtle', 'is', 'walking', 'underwater']\n",
            "prediction: ['a', 'man', 'is', 'a', 'a', 'a']\u001b[0m\n",
            "\u001b[32m\n",
            "id: WTf5EgVY5uU_124_128.avi\n",
            "answer: ['a', 'person', 'pours', 'ingredients', 'into', 'a', 'pan']\n",
            "prediction: ['a', 'woman', 'is', 'is', 'oil', 'a']\u001b[0m\n",
            "\n",
            "Save file: /content/drive/My Drive/output.txt\n"
          ],
          "name": "stdout"
        },
        {
          "output_type": "stream",
          "text": [
            "\rEpoch 90, step 95/96, (Training Loss: 2.3156, samp_prob: 0.1680):  91%|█████████ | 91/100 [2:31:57<15:04, 100.55s/it]"
          ],
          "name": "stderr"
        },
        {
          "output_type": "stream",
          "text": [
            "\u001b[37;42mValidation: 100/100, done...Total Loss: 3.7463\u001b[0m\n"
          ],
          "name": "stdout"
        },
        {
          "output_type": "stream",
          "text": [
            "Epoch 91, step 1/96, (Training Loss: 2.2267, samp_prob: 0.1625):  91%|█████████ | 91/100 [2:32:00<15:04, 100.55s/it]"
          ],
          "name": "stderr"
        },
        {
          "output_type": "stream",
          "text": [
            "\u001b[37;43;4m\n",
            "[Train. Prediction] Epoch 91, step 1/96......\u001b[0m\n",
            "\u001b[33m\n",
            "id: NKtfKR4GNjU_0_20.avi\n",
            "answer: ['the', 'baseball', '<UNK>', 'was', 'up', 'at', 'bat']\n",
            "prediction: ['a', 'baseball', 'swings', 'baseball', 'a', 'baseball']\u001b[0m\n"
          ],
          "name": "stdout"
        },
        {
          "output_type": "stream",
          "text": [
            "Epoch 91, step 21/96, (Training Loss: 2.1732, samp_prob: 0.1625):  91%|█████████ | 91/100 [2:32:21<15:04, 100.55s/it]"
          ],
          "name": "stderr"
        },
        {
          "output_type": "stream",
          "text": [
            "\u001b[37;43;4m\n",
            "[Train. Prediction] Epoch 91, step 21/96......\u001b[0m\n",
            "\u001b[33m\n",
            "id: N5wsl86P37Q_1_15.avi\n",
            "answer: ['a', 'man', 'plays', 'a', 'keyboard']\n",
            "prediction: ['a', 'man', 'is', 'playing', 'a']\u001b[0m\n"
          ],
          "name": "stdout"
        },
        {
          "output_type": "stream",
          "text": [
            "Epoch 91, step 41/96, (Training Loss: 2.2077, samp_prob: 0.1625):  91%|█████████ | 91/100 [2:32:41<15:04, 100.55s/it]"
          ],
          "name": "stderr"
        },
        {
          "output_type": "stream",
          "text": [
            "\u001b[37;43;4m\n",
            "[Train. Prediction] Epoch 91, step 41/96......\u001b[0m\n",
            "\u001b[33m\n",
            "id: sBjr8UJOpsQ_181_195.avi\n",
            "answer: ['a', 'woman', 'is', 'dancing']\n",
            "prediction: ['a', 'woman', 'is', 'dancing', 'a']\u001b[0m\n"
          ],
          "name": "stdout"
        },
        {
          "output_type": "stream",
          "text": [
            "Epoch 91, step 61/96, (Training Loss: 2.1879, samp_prob: 0.1625):  91%|█████████ | 91/100 [2:33:02<15:04, 100.55s/it]"
          ],
          "name": "stderr"
        },
        {
          "output_type": "stream",
          "text": [
            "\u001b[37;43;4m\n",
            "[Train. Prediction] Epoch 91, step 61/96......\u001b[0m\n",
            "\u001b[33m\n",
            "id: fqly5kyO2MI_10_20.avi\n",
            "answer: ['a', 'jackal', 'is', 'running', 'through', 'grass']\n",
            "prediction: ['a', 'jackal', 'is', 'running', 'hunting', 'a']\u001b[0m\n"
          ],
          "name": "stdout"
        },
        {
          "output_type": "stream",
          "text": [
            "Epoch 91, step 81/96, (Training Loss: 2.0970, samp_prob: 0.1625):  91%|█████████ | 91/100 [2:33:23<15:04, 100.55s/it]"
          ],
          "name": "stderr"
        },
        {
          "output_type": "stream",
          "text": [
            "\u001b[37;43;4m\n",
            "[Train. Prediction] Epoch 91, step 81/96......\u001b[0m\n",
            "\u001b[33m\n",
            "id: Z10_CDPQKKs_1_6.avi\n",
            "answer: ['a', 'boy', 'pushes', 'a', 'boy', 'on', 'a', 'pogo', 'stick']\n",
            "prediction: ['a', 'boy', 'is', 'pushed', 'a', 'pogo', 'pogo', 'pogo', 'stick', 'pogo']\u001b[0m\n"
          ],
          "name": "stdout"
        },
        {
          "output_type": "stream",
          "text": [
            "Epoch 91, step 95/96, (Training Loss: 2.0931, samp_prob: 0.1625):  92%|█████████▏| 92/100 [2:33:37<13:22, 100.27s/it]"
          ],
          "name": "stderr"
        },
        {
          "output_type": "stream",
          "text": [
            "\u001b[32;47m\n",
            "[FINISHED] Epoch 91, (Training Loss (average loss in this epoch): 2.1835, samp_prob: 0.1625)\u001b[0m\n"
          ],
          "name": "stdout"
        },
        {
          "output_type": "stream",
          "text": [
            "Epoch 92, step 1/96, (Training Loss: 2.2053, samp_prob: 0.1571):  92%|█████████▏| 92/100 [2:33:39<13:22, 100.27s/it]"
          ],
          "name": "stderr"
        },
        {
          "output_type": "stream",
          "text": [
            "\u001b[37;43;4m\n",
            "[Train. Prediction] Epoch 92, step 1/96......\u001b[0m\n",
            "\u001b[33m\n",
            "id: iwpnUHFhjWc_84_94.avi\n",
            "answer: ['a', 'lady', 'danced', 'on', 'a', 'rooftop']\n",
            "prediction: ['a', 'woman', 'is', 'dancing', 'a']\u001b[0m\n"
          ],
          "name": "stdout"
        },
        {
          "output_type": "stream",
          "text": [
            "Epoch 92, step 21/96, (Training Loss: 2.0805, samp_prob: 0.1571):  92%|█████████▏| 92/100 [2:34:00<13:22, 100.27s/it]"
          ],
          "name": "stderr"
        },
        {
          "output_type": "stream",
          "text": [
            "\u001b[37;43;4m\n",
            "[Train. Prediction] Epoch 92, step 21/96......\u001b[0m\n",
            "\u001b[33m\n",
            "id: OfgSCMxttCc_86_92.avi\n",
            "answer: ['a', 'man', 'shows', 'us', 'a', 'youtube', 'shirt']\n",
            "prediction: ['a', 'man', 'is', 'showing', 'a', 't-shirt']\u001b[0m\n"
          ],
          "name": "stdout"
        },
        {
          "output_type": "stream",
          "text": [
            "Epoch 92, step 41/96, (Training Loss: 2.2151, samp_prob: 0.1571):  92%|█████████▏| 92/100 [2:34:21<13:22, 100.27s/it]"
          ],
          "name": "stderr"
        },
        {
          "output_type": "stream",
          "text": [
            "\u001b[37;43;4m\n",
            "[Train. Prediction] Epoch 92, step 41/96......\u001b[0m\n",
            "\u001b[33m\n",
            "id: nq4hG6qgyPs_240_251.avi\n",
            "answer: ['a', 'person', 'is', 'slicing', 'an', 'onion']\n",
            "prediction: ['a', 'man', 'is', 'an', 'onion']\u001b[0m\n"
          ],
          "name": "stdout"
        },
        {
          "output_type": "stream",
          "text": [
            "Epoch 92, step 61/96, (Training Loss: 2.1902, samp_prob: 0.1571):  92%|█████████▏| 92/100 [2:34:42<13:22, 100.27s/it]"
          ],
          "name": "stderr"
        },
        {
          "output_type": "stream",
          "text": [
            "\u001b[37;43;4m\n",
            "[Train. Prediction] Epoch 92, step 61/96......\u001b[0m\n",
            "\u001b[33m\n",
            "id: po2tcrG6KzM_2_8.avi\n",
            "answer: ['the', 'man', 'is', 'playing', 'the', 'keyboards']\n",
            "prediction: ['a', 'man', 'is', 'playing', 'keyboard']\u001b[0m\n"
          ],
          "name": "stdout"
        },
        {
          "output_type": "stream",
          "text": [
            "Epoch 92, step 81/96, (Training Loss: 2.2300, samp_prob: 0.1571):  92%|█████████▏| 92/100 [2:35:02<13:22, 100.27s/it]"
          ],
          "name": "stderr"
        },
        {
          "output_type": "stream",
          "text": [
            "\u001b[37;43;4m\n",
            "[Train. Prediction] Epoch 92, step 81/96......\u001b[0m\n",
            "\u001b[33m\n",
            "id: 1dfR0A_BXjw_524_532.avi\n",
            "answer: ['a', 'person', 'is', 'cutting', 'off', 'a', 'piece', 'of', 'bread']\n",
            "prediction: ['a', 'is', 'is', 'slicing', 'a', 'of', 'bread', 'bread']\u001b[0m\n"
          ],
          "name": "stdout"
        },
        {
          "output_type": "stream",
          "text": [
            "Epoch 92, step 95/96, (Training Loss: 2.0669, samp_prob: 0.1571):  93%|█████████▎| 93/100 [2:35:16<11:40, 100.07s/it]"
          ],
          "name": "stderr"
        },
        {
          "output_type": "stream",
          "text": [
            "\u001b[32;47m\n",
            "[FINISHED] Epoch 92, (Training Loss (average loss in this epoch): 2.1800, samp_prob: 0.1571)\u001b[0m\n"
          ],
          "name": "stdout"
        },
        {
          "output_type": "stream",
          "text": [
            "Epoch 93, step 1/96, (Training Loss: 2.1513, samp_prob: 0.1519):  93%|█████████▎| 93/100 [2:35:19<11:40, 100.07s/it]"
          ],
          "name": "stderr"
        },
        {
          "output_type": "stream",
          "text": [
            "\u001b[37;43;4m\n",
            "[Train. Prediction] Epoch 93, step 1/96......\u001b[0m\n",
            "\u001b[33m\n",
            "id: WTf5EgVY5uU_58_76.avi\n",
            "answer: ['a', 'woman', 'is', 'cutting', 'a', 'vegetable', 'with', 'a', 'knife']\n",
            "prediction: ['a', 'woman', 'is', 'chopping']\u001b[0m\n"
          ],
          "name": "stdout"
        },
        {
          "output_type": "stream",
          "text": [
            "Epoch 93, step 21/96, (Training Loss: 2.1444, samp_prob: 0.1519):  93%|█████████▎| 93/100 [2:35:40<11:40, 100.07s/it]"
          ],
          "name": "stderr"
        },
        {
          "output_type": "stream",
          "text": [
            "\u001b[37;43;4m\n",
            "[Train. Prediction] Epoch 93, step 21/96......\u001b[0m\n",
            "\u001b[33m\n",
            "id: YmXCfQm0_CA_68_75.avi\n",
            "answer: ['a', 'person', 'moves', 'a', 'fallen', 'tree', 'branch']\n",
            "prediction: ['a', 'man', 'is', 'carrying', 'a', 'tree', 'tree']\u001b[0m\n"
          ],
          "name": "stdout"
        },
        {
          "output_type": "stream",
          "text": [
            "Epoch 93, step 41/96, (Training Loss: 2.1854, samp_prob: 0.1519):  93%|█████████▎| 93/100 [2:36:01<11:40, 100.07s/it]"
          ],
          "name": "stderr"
        },
        {
          "output_type": "stream",
          "text": [
            "\u001b[37;43;4m\n",
            "[Train. Prediction] Epoch 93, step 41/96......\u001b[0m\n",
            "\u001b[33m\n",
            "id: nc8hwLaOyZU_1_19.avi\n",
            "answer: ['a', 'monkey', 'is', 'riding', 'a', 'bicycle', 'around', 'a', 'stage']\n",
            "prediction: ['a', 'orangutan', 'is', 'riding', 'a', 'bicycle']\u001b[0m\n"
          ],
          "name": "stdout"
        },
        {
          "output_type": "stream",
          "text": [
            "Epoch 93, step 61/96, (Training Loss: 2.1905, samp_prob: 0.1519):  93%|█████████▎| 93/100 [2:36:21<11:40, 100.07s/it]"
          ],
          "name": "stderr"
        },
        {
          "output_type": "stream",
          "text": [
            "\u001b[37;43;4m\n",
            "[Train. Prediction] Epoch 93, step 61/96......\u001b[0m\n",
            "\u001b[33m\n",
            "id: ao-9B8IV9_E_175_187.avi\n",
            "answer: ['the', 'boy', 'is', 'stuck', 'in', 'the', 'door', 'of', 'the', 'doghouse']\n",
            "prediction: ['a', 'boy', 'is', 'is', 'a', 'a', 'a']\u001b[0m\n"
          ],
          "name": "stdout"
        },
        {
          "output_type": "stream",
          "text": [
            "Epoch 93, step 81/96, (Training Loss: 2.1061, samp_prob: 0.1519):  93%|█████████▎| 93/100 [2:36:42<11:40, 100.07s/it]"
          ],
          "name": "stderr"
        },
        {
          "output_type": "stream",
          "text": [
            "\u001b[37;43;4m\n",
            "[Train. Prediction] Epoch 93, step 81/96......\u001b[0m\n",
            "\u001b[33m\n",
            "id: PBHZtoygOYg_450_465.avi\n",
            "answer: ['a', 'man', 'is', 'firing', 'bullets', 'with', 'a', 'rifle', 'lying', 'down', 'on', 'his', 'stomach', 'on', 'a', 'muddy', 'patch', 'surrounded', 'by', 'grass']\n",
            "prediction: ['a', 'man', 'aims', 'shooting', 'rifle', 'rifle']\u001b[0m\n"
          ],
          "name": "stdout"
        },
        {
          "output_type": "stream",
          "text": [
            "Epoch 93, step 95/96, (Training Loss: 2.1311, samp_prob: 0.1519):  94%|█████████▍| 94/100 [2:36:56<09:59, 99.97s/it] "
          ],
          "name": "stderr"
        },
        {
          "output_type": "stream",
          "text": [
            "\u001b[32;47m\n",
            "[FINISHED] Epoch 93, (Training Loss (average loss in this epoch): 2.1764, samp_prob: 0.1519)\u001b[0m\n"
          ],
          "name": "stdout"
        },
        {
          "output_type": "stream",
          "text": [
            "Epoch 94, step 1/96, (Training Loss: 2.1807, samp_prob: 0.1468):  94%|█████████▍| 94/100 [2:36:59<09:59, 99.97s/it]"
          ],
          "name": "stderr"
        },
        {
          "output_type": "stream",
          "text": [
            "\u001b[37;43;4m\n",
            "[Train. Prediction] Epoch 94, step 1/96......\u001b[0m\n",
            "\u001b[33m\n",
            "id: B4foOe9kUgY_0_8.avi\n",
            "answer: ['an', 'animal', 'is', 'playing']\n",
            "prediction: ['a', 'panda', 'is', 'scratching', 'on', 'on']\u001b[0m\n"
          ],
          "name": "stdout"
        },
        {
          "output_type": "stream",
          "text": [
            "Epoch 94, step 21/96, (Training Loss: 2.1778, samp_prob: 0.1468):  94%|█████████▍| 94/100 [2:37:20<09:59, 99.97s/it]"
          ],
          "name": "stderr"
        },
        {
          "output_type": "stream",
          "text": [
            "\u001b[37;43;4m\n",
            "[Train. Prediction] Epoch 94, step 21/96......\u001b[0m\n",
            "\u001b[33m\n",
            "id: 3_51FhosiVY_93_101.avi\n",
            "answer: ['a', 'man', 'is', 'talking', 'on', 'the', 'phone']\n",
            "prediction: ['a', 'man', 'is', 'talking', 'a', 'a']\u001b[0m\n"
          ],
          "name": "stdout"
        },
        {
          "output_type": "stream",
          "text": [
            "Epoch 94, step 41/96, (Training Loss: 2.1198, samp_prob: 0.1468):  94%|█████████▍| 94/100 [2:37:40<09:59, 99.97s/it]"
          ],
          "name": "stderr"
        },
        {
          "output_type": "stream",
          "text": [
            "\u001b[37;43;4m\n",
            "[Train. Prediction] Epoch 94, step 41/96......\u001b[0m\n",
            "\u001b[33m\n",
            "id: GnwKcpfr_ng_10_20.avi\n",
            "answer: ['reporters', 'are', 'broadcasting', 'the', 'news']\n",
            "prediction: ['two', 'man', '<UNK>', 'woman', '<UNK>']\u001b[0m\n"
          ],
          "name": "stdout"
        },
        {
          "output_type": "stream",
          "text": [
            "Epoch 94, step 61/96, (Training Loss: 2.2466, samp_prob: 0.1468):  94%|█████████▍| 94/100 [2:38:01<09:59, 99.97s/it]"
          ],
          "name": "stderr"
        },
        {
          "output_type": "stream",
          "text": [
            "\u001b[37;43;4m\n",
            "[Train. Prediction] Epoch 94, step 61/96......\u001b[0m\n",
            "\u001b[33m\n",
            "id: 0lh_UWF9ZP4_103_110.avi\n",
            "answer: ['a', 'person', 'is', 'cooking', 'an', 'egg', 'in', 'a', 'hot', 'frying', 'pan']\n",
            "prediction: ['a', 'woman', 'is', 'cooking', 'omelette', 'in']\u001b[0m\n"
          ],
          "name": "stdout"
        },
        {
          "output_type": "stream",
          "text": [
            "Epoch 94, step 81/96, (Training Loss: 2.1457, samp_prob: 0.1468):  94%|█████████▍| 94/100 [2:38:22<09:59, 99.97s/it]"
          ],
          "name": "stderr"
        },
        {
          "output_type": "stream",
          "text": [
            "\u001b[37;43;4m\n",
            "[Train. Prediction] Epoch 94, step 81/96......\u001b[0m\n",
            "\u001b[33m\n",
            "id: VahnQw2gTQY_298_305.avi\n",
            "answer: ['the', 'lady', 'sliced', 'a', 'bell', 'pepper']\n",
            "prediction: ['a', 'man', 'is', 'slicing', 'bell']\u001b[0m\n"
          ],
          "name": "stdout"
        },
        {
          "output_type": "stream",
          "text": [
            "Epoch 94, step 95/96, (Training Loss: 2.0619, samp_prob: 0.1468):  95%|█████████▌| 95/100 [2:38:36<08:19, 99.85s/it]"
          ],
          "name": "stderr"
        },
        {
          "output_type": "stream",
          "text": [
            "\u001b[32;47m\n",
            "[FINISHED] Epoch 94, (Training Loss (average loss in this epoch): 2.1743, samp_prob: 0.1468)\u001b[0m\n"
          ],
          "name": "stdout"
        },
        {
          "output_type": "stream",
          "text": [
            "Epoch 95, step 1/96, (Training Loss: 2.1832, samp_prob: 0.1419):  95%|█████████▌| 95/100 [2:38:38<08:19, 99.85s/it]"
          ],
          "name": "stderr"
        },
        {
          "output_type": "stream",
          "text": [
            "\u001b[37;43;4m\n",
            "[Train. Prediction] Epoch 95, step 1/96......\u001b[0m\n",
            "\u001b[33m\n",
            "id: fnpp8v9NbmY_181_188.avi\n",
            "answer: ['a', 'cook', 'rolls', 'some', 'cream', 'in', 'his', 'hands']\n",
            "prediction: ['a', 'person', 'is', 'forming', 'a']\u001b[0m\n"
          ],
          "name": "stdout"
        },
        {
          "output_type": "stream",
          "text": [
            "Epoch 95, step 21/96, (Training Loss: 2.3148, samp_prob: 0.1419):  95%|█████████▌| 95/100 [2:38:59<08:19, 99.85s/it]"
          ],
          "name": "stderr"
        },
        {
          "output_type": "stream",
          "text": [
            "\u001b[37;43;4m\n",
            "[Train. Prediction] Epoch 95, step 21/96......\u001b[0m\n",
            "\u001b[33m\n",
            "id: q7pOFn8s4zc_27_36.avi\n",
            "answer: ['a', 'man', 'and', 'woman', 'is', 'riding', 'on', 'a', 'bike']\n",
            "prediction: ['a', 'man', 'and', 'woman', 'woman', 'riding', 'bike', 'bicycle', 'bike']\u001b[0m\n"
          ],
          "name": "stdout"
        },
        {
          "output_type": "stream",
          "text": [
            "Epoch 95, step 41/96, (Training Loss: 2.2865, samp_prob: 0.1419):  95%|█████████▌| 95/100 [2:39:20<08:19, 99.85s/it]"
          ],
          "name": "stderr"
        },
        {
          "output_type": "stream",
          "text": [
            "\u001b[37;43;4m\n",
            "[Train. Prediction] Epoch 95, step 41/96......\u001b[0m\n",
            "\u001b[33m\n",
            "id: UbmZAe5u5FI_26_33.avi\n",
            "answer: ['a', 'woman', 'seasons', 'vegetables']\n",
            "prediction: ['a', 'woman', 'is', 'salting', 'cucumbers', 'cucumbers']\u001b[0m\n"
          ],
          "name": "stdout"
        },
        {
          "output_type": "stream",
          "text": [
            "Epoch 95, step 61/96, (Training Loss: 2.0773, samp_prob: 0.1419):  95%|█████████▌| 95/100 [2:39:40<08:19, 99.85s/it]"
          ],
          "name": "stderr"
        },
        {
          "output_type": "stream",
          "text": [
            "\u001b[37;43;4m\n",
            "[Train. Prediction] Epoch 95, step 61/96......\u001b[0m\n",
            "\u001b[33m\n",
            "id: eyMYc-37Sk4_0_10.avi\n",
            "answer: ['the', 'cat', 'is', 'playing']\n",
            "prediction: ['a', 'kitten', 'is', 'playing', 'with', 'a']\u001b[0m\n"
          ],
          "name": "stdout"
        },
        {
          "output_type": "stream",
          "text": [
            "Epoch 95, step 81/96, (Training Loss: 2.3003, samp_prob: 0.1419):  95%|█████████▌| 95/100 [2:40:01<08:19, 99.85s/it]"
          ],
          "name": "stderr"
        },
        {
          "output_type": "stream",
          "text": [
            "\u001b[37;43;4m\n",
            "[Train. Prediction] Epoch 95, step 81/96......\u001b[0m\n",
            "\u001b[33m\n",
            "id: xtbsD3PUua4_174_185.avi\n",
            "answer: ['a', 'woman', 'cuts', 'a', 'mango']\n",
            "prediction: ['a', 'woman', 'is', 'a', 'a']\u001b[0m\n"
          ],
          "name": "stdout"
        },
        {
          "output_type": "stream",
          "text": [
            "Epoch 95, step 95/96, (Training Loss: 2.2324, samp_prob: 0.1419):  96%|█████████▌| 96/100 [2:40:15<06:39, 99.75s/it]"
          ],
          "name": "stderr"
        },
        {
          "output_type": "stream",
          "text": [
            "\u001b[32;47m\n",
            "[FINISHED] Epoch 95, (Training Loss (average loss in this epoch): 2.1717, samp_prob: 0.1419)\u001b[0m\n"
          ],
          "name": "stdout"
        },
        {
          "output_type": "stream",
          "text": [
            "Epoch 96, step 1/96, (Training Loss: 2.1919, samp_prob: 0.1371):  96%|█████████▌| 96/100 [2:40:18<06:39, 99.75s/it]"
          ],
          "name": "stderr"
        },
        {
          "output_type": "stream",
          "text": [
            "\u001b[37;43;4m\n",
            "[Train. Prediction] Epoch 96, step 1/96......\u001b[0m\n",
            "\u001b[33m\n",
            "id: ZN2_czSBSD0_240_250.avi\n",
            "answer: ['a', 'man', 'is', 'running', 'towards', 'a', 'tornado', 'in', 'an', 'open', 'field']\n",
            "prediction: ['a', 'man', 'is', 'toward', 'a', 'tornado']\u001b[0m\n"
          ],
          "name": "stdout"
        },
        {
          "output_type": "stream",
          "text": [
            "Epoch 96, step 21/96, (Training Loss: 2.1600, samp_prob: 0.1371):  96%|█████████▌| 96/100 [2:40:39<06:39, 99.75s/it]"
          ],
          "name": "stderr"
        },
        {
          "output_type": "stream",
          "text": [
            "\u001b[37;43;4m\n",
            "[Train. Prediction] Epoch 96, step 21/96......\u001b[0m\n",
            "\u001b[33m\n",
            "id: lFdg5CWMTt0_24_28.avi\n",
            "answer: ['a', 'man', 'is', 'smashing', 'his', 'thumb', 'with', 'a', 'hammer']\n",
            "prediction: ['a', 'man', 'hit', 'his', 'a', 'with', 'a']\u001b[0m\n"
          ],
          "name": "stdout"
        },
        {
          "output_type": "stream",
          "text": [
            "Epoch 96, step 41/96, (Training Loss: 2.2022, samp_prob: 0.1371):  96%|█████████▌| 96/100 [2:40:59<06:39, 99.75s/it]"
          ],
          "name": "stderr"
        },
        {
          "output_type": "stream",
          "text": [
            "\u001b[37;43;4m\n",
            "[Train. Prediction] Epoch 96, step 41/96......\u001b[0m\n",
            "\u001b[33m\n",
            "id: wsj_dzz33Ko_31_41.avi\n",
            "answer: ['a', 'man', 'is', 'cutting', 'leaves']\n",
            "prediction: ['a', 'man', 'is', 'cutting', 'parsley', 'leaves']\u001b[0m\n"
          ],
          "name": "stdout"
        },
        {
          "output_type": "stream",
          "text": [
            "Epoch 96, step 61/96, (Training Loss: 2.1947, samp_prob: 0.1371):  96%|█████████▌| 96/100 [2:41:20<06:39, 99.75s/it]"
          ],
          "name": "stderr"
        },
        {
          "output_type": "stream",
          "text": [
            "\u001b[37;43;4m\n",
            "[Train. Prediction] Epoch 96, step 61/96......\u001b[0m\n",
            "\u001b[33m\n",
            "id: zYcY4mjLpxU_104_118.avi\n",
            "answer: ['children', 'are', 'eating', 'food']\n",
            "prediction: ['a', 'of', 'eating']\u001b[0m\n"
          ],
          "name": "stdout"
        },
        {
          "output_type": "stream",
          "text": [
            "Epoch 96, step 81/96, (Training Loss: 2.2596, samp_prob: 0.1371):  96%|█████████▌| 96/100 [2:41:41<06:39, 99.75s/it]"
          ],
          "name": "stderr"
        },
        {
          "output_type": "stream",
          "text": [
            "\u001b[37;43;4m\n",
            "[Train. Prediction] Epoch 96, step 81/96......\u001b[0m\n",
            "\u001b[33m\n",
            "id: 9WpJxn-2h1o_122_150.avi\n",
            "answer: ['a', 'man', 'is', 'reading', 'a', 'newspaper']\n",
            "prediction: ['an', 'man', 'old', 'is', 'reading', 'newspaper', 'newspaper']\u001b[0m\n"
          ],
          "name": "stdout"
        },
        {
          "output_type": "stream",
          "text": [
            "Epoch 96, step 95/96, (Training Loss: 2.0711, samp_prob: 0.1371):  97%|█████████▋| 97/100 [2:41:55<04:59, 99.69s/it]"
          ],
          "name": "stderr"
        },
        {
          "output_type": "stream",
          "text": [
            "\u001b[32;47m\n",
            "[FINISHED] Epoch 96, (Training Loss (average loss in this epoch): 2.1672, samp_prob: 0.1371)\u001b[0m\n"
          ],
          "name": "stdout"
        },
        {
          "output_type": "stream",
          "text": [
            "Epoch 97, step 1/96, (Training Loss: 2.2420, samp_prob: 0.1324):  97%|█████████▋| 97/100 [2:41:57<04:59, 99.69s/it]"
          ],
          "name": "stderr"
        },
        {
          "output_type": "stream",
          "text": [
            "\u001b[37;43;4m\n",
            "[Train. Prediction] Epoch 97, step 1/96......\u001b[0m\n",
            "\u001b[33m\n",
            "id: fnpp8v9NbmY_181_188.avi\n",
            "answer: ['a', 'woman', 'is', 'preparing', 'flour', 'to', 'cook', 'something']\n",
            "prediction: ['a', 'woman', 'is', 'preparing', 'a']\u001b[0m\n"
          ],
          "name": "stdout"
        },
        {
          "output_type": "stream",
          "text": [
            "Epoch 97, step 21/96, (Training Loss: 2.3141, samp_prob: 0.1324):  97%|█████████▋| 97/100 [2:42:18<04:59, 99.69s/it]"
          ],
          "name": "stderr"
        },
        {
          "output_type": "stream",
          "text": [
            "\u001b[37;43;4m\n",
            "[Train. Prediction] Epoch 97, step 21/96......\u001b[0m\n",
            "\u001b[33m\n",
            "id: SzEbtbNSg04_70_85.avi\n",
            "answer: ['a', 'man', 'is', 'smashing', 'some', 'garlic']\n",
            "prediction: ['a', 'man', 'is', 'garlic', 'garlic']\u001b[0m\n"
          ],
          "name": "stdout"
        },
        {
          "output_type": "stream",
          "text": [
            "Epoch 97, step 41/96, (Training Loss: 2.1367, samp_prob: 0.1324):  97%|█████████▋| 97/100 [2:42:39<04:59, 99.69s/it]"
          ],
          "name": "stderr"
        },
        {
          "output_type": "stream",
          "text": [
            "\u001b[37;43;4m\n",
            "[Train. Prediction] Epoch 97, step 41/96......\u001b[0m\n",
            "\u001b[33m\n",
            "id: s_ldnx8_etY_32_54.avi\n",
            "answer: ['a', 'whisk', 'is', 'spinning', 'in', 'a', 'bowl']\n",
            "prediction: ['a', 'whisk', 'is', 'beating', 'ingredient', 'a']\u001b[0m\n"
          ],
          "name": "stdout"
        },
        {
          "output_type": "stream",
          "text": [
            "Epoch 97, step 61/96, (Training Loss: 2.1851, samp_prob: 0.1324):  97%|█████████▋| 97/100 [2:43:00<04:59, 99.69s/it]"
          ],
          "name": "stderr"
        },
        {
          "output_type": "stream",
          "text": [
            "\u001b[37;43;4m\n",
            "[Train. Prediction] Epoch 97, step 61/96......\u001b[0m\n",
            "\u001b[33m\n",
            "id: uiLr9bdOL0M_23_30.avi\n",
            "answer: ['a', 'parrot', 'puts', 'a', 'container', 'into', 'a', 'bowl']\n",
            "prediction: ['a', 'parrot', 'is', 'picking', 'a', 'a']\u001b[0m\n"
          ],
          "name": "stdout"
        },
        {
          "output_type": "stream",
          "text": [
            "Epoch 97, step 81/96, (Training Loss: 2.1369, samp_prob: 0.1324):  97%|█████████▋| 97/100 [2:43:20<04:59, 99.69s/it]"
          ],
          "name": "stderr"
        },
        {
          "output_type": "stream",
          "text": [
            "\u001b[37;43;4m\n",
            "[Train. Prediction] Epoch 97, step 81/96......\u001b[0m\n",
            "\u001b[33m\n",
            "id: Xxcv5jvRmcg_39_46.avi\n",
            "answer: ['two', 'women', 'are', 'picking', 'out', 'lobsters']\n",
            "prediction: ['two', 'man', 'are', 'lobster', 'a', 'lobsters']\u001b[0m\n"
          ],
          "name": "stdout"
        },
        {
          "output_type": "stream",
          "text": [
            "Epoch 97, step 95/96, (Training Loss: 2.1282, samp_prob: 0.1324):  98%|█████████▊| 98/100 [2:43:34<03:19, 99.68s/it]"
          ],
          "name": "stderr"
        },
        {
          "output_type": "stream",
          "text": [
            "\u001b[32;47m\n",
            "[FINISHED] Epoch 97, (Training Loss (average loss in this epoch): 2.1670, samp_prob: 0.1324)\u001b[0m\n"
          ],
          "name": "stdout"
        },
        {
          "output_type": "stream",
          "text": [
            "Epoch 98, step 1/96, (Training Loss: 2.0773, samp_prob: 0.1279):  98%|█████████▊| 98/100 [2:43:37<03:19, 99.68s/it]"
          ],
          "name": "stderr"
        },
        {
          "output_type": "stream",
          "text": [
            "\u001b[37;43;4m\n",
            "[Train. Prediction] Epoch 98, step 1/96......\u001b[0m\n",
            "\u001b[33m\n",
            "id: gtixLEvO2Us_0_6.avi\n",
            "answer: ['a', 'woman', 'is', 'doing', 'some', 'dance', 'steps']\n",
            "prediction: ['a', 'woman', 'is', 'dancing']\u001b[0m\n"
          ],
          "name": "stdout"
        },
        {
          "output_type": "stream",
          "text": [
            "Epoch 98, step 21/96, (Training Loss: 2.1417, samp_prob: 0.1279):  98%|█████████▊| 98/100 [2:43:58<03:19, 99.68s/it]"
          ],
          "name": "stderr"
        },
        {
          "output_type": "stream",
          "text": [
            "\u001b[37;43;4m\n",
            "[Train. Prediction] Epoch 98, step 21/96......\u001b[0m\n",
            "\u001b[33m\n",
            "id: m1NR0uNNs5Y_104_110.avi\n",
            "answer: ['a', 'woman', 'is', 'slicing', 'an', 'onion']\n",
            "prediction: ['a', 'woman', 'is', 'slicing', 'an', 'onion']\u001b[0m\n"
          ],
          "name": "stdout"
        },
        {
          "output_type": "stream",
          "text": [
            "Epoch 98, step 41/96, (Training Loss: 2.2910, samp_prob: 0.1279):  98%|█████████▊| 98/100 [2:44:19<03:19, 99.68s/it]"
          ],
          "name": "stderr"
        },
        {
          "output_type": "stream",
          "text": [
            "\u001b[37;43;4m\n",
            "[Train. Prediction] Epoch 98, step 41/96......\u001b[0m\n",
            "\u001b[33m\n",
            "id: nd0ToNwccl4_12_17.avi\n",
            "answer: ['two', 'men', 'are', 'playing', 'football']\n",
            "prediction: ['two', 'man', 'are', 'talking', 'to']\u001b[0m\n"
          ],
          "name": "stdout"
        },
        {
          "output_type": "stream",
          "text": [
            "Epoch 98, step 61/96, (Training Loss: 2.2516, samp_prob: 0.1279):  98%|█████████▊| 98/100 [2:44:39<03:19, 99.68s/it]"
          ],
          "name": "stderr"
        },
        {
          "output_type": "stream",
          "text": [
            "\u001b[37;43;4m\n",
            "[Train. Prediction] Epoch 98, step 61/96......\u001b[0m\n",
            "\u001b[33m\n",
            "id: LF51fban_x4_300_325.avi\n",
            "answer: ['a', 'person', 'is', 'making', 'a', 'bed']\n",
            "prediction: ['a', 'man', 'is', 'making', 'a', 'bed']\u001b[0m\n"
          ],
          "name": "stdout"
        },
        {
          "output_type": "stream",
          "text": [
            "Epoch 98, step 81/96, (Training Loss: 2.0633, samp_prob: 0.1279):  98%|█████████▊| 98/100 [2:45:00<03:19, 99.68s/it]"
          ],
          "name": "stderr"
        },
        {
          "output_type": "stream",
          "text": [
            "\u001b[37;43;4m\n",
            "[Train. Prediction] Epoch 98, step 81/96......\u001b[0m\n",
            "\u001b[33m\n",
            "id: BIqVvRh_cEY_143_149.avi\n",
            "answer: ['a', 'boy', 'is', 'running']\n",
            "prediction: ['a', 'boy', 'is', 'running']\u001b[0m\n"
          ],
          "name": "stdout"
        },
        {
          "output_type": "stream",
          "text": [
            "Epoch 98, step 95/96, (Training Loss: 2.1100, samp_prob: 0.1279):  99%|█████████▉| 99/100 [2:45:14<01:39, 99.74s/it]"
          ],
          "name": "stderr"
        },
        {
          "output_type": "stream",
          "text": [
            "\u001b[32;47m\n",
            "[FINISHED] Epoch 98, (Training Loss (average loss in this epoch): 2.1619, samp_prob: 0.1279)\u001b[0m\n"
          ],
          "name": "stdout"
        },
        {
          "output_type": "stream",
          "text": [
            "Epoch 99, step 1/96, (Training Loss: 2.0261, samp_prob: 0.1235):  99%|█████████▉| 99/100 [2:45:17<01:39, 99.74s/it]"
          ],
          "name": "stderr"
        },
        {
          "output_type": "stream",
          "text": [
            "\u001b[37;43;4m\n",
            "[Train. Prediction] Epoch 99, step 1/96......\u001b[0m\n",
            "\u001b[33m\n",
            "id: cLNrpO6wBk4_37_47.avi\n",
            "answer: ['a', 'man', 'playing', 'a', 'guitar']\n",
            "prediction: ['a', 'man', 'is', 'playing', 'a', 'guitar']\u001b[0m\n"
          ],
          "name": "stdout"
        },
        {
          "output_type": "stream",
          "text": [
            "Epoch 99, step 21/96, (Training Loss: 2.1318, samp_prob: 0.1235):  99%|█████████▉| 99/100 [2:45:38<01:39, 99.74s/it]"
          ],
          "name": "stderr"
        },
        {
          "output_type": "stream",
          "text": [
            "\u001b[37;43;4m\n",
            "[Train. Prediction] Epoch 99, step 21/96......\u001b[0m\n",
            "\u001b[33m\n",
            "id: 4Hhdr1IPOGs_1_10.avi\n",
            "answer: ['a', 'baby', 'is', 'falling', 'asleep', 'on', 'the', 'couch']\n",
            "prediction: ['a', 'baby', 'is', 'falling', 'asleep', 'asleep']\u001b[0m\n"
          ],
          "name": "stdout"
        },
        {
          "output_type": "stream",
          "text": [
            "Epoch 99, step 41/96, (Training Loss: 2.2849, samp_prob: 0.1235):  99%|█████████▉| 99/100 [2:45:58<01:39, 99.74s/it]"
          ],
          "name": "stderr"
        },
        {
          "output_type": "stream",
          "text": [
            "\u001b[37;43;4m\n",
            "[Train. Prediction] Epoch 99, step 41/96......\u001b[0m\n",
            "\u001b[33m\n",
            "id: bmOy6p87TWI_26_35.avi\n",
            "answer: ['a', 'man', 'has', 'a', 'conversation', 'with', 'a', '<UNK>', 'man']\n",
            "prediction: ['two', 'men', 'are', 'talking']\u001b[0m\n"
          ],
          "name": "stdout"
        },
        {
          "output_type": "stream",
          "text": [
            "Epoch 99, step 61/96, (Training Loss: 2.1358, samp_prob: 0.1235):  99%|█████████▉| 99/100 [2:46:19<01:39, 99.74s/it]"
          ],
          "name": "stderr"
        },
        {
          "output_type": "stream",
          "text": [
            "\u001b[37;43;4m\n",
            "[Train. Prediction] Epoch 99, step 61/96......\u001b[0m\n",
            "\u001b[33m\n",
            "id: ZbzDGXEwtGc_6_15.avi\n",
            "answer: ['the', 'plane', 'flew', 'in', 'the', 'sky']\n",
            "prediction: ['a', 'airplane', 'is', 'flying']\u001b[0m\n"
          ],
          "name": "stdout"
        },
        {
          "output_type": "stream",
          "text": [
            "Epoch 99, step 81/96, (Training Loss: 2.1384, samp_prob: 0.1235):  99%|█████████▉| 99/100 [2:46:40<01:39, 99.74s/it]"
          ],
          "name": "stderr"
        },
        {
          "output_type": "stream",
          "text": [
            "\u001b[37;43;4m\n",
            "[Train. Prediction] Epoch 99, step 81/96......\u001b[0m\n",
            "\u001b[33m\n",
            "id: YUlG_PKzpvc_0_8.avi\n",
            "answer: ['a', 'group', 'of', 'penguins', 'are', 'walking']\n",
            "prediction: ['a', 'group', 'large', 'penguins']\u001b[0m\n"
          ],
          "name": "stdout"
        },
        {
          "output_type": "stream",
          "text": [
            "Epoch 99, step 95/96, (Training Loss: 2.2836, samp_prob: 0.1235): 100%|██████████| 100/100 [2:46:54<00:00, 100.15s/it]\n"
          ],
          "name": "stderr"
        },
        {
          "output_type": "stream",
          "text": [
            "\u001b[32;47m\n",
            "[FINISHED] Epoch 99, (Training Loss (average loss in this epoch): 2.1595, samp_prob: 0.1235)\u001b[0m\n",
            "\n",
            "\n",
            "Training finished!\n"
          ],
          "name": "stdout"
        },
        {
          "output_type": "error",
          "ename": "SystemExit",
          "evalue": "ignored",
          "traceback": [
            "An exception has occurred, use %tb to see the full traceback.\n",
            "\u001b[0;31mSystemExit\u001b[0m\n"
          ]
        },
        {
          "output_type": "stream",
          "text": [
            "/usr/local/lib/python3.7/dist-packages/IPython/core/interactiveshell.py:2890: UserWarning: To exit: use 'exit', 'quit', or Ctrl-D.\n",
            "  warn(\"To exit: use 'exit', 'quit', or Ctrl-D.\", stacklevel=1)\n"
          ],
          "name": "stderr"
        }
      ]
    },
    {
      "cell_type": "code",
      "metadata": {
        "id": "inUjpg9UX3Em"
      },
      "source": [
        ""
      ],
      "execution_count": null,
      "outputs": []
    }
  ]
}